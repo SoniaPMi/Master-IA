{
  "nbformat": 4,
  "nbformat_minor": 0,
  "metadata": {
    "kernelspec": {
      "name": "python3",
      "display_name": "Python 3"
    },
    "language_info": {
      "codemirror_mode": {
        "name": "ipython",
        "version": 3
      },
      "file_extension": ".py",
      "mimetype": "text/x-python",
      "name": "python",
      "nbconvert_exporter": "python",
      "pygments_lexer": "ipython3",
      "version": "3.7.3"
    },
    "colab": {
      "name": "Classificador_fashion_MNIST.ipynb",
      "provenance": [],
      "collapsed_sections": [],
      "include_colab_link": true
    }
  },
  "cells": [
    {
      "cell_type": "markdown",
      "metadata": {
        "id": "view-in-github",
        "colab_type": "text"
      },
      "source": [
        "<a href=\"https://colab.research.google.com/github/SoniaPMi/Master-IA/blob/main/Classificador_fashion_MNIST.ipynb\" target=\"_parent\"><img src=\"https://colab.research.google.com/assets/colab-badge.svg\" alt=\"Open In Colab\"/></a>"
      ]
    },
    {
      "cell_type": "code",
      "metadata": {
        "id": "eoGb_Yw13eEE"
      },
      "source": [
        "from tensorflow import keras"
      ],
      "execution_count": 81,
      "outputs": []
    },
    {
      "cell_type": "markdown",
      "metadata": {
        "id": "eoKiX_lL0pf5"
      },
      "source": [
        "## Ejemplo: clasificador de imágenes usando Keras\n",
        "\n",
        "Para ilustrar la manera en que Keras es usado en el aprendizaje profundo, realizaremos un ejemplo de clasificación usando conjunto de datos *Fashion MNIST* el cual consta de 70,000 imágenes (las imágenes representan artículos de moda) en escala de grises de 28 × 28 píxeles cada una y con 10 clases. \n",
        "\n",
        "### Uso de Keras para cargar el conjunto de datos\n",
        "\n",
        "Comencemos cargando el conjunto de datos Fashion MNIST. Keras tiene una serie de funciones para cargar conjuntos de datos populares en keras.datasets. El conjunto de datos ya está dividido entre un conjunto de entrenamiento y un conjunto de prueba, pero puede ser útil dividir aún más el conjunto de entrenamiento para tener un conjunto de validación:\n",
        "\n",
        "\n",
        "\n",
        "\n"
      ]
    },
    {
      "cell_type": "code",
      "metadata": {
        "id": "Gzwdt_sB0J1n"
      },
      "source": [
        "from keras.datasets import fashion_mnist"
      ],
      "execution_count": 84,
      "outputs": []
    },
    {
      "cell_type": "code",
      "metadata": {
        "id": "5Rc0_ejg2wrI"
      },
      "source": [
        "fashion_mnist = keras.datasets.fashion_mnist #cargo datos\n",
        "(X_train_full, y_train_full), (X_test, y_test) = fashion_mnist.load_data() #devueve dos tuplas"
      ],
      "execution_count": 85,
      "outputs": []
    },
    {
      "cell_type": "markdown",
      "metadata": {
        "id": "E2yxNVfK5xNc"
      },
      "source": [
        "El conjunto de entrenamiento contiene 60,000 imágenes en escala de grises, cada una de 28x28 píxeles. Visualiza el tamaño del conjunto en la siguiente celda:"
      ]
    },
    {
      "cell_type": "code",
      "metadata": {
        "colab": {
          "base_uri": "https://localhost:8080/"
        },
        "id": "9Hg0_poVaYTG",
        "outputId": "477dc106-d913-434a-fc94-dae3faa53502"
      },
      "source": [
        "X_train_full.shape"
      ],
      "execution_count": 86,
      "outputs": [
        {
          "output_type": "execute_result",
          "data": {
            "text/plain": [
              "(60000, 28, 28)"
            ]
          },
          "metadata": {},
          "execution_count": 86
        }
      ]
    },
    {
      "cell_type": "markdown",
      "metadata": {
        "id": "Z_pNaHwm75gv"
      },
      "source": [
        "La intensidad de cada píxel se representa como un byte (enteros entre 0 a 255):"
      ]
    },
    {
      "cell_type": "code",
      "metadata": {
        "id": "pRnupX-r43j0",
        "colab": {
          "base_uri": "https://localhost:8080/"
        },
        "outputId": "d87017fc-5fc3-458a-9414-bf2585dbee78"
      },
      "source": [
        "X_train_full.dtype"
      ],
      "execution_count": 87,
      "outputs": [
        {
          "output_type": "execute_result",
          "data": {
            "text/plain": [
              "dtype('uint8')"
            ]
          },
          "metadata": {},
          "execution_count": 87
        }
      ]
    },
    {
      "cell_type": "markdown",
      "metadata": {
        "id": "FZeGps0sMX9z"
      },
      "source": [
        "A continuación visualiza utilizando `matplotlib` el primer elemento del conjunto de entrenamiento (visualiza la matrix de valores) y comprueba el valor máximo y mínimo con una \"*colorbar*\". Además calcula de manera analítica los valores máximo y mínimo de la matriz."
      ]
    },
    {
      "cell_type": "code",
      "metadata": {
        "id": "5D4QCv7hM3zP"
      },
      "source": [
        "import matplotlib.pyplot as plt \n",
        "# import seaborn as sns; sns.set()"
      ],
      "execution_count": 88,
      "outputs": []
    },
    {
      "cell_type": "code",
      "metadata": {
        "colab": {
          "base_uri": "https://localhost:8080/",
          "height": 305
        },
        "id": "G1rA2OAWfuQu",
        "outputId": "88f484c2-0047-4ca2-bcd3-a8b6073bc4b1"
      },
      "source": [
        "plt.imshow(X_train_full[0,:,:], cmap='binary') #imshow pq es imagen\n",
        "plt.axis('off')\n",
        "plt.colorbar()\n",
        "print(X_train_full[0].max())\n",
        "print(X_train_full[0].min())\n",
        "print(X_train_full.max()) #max de toda la matriz"
      ],
      "execution_count": 89,
      "outputs": [
        {
          "output_type": "stream",
          "name": "stdout",
          "text": [
            "255\n",
            "0\n",
            "255\n"
          ]
        },
        {
          "output_type": "display_data",
          "data": {
            "image/png": "[encoded data removed]",
            "text/plain": [
              "<Figure size 432x288 with 2 Axes>"
            ]
          },
          "metadata": {
            "needs_background": "light"
          }
        }
      ]
    },
    {
      "cell_type": "markdown",
      "metadata": {
        "id": "SHVIm3Ba8k8j"
      },
      "source": [
        "**Ahora** dividamos el conjunto de datos de entrenamiento en un conjunto de validación y un conjunto de entrenamiento (más pequeño). También escalamos las intensidades de píxeles en el rango 0-1 y las convertimos en flotantes al dividiéndolas por 255."
      ]
    },
    {
      "cell_type": "code",
      "metadata": {
        "id": "I2YO8M1D8FeH"
      },
      "source": [
        "#cogemos los 5000 primeros para valida y los restantes para el entrenamiento\n",
        "X_valid, X_train = X_train_full[:5000]/255. , X_train_full[5000:]/255.\n",
        "\n",
        "#si tengo datos de pacientes a los largo del tiempo, habría que hacer un random sampling\n",
        "\n",
        "y_valid, y_train = y_train_full[5000:], y_train_full[5000:]\n",
        "\n",
        "X_test = X_test/255."
      ],
      "execution_count": 90,
      "outputs": []
    },
    {
      "cell_type": "code",
      "metadata": {
        "colab": {
          "base_uri": "https://localhost:8080/"
        },
        "id": "44elq_ZZiOTF",
        "outputId": "980e6227-8a72-4cc9-bebd-fe205bad851d"
      },
      "source": [
        "X_train.shape #más datos de entrenamiento que validación"
      ],
      "execution_count": 91,
      "outputs": [
        {
          "output_type": "execute_result",
          "data": {
            "text/plain": [
              "(55000, 28, 28)"
            ]
          },
          "metadata": {},
          "execution_count": 91
        }
      ]
    },
    {
      "cell_type": "markdown",
      "metadata": {
        "id": "yZkbwEA19U5n"
      },
      "source": [
        "Visualicemos de nuevo la primera imagen del conjunto de datos usando y calculemos el máximo y mínimo para comprobar que hemos escalado bién. Comprueba además que los datos son de tipo `float`"
      ]
    },
    {
      "cell_type": "code",
      "metadata": {
        "colab": {
          "base_uri": "https://localhost:8080/",
          "height": 292
        },
        "id": "mzRYcYKpjG5u",
        "outputId": "cbcdec94-6ac5-44e4-96fd-3e5c2aa8e2a4"
      },
      "source": [
        "plt.imshow(X_train[0,:,:], cmap='binary')\n",
        "plt.axis('off')\n",
        "plt.colorbar()\n",
        "print(X_train.max())\n",
        "print(X_train.min())"
      ],
      "execution_count": 92,
      "outputs": [
        {
          "output_type": "stream",
          "name": "stdout",
          "text": [
            "1.0\n",
            "0.0\n"
          ]
        },
        {
          "output_type": "display_data",
          "data": {
            "image/png": "[encoded data removed]",
            "text/plain": [
              "<Figure size 432x288 with 2 Axes>"
            ]
          },
          "metadata": {
            "needs_background": "light"
          }
        }
      ]
    },
    {
      "cell_type": "markdown",
      "metadata": {
        "id": "_M2U8x_y9zn-"
      },
      "source": [
        "Las etiquetas van de 0 a 9, por lo que hay 10 tipos diferentes de ropa. Comprueba analitacamente que efectivamente, el vector `y_train` solamente tiene valores entre 0 y 9."
      ]
    },
    {
      "cell_type": "code",
      "metadata": {
        "id": "JDVBx8FO-LgA"
      },
      "source": [
        "import numpy as np"
      ],
      "execution_count": 93,
      "outputs": []
    },
    {
      "cell_type": "code",
      "metadata": {
        "id": "wH0JSon39Z8F",
        "colab": {
          "base_uri": "https://localhost:8080/"
        },
        "outputId": "8f6a0561-5976-478a-f537-9bd830ce625a"
      },
      "source": [
        "np.unique(y_train) #compruebo los valores únicos de y_train"
      ],
      "execution_count": 94,
      "outputs": [
        {
          "output_type": "execute_result",
          "data": {
            "text/plain": [
              "array([0, 1, 2, 3, 4, 5, 6, 7, 8, 9], dtype=uint8)"
            ]
          },
          "metadata": {},
          "execution_count": 94
        }
      ]
    },
    {
      "cell_type": "markdown",
      "metadata": {
        "id": "OVuZTuwN-Ujp"
      },
      "source": [
        "Los nombres para cada una de las clases anteriores son: "
      ]
    },
    {
      "cell_type": "code",
      "metadata": {
        "id": "rgX0QvkV98Il"
      },
      "source": [
        "class_names = [\"T-shirt/top\", \"Trouser\", \"Pullover\", \"Dress\", \"Coat\",\n",
        "               \"Sandal\", \"Shirt\", \"Sneaker\", \"Bag\", \"Ankle boot\"]"
      ],
      "execution_count": 95,
      "outputs": []
    },
    {
      "cell_type": "markdown",
      "metadata": {
        "id": "SbAmTL2wPMDv"
      },
      "source": [
        "Por lo tanto, la clase 0 se corresponde con \"T-shirt/top\", la clase 1 con \"Trouser\" y así sucesivamente."
      ]
    },
    {
      "cell_type": "markdown",
      "metadata": {
        "id": "zw-gJmK7-qmc"
      },
      "source": [
        "Comprueba que la primera imagen en el conjunto de entrenamiento es un abrigo (Coat)"
      ]
    },
    {
      "cell_type": "code",
      "metadata": {
        "id": "BThb_pJK-ZpA",
        "colab": {
          "base_uri": "https://localhost:8080/",
          "height": 35
        },
        "outputId": "1ba83855-22e7-481e-f997-9cfc5f96bb6b"
      },
      "source": [
        "class_names[y_train[0]]"
      ],
      "execution_count": 96,
      "outputs": [
        {
          "output_type": "execute_result",
          "data": {
            "application/vnd.google.colaboratory.intrinsic+json": {
              "type": "string"
            },
            "text/plain": [
              "'Coat'"
            ]
          },
          "metadata": {},
          "execution_count": 96
        }
      ]
    },
    {
      "cell_type": "markdown",
      "metadata": {
        "id": "NGTh1v2u_AuD"
      },
      "source": [
        "El conjunto de validación contiene 5,000 imágenes, y el conjunto de test contiene 10,000 imágenes. Comprueba las dimensiones de dichos conjuntos."
      ]
    },
    {
      "cell_type": "code",
      "metadata": {
        "id": "SofDeaM9Aklm",
        "colab": {
          "base_uri": "https://localhost:8080/"
        },
        "outputId": "b66c7231-f414-449f-fd25-931ac8821d3a"
      },
      "source": [
        "X_valid.shape"
      ],
      "execution_count": 97,
      "outputs": [
        {
          "output_type": "execute_result",
          "data": {
            "text/plain": [
              "(5000, 28, 28)"
            ]
          },
          "metadata": {},
          "execution_count": 97
        }
      ]
    },
    {
      "cell_type": "code",
      "metadata": {
        "id": "fX4z_5o1BPC4",
        "colab": {
          "base_uri": "https://localhost:8080/"
        },
        "outputId": "ec4b1af3-a42c-4007-9cc7-bb670e62f8d2"
      },
      "source": [
        "X_test.shape"
      ],
      "execution_count": 98,
      "outputs": [
        {
          "output_type": "execute_result",
          "data": {
            "text/plain": [
              "(10000, 28, 28)"
            ]
          },
          "metadata": {},
          "execution_count": 98
        }
      ]
    },
    {
      "cell_type": "markdown",
      "metadata": {
        "id": "Wb53If_5_FXr"
      },
      "source": [
        "visualicemos ahora algunas de las imágenes de los datos de entrenamiento con su respectiva etiqueta"
      ]
    },
    {
      "cell_type": "code",
      "metadata": {
        "id": "ueEfL0_l_ERq",
        "colab": {
          "base_uri": "https://localhost:8080/",
          "height": 914
        },
        "outputId": "8f1e35bb-f361-4663-e2f1-588b778dc73f"
      },
      "source": [
        "fig, ax = plt.subplots(3, 10, figsize=(15,5))\n",
        "for i, ax in enumerate(ax.flat):\n",
        "  ax.imshow(X_train[i], cmap='binay')\n",
        "  ax.set_axis_off()\n",
        "  ax.set_title(class_names(y_train[i]))"
      ],
      "execution_count": 99,
      "outputs": [
        {
          "output_type": "error",
          "ename": "ValueError",
          "evalue": "ignored",
          "traceback": [
            "\u001b[0;31m---------------------------------------------------------------------------\u001b[0m",
            "\u001b[0;31mValueError\u001b[0m                                Traceback (most recent call last)",
            "\u001b[0;32m<ipython-input-99-b4c7059404b0>\u001b[0m in \u001b[0;36m<module>\u001b[0;34m()\u001b[0m\n\u001b[1;32m      1\u001b[0m \u001b[0mfig\u001b[0m\u001b[0;34m,\u001b[0m \u001b[0max\u001b[0m \u001b[0;34m=\u001b[0m \u001b[0mplt\u001b[0m\u001b[0;34m.\u001b[0m\u001b[0msubplots\u001b[0m\u001b[0;34m(\u001b[0m\u001b[0;36m3\u001b[0m\u001b[0;34m,\u001b[0m \u001b[0;36m10\u001b[0m\u001b[0;34m,\u001b[0m \u001b[0mfigsize\u001b[0m\u001b[0;34m=\u001b[0m\u001b[0;34m(\u001b[0m\u001b[0;36m15\u001b[0m\u001b[0;34m,\u001b[0m\u001b[0;36m5\u001b[0m\u001b[0;34m)\u001b[0m\u001b[0;34m)\u001b[0m\u001b[0;34m\u001b[0m\u001b[0;34m\u001b[0m\u001b[0m\n\u001b[1;32m      2\u001b[0m \u001b[0;32mfor\u001b[0m \u001b[0mi\u001b[0m\u001b[0;34m,\u001b[0m \u001b[0max\u001b[0m \u001b[0;32min\u001b[0m \u001b[0menumerate\u001b[0m\u001b[0;34m(\u001b[0m\u001b[0max\u001b[0m\u001b[0;34m.\u001b[0m\u001b[0mflat\u001b[0m\u001b[0;34m)\u001b[0m\u001b[0;34m:\u001b[0m\u001b[0;34m\u001b[0m\u001b[0;34m\u001b[0m\u001b[0m\n\u001b[0;32m----> 3\u001b[0;31m   \u001b[0max\u001b[0m\u001b[0;34m.\u001b[0m\u001b[0mimshow\u001b[0m\u001b[0;34m(\u001b[0m\u001b[0mX_train\u001b[0m\u001b[0;34m[\u001b[0m\u001b[0mi\u001b[0m\u001b[0;34m]\u001b[0m\u001b[0;34m,\u001b[0m \u001b[0mcmap\u001b[0m\u001b[0;34m=\u001b[0m\u001b[0;34m'binay'\u001b[0m\u001b[0;34m)\u001b[0m\u001b[0;34m\u001b[0m\u001b[0;34m\u001b[0m\u001b[0m\n\u001b[0m\u001b[1;32m      4\u001b[0m   \u001b[0max\u001b[0m\u001b[0;34m.\u001b[0m\u001b[0mset_axis_off\u001b[0m\u001b[0;34m(\u001b[0m\u001b[0;34m)\u001b[0m\u001b[0;34m\u001b[0m\u001b[0;34m\u001b[0m\u001b[0m\n\u001b[1;32m      5\u001b[0m   \u001b[0max\u001b[0m\u001b[0;34m.\u001b[0m\u001b[0mset_title\u001b[0m\u001b[0;34m(\u001b[0m\u001b[0mclass_names\u001b[0m\u001b[0;34m(\u001b[0m\u001b[0my_train\u001b[0m\u001b[0;34m[\u001b[0m\u001b[0mi\u001b[0m\u001b[0;34m]\u001b[0m\u001b[0;34m)\u001b[0m\u001b[0;34m)\u001b[0m\u001b[0;34m\u001b[0m\u001b[0;34m\u001b[0m\u001b[0m\n",
            "\u001b[0;32m/usr/local/lib/python3.7/dist-packages/matplotlib/__init__.py\u001b[0m in \u001b[0;36minner\u001b[0;34m(ax, data, *args, **kwargs)\u001b[0m\n\u001b[1;32m   1563\u001b[0m     \u001b[0;32mdef\u001b[0m \u001b[0minner\u001b[0m\u001b[0;34m(\u001b[0m\u001b[0max\u001b[0m\u001b[0;34m,\u001b[0m \u001b[0;34m*\u001b[0m\u001b[0margs\u001b[0m\u001b[0;34m,\u001b[0m \u001b[0mdata\u001b[0m\u001b[0;34m=\u001b[0m\u001b[0;32mNone\u001b[0m\u001b[0;34m,\u001b[0m \u001b[0;34m**\u001b[0m\u001b[0mkwargs\u001b[0m\u001b[0;34m)\u001b[0m\u001b[0;34m:\u001b[0m\u001b[0;34m\u001b[0m\u001b[0;34m\u001b[0m\u001b[0m\n\u001b[1;32m   1564\u001b[0m         \u001b[0;32mif\u001b[0m \u001b[0mdata\u001b[0m \u001b[0;32mis\u001b[0m \u001b[0;32mNone\u001b[0m\u001b[0;34m:\u001b[0m\u001b[0;34m\u001b[0m\u001b[0;34m\u001b[0m\u001b[0m\n\u001b[0;32m-> 1565\u001b[0;31m             \u001b[0;32mreturn\u001b[0m \u001b[0mfunc\u001b[0m\u001b[0;34m(\u001b[0m\u001b[0max\u001b[0m\u001b[0;34m,\u001b[0m \u001b[0;34m*\u001b[0m\u001b[0mmap\u001b[0m\u001b[0;34m(\u001b[0m\u001b[0msanitize_sequence\u001b[0m\u001b[0;34m,\u001b[0m \u001b[0margs\u001b[0m\u001b[0;34m)\u001b[0m\u001b[0;34m,\u001b[0m \u001b[0;34m**\u001b[0m\u001b[0mkwargs\u001b[0m\u001b[0;34m)\u001b[0m\u001b[0;34m\u001b[0m\u001b[0;34m\u001b[0m\u001b[0m\n\u001b[0m\u001b[1;32m   1566\u001b[0m \u001b[0;34m\u001b[0m\u001b[0m\n\u001b[1;32m   1567\u001b[0m         \u001b[0mbound\u001b[0m \u001b[0;34m=\u001b[0m \u001b[0mnew_sig\u001b[0m\u001b[0;34m.\u001b[0m\u001b[0mbind\u001b[0m\u001b[0;34m(\u001b[0m\u001b[0max\u001b[0m\u001b[0;34m,\u001b[0m \u001b[0;34m*\u001b[0m\u001b[0margs\u001b[0m\u001b[0;34m,\u001b[0m \u001b[0;34m**\u001b[0m\u001b[0mkwargs\u001b[0m\u001b[0;34m)\u001b[0m\u001b[0;34m\u001b[0m\u001b[0;34m\u001b[0m\u001b[0m\n",
            "\u001b[0;32m/usr/local/lib/python3.7/dist-packages/matplotlib/cbook/deprecation.py\u001b[0m in \u001b[0;36mwrapper\u001b[0;34m(*args, **kwargs)\u001b[0m\n\u001b[1;32m    356\u001b[0m                 \u001b[0;34mf\"%(removal)s.  If any parameter follows {name!r}, they \"\u001b[0m\u001b[0;34m\u001b[0m\u001b[0;34m\u001b[0m\u001b[0m\n\u001b[1;32m    357\u001b[0m                 f\"should be pass as keyword, not positionally.\")\n\u001b[0;32m--> 358\u001b[0;31m         \u001b[0;32mreturn\u001b[0m \u001b[0mfunc\u001b[0m\u001b[0;34m(\u001b[0m\u001b[0;34m*\u001b[0m\u001b[0margs\u001b[0m\u001b[0;34m,\u001b[0m \u001b[0;34m**\u001b[0m\u001b[0mkwargs\u001b[0m\u001b[0;34m)\u001b[0m\u001b[0;34m\u001b[0m\u001b[0;34m\u001b[0m\u001b[0m\n\u001b[0m\u001b[1;32m    359\u001b[0m \u001b[0;34m\u001b[0m\u001b[0m\n\u001b[1;32m    360\u001b[0m     \u001b[0;32mreturn\u001b[0m \u001b[0mwrapper\u001b[0m\u001b[0;34m\u001b[0m\u001b[0;34m\u001b[0m\u001b[0m\n",
            "\u001b[0;32m/usr/local/lib/python3.7/dist-packages/matplotlib/cbook/deprecation.py\u001b[0m in \u001b[0;36mwrapper\u001b[0;34m(*args, **kwargs)\u001b[0m\n\u001b[1;32m    356\u001b[0m                 \u001b[0;34mf\"%(removal)s.  If any parameter follows {name!r}, they \"\u001b[0m\u001b[0;34m\u001b[0m\u001b[0;34m\u001b[0m\u001b[0m\n\u001b[1;32m    357\u001b[0m                 f\"should be pass as keyword, not positionally.\")\n\u001b[0;32m--> 358\u001b[0;31m         \u001b[0;32mreturn\u001b[0m \u001b[0mfunc\u001b[0m\u001b[0;34m(\u001b[0m\u001b[0;34m*\u001b[0m\u001b[0margs\u001b[0m\u001b[0;34m,\u001b[0m \u001b[0;34m**\u001b[0m\u001b[0mkwargs\u001b[0m\u001b[0;34m)\u001b[0m\u001b[0;34m\u001b[0m\u001b[0;34m\u001b[0m\u001b[0m\n\u001b[0m\u001b[1;32m    359\u001b[0m \u001b[0;34m\u001b[0m\u001b[0m\n\u001b[1;32m    360\u001b[0m     \u001b[0;32mreturn\u001b[0m \u001b[0mwrapper\u001b[0m\u001b[0;34m\u001b[0m\u001b[0;34m\u001b[0m\u001b[0m\n",
            "\u001b[0;32m/usr/local/lib/python3.7/dist-packages/matplotlib/axes/_axes.py\u001b[0m in \u001b[0;36mimshow\u001b[0;34m(self, X, cmap, norm, aspect, interpolation, alpha, vmin, vmax, origin, extent, shape, filternorm, filterrad, imlim, resample, url, **kwargs)\u001b[0m\n\u001b[1;32m   5622\u001b[0m         im = mimage.AxesImage(self, cmap, norm, interpolation, origin, extent,\n\u001b[1;32m   5623\u001b[0m                               \u001b[0mfilternorm\u001b[0m\u001b[0;34m=\u001b[0m\u001b[0mfilternorm\u001b[0m\u001b[0;34m,\u001b[0m \u001b[0mfilterrad\u001b[0m\u001b[0;34m=\u001b[0m\u001b[0mfilterrad\u001b[0m\u001b[0;34m,\u001b[0m\u001b[0;34m\u001b[0m\u001b[0;34m\u001b[0m\u001b[0m\n\u001b[0;32m-> 5624\u001b[0;31m                               resample=resample, **kwargs)\n\u001b[0m\u001b[1;32m   5625\u001b[0m \u001b[0;34m\u001b[0m\u001b[0m\n\u001b[1;32m   5626\u001b[0m         \u001b[0mim\u001b[0m\u001b[0;34m.\u001b[0m\u001b[0mset_data\u001b[0m\u001b[0;34m(\u001b[0m\u001b[0mX\u001b[0m\u001b[0;34m)\u001b[0m\u001b[0;34m\u001b[0m\u001b[0;34m\u001b[0m\u001b[0m\n",
            "\u001b[0;32m/usr/local/lib/python3.7/dist-packages/matplotlib/image.py\u001b[0m in \u001b[0;36m__init__\u001b[0;34m(self, ax, cmap, norm, interpolation, origin, extent, filternorm, filterrad, resample, **kwargs)\u001b[0m\n\u001b[1;32m    897\u001b[0m             \u001b[0mfilterrad\u001b[0m\u001b[0;34m=\u001b[0m\u001b[0mfilterrad\u001b[0m\u001b[0;34m,\u001b[0m\u001b[0;34m\u001b[0m\u001b[0;34m\u001b[0m\u001b[0m\n\u001b[1;32m    898\u001b[0m             \u001b[0mresample\u001b[0m\u001b[0;34m=\u001b[0m\u001b[0mresample\u001b[0m\u001b[0;34m,\u001b[0m\u001b[0;34m\u001b[0m\u001b[0;34m\u001b[0m\u001b[0m\n\u001b[0;32m--> 899\u001b[0;31m             \u001b[0;34m**\u001b[0m\u001b[0mkwargs\u001b[0m\u001b[0;34m\u001b[0m\u001b[0;34m\u001b[0m\u001b[0m\n\u001b[0m\u001b[1;32m    900\u001b[0m         )\n\u001b[1;32m    901\u001b[0m \u001b[0;34m\u001b[0m\u001b[0m\n",
            "\u001b[0;32m/usr/local/lib/python3.7/dist-packages/matplotlib/image.py\u001b[0m in \u001b[0;36m__init__\u001b[0;34m(self, ax, cmap, norm, interpolation, origin, filternorm, filterrad, resample, **kwargs)\u001b[0m\n\u001b[1;32m    246\u001b[0m                  ):\n\u001b[1;32m    247\u001b[0m         \u001b[0mmartist\u001b[0m\u001b[0;34m.\u001b[0m\u001b[0mArtist\u001b[0m\u001b[0;34m.\u001b[0m\u001b[0m__init__\u001b[0m\u001b[0;34m(\u001b[0m\u001b[0mself\u001b[0m\u001b[0;34m)\u001b[0m\u001b[0;34m\u001b[0m\u001b[0;34m\u001b[0m\u001b[0m\n\u001b[0;32m--> 248\u001b[0;31m         \u001b[0mcm\u001b[0m\u001b[0;34m.\u001b[0m\u001b[0mScalarMappable\u001b[0m\u001b[0;34m.\u001b[0m\u001b[0m__init__\u001b[0m\u001b[0;34m(\u001b[0m\u001b[0mself\u001b[0m\u001b[0;34m,\u001b[0m \u001b[0mnorm\u001b[0m\u001b[0;34m,\u001b[0m \u001b[0mcmap\u001b[0m\u001b[0;34m)\u001b[0m\u001b[0;34m\u001b[0m\u001b[0;34m\u001b[0m\u001b[0m\n\u001b[0m\u001b[1;32m    249\u001b[0m         \u001b[0mself\u001b[0m\u001b[0;34m.\u001b[0m\u001b[0m_mouseover\u001b[0m \u001b[0;34m=\u001b[0m \u001b[0;32mTrue\u001b[0m\u001b[0;34m\u001b[0m\u001b[0;34m\u001b[0m\u001b[0m\n\u001b[1;32m    250\u001b[0m         \u001b[0;32mif\u001b[0m \u001b[0morigin\u001b[0m \u001b[0;32mis\u001b[0m \u001b[0;32mNone\u001b[0m\u001b[0;34m:\u001b[0m\u001b[0;34m\u001b[0m\u001b[0;34m\u001b[0m\u001b[0m\n",
            "\u001b[0;32m/usr/local/lib/python3.7/dist-packages/matplotlib/cm.py\u001b[0m in \u001b[0;36m__init__\u001b[0;34m(self, norm, cmap)\u001b[0m\n\u001b[1;32m    171\u001b[0m         \u001b[0mself\u001b[0m\u001b[0;34m.\u001b[0m\u001b[0mnorm\u001b[0m \u001b[0;34m=\u001b[0m \u001b[0mnorm\u001b[0m\u001b[0;34m\u001b[0m\u001b[0;34m\u001b[0m\u001b[0m\n\u001b[1;32m    172\u001b[0m         \u001b[0;31m#: The Colormap instance of this ScalarMappable.\u001b[0m\u001b[0;34m\u001b[0m\u001b[0;34m\u001b[0m\u001b[0;34m\u001b[0m\u001b[0m\n\u001b[0;32m--> 173\u001b[0;31m         \u001b[0mself\u001b[0m\u001b[0;34m.\u001b[0m\u001b[0mcmap\u001b[0m \u001b[0;34m=\u001b[0m \u001b[0mget_cmap\u001b[0m\u001b[0;34m(\u001b[0m\u001b[0mcmap\u001b[0m\u001b[0;34m)\u001b[0m\u001b[0;34m\u001b[0m\u001b[0;34m\u001b[0m\u001b[0m\n\u001b[0m\u001b[1;32m    174\u001b[0m         \u001b[0;31m#: The last colorbar associated with this ScalarMappable. May be None.\u001b[0m\u001b[0;34m\u001b[0m\u001b[0;34m\u001b[0m\u001b[0;34m\u001b[0m\u001b[0m\n\u001b[1;32m    175\u001b[0m         \u001b[0mself\u001b[0m\u001b[0;34m.\u001b[0m\u001b[0mcolorbar\u001b[0m \u001b[0;34m=\u001b[0m \u001b[0;32mNone\u001b[0m\u001b[0;34m\u001b[0m\u001b[0;34m\u001b[0m\u001b[0m\n",
            "\u001b[0;32m/usr/local/lib/python3.7/dist-packages/matplotlib/cm.py\u001b[0m in \u001b[0;36mget_cmap\u001b[0;34m(name, lut)\u001b[0m\n\u001b[1;32m    132\u001b[0m     \u001b[0;32mif\u001b[0m \u001b[0misinstance\u001b[0m\u001b[0;34m(\u001b[0m\u001b[0mname\u001b[0m\u001b[0;34m,\u001b[0m \u001b[0mcolors\u001b[0m\u001b[0;34m.\u001b[0m\u001b[0mColormap\u001b[0m\u001b[0;34m)\u001b[0m\u001b[0;34m:\u001b[0m\u001b[0;34m\u001b[0m\u001b[0;34m\u001b[0m\u001b[0m\n\u001b[1;32m    133\u001b[0m         \u001b[0;32mreturn\u001b[0m \u001b[0mname\u001b[0m\u001b[0;34m\u001b[0m\u001b[0;34m\u001b[0m\u001b[0m\n\u001b[0;32m--> 134\u001b[0;31m     \u001b[0mcbook\u001b[0m\u001b[0;34m.\u001b[0m\u001b[0m_check_in_list\u001b[0m\u001b[0;34m(\u001b[0m\u001b[0msorted\u001b[0m\u001b[0;34m(\u001b[0m\u001b[0mcmap_d\u001b[0m\u001b[0;34m)\u001b[0m\u001b[0;34m,\u001b[0m \u001b[0mname\u001b[0m\u001b[0;34m=\u001b[0m\u001b[0mname\u001b[0m\u001b[0;34m)\u001b[0m\u001b[0;34m\u001b[0m\u001b[0;34m\u001b[0m\u001b[0m\n\u001b[0m\u001b[1;32m    135\u001b[0m     \u001b[0;32mif\u001b[0m \u001b[0mlut\u001b[0m \u001b[0;32mis\u001b[0m \u001b[0;32mNone\u001b[0m\u001b[0;34m:\u001b[0m\u001b[0;34m\u001b[0m\u001b[0;34m\u001b[0m\u001b[0m\n\u001b[1;32m    136\u001b[0m         \u001b[0;32mreturn\u001b[0m \u001b[0mcmap_d\u001b[0m\u001b[0;34m[\u001b[0m\u001b[0mname\u001b[0m\u001b[0;34m]\u001b[0m\u001b[0;34m\u001b[0m\u001b[0;34m\u001b[0m\u001b[0m\n",
            "\u001b[0;32m/usr/local/lib/python3.7/dist-packages/matplotlib/cbook/__init__.py\u001b[0m in \u001b[0;36m_check_in_list\u001b[0;34m(_values, **kwargs)\u001b[0m\n\u001b[1;32m   2143\u001b[0m             raise ValueError(\n\u001b[1;32m   2144\u001b[0m                 \u001b[0;34m\"{!r} is not a valid value for {}; supported values are {}\"\u001b[0m\u001b[0;34m\u001b[0m\u001b[0;34m\u001b[0m\u001b[0m\n\u001b[0;32m-> 2145\u001b[0;31m                 .format(v, k, ', '.join(map(repr, values))))\n\u001b[0m\u001b[1;32m   2146\u001b[0m \u001b[0;34m\u001b[0m\u001b[0m\n\u001b[1;32m   2147\u001b[0m \u001b[0;34m\u001b[0m\u001b[0m\n",
            "\u001b[0;31mValueError\u001b[0m: 'binay' is not a valid value for name; supported values are 'Accent', 'Accent_r', 'Blues', 'Blues_r', 'BrBG', 'BrBG_r', 'BuGn', 'BuGn_r', 'BuPu', 'BuPu_r', 'CMRmap', 'CMRmap_r', 'Dark2', 'Dark2_r', 'GnBu', 'GnBu_r', 'Greens', 'Greens_r', 'Greys', 'Greys_r', 'OrRd', 'OrRd_r', 'Oranges', 'Oranges_r', 'PRGn', 'PRGn_r', 'Paired', 'Paired_r', 'Pastel1', 'Pastel1_r', 'Pastel2', 'Pastel2_r', 'PiYG', 'PiYG_r', 'PuBu', 'PuBuGn', 'PuBuGn_r', 'PuBu_r', 'PuOr', 'PuOr_r', 'PuRd', 'PuRd_r', 'Purples', 'Purples_r', 'RdBu', 'RdBu_r', 'RdGy', 'RdGy_r', 'RdPu', 'RdPu_r', 'RdYlBu', 'RdYlBu_r', 'RdYlGn', 'RdYlGn_r', 'Reds', 'Reds_r', 'Set1', 'Set1_r', 'Set2', 'Set2_r', 'Set3', 'Set3_r', 'Spectral', 'Spectral_r', 'Wistia', 'Wistia_r', 'YlGn', 'YlGnBu', 'YlGnBu_r', 'YlGn_r', 'YlOrBr', 'YlOrBr_r', 'YlOrRd', 'YlOrRd_r', 'afmhot', 'afmhot_r', 'autumn', 'autumn_r', 'binary', 'binary_r', 'bone', 'bone_r', 'brg', 'brg_r', 'bwr', 'bwr_r', 'cividis', 'cividis_r', 'cool', 'cool_r', 'coolwarm', 'coolwarm_r', 'copper', 'copper_r', 'cubehelix', 'cubehelix_r', 'flag', 'flag_r', 'gist_earth', 'gist_earth_r', 'gist_gray', 'gist_gray_r', 'gist_heat', 'gist_heat_r', 'gist_ncar', 'gist_ncar_r', 'gist_rainbow', 'gist_rainbow_r', 'gist_stern', 'gist_stern_r', 'gist_yarg', 'gist_yarg_r', 'gnuplot', 'gnuplot2', 'gnuplot2_r', 'gnuplot_r', 'gray', 'gray_r', 'hot', 'hot_r', 'hsv', 'hsv_r', 'inferno', 'inferno_r', 'jet', 'jet_r', 'magma', 'magma_r', 'nipy_spectral', 'nipy_spectral_r', 'ocean', 'oc..."
          ]
        },
        {
          "output_type": "display_data",
          "data": {
            "image/png": "[encoded data removed]",
            "text/plain": [
              "<Figure size 1080x360 with 30 Axes>"
            ]
          },
          "metadata": {
            "needs_background": "light"
          }
        }
      ]
    },
    {
      "cell_type": "markdown",
      "metadata": {
        "id": "ZQpJetqBAE_G"
      },
      "source": [
        "## Uso de Keras para crean un modelo de aprendizaje profundo \n"
      ]
    },
    {
      "cell_type": "code",
      "metadata": {
        "id": "Mf3T-mTrDWwN"
      },
      "source": [
        "keras.backend.clear_session()"
      ],
      "execution_count": 100,
      "outputs": []
    },
    {
      "cell_type": "markdown",
      "metadata": {
        "id": "YWPbzoU1PzPJ"
      },
      "source": [
        "Crea un modelo con la api de keras que tenga 2 capas ocultas de 300 y 100 neuronas respectivamente con función de activación *Relu*:"
      ]
    },
    {
      "cell_type": "code",
      "metadata": {
        "id": "k8bwYESv_q4T"
      },
      "source": [
        "model = keras.models.Sequential()  #crear modelo\n",
        "#secuencial o funcional?\n",
        "\n",
        "#ahora añado las capas\n",
        "model.add(keras.layers.Flatten(input_shape=[28,28]))\n",
        "model.add(keras.layers.Dense(300,activation='relu'))\n",
        "model.add(keras.layers.Dense(100,activation='relu'))\n",
        "model.add(keras.layers.Dense(10,activation='softmax'))\n",
        "\n",
        "# esto es equivalente a lo de arriba. en funcional\n",
        "input = keras.layers.Input(shape=(28,28)) #datos entrada entran aquí\n",
        "\n",
        "flatten = keras.layers.Flatten()(input) #datos van diretamente a flatten\n",
        "#capa flatten \n",
        "hidden_1 = keras.layers.Dense(300,activation='relu')(flatten) #le indico q su entrada es flatten\n",
        "hidden_2 = keras.layers.Dense(100,activation='relu')(hidden_1)\n",
        "output = keras.layers.Dense(10,activation='softmax')(hidden_2)\n",
        "model_2 = keras.Model(inputs=input, outputs=output)"
      ],
      "execution_count": 101,
      "outputs": []
    },
    {
      "cell_type": "code",
      "metadata": {
        "id": "xFcFLOQk4Pmj"
      },
      "source": [
        ""
      ],
      "execution_count": 101,
      "outputs": []
    },
    {
      "cell_type": "markdown",
      "metadata": {
        "id": "5gNU2QbZanJD"
      },
      "source": [
        "Utiliza el método `summary()`para visualizar el resumen de las capas y parámetros del modelo creado."
      ]
    },
    {
      "cell_type": "code",
      "metadata": {
        "id": "NXRM66UtA1_6",
        "colab": {
          "base_uri": "https://localhost:8080/"
        },
        "outputId": "36a3931c-cbc9-4c50-8319-0b464126b0cb"
      },
      "source": [
        "model.summary() #resumen del modelo\n",
        "#modelo secuancial\n",
        "#capa flaten 784 = 24x24\n",
        "#la coma es punto\n",
        "#los entrenables son todos pq si tenemos capas congeladas estos no son entrenables\n",
        "#en este caso trainble paramnss igual a total params"
      ],
      "execution_count": 102,
      "outputs": [
        {
          "output_type": "stream",
          "name": "stdout",
          "text": [
            "Model: \"sequential\"\n",
            "_________________________________________________________________\n",
            "Layer (type)                 Output Shape              Param #   \n",
            "=================================================================\n",
            "flatten (Flatten)            (None, 784)               0         \n",
            "_________________________________________________________________\n",
            "dense (Dense)                (None, 300)               235500    \n",
            "_________________________________________________________________\n",
            "dense_1 (Dense)              (None, 100)               30100     \n",
            "_________________________________________________________________\n",
            "dense_2 (Dense)              (None, 10)                1010      \n",
            "=================================================================\n",
            "Total params: 266,610\n",
            "Trainable params: 266,610\n",
            "Non-trainable params: 0\n",
            "_________________________________________________________________\n"
          ]
        }
      ]
    },
    {
      "cell_type": "markdown",
      "metadata": {
        "id": "rF8jSbXFDrM-"
      },
      "source": [
        "## Compilando el modelo\n",
        "\n",
        "Después de crear un modelo, se debe llamar el método `compile()` para especificar la función de pérdida y el optimizador a utilizar. Opcionalmente, también puede especificar una lista de métricas  para calcular durante el entrenamiento y la evaluación:"
      ]
    },
    {
      "cell_type": "code",
      "metadata": {
        "id": "6xmf4dP6DN1z"
      },
      "source": [
        "#sparce_categorical_crossentropu\n",
        "#'sgd'\n",
        "#['accuracy']\n",
        "\n",
        "model.compile(loss='sparse_categorycal_crossentropy',\n",
        "              optimizer='sgd',\n",
        "              metrics = ['accuracy'])"
      ],
      "execution_count": 103,
      "outputs": []
    },
    {
      "cell_type": "markdown",
      "metadata": {
        "id": "1mjB4LdpFDXF"
      },
      "source": [
        "## Entrenando y evaluando el modelo"
      ]
    },
    {
      "cell_type": "markdown",
      "metadata": {
        "id": "5hUzUbzhGk1r"
      },
      "source": [
        "Ahora el modelo está listo para ser entrenado. Para esto simplemente necesitamos llamar a su método `fit()`. Le pasamos las características de entrada (X_train) y las clases de salida (y_train), así como la cantidad de épocas para entrenar (o de lo contrario, sería predeterminado a solo 1). También pasamos un conjunto de validación (esto es opcional): Keras medirá el `loss` y las métricas adicionales en este conjunto al final de cada época, lo cual es muy útil para ver qué cómo de bien se comporta el modelo realmente. Haz el `fit` del modelo y guárdalo en una variable llamada `history`"
      ]
    },
    {
      "cell_type": "code",
      "metadata": {
        "colab": {
          "base_uri": "https://localhost:8080/",
          "height": 1000
        },
        "id": "LcM6ByWX6XL_",
        "outputId": "cdb6d5cc-d071-477b-8eb2-9de07e0621f5"
      },
      "source": [
        "history = model.fit(X_train, y_train, epochs=20, validation_data=(X_valid, y_valid))"
      ],
      "execution_count": 104,
      "outputs": [
        {
          "output_type": "stream",
          "name": "stdout",
          "text": [
            "Epoch 1/20\n"
          ]
        },
        {
          "output_type": "error",
          "ename": "ValueError",
          "evalue": "ignored",
          "traceback": [
            "\u001b[0;31m---------------------------------------------------------------------------\u001b[0m",
            "\u001b[0;31mValueError\u001b[0m                                Traceback (most recent call last)",
            "\u001b[0;32m<ipython-input-104-f7d88432429e>\u001b[0m in \u001b[0;36m<module>\u001b[0;34m()\u001b[0m\n\u001b[0;32m----> 1\u001b[0;31m \u001b[0mhistory\u001b[0m \u001b[0;34m=\u001b[0m \u001b[0mmodel\u001b[0m\u001b[0;34m.\u001b[0m\u001b[0mfit\u001b[0m\u001b[0;34m(\u001b[0m\u001b[0mX_train\u001b[0m\u001b[0;34m,\u001b[0m \u001b[0my_train\u001b[0m\u001b[0;34m,\u001b[0m \u001b[0mepochs\u001b[0m\u001b[0;34m=\u001b[0m\u001b[0;36m20\u001b[0m\u001b[0;34m,\u001b[0m \u001b[0mvalidation_data\u001b[0m\u001b[0;34m=\u001b[0m\u001b[0;34m(\u001b[0m\u001b[0mX_valid\u001b[0m\u001b[0;34m,\u001b[0m \u001b[0my_valid\u001b[0m\u001b[0;34m)\u001b[0m\u001b[0;34m)\u001b[0m\u001b[0;34m\u001b[0m\u001b[0;34m\u001b[0m\u001b[0m\n\u001b[0m",
            "\u001b[0;32m/usr/local/lib/python3.7/dist-packages/keras/engine/training.py\u001b[0m in \u001b[0;36mfit\u001b[0;34m(self, x, y, batch_size, epochs, verbose, callbacks, validation_split, validation_data, shuffle, class_weight, sample_weight, initial_epoch, steps_per_epoch, validation_steps, validation_batch_size, validation_freq, max_queue_size, workers, use_multiprocessing)\u001b[0m\n\u001b[1;32m   1182\u001b[0m                 _r=1):\n\u001b[1;32m   1183\u001b[0m               \u001b[0mcallbacks\u001b[0m\u001b[0;34m.\u001b[0m\u001b[0mon_train_batch_begin\u001b[0m\u001b[0;34m(\u001b[0m\u001b[0mstep\u001b[0m\u001b[0;34m)\u001b[0m\u001b[0;34m\u001b[0m\u001b[0;34m\u001b[0m\u001b[0m\n\u001b[0;32m-> 1184\u001b[0;31m               \u001b[0mtmp_logs\u001b[0m \u001b[0;34m=\u001b[0m \u001b[0mself\u001b[0m\u001b[0;34m.\u001b[0m\u001b[0mtrain_function\u001b[0m\u001b[0;34m(\u001b[0m\u001b[0miterator\u001b[0m\u001b[0;34m)\u001b[0m\u001b[0;34m\u001b[0m\u001b[0;34m\u001b[0m\u001b[0m\n\u001b[0m\u001b[1;32m   1185\u001b[0m               \u001b[0;32mif\u001b[0m \u001b[0mdata_handler\u001b[0m\u001b[0;34m.\u001b[0m\u001b[0mshould_sync\u001b[0m\u001b[0;34m:\u001b[0m\u001b[0;34m\u001b[0m\u001b[0;34m\u001b[0m\u001b[0m\n\u001b[1;32m   1186\u001b[0m                 \u001b[0mcontext\u001b[0m\u001b[0;34m.\u001b[0m\u001b[0masync_wait\u001b[0m\u001b[0;34m(\u001b[0m\u001b[0;34m)\u001b[0m\u001b[0;34m\u001b[0m\u001b[0;34m\u001b[0m\u001b[0m\n",
            "\u001b[0;32m/usr/local/lib/python3.7/dist-packages/tensorflow/python/eager/def_function.py\u001b[0m in \u001b[0;36m__call__\u001b[0;34m(self, *args, **kwds)\u001b[0m\n\u001b[1;32m    883\u001b[0m \u001b[0;34m\u001b[0m\u001b[0m\n\u001b[1;32m    884\u001b[0m       \u001b[0;32mwith\u001b[0m \u001b[0mOptionalXlaContext\u001b[0m\u001b[0;34m(\u001b[0m\u001b[0mself\u001b[0m\u001b[0;34m.\u001b[0m\u001b[0m_jit_compile\u001b[0m\u001b[0;34m)\u001b[0m\u001b[0;34m:\u001b[0m\u001b[0;34m\u001b[0m\u001b[0;34m\u001b[0m\u001b[0m\n\u001b[0;32m--> 885\u001b[0;31m         \u001b[0mresult\u001b[0m \u001b[0;34m=\u001b[0m \u001b[0mself\u001b[0m\u001b[0;34m.\u001b[0m\u001b[0m_call\u001b[0m\u001b[0;34m(\u001b[0m\u001b[0;34m*\u001b[0m\u001b[0margs\u001b[0m\u001b[0;34m,\u001b[0m \u001b[0;34m**\u001b[0m\u001b[0mkwds\u001b[0m\u001b[0;34m)\u001b[0m\u001b[0;34m\u001b[0m\u001b[0;34m\u001b[0m\u001b[0m\n\u001b[0m\u001b[1;32m    886\u001b[0m \u001b[0;34m\u001b[0m\u001b[0m\n\u001b[1;32m    887\u001b[0m       \u001b[0mnew_tracing_count\u001b[0m \u001b[0;34m=\u001b[0m \u001b[0mself\u001b[0m\u001b[0;34m.\u001b[0m\u001b[0mexperimental_get_tracing_count\u001b[0m\u001b[0;34m(\u001b[0m\u001b[0;34m)\u001b[0m\u001b[0;34m\u001b[0m\u001b[0;34m\u001b[0m\u001b[0m\n",
            "\u001b[0;32m/usr/local/lib/python3.7/dist-packages/tensorflow/python/eager/def_function.py\u001b[0m in \u001b[0;36m_call\u001b[0;34m(self, *args, **kwds)\u001b[0m\n\u001b[1;32m    931\u001b[0m       \u001b[0;31m# This is the first call of __call__, so we have to initialize.\u001b[0m\u001b[0;34m\u001b[0m\u001b[0;34m\u001b[0m\u001b[0;34m\u001b[0m\u001b[0m\n\u001b[1;32m    932\u001b[0m       \u001b[0minitializers\u001b[0m \u001b[0;34m=\u001b[0m \u001b[0;34m[\u001b[0m\u001b[0;34m]\u001b[0m\u001b[0;34m\u001b[0m\u001b[0;34m\u001b[0m\u001b[0m\n\u001b[0;32m--> 933\u001b[0;31m       \u001b[0mself\u001b[0m\u001b[0;34m.\u001b[0m\u001b[0m_initialize\u001b[0m\u001b[0;34m(\u001b[0m\u001b[0margs\u001b[0m\u001b[0;34m,\u001b[0m \u001b[0mkwds\u001b[0m\u001b[0;34m,\u001b[0m \u001b[0madd_initializers_to\u001b[0m\u001b[0;34m=\u001b[0m\u001b[0minitializers\u001b[0m\u001b[0;34m)\u001b[0m\u001b[0;34m\u001b[0m\u001b[0;34m\u001b[0m\u001b[0m\n\u001b[0m\u001b[1;32m    934\u001b[0m     \u001b[0;32mfinally\u001b[0m\u001b[0;34m:\u001b[0m\u001b[0;34m\u001b[0m\u001b[0;34m\u001b[0m\u001b[0m\n\u001b[1;32m    935\u001b[0m       \u001b[0;31m# At this point we know that the initialization is complete (or less\u001b[0m\u001b[0;34m\u001b[0m\u001b[0;34m\u001b[0m\u001b[0;34m\u001b[0m\u001b[0m\n",
            "\u001b[0;32m/usr/local/lib/python3.7/dist-packages/tensorflow/python/eager/def_function.py\u001b[0m in \u001b[0;36m_initialize\u001b[0;34m(self, args, kwds, add_initializers_to)\u001b[0m\n\u001b[1;32m    758\u001b[0m     self._concrete_stateful_fn = (\n\u001b[1;32m    759\u001b[0m         self._stateful_fn._get_concrete_function_internal_garbage_collected(  # pylint: disable=protected-access\n\u001b[0;32m--> 760\u001b[0;31m             *args, **kwds))\n\u001b[0m\u001b[1;32m    761\u001b[0m \u001b[0;34m\u001b[0m\u001b[0m\n\u001b[1;32m    762\u001b[0m     \u001b[0;32mdef\u001b[0m \u001b[0minvalid_creator_scope\u001b[0m\u001b[0;34m(\u001b[0m\u001b[0;34m*\u001b[0m\u001b[0munused_args\u001b[0m\u001b[0;34m,\u001b[0m \u001b[0;34m**\u001b[0m\u001b[0munused_kwds\u001b[0m\u001b[0;34m)\u001b[0m\u001b[0;34m:\u001b[0m\u001b[0;34m\u001b[0m\u001b[0;34m\u001b[0m\u001b[0m\n",
            "\u001b[0;32m/usr/local/lib/python3.7/dist-packages/tensorflow/python/eager/function.py\u001b[0m in \u001b[0;36m_get_concrete_function_internal_garbage_collected\u001b[0;34m(self, *args, **kwargs)\u001b[0m\n\u001b[1;32m   3064\u001b[0m       \u001b[0margs\u001b[0m\u001b[0;34m,\u001b[0m \u001b[0mkwargs\u001b[0m \u001b[0;34m=\u001b[0m \u001b[0;32mNone\u001b[0m\u001b[0;34m,\u001b[0m \u001b[0;32mNone\u001b[0m\u001b[0;34m\u001b[0m\u001b[0;34m\u001b[0m\u001b[0m\n\u001b[1;32m   3065\u001b[0m     \u001b[0;32mwith\u001b[0m \u001b[0mself\u001b[0m\u001b[0;34m.\u001b[0m\u001b[0m_lock\u001b[0m\u001b[0;34m:\u001b[0m\u001b[0;34m\u001b[0m\u001b[0;34m\u001b[0m\u001b[0m\n\u001b[0;32m-> 3066\u001b[0;31m       \u001b[0mgraph_function\u001b[0m\u001b[0;34m,\u001b[0m \u001b[0m_\u001b[0m \u001b[0;34m=\u001b[0m \u001b[0mself\u001b[0m\u001b[0;34m.\u001b[0m\u001b[0m_maybe_define_function\u001b[0m\u001b[0;34m(\u001b[0m\u001b[0margs\u001b[0m\u001b[0;34m,\u001b[0m \u001b[0mkwargs\u001b[0m\u001b[0;34m)\u001b[0m\u001b[0;34m\u001b[0m\u001b[0;34m\u001b[0m\u001b[0m\n\u001b[0m\u001b[1;32m   3067\u001b[0m     \u001b[0;32mreturn\u001b[0m \u001b[0mgraph_function\u001b[0m\u001b[0;34m\u001b[0m\u001b[0;34m\u001b[0m\u001b[0m\n\u001b[1;32m   3068\u001b[0m \u001b[0;34m\u001b[0m\u001b[0m\n",
            "\u001b[0;32m/usr/local/lib/python3.7/dist-packages/tensorflow/python/eager/function.py\u001b[0m in \u001b[0;36m_maybe_define_function\u001b[0;34m(self, args, kwargs)\u001b[0m\n\u001b[1;32m   3461\u001b[0m \u001b[0;34m\u001b[0m\u001b[0m\n\u001b[1;32m   3462\u001b[0m           \u001b[0mself\u001b[0m\u001b[0;34m.\u001b[0m\u001b[0m_function_cache\u001b[0m\u001b[0;34m.\u001b[0m\u001b[0mmissed\u001b[0m\u001b[0;34m.\u001b[0m\u001b[0madd\u001b[0m\u001b[0;34m(\u001b[0m\u001b[0mcall_context_key\u001b[0m\u001b[0;34m)\u001b[0m\u001b[0;34m\u001b[0m\u001b[0;34m\u001b[0m\u001b[0m\n\u001b[0;32m-> 3463\u001b[0;31m           \u001b[0mgraph_function\u001b[0m \u001b[0;34m=\u001b[0m \u001b[0mself\u001b[0m\u001b[0;34m.\u001b[0m\u001b[0m_create_graph_function\u001b[0m\u001b[0;34m(\u001b[0m\u001b[0margs\u001b[0m\u001b[0;34m,\u001b[0m \u001b[0mkwargs\u001b[0m\u001b[0;34m)\u001b[0m\u001b[0;34m\u001b[0m\u001b[0;34m\u001b[0m\u001b[0m\n\u001b[0m\u001b[1;32m   3464\u001b[0m           \u001b[0mself\u001b[0m\u001b[0;34m.\u001b[0m\u001b[0m_function_cache\u001b[0m\u001b[0;34m.\u001b[0m\u001b[0mprimary\u001b[0m\u001b[0;34m[\u001b[0m\u001b[0mcache_key\u001b[0m\u001b[0;34m]\u001b[0m \u001b[0;34m=\u001b[0m \u001b[0mgraph_function\u001b[0m\u001b[0;34m\u001b[0m\u001b[0;34m\u001b[0m\u001b[0m\n\u001b[1;32m   3465\u001b[0m \u001b[0;34m\u001b[0m\u001b[0m\n",
            "\u001b[0;32m/usr/local/lib/python3.7/dist-packages/tensorflow/python/eager/function.py\u001b[0m in \u001b[0;36m_create_graph_function\u001b[0;34m(self, args, kwargs, override_flat_arg_shapes)\u001b[0m\n\u001b[1;32m   3306\u001b[0m             \u001b[0marg_names\u001b[0m\u001b[0;34m=\u001b[0m\u001b[0marg_names\u001b[0m\u001b[0;34m,\u001b[0m\u001b[0;34m\u001b[0m\u001b[0;34m\u001b[0m\u001b[0m\n\u001b[1;32m   3307\u001b[0m             \u001b[0moverride_flat_arg_shapes\u001b[0m\u001b[0;34m=\u001b[0m\u001b[0moverride_flat_arg_shapes\u001b[0m\u001b[0;34m,\u001b[0m\u001b[0;34m\u001b[0m\u001b[0;34m\u001b[0m\u001b[0m\n\u001b[0;32m-> 3308\u001b[0;31m             capture_by_value=self._capture_by_value),\n\u001b[0m\u001b[1;32m   3309\u001b[0m         \u001b[0mself\u001b[0m\u001b[0;34m.\u001b[0m\u001b[0m_function_attributes\u001b[0m\u001b[0;34m,\u001b[0m\u001b[0;34m\u001b[0m\u001b[0;34m\u001b[0m\u001b[0m\n\u001b[1;32m   3310\u001b[0m         \u001b[0mfunction_spec\u001b[0m\u001b[0;34m=\u001b[0m\u001b[0mself\u001b[0m\u001b[0;34m.\u001b[0m\u001b[0mfunction_spec\u001b[0m\u001b[0;34m,\u001b[0m\u001b[0;34m\u001b[0m\u001b[0;34m\u001b[0m\u001b[0m\n",
            "\u001b[0;32m/usr/local/lib/python3.7/dist-packages/tensorflow/python/framework/func_graph.py\u001b[0m in \u001b[0;36mfunc_graph_from_py_func\u001b[0;34m(name, python_func, args, kwargs, signature, func_graph, autograph, autograph_options, add_control_dependencies, arg_names, op_return_value, collections, capture_by_value, override_flat_arg_shapes, acd_record_initial_resource_uses)\u001b[0m\n\u001b[1;32m   1005\u001b[0m         \u001b[0m_\u001b[0m\u001b[0;34m,\u001b[0m \u001b[0moriginal_func\u001b[0m \u001b[0;34m=\u001b[0m \u001b[0mtf_decorator\u001b[0m\u001b[0;34m.\u001b[0m\u001b[0munwrap\u001b[0m\u001b[0;34m(\u001b[0m\u001b[0mpython_func\u001b[0m\u001b[0;34m)\u001b[0m\u001b[0;34m\u001b[0m\u001b[0;34m\u001b[0m\u001b[0m\n\u001b[1;32m   1006\u001b[0m \u001b[0;34m\u001b[0m\u001b[0m\n\u001b[0;32m-> 1007\u001b[0;31m       \u001b[0mfunc_outputs\u001b[0m \u001b[0;34m=\u001b[0m \u001b[0mpython_func\u001b[0m\u001b[0;34m(\u001b[0m\u001b[0;34m*\u001b[0m\u001b[0mfunc_args\u001b[0m\u001b[0;34m,\u001b[0m \u001b[0;34m**\u001b[0m\u001b[0mfunc_kwargs\u001b[0m\u001b[0;34m)\u001b[0m\u001b[0;34m\u001b[0m\u001b[0;34m\u001b[0m\u001b[0m\n\u001b[0m\u001b[1;32m   1008\u001b[0m \u001b[0;34m\u001b[0m\u001b[0m\n\u001b[1;32m   1009\u001b[0m       \u001b[0;31m# invariant: `func_outputs` contains only Tensors, CompositeTensors,\u001b[0m\u001b[0;34m\u001b[0m\u001b[0;34m\u001b[0m\u001b[0;34m\u001b[0m\u001b[0m\n",
            "\u001b[0;32m/usr/local/lib/python3.7/dist-packages/tensorflow/python/eager/def_function.py\u001b[0m in \u001b[0;36mwrapped_fn\u001b[0;34m(*args, **kwds)\u001b[0m\n\u001b[1;32m    666\u001b[0m         \u001b[0;31m# the function a weak reference to itself to avoid a reference cycle.\u001b[0m\u001b[0;34m\u001b[0m\u001b[0;34m\u001b[0m\u001b[0;34m\u001b[0m\u001b[0m\n\u001b[1;32m    667\u001b[0m         \u001b[0;32mwith\u001b[0m \u001b[0mOptionalXlaContext\u001b[0m\u001b[0;34m(\u001b[0m\u001b[0mcompile_with_xla\u001b[0m\u001b[0;34m)\u001b[0m\u001b[0;34m:\u001b[0m\u001b[0;34m\u001b[0m\u001b[0;34m\u001b[0m\u001b[0m\n\u001b[0;32m--> 668\u001b[0;31m           \u001b[0mout\u001b[0m \u001b[0;34m=\u001b[0m \u001b[0mweak_wrapped_fn\u001b[0m\u001b[0;34m(\u001b[0m\u001b[0;34m)\u001b[0m\u001b[0;34m.\u001b[0m\u001b[0m__wrapped__\u001b[0m\u001b[0;34m(\u001b[0m\u001b[0;34m*\u001b[0m\u001b[0margs\u001b[0m\u001b[0;34m,\u001b[0m \u001b[0;34m**\u001b[0m\u001b[0mkwds\u001b[0m\u001b[0;34m)\u001b[0m\u001b[0;34m\u001b[0m\u001b[0;34m\u001b[0m\u001b[0m\n\u001b[0m\u001b[1;32m    669\u001b[0m         \u001b[0;32mreturn\u001b[0m \u001b[0mout\u001b[0m\u001b[0;34m\u001b[0m\u001b[0;34m\u001b[0m\u001b[0m\n\u001b[1;32m    670\u001b[0m \u001b[0;34m\u001b[0m\u001b[0m\n",
            "\u001b[0;32m/usr/local/lib/python3.7/dist-packages/tensorflow/python/framework/func_graph.py\u001b[0m in \u001b[0;36mwrapper\u001b[0;34m(*args, **kwargs)\u001b[0m\n\u001b[1;32m    992\u001b[0m           \u001b[0;32mexcept\u001b[0m \u001b[0mException\u001b[0m \u001b[0;32mas\u001b[0m \u001b[0me\u001b[0m\u001b[0;34m:\u001b[0m  \u001b[0;31m# pylint:disable=broad-except\u001b[0m\u001b[0;34m\u001b[0m\u001b[0;34m\u001b[0m\u001b[0m\n\u001b[1;32m    993\u001b[0m             \u001b[0;32mif\u001b[0m \u001b[0mhasattr\u001b[0m\u001b[0;34m(\u001b[0m\u001b[0me\u001b[0m\u001b[0;34m,\u001b[0m \u001b[0;34m\"ag_error_metadata\"\u001b[0m\u001b[0;34m)\u001b[0m\u001b[0;34m:\u001b[0m\u001b[0;34m\u001b[0m\u001b[0;34m\u001b[0m\u001b[0m\n\u001b[0;32m--> 994\u001b[0;31m               \u001b[0;32mraise\u001b[0m \u001b[0me\u001b[0m\u001b[0;34m.\u001b[0m\u001b[0mag_error_metadata\u001b[0m\u001b[0;34m.\u001b[0m\u001b[0mto_exception\u001b[0m\u001b[0;34m(\u001b[0m\u001b[0me\u001b[0m\u001b[0;34m)\u001b[0m\u001b[0;34m\u001b[0m\u001b[0;34m\u001b[0m\u001b[0m\n\u001b[0m\u001b[1;32m    995\u001b[0m             \u001b[0;32melse\u001b[0m\u001b[0;34m:\u001b[0m\u001b[0;34m\u001b[0m\u001b[0;34m\u001b[0m\u001b[0m\n\u001b[1;32m    996\u001b[0m               \u001b[0;32mraise\u001b[0m\u001b[0;34m\u001b[0m\u001b[0;34m\u001b[0m\u001b[0m\n",
            "\u001b[0;31mValueError\u001b[0m: in user code:\n\n    /usr/local/lib/python3.7/dist-packages/keras/engine/training.py:853 train_function  *\n        return step_function(self, iterator)\n    /usr/local/lib/python3.7/dist-packages/keras/engine/training.py:842 step_function  **\n        outputs = model.distribute_strategy.run(run_step, args=(data,))\n    /usr/local/lib/python3.7/dist-packages/tensorflow/python/distribute/distribute_lib.py:1286 run\n        return self._extended.call_for_each_replica(fn, args=args, kwargs=kwargs)\n    /usr/local/lib/python3.7/dist-packages/tensorflow/python/distribute/distribute_lib.py:2849 call_for_each_replica\n        return self._call_for_each_replica(fn, args, kwargs)\n    /usr/local/lib/python3.7/dist-packages/tensorflow/python/distribute/distribute_lib.py:3632 _call_for_each_replica\n        return fn(*args, **kwargs)\n    /usr/local/lib/python3.7/dist-packages/keras/engine/training.py:835 run_step  **\n        outputs = model.train_step(data)\n    /usr/local/lib/python3.7/dist-packages/keras/engine/training.py:789 train_step\n        y, y_pred, sample_weight, regularization_losses=self.losses)\n    /usr/local/lib/python3.7/dist-packages/keras/engine/compile_utils.py:184 __call__\n        self.build(y_pred)\n    /usr/local/lib/python3.7/dist-packages/keras/engine/compile_utils.py:133 build\n        self._losses = tf.nest.map_structure(self._get_loss_object, self._losses)\n    /usr/local/lib/python3.7/dist-packages/tensorflow/python/util/nest.py:869 map_structure\n        structure[0], [func(*x) for x in entries],\n    /usr/local/lib/python3.7/dist-packages/tensorflow/python/util/nest.py:869 <listcomp>\n        structure[0], [func(*x) for x in entries],\n    /usr/local/lib/python3.7/dist-packages/keras/engine/compile_utils.py:273 _get_loss_object\n        loss = losses_mod.get(loss)\n    /usr/local/lib/python3.7/dist-packages/keras/losses.py:2136 get\n        return deserialize(identifier)\n    /usr/local/lib/python3.7/dist-packages/keras/losses.py:2095 deserialize\n        printable_module_name='loss function')\n    /usr/local/lib/python3.7/dist-packages/keras/utils/generic_utils.py:709 deserialize_keras_object\n        .format(printable_module_name, object_name))\n\n    ValueError: Unknown loss function: sparse_categorycal_crossentropy. Please ensure this object is passed to the `custom_objects` argument. See https://www.tensorflow.org/guide/keras/save_and_serialize#registering_the_custom_object for details.\n"
          ]
        }
      ]
    },
    {
      "cell_type": "code",
      "metadata": {
        "id": "g54_sBZjEskv",
        "colab": {
          "base_uri": "https://localhost:8080/",
          "height": 697
        },
        "outputId": "5982632f-6286-43b9-d227-6bdeb4f2fd77"
      },
      "source": [
        ""
      ],
      "execution_count": null,
      "outputs": [
        {
          "output_type": "stream",
          "text": [
            "Epoch 1/20\n",
            "1719/1719 [==============================] - 5s 3ms/step - loss: 0.7203 - accuracy: 0.7656 - val_loss: 0.5158 - val_accuracy: 0.8256\n",
            "Epoch 2/20\n",
            "1719/1719 [==============================] - 5s 3ms/step - loss: 0.4896 - accuracy: 0.8275 - val_loss: 0.4638 - val_accuracy: 0.8378\n",
            "Epoch 3/20\n",
            "1719/1719 [==============================] - 5s 3ms/step - loss: 0.4452 - accuracy: 0.8433 - val_loss: 0.4161 - val_accuracy: 0.8592\n",
            "Epoch 4/20\n",
            "1719/1719 [==============================] - 5s 3ms/step - loss: 0.4191 - accuracy: 0.8520 - val_loss: 0.4453 - val_accuracy: 0.8428\n",
            "Epoch 5/20\n",
            "1719/1719 [==============================] - 5s 3ms/step - loss: 0.3977 - accuracy: 0.8598 - val_loss: 0.3847 - val_accuracy: 0.8654\n",
            "Epoch 6/20\n",
            "1719/1719 [==============================] - 5s 3ms/step - loss: 0.3816 - accuracy: 0.8662 - val_loss: 0.4108 - val_accuracy: 0.8510\n",
            "Epoch 7/20\n",
            "1719/1719 [==============================] - 5s 3ms/step - loss: 0.3677 - accuracy: 0.8702 - val_loss: 0.3682 - val_accuracy: 0.8748\n",
            "Epoch 8/20\n",
            "1719/1719 [==============================] - 5s 3ms/step - loss: 0.3574 - accuracy: 0.8728 - val_loss: 0.3765 - val_accuracy: 0.8688\n",
            "Epoch 9/20\n",
            "1719/1719 [==============================] - 5s 3ms/step - loss: 0.3467 - accuracy: 0.8773 - val_loss: 0.3723 - val_accuracy: 0.8682\n",
            "Epoch 10/20\n",
            "1719/1719 [==============================] - 5s 3ms/step - loss: 0.3368 - accuracy: 0.8799 - val_loss: 0.3582 - val_accuracy: 0.8750\n",
            "Epoch 11/20\n",
            "1719/1719 [==============================] - 5s 3ms/step - loss: 0.3291 - accuracy: 0.8821 - val_loss: 0.3522 - val_accuracy: 0.8756\n",
            "Epoch 12/20\n",
            "1719/1719 [==============================] - 5s 3ms/step - loss: 0.3210 - accuracy: 0.8849 - val_loss: 0.3412 - val_accuracy: 0.8770\n",
            "Epoch 13/20\n",
            "1719/1719 [==============================] - 5s 3ms/step - loss: 0.3120 - accuracy: 0.8882 - val_loss: 0.3466 - val_accuracy: 0.8770\n",
            "Epoch 14/20\n",
            "1719/1719 [==============================] - 6s 3ms/step - loss: 0.3058 - accuracy: 0.8898 - val_loss: 0.3254 - val_accuracy: 0.8830\n",
            "Epoch 15/20\n",
            "1719/1719 [==============================] - 5s 3ms/step - loss: 0.2998 - accuracy: 0.8927 - val_loss: 0.3302 - val_accuracy: 0.8818\n",
            "Epoch 16/20\n",
            "1719/1719 [==============================] - 5s 3ms/step - loss: 0.2937 - accuracy: 0.8946 - val_loss: 0.3333 - val_accuracy: 0.8790\n",
            "Epoch 17/20\n",
            "1719/1719 [==============================] - 5s 3ms/step - loss: 0.2876 - accuracy: 0.8970 - val_loss: 0.3266 - val_accuracy: 0.8844\n",
            "Epoch 18/20\n",
            "1719/1719 [==============================] - 5s 3ms/step - loss: 0.2827 - accuracy: 0.8982 - val_loss: 0.3158 - val_accuracy: 0.8838\n",
            "Epoch 19/20\n",
            "1719/1719 [==============================] - 5s 3ms/step - loss: 0.2776 - accuracy: 0.8999 - val_loss: 0.3136 - val_accuracy: 0.8878\n",
            "Epoch 20/20\n",
            "1719/1719 [==============================] - 5s 3ms/step - loss: 0.2714 - accuracy: 0.9016 - val_loss: 0.3215 - val_accuracy: 0.8858\n"
          ],
          "name": "stdout"
        }
      ]
    },
    {
      "cell_type": "markdown",
      "metadata": {
        "id": "-4_yg5MrIWLR"
      },
      "source": [
        "¡Y eso es todo! La red neuronal está entrenada. En cada época durante el entrenamiento, Keras muestra el número de instancias procesadas hasta el momento (junto con una barra de progreso), el tiempo medio de entrenamiento, la pérdida (loss) y la precisión (accuracy), ambas calculadas en el conjunto de entrenamiento y el conjunto de validación.\n",
        "\n",
        "El método `fit()` devuelve un objeto \"History\" que contiene los parámetros de entrenamiento (history.params), la lista de épocas por las que pasó (history.epoch) y, lo más importante, un diccionario (history.history) que contiene el *loss* y las métricas adicionales que midió al final de cada época en el conjunto de entrenamiento y en el conjunto de validación (si corresponde). \n",
        "\n",
        "Visualiza las curvas de aprendizaje guardadas en la variable `history` (creada anteriormente)."
      ]
    },
    {
      "cell_type": "code",
      "metadata": {
        "id": "52WttEpwG54_",
        "colab": {
          "base_uri": "https://localhost:8080/",
          "height": 195
        },
        "outputId": "3db2194f-55da-408f-ffa2-b0f86df695ee"
      },
      "source": [
        "import pandas as pd\n",
        "df = pd.DataFrame(history.history)\n",
        "df.head()"
      ],
      "execution_count": 71,
      "outputs": [
        {
          "output_type": "error",
          "ename": "NameError",
          "evalue": "ignored",
          "traceback": [
            "\u001b[0;31m---------------------------------------------------------------------------\u001b[0m",
            "\u001b[0;31mNameError\u001b[0m                                 Traceback (most recent call last)",
            "\u001b[0;32m<ipython-input-71-f7608e316f7e>\u001b[0m in \u001b[0;36m<module>\u001b[0;34m()\u001b[0m\n\u001b[1;32m      1\u001b[0m \u001b[0;32mimport\u001b[0m \u001b[0mpandas\u001b[0m \u001b[0;32mas\u001b[0m \u001b[0mpd\u001b[0m\u001b[0;34m\u001b[0m\u001b[0;34m\u001b[0m\u001b[0m\n\u001b[0;32m----> 2\u001b[0;31m \u001b[0mdf\u001b[0m \u001b[0;34m=\u001b[0m \u001b[0mpd\u001b[0m\u001b[0;34m.\u001b[0m\u001b[0mDataFrame\u001b[0m\u001b[0;34m(\u001b[0m\u001b[0mhistory\u001b[0m\u001b[0;34m.\u001b[0m\u001b[0mhistory\u001b[0m\u001b[0;34m)\u001b[0m\u001b[0;34m\u001b[0m\u001b[0;34m\u001b[0m\u001b[0m\n\u001b[0m\u001b[1;32m      3\u001b[0m \u001b[0mdf\u001b[0m\u001b[0;34m.\u001b[0m\u001b[0mhead\u001b[0m\u001b[0;34m(\u001b[0m\u001b[0;34m)\u001b[0m\u001b[0;34m\u001b[0m\u001b[0;34m\u001b[0m\u001b[0m\n",
            "\u001b[0;31mNameError\u001b[0m: name 'history' is not defined"
          ]
        }
      ]
    },
    {
      "cell_type": "code",
      "metadata": {
        "id": "KYZ7lfbOJ5C6",
        "colab": {
          "base_uri": "https://localhost:8080/",
          "height": 204
        },
        "outputId": "117973a8-19a0-4133-cd83-4ff0efcf8f7b"
      },
      "source": [
        ""
      ],
      "execution_count": null,
      "outputs": [
        {
          "output_type": "execute_result",
          "data": {
            "text/html": [
              "<div>\n",
              "<style scoped>\n",
              "    .dataframe tbody tr th:only-of-type {\n",
              "        vertical-align: middle;\n",
              "    }\n",
              "\n",
              "    .dataframe tbody tr th {\n",
              "        vertical-align: top;\n",
              "    }\n",
              "\n",
              "    .dataframe thead th {\n",
              "        text-align: right;\n",
              "    }\n",
              "</style>\n",
              "<table border=\"1\" class=\"dataframe\">\n",
              "  <thead>\n",
              "    <tr style=\"text-align: right;\">\n",
              "      <th></th>\n",
              "      <th>loss</th>\n",
              "      <th>accuracy</th>\n",
              "      <th>val_loss</th>\n",
              "      <th>val_accuracy</th>\n",
              "    </tr>\n",
              "  </thead>\n",
              "  <tbody>\n",
              "    <tr>\n",
              "      <th>0</th>\n",
              "      <td>0.720276</td>\n",
              "      <td>0.765618</td>\n",
              "      <td>0.515778</td>\n",
              "      <td>0.8256</td>\n",
              "    </tr>\n",
              "    <tr>\n",
              "      <th>1</th>\n",
              "      <td>0.489612</td>\n",
              "      <td>0.827473</td>\n",
              "      <td>0.463811</td>\n",
              "      <td>0.8378</td>\n",
              "    </tr>\n",
              "    <tr>\n",
              "      <th>2</th>\n",
              "      <td>0.445222</td>\n",
              "      <td>0.843291</td>\n",
              "      <td>0.416071</td>\n",
              "      <td>0.8592</td>\n",
              "    </tr>\n",
              "    <tr>\n",
              "      <th>3</th>\n",
              "      <td>0.419063</td>\n",
              "      <td>0.852000</td>\n",
              "      <td>0.445251</td>\n",
              "      <td>0.8428</td>\n",
              "    </tr>\n",
              "    <tr>\n",
              "      <th>4</th>\n",
              "      <td>0.397743</td>\n",
              "      <td>0.859800</td>\n",
              "      <td>0.384666</td>\n",
              "      <td>0.8654</td>\n",
              "    </tr>\n",
              "  </tbody>\n",
              "</table>\n",
              "</div>"
            ],
            "text/plain": [
              "       loss  accuracy  val_loss  val_accuracy\n",
              "0  0.720276  0.765618  0.515778        0.8256\n",
              "1  0.489612  0.827473  0.463811        0.8378\n",
              "2  0.445222  0.843291  0.416071        0.8592\n",
              "3  0.419063  0.852000  0.445251        0.8428\n",
              "4  0.397743  0.859800  0.384666        0.8654"
            ]
          },
          "metadata": {
            "tags": []
          },
          "execution_count": 24
        }
      ]
    },
    {
      "cell_type": "markdown",
      "metadata": {
        "id": "4oXV4x4l-kFL"
      },
      "source": [
        ""
      ]
    },
    {
      "cell_type": "code",
      "metadata": {
        "colab": {
          "base_uri": "https://localhost:8080/",
          "height": 162
        },
        "id": "wf8j8Cju-keF",
        "outputId": "71b883aa-1fe3-488f-f8b4-5bc790be328f"
      },
      "source": [
        "df.plot(figsize=(8,5))"
      ],
      "execution_count": 72,
      "outputs": [
        {
          "output_type": "error",
          "ename": "NameError",
          "evalue": "ignored",
          "traceback": [
            "\u001b[0;31m---------------------------------------------------------------------------\u001b[0m",
            "\u001b[0;31mNameError\u001b[0m                                 Traceback (most recent call last)",
            "\u001b[0;32m<ipython-input-72-1f54ae9d4e99>\u001b[0m in \u001b[0;36m<module>\u001b[0;34m()\u001b[0m\n\u001b[0;32m----> 1\u001b[0;31m \u001b[0mdf\u001b[0m\u001b[0;34m.\u001b[0m\u001b[0mplot\u001b[0m\u001b[0;34m(\u001b[0m\u001b[0mfigsize\u001b[0m\u001b[0;34m=\u001b[0m\u001b[0;34m(\u001b[0m\u001b[0;36m8\u001b[0m\u001b[0;34m,\u001b[0m\u001b[0;36m5\u001b[0m\u001b[0;34m)\u001b[0m\u001b[0;34m)\u001b[0m\u001b[0;34m\u001b[0m\u001b[0;34m\u001b[0m\u001b[0m\n\u001b[0m",
            "\u001b[0;31mNameError\u001b[0m: name 'df' is not defined"
          ]
        }
      ]
    },
    {
      "cell_type": "code",
      "metadata": {
        "id": "WBl4b8vx-kpB"
      },
      "source": [
        ""
      ],
      "execution_count": null,
      "outputs": []
    },
    {
      "cell_type": "code",
      "metadata": {
        "id": "iZ__dzEIJ6V6",
        "colab": {
          "base_uri": "https://localhost:8080/",
          "height": 337
        },
        "outputId": "7336bf1b-9c35-484f-e137-4af975a2e405"
      },
      "source": [
        ""
      ],
      "execution_count": null,
      "outputs": [
        {
          "output_type": "execute_result",
          "data": {
            "text/plain": [
              "<matplotlib.axes._subplots.AxesSubplot at 0x7fd183efab00>"
            ]
          },
          "metadata": {
            "tags": []
          },
          "execution_count": 25
        },
        {
          "output_type": "display_data",
          "data": {
            "image/png": "[encoded data removed]",
            "text/plain": [
              "<Figure size 576x360 with 1 Axes>"
            ]
          },
          "metadata": {
            "tags": [],
            "needs_background": "light"
          }
        }
      ]
    },
    {
      "cell_type": "code",
      "metadata": {
        "id": "7jzKQpRl-i3R"
      },
      "source": [
        ""
      ],
      "execution_count": null,
      "outputs": []
    },
    {
      "cell_type": "markdown",
      "metadata": {
        "id": "cThjfX67LHeP"
      },
      "source": [
        "Se puede ver que tanto la precisión de entrenamiento como la de validación aumentan constantemente durante el entrenamiento, mientras que el *loss* de entrenamiento y validación disminuye. Ademas , las curvas de validación están bastante cerca de las curvas de entrenamiento, lo que significa que no hay demasiado sobreajuste (overfitting).\n",
        "\n",
        "Ahora usemos el modelo ya entrenado sobre nuestros datos de prueba (X_test)."
      ]
    },
    {
      "cell_type": "code",
      "metadata": {
        "colab": {
          "base_uri": "https://localhost:8080/",
          "height": 1000
        },
        "id": "RJ8Vjhn7_dd4",
        "outputId": "629d4049-4a09-4204-f24d-6097a1a99297"
      },
      "source": [
        "model.evaluate(X_test, y_test)"
      ],
      "execution_count": 83,
      "outputs": [
        {
          "output_type": "error",
          "ename": "ValueError",
          "evalue": "ignored",
          "traceback": [
            "\u001b[0;31m---------------------------------------------------------------------------\u001b[0m",
            "\u001b[0;31mValueError\u001b[0m                                Traceback (most recent call last)",
            "\u001b[0;32m<ipython-input-83-acc519fcce62>\u001b[0m in \u001b[0;36m<module>\u001b[0;34m()\u001b[0m\n\u001b[0;32m----> 1\u001b[0;31m \u001b[0mmodel\u001b[0m\u001b[0;34m.\u001b[0m\u001b[0mevaluate\u001b[0m\u001b[0;34m(\u001b[0m\u001b[0mX_test\u001b[0m\u001b[0;34m,\u001b[0m \u001b[0my_test\u001b[0m\u001b[0;34m)\u001b[0m\u001b[0;34m\u001b[0m\u001b[0;34m\u001b[0m\u001b[0m\n\u001b[0m",
            "\u001b[0;32m/usr/local/lib/python3.7/dist-packages/keras/engine/training.py\u001b[0m in \u001b[0;36mevaluate\u001b[0;34m(self, x, y, batch_size, verbose, sample_weight, steps, callbacks, max_queue_size, workers, use_multiprocessing, return_dict, **kwargs)\u001b[0m\n\u001b[1;32m   1499\u001b[0m             \u001b[0;32mwith\u001b[0m \u001b[0mtf\u001b[0m\u001b[0;34m.\u001b[0m\u001b[0mprofiler\u001b[0m\u001b[0;34m.\u001b[0m\u001b[0mexperimental\u001b[0m\u001b[0;34m.\u001b[0m\u001b[0mTrace\u001b[0m\u001b[0;34m(\u001b[0m\u001b[0;34m'test'\u001b[0m\u001b[0;34m,\u001b[0m \u001b[0mstep_num\u001b[0m\u001b[0;34m=\u001b[0m\u001b[0mstep\u001b[0m\u001b[0;34m,\u001b[0m \u001b[0m_r\u001b[0m\u001b[0;34m=\u001b[0m\u001b[0;36m1\u001b[0m\u001b[0;34m)\u001b[0m\u001b[0;34m:\u001b[0m\u001b[0;34m\u001b[0m\u001b[0;34m\u001b[0m\u001b[0m\n\u001b[1;32m   1500\u001b[0m               \u001b[0mcallbacks\u001b[0m\u001b[0;34m.\u001b[0m\u001b[0mon_test_batch_begin\u001b[0m\u001b[0;34m(\u001b[0m\u001b[0mstep\u001b[0m\u001b[0;34m)\u001b[0m\u001b[0;34m\u001b[0m\u001b[0;34m\u001b[0m\u001b[0m\n\u001b[0;32m-> 1501\u001b[0;31m               \u001b[0mtmp_logs\u001b[0m \u001b[0;34m=\u001b[0m \u001b[0mself\u001b[0m\u001b[0;34m.\u001b[0m\u001b[0mtest_function\u001b[0m\u001b[0;34m(\u001b[0m\u001b[0miterator\u001b[0m\u001b[0;34m)\u001b[0m\u001b[0;34m\u001b[0m\u001b[0;34m\u001b[0m\u001b[0m\n\u001b[0m\u001b[1;32m   1502\u001b[0m               \u001b[0;32mif\u001b[0m \u001b[0mdata_handler\u001b[0m\u001b[0;34m.\u001b[0m\u001b[0mshould_sync\u001b[0m\u001b[0;34m:\u001b[0m\u001b[0;34m\u001b[0m\u001b[0;34m\u001b[0m\u001b[0m\n\u001b[1;32m   1503\u001b[0m                 \u001b[0mcontext\u001b[0m\u001b[0;34m.\u001b[0m\u001b[0masync_wait\u001b[0m\u001b[0;34m(\u001b[0m\u001b[0;34m)\u001b[0m\u001b[0;34m\u001b[0m\u001b[0;34m\u001b[0m\u001b[0m\n",
            "\u001b[0;32m/usr/local/lib/python3.7/dist-packages/tensorflow/python/eager/def_function.py\u001b[0m in \u001b[0;36m__call__\u001b[0;34m(self, *args, **kwds)\u001b[0m\n\u001b[1;32m    883\u001b[0m \u001b[0;34m\u001b[0m\u001b[0m\n\u001b[1;32m    884\u001b[0m       \u001b[0;32mwith\u001b[0m \u001b[0mOptionalXlaContext\u001b[0m\u001b[0;34m(\u001b[0m\u001b[0mself\u001b[0m\u001b[0;34m.\u001b[0m\u001b[0m_jit_compile\u001b[0m\u001b[0;34m)\u001b[0m\u001b[0;34m:\u001b[0m\u001b[0;34m\u001b[0m\u001b[0;34m\u001b[0m\u001b[0m\n\u001b[0;32m--> 885\u001b[0;31m         \u001b[0mresult\u001b[0m \u001b[0;34m=\u001b[0m \u001b[0mself\u001b[0m\u001b[0;34m.\u001b[0m\u001b[0m_call\u001b[0m\u001b[0;34m(\u001b[0m\u001b[0;34m*\u001b[0m\u001b[0margs\u001b[0m\u001b[0;34m,\u001b[0m \u001b[0;34m**\u001b[0m\u001b[0mkwds\u001b[0m\u001b[0;34m)\u001b[0m\u001b[0;34m\u001b[0m\u001b[0;34m\u001b[0m\u001b[0m\n\u001b[0m\u001b[1;32m    886\u001b[0m \u001b[0;34m\u001b[0m\u001b[0m\n\u001b[1;32m    887\u001b[0m       \u001b[0mnew_tracing_count\u001b[0m \u001b[0;34m=\u001b[0m \u001b[0mself\u001b[0m\u001b[0;34m.\u001b[0m\u001b[0mexperimental_get_tracing_count\u001b[0m\u001b[0;34m(\u001b[0m\u001b[0;34m)\u001b[0m\u001b[0;34m\u001b[0m\u001b[0;34m\u001b[0m\u001b[0m\n",
            "\u001b[0;32m/usr/local/lib/python3.7/dist-packages/tensorflow/python/eager/def_function.py\u001b[0m in \u001b[0;36m_call\u001b[0;34m(self, *args, **kwds)\u001b[0m\n\u001b[1;32m    922\u001b[0m       \u001b[0;31m# In this case we have not created variables on the first call. So we can\u001b[0m\u001b[0;34m\u001b[0m\u001b[0;34m\u001b[0m\u001b[0;34m\u001b[0m\u001b[0m\n\u001b[1;32m    923\u001b[0m       \u001b[0;31m# run the first trace but we should fail if variables are created.\u001b[0m\u001b[0;34m\u001b[0m\u001b[0;34m\u001b[0m\u001b[0;34m\u001b[0m\u001b[0m\n\u001b[0;32m--> 924\u001b[0;31m       \u001b[0mresults\u001b[0m \u001b[0;34m=\u001b[0m \u001b[0mself\u001b[0m\u001b[0;34m.\u001b[0m\u001b[0m_stateful_fn\u001b[0m\u001b[0;34m(\u001b[0m\u001b[0;34m*\u001b[0m\u001b[0margs\u001b[0m\u001b[0;34m,\u001b[0m \u001b[0;34m**\u001b[0m\u001b[0mkwds\u001b[0m\u001b[0;34m)\u001b[0m\u001b[0;34m\u001b[0m\u001b[0;34m\u001b[0m\u001b[0m\n\u001b[0m\u001b[1;32m    925\u001b[0m       \u001b[0;32mif\u001b[0m \u001b[0mself\u001b[0m\u001b[0;34m.\u001b[0m\u001b[0m_created_variables\u001b[0m \u001b[0;32mand\u001b[0m \u001b[0;32mnot\u001b[0m \u001b[0mALLOW_DYNAMIC_VARIABLE_CREATION\u001b[0m\u001b[0;34m:\u001b[0m\u001b[0;34m\u001b[0m\u001b[0;34m\u001b[0m\u001b[0m\n\u001b[1;32m    926\u001b[0m         raise ValueError(\"Creating variables on a non-first call to a function\"\n",
            "\u001b[0;32m/usr/local/lib/python3.7/dist-packages/tensorflow/python/eager/function.py\u001b[0m in \u001b[0;36m__call__\u001b[0;34m(self, *args, **kwargs)\u001b[0m\n\u001b[1;32m   3036\u001b[0m     \u001b[0;32mwith\u001b[0m \u001b[0mself\u001b[0m\u001b[0;34m.\u001b[0m\u001b[0m_lock\u001b[0m\u001b[0;34m:\u001b[0m\u001b[0;34m\u001b[0m\u001b[0;34m\u001b[0m\u001b[0m\n\u001b[1;32m   3037\u001b[0m       (graph_function,\n\u001b[0;32m-> 3038\u001b[0;31m        filtered_flat_args) = self._maybe_define_function(args, kwargs)\n\u001b[0m\u001b[1;32m   3039\u001b[0m     return graph_function._call_flat(\n\u001b[1;32m   3040\u001b[0m         filtered_flat_args, captured_inputs=graph_function.captured_inputs)  # pylint: disable=protected-access\n",
            "\u001b[0;32m/usr/local/lib/python3.7/dist-packages/tensorflow/python/eager/function.py\u001b[0m in \u001b[0;36m_maybe_define_function\u001b[0;34m(self, args, kwargs)\u001b[0m\n\u001b[1;32m   3458\u001b[0m               call_context_key in self._function_cache.missed):\n\u001b[1;32m   3459\u001b[0m             return self._define_function_with_shape_relaxation(\n\u001b[0;32m-> 3460\u001b[0;31m                 args, kwargs, flat_args, filtered_flat_args, cache_key_context)\n\u001b[0m\u001b[1;32m   3461\u001b[0m \u001b[0;34m\u001b[0m\u001b[0m\n\u001b[1;32m   3462\u001b[0m           \u001b[0mself\u001b[0m\u001b[0;34m.\u001b[0m\u001b[0m_function_cache\u001b[0m\u001b[0;34m.\u001b[0m\u001b[0mmissed\u001b[0m\u001b[0;34m.\u001b[0m\u001b[0madd\u001b[0m\u001b[0;34m(\u001b[0m\u001b[0mcall_context_key\u001b[0m\u001b[0;34m)\u001b[0m\u001b[0;34m\u001b[0m\u001b[0;34m\u001b[0m\u001b[0m\n",
            "\u001b[0;32m/usr/local/lib/python3.7/dist-packages/tensorflow/python/eager/function.py\u001b[0m in \u001b[0;36m_define_function_with_shape_relaxation\u001b[0;34m(self, args, kwargs, flat_args, filtered_flat_args, cache_key_context)\u001b[0m\n\u001b[1;32m   3380\u001b[0m \u001b[0;34m\u001b[0m\u001b[0m\n\u001b[1;32m   3381\u001b[0m     graph_function = self._create_graph_function(\n\u001b[0;32m-> 3382\u001b[0;31m         args, kwargs, override_flat_arg_shapes=relaxed_arg_shapes)\n\u001b[0m\u001b[1;32m   3383\u001b[0m     \u001b[0mself\u001b[0m\u001b[0;34m.\u001b[0m\u001b[0m_function_cache\u001b[0m\u001b[0;34m.\u001b[0m\u001b[0marg_relaxed\u001b[0m\u001b[0;34m[\u001b[0m\u001b[0mrank_only_cache_key\u001b[0m\u001b[0;34m]\u001b[0m \u001b[0;34m=\u001b[0m \u001b[0mgraph_function\u001b[0m\u001b[0;34m\u001b[0m\u001b[0;34m\u001b[0m\u001b[0m\n\u001b[1;32m   3384\u001b[0m \u001b[0;34m\u001b[0m\u001b[0m\n",
            "\u001b[0;32m/usr/local/lib/python3.7/dist-packages/tensorflow/python/eager/function.py\u001b[0m in \u001b[0;36m_create_graph_function\u001b[0;34m(self, args, kwargs, override_flat_arg_shapes)\u001b[0m\n\u001b[1;32m   3306\u001b[0m             \u001b[0marg_names\u001b[0m\u001b[0;34m=\u001b[0m\u001b[0marg_names\u001b[0m\u001b[0;34m,\u001b[0m\u001b[0;34m\u001b[0m\u001b[0;34m\u001b[0m\u001b[0m\n\u001b[1;32m   3307\u001b[0m             \u001b[0moverride_flat_arg_shapes\u001b[0m\u001b[0;34m=\u001b[0m\u001b[0moverride_flat_arg_shapes\u001b[0m\u001b[0;34m,\u001b[0m\u001b[0;34m\u001b[0m\u001b[0;34m\u001b[0m\u001b[0m\n\u001b[0;32m-> 3308\u001b[0;31m             capture_by_value=self._capture_by_value),\n\u001b[0m\u001b[1;32m   3309\u001b[0m         \u001b[0mself\u001b[0m\u001b[0;34m.\u001b[0m\u001b[0m_function_attributes\u001b[0m\u001b[0;34m,\u001b[0m\u001b[0;34m\u001b[0m\u001b[0;34m\u001b[0m\u001b[0m\n\u001b[1;32m   3310\u001b[0m         \u001b[0mfunction_spec\u001b[0m\u001b[0;34m=\u001b[0m\u001b[0mself\u001b[0m\u001b[0;34m.\u001b[0m\u001b[0mfunction_spec\u001b[0m\u001b[0;34m,\u001b[0m\u001b[0;34m\u001b[0m\u001b[0;34m\u001b[0m\u001b[0m\n",
            "\u001b[0;32m/usr/local/lib/python3.7/dist-packages/tensorflow/python/framework/func_graph.py\u001b[0m in \u001b[0;36mfunc_graph_from_py_func\u001b[0;34m(name, python_func, args, kwargs, signature, func_graph, autograph, autograph_options, add_control_dependencies, arg_names, op_return_value, collections, capture_by_value, override_flat_arg_shapes, acd_record_initial_resource_uses)\u001b[0m\n\u001b[1;32m   1005\u001b[0m         \u001b[0m_\u001b[0m\u001b[0;34m,\u001b[0m \u001b[0moriginal_func\u001b[0m \u001b[0;34m=\u001b[0m \u001b[0mtf_decorator\u001b[0m\u001b[0;34m.\u001b[0m\u001b[0munwrap\u001b[0m\u001b[0;34m(\u001b[0m\u001b[0mpython_func\u001b[0m\u001b[0;34m)\u001b[0m\u001b[0;34m\u001b[0m\u001b[0;34m\u001b[0m\u001b[0m\n\u001b[1;32m   1006\u001b[0m \u001b[0;34m\u001b[0m\u001b[0m\n\u001b[0;32m-> 1007\u001b[0;31m       \u001b[0mfunc_outputs\u001b[0m \u001b[0;34m=\u001b[0m \u001b[0mpython_func\u001b[0m\u001b[0;34m(\u001b[0m\u001b[0;34m*\u001b[0m\u001b[0mfunc_args\u001b[0m\u001b[0;34m,\u001b[0m \u001b[0;34m**\u001b[0m\u001b[0mfunc_kwargs\u001b[0m\u001b[0;34m)\u001b[0m\u001b[0;34m\u001b[0m\u001b[0;34m\u001b[0m\u001b[0m\n\u001b[0m\u001b[1;32m   1008\u001b[0m \u001b[0;34m\u001b[0m\u001b[0m\n\u001b[1;32m   1009\u001b[0m       \u001b[0;31m# invariant: `func_outputs` contains only Tensors, CompositeTensors,\u001b[0m\u001b[0;34m\u001b[0m\u001b[0;34m\u001b[0m\u001b[0;34m\u001b[0m\u001b[0m\n",
            "\u001b[0;32m/usr/local/lib/python3.7/dist-packages/tensorflow/python/eager/def_function.py\u001b[0m in \u001b[0;36mwrapped_fn\u001b[0;34m(*args, **kwds)\u001b[0m\n\u001b[1;32m    666\u001b[0m         \u001b[0;31m# the function a weak reference to itself to avoid a reference cycle.\u001b[0m\u001b[0;34m\u001b[0m\u001b[0;34m\u001b[0m\u001b[0;34m\u001b[0m\u001b[0m\n\u001b[1;32m    667\u001b[0m         \u001b[0;32mwith\u001b[0m \u001b[0mOptionalXlaContext\u001b[0m\u001b[0;34m(\u001b[0m\u001b[0mcompile_with_xla\u001b[0m\u001b[0;34m)\u001b[0m\u001b[0;34m:\u001b[0m\u001b[0;34m\u001b[0m\u001b[0;34m\u001b[0m\u001b[0m\n\u001b[0;32m--> 668\u001b[0;31m           \u001b[0mout\u001b[0m \u001b[0;34m=\u001b[0m \u001b[0mweak_wrapped_fn\u001b[0m\u001b[0;34m(\u001b[0m\u001b[0;34m)\u001b[0m\u001b[0;34m.\u001b[0m\u001b[0m__wrapped__\u001b[0m\u001b[0;34m(\u001b[0m\u001b[0;34m*\u001b[0m\u001b[0margs\u001b[0m\u001b[0;34m,\u001b[0m \u001b[0;34m**\u001b[0m\u001b[0mkwds\u001b[0m\u001b[0;34m)\u001b[0m\u001b[0;34m\u001b[0m\u001b[0;34m\u001b[0m\u001b[0m\n\u001b[0m\u001b[1;32m    669\u001b[0m         \u001b[0;32mreturn\u001b[0m \u001b[0mout\u001b[0m\u001b[0;34m\u001b[0m\u001b[0;34m\u001b[0m\u001b[0m\n\u001b[1;32m    670\u001b[0m \u001b[0;34m\u001b[0m\u001b[0m\n",
            "\u001b[0;32m/usr/local/lib/python3.7/dist-packages/tensorflow/python/framework/func_graph.py\u001b[0m in \u001b[0;36mwrapper\u001b[0;34m(*args, **kwargs)\u001b[0m\n\u001b[1;32m    992\u001b[0m           \u001b[0;32mexcept\u001b[0m \u001b[0mException\u001b[0m \u001b[0;32mas\u001b[0m \u001b[0me\u001b[0m\u001b[0;34m:\u001b[0m  \u001b[0;31m# pylint:disable=broad-except\u001b[0m\u001b[0;34m\u001b[0m\u001b[0;34m\u001b[0m\u001b[0m\n\u001b[1;32m    993\u001b[0m             \u001b[0;32mif\u001b[0m \u001b[0mhasattr\u001b[0m\u001b[0;34m(\u001b[0m\u001b[0me\u001b[0m\u001b[0;34m,\u001b[0m \u001b[0;34m\"ag_error_metadata\"\u001b[0m\u001b[0;34m)\u001b[0m\u001b[0;34m:\u001b[0m\u001b[0;34m\u001b[0m\u001b[0;34m\u001b[0m\u001b[0m\n\u001b[0;32m--> 994\u001b[0;31m               \u001b[0;32mraise\u001b[0m \u001b[0me\u001b[0m\u001b[0;34m.\u001b[0m\u001b[0mag_error_metadata\u001b[0m\u001b[0;34m.\u001b[0m\u001b[0mto_exception\u001b[0m\u001b[0;34m(\u001b[0m\u001b[0me\u001b[0m\u001b[0;34m)\u001b[0m\u001b[0;34m\u001b[0m\u001b[0;34m\u001b[0m\u001b[0m\n\u001b[0m\u001b[1;32m    995\u001b[0m             \u001b[0;32melse\u001b[0m\u001b[0;34m:\u001b[0m\u001b[0;34m\u001b[0m\u001b[0;34m\u001b[0m\u001b[0m\n\u001b[1;32m    996\u001b[0m               \u001b[0;32mraise\u001b[0m\u001b[0;34m\u001b[0m\u001b[0;34m\u001b[0m\u001b[0m\n",
            "\u001b[0;31mValueError\u001b[0m: in user code:\n\n    /usr/local/lib/python3.7/dist-packages/keras/engine/training.py:1330 test_function  *\n        return step_function(self, iterator)\n    /usr/local/lib/python3.7/dist-packages/keras/engine/training.py:1320 step_function  **\n        outputs = model.distribute_strategy.run(run_step, args=(data,))\n    /usr/local/lib/python3.7/dist-packages/tensorflow/python/distribute/distribute_lib.py:1286 run\n        return self._extended.call_for_each_replica(fn, args=args, kwargs=kwargs)\n    /usr/local/lib/python3.7/dist-packages/tensorflow/python/distribute/distribute_lib.py:2849 call_for_each_replica\n        return self._call_for_each_replica(fn, args, kwargs)\n    /usr/local/lib/python3.7/dist-packages/tensorflow/python/distribute/distribute_lib.py:3632 _call_for_each_replica\n        return fn(*args, **kwargs)\n    /usr/local/lib/python3.7/dist-packages/keras/engine/training.py:1313 run_step  **\n        outputs = model.test_step(data)\n    /usr/local/lib/python3.7/dist-packages/keras/engine/training.py:1270 test_step\n        y, y_pred, sample_weight, regularization_losses=self.losses)\n    /usr/local/lib/python3.7/dist-packages/keras/engine/compile_utils.py:184 __call__\n        self.build(y_pred)\n    /usr/local/lib/python3.7/dist-packages/keras/engine/compile_utils.py:133 build\n        self._losses = tf.nest.map_structure(self._get_loss_object, self._losses)\n    /usr/local/lib/python3.7/dist-packages/tensorflow/python/util/nest.py:869 map_structure\n        structure[0], [func(*x) for x in entries],\n    /usr/local/lib/python3.7/dist-packages/tensorflow/python/util/nest.py:869 <listcomp>\n        structure[0], [func(*x) for x in entries],\n    /usr/local/lib/python3.7/dist-packages/keras/engine/compile_utils.py:273 _get_loss_object\n        loss = losses_mod.get(loss)\n    /usr/local/lib/python3.7/dist-packages/keras/losses.py:2136 get\n        return deserialize(identifier)\n    /usr/local/lib/python3.7/dist-packages/keras/losses.py:2095 deserialize\n        printable_module_name='loss function')\n    /usr/local/lib/python3.7/dist-packages/keras/utils/generic_utils.py:709 deserialize_keras_object\n        .format(printable_module_name, object_name))\n\n    ValueError: Unknown loss function: sparse_categorycal_crossentropy. Please ensure this object is passed to the `custom_objects` argument. See https://www.tensorflow.org/guide/keras/save_and_serialize#registering_the_custom_object for details.\n"
          ]
        }
      ]
    },
    {
      "cell_type": "code",
      "metadata": {
        "id": "KN71bQZOJ83U",
        "colab": {
          "base_uri": "https://localhost:8080/",
          "height": 51
        },
        "outputId": "ef32087f-02db-4bd9-a637-c56b034b00ef"
      },
      "source": [
        ""
      ],
      "execution_count": null,
      "outputs": [
        {
          "output_type": "stream",
          "text": [
            "313/313 [==============================] - 1s 2ms/step - loss: 0.3526 - accuracy: 0.8740\n"
          ],
          "name": "stdout"
        },
        {
          "output_type": "execute_result",
          "data": {
            "text/plain": [
              "[0.3526138663291931, 0.8740000128746033]"
            ]
          },
          "metadata": {
            "tags": []
          },
          "execution_count": 26
        }
      ]
    },
    {
      "cell_type": "markdown",
      "metadata": {
        "id": "e4Wa6T_POcT2"
      },
      "source": [
        "## Usando el modelo para hacer predicciones\n",
        "\n",
        "Ahora, podemos usar el método `predict()` para hacer predicciones sobre nuevas instancias. Como no tenemos instancias nuevas reales, solo usaremos las primeras 3 instancias del conjunto de test:"
      ]
    },
    {
      "cell_type": "code",
      "metadata": {
        "colab": {
          "base_uri": "https://localhost:8080/"
        },
        "id": "tkKjqcduAi6x",
        "outputId": "28363eb3-07ba-4e95-b77b-1e0d7b438c7d"
      },
      "source": [
        "X_new = X_test[:3]\n",
        "y_proba = model.predict(X_new)\n",
        "y_proba.round(2) #2 decimales\n",
        "#intepreto que cada dila esuna imagen i cada col una imagen, prob de cada imagen"
      ],
      "execution_count": 105,
      "outputs": [
        {
          "output_type": "execute_result",
          "data": {
            "text/plain": [
              "array([[0.07, 0.12, 0.09, 0.11, 0.07, 0.16, 0.1 , 0.1 , 0.09, 0.1 ],\n",
              "       [0.06, 0.09, 0.09, 0.14, 0.06, 0.15, 0.07, 0.14, 0.16, 0.05],\n",
              "       [0.08, 0.15, 0.12, 0.14, 0.05, 0.12, 0.07, 0.13, 0.09, 0.04]],\n",
              "      dtype=float32)"
            ]
          },
          "metadata": {},
          "execution_count": 105
        }
      ]
    },
    {
      "cell_type": "code",
      "metadata": {
        "id": "2qt8Ros2OUNi",
        "colab": {
          "base_uri": "https://localhost:8080/",
          "height": 85
        },
        "outputId": "d8dff5de-1f5e-459e-fbcd-fe49807a97a2"
      },
      "source": [
        ""
      ],
      "execution_count": null,
      "outputs": [
        {
          "output_type": "execute_result",
          "data": {
            "text/plain": [
              "array([[0.1 , 0.02, 0.07, 0.14, 0.01, 0.39, 0.12, 0.1 , 0.03, 0.01],\n",
              "       [0.11, 0.02, 0.07, 0.14, 0.02, 0.36, 0.13, 0.1 , 0.03, 0.01],\n",
              "       [0.11, 0.03, 0.07, 0.15, 0.01, 0.36, 0.13, 0.1 , 0.03, 0.01]],\n",
              "      dtype=float32)"
            ]
          },
          "metadata": {
            "tags": []
          },
          "execution_count": 45
        }
      ]
    },
    {
      "cell_type": "markdown",
      "metadata": {
        "id": "3KUjmrVsPLhS"
      },
      "source": [
        "¿Cómo interpretas las salida devuelta al predecir? A continuación utiliza la función `np.argmax` y obtén la clase predicha mediante el vector `class_names` calculado anteriormente."
      ]
    },
    {
      "cell_type": "code",
      "metadata": {
        "colab": {
          "base_uri": "https://localhost:8080/"
        },
        "id": "5Ibmi-kWCKwg",
        "outputId": "371924d0-e59f-4f81-893f-fca24399dd72"
      },
      "source": [
        "y_pred = np.argmax(y_proba, axis = 1)\n",
        "y_pred #indices de las clases\n",
        "\n",
        "class_names[y_pred]"
      ],
      "execution_count": 108,
      "outputs": [
        {
          "output_type": "execute_result",
          "data": {
            "text/plain": [
              "array([5, 8, 1])"
            ]
          },
          "metadata": {},
          "execution_count": 108
        }
      ]
    },
    {
      "cell_type": "markdown",
      "metadata": {
        "id": "k0g3v_dvZXVP"
      },
      "source": [
        "Representa visualmente los datos de entrada para comprobar que las predicciones son correcta."
      ]
    },
    {
      "cell_type": "code",
      "metadata": {
        "colab": {
          "base_uri": "https://localhost:8080/"
        },
        "id": "A6OJGtixBsZZ",
        "outputId": "a9cb2217-8978-4476-c818-67ca9bc3d5c7"
      },
      "source": [
        ""
      ],
      "execution_count": 107,
      "outputs": [
        {
          "output_type": "execute_result",
          "data": {
            "text/plain": [
              "array([5, 8, 1])"
            ]
          },
          "metadata": {},
          "execution_count": 107
        }
      ]
    },
    {
      "cell_type": "code",
      "metadata": {
        "id": "DzpyRq4BPs9Q",
        "colab": {
          "base_uri": "https://localhost:8080/",
          "height": 246
        },
        "outputId": "49abac50-b9d5-48d3-b33c-aee8b5f06b61"
      },
      "source": [
        "plt.figure(figsize=(7,3))\n",
        "for index, image in enumerates(X_new):\n",
        "  plot.subplots(1,3, index+1)\n",
        "  plt.imsbow(image, cmap='binary')\n",
        "  plt.axis('off')\n",
        "  plt.title(f'y test: {class_names[y_test[index]]}, y_pred: {class_names[y_pred[index]]}, ')"
      ],
      "execution_count": 111,
      "outputs": [
        {
          "output_type": "error",
          "ename": "NameError",
          "evalue": "ignored",
          "traceback": [
            "\u001b[0;31m---------------------------------------------------------------------------\u001b[0m",
            "\u001b[0;31mNameError\u001b[0m                                 Traceback (most recent call last)",
            "\u001b[0;32m<ipython-input-111-c34cfb2474b9>\u001b[0m in \u001b[0;36m<module>\u001b[0;34m()\u001b[0m\n\u001b[1;32m      1\u001b[0m \u001b[0mplt\u001b[0m\u001b[0;34m.\u001b[0m\u001b[0mfigure\u001b[0m\u001b[0;34m(\u001b[0m\u001b[0mfigsize\u001b[0m\u001b[0;34m=\u001b[0m\u001b[0;34m(\u001b[0m\u001b[0;36m7\u001b[0m\u001b[0;34m,\u001b[0m\u001b[0;36m3\u001b[0m\u001b[0;34m)\u001b[0m\u001b[0;34m)\u001b[0m\u001b[0;34m\u001b[0m\u001b[0;34m\u001b[0m\u001b[0m\n\u001b[0;32m----> 2\u001b[0;31m \u001b[0;32mfor\u001b[0m \u001b[0mindex\u001b[0m\u001b[0;34m,\u001b[0m \u001b[0mimage\u001b[0m \u001b[0;32min\u001b[0m \u001b[0menumerates\u001b[0m\u001b[0;34m(\u001b[0m\u001b[0mX_new\u001b[0m\u001b[0;34m)\u001b[0m\u001b[0;34m:\u001b[0m\u001b[0;34m\u001b[0m\u001b[0;34m\u001b[0m\u001b[0m\n\u001b[0m\u001b[1;32m      3\u001b[0m   \u001b[0mplot\u001b[0m\u001b[0;34m.\u001b[0m\u001b[0msubplots\u001b[0m\u001b[0;34m(\u001b[0m\u001b[0;36m1\u001b[0m\u001b[0;34m,\u001b[0m\u001b[0;36m3\u001b[0m\u001b[0;34m,\u001b[0m \u001b[0mindex\u001b[0m\u001b[0;34m+\u001b[0m\u001b[0;36m1\u001b[0m\u001b[0;34m)\u001b[0m\u001b[0;34m\u001b[0m\u001b[0;34m\u001b[0m\u001b[0m\n\u001b[1;32m      4\u001b[0m   \u001b[0mplt\u001b[0m\u001b[0;34m.\u001b[0m\u001b[0mimsbow\u001b[0m\u001b[0;34m(\u001b[0m\u001b[0mimage\u001b[0m\u001b[0;34m,\u001b[0m \u001b[0mcmap\u001b[0m\u001b[0;34m=\u001b[0m\u001b[0;34m'binary'\u001b[0m\u001b[0;34m)\u001b[0m\u001b[0;34m\u001b[0m\u001b[0;34m\u001b[0m\u001b[0m\n\u001b[1;32m      5\u001b[0m   \u001b[0mplt\u001b[0m\u001b[0;34m.\u001b[0m\u001b[0maxis\u001b[0m\u001b[0;34m(\u001b[0m\u001b[0;34m'off'\u001b[0m\u001b[0;34m)\u001b[0m\u001b[0;34m\u001b[0m\u001b[0;34m\u001b[0m\u001b[0m\n",
            "\u001b[0;31mNameError\u001b[0m: name 'enumerates' is not defined"
          ]
        },
        {
          "output_type": "display_data",
          "data": {
            "text/plain": [
              "<Figure size 504x216 with 0 Axes>"
            ]
          },
          "metadata": {}
        }
      ]
    },
    {
      "cell_type": "code",
      "metadata": {
        "id": "ZU7xFIrOD2Xu"
      },
      "source": [
        ""
      ],
      "execution_count": null,
      "outputs": []
    },
    {
      "cell_type": "markdown",
      "metadata": {
        "id": "j3HMj-RyFIfv"
      },
      "source": [
        "![image.png](data:image/png;base64,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)"
      ]
    },
    {
      "cell_type": "code",
      "metadata": {
        "id": "Rpix0M0kFJL2"
      },
      "source": [
        ""
      ],
      "execution_count": null,
      "outputs": []
    }
  ]
}