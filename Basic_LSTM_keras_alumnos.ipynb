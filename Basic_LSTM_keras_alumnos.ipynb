{
  "cells": [
    {
      "cell_type": "markdown",
      "metadata": {
        "id": "view-in-github",
        "colab_type": "text"
      },
      "source": [
        "<a href=\"https://colab.research.google.com/github/SoniaPMi/Master-IA/blob/main/Basic_LSTM_keras_alumnos.ipynb\" target=\"_parent\"><img src=\"https://colab.research.google.com/assets/colab-badge.svg\" alt=\"Open In Colab\"/></a>"
      ]
    },
    {
      "cell_type": "markdown",
      "metadata": {
        "id": "Bauhs8OOTvaU"
      },
      "source": [
        "# Creación de capas LSTM en Keras"
      ]
    },
    {
      "cell_type": "code",
      "execution_count": 1,
      "metadata": {
        "id": "Q1stjlHuz0GT"
      },
      "outputs": [],
      "source": [
        "import tensorflow as tf\n",
        "from keras.layers import LSTMCell, LSTM"
      ]
    },
    {
      "cell_type": "code",
      "execution_count": 2,
      "metadata": {
        "id": "Ixzin3z-CXg5"
      },
      "outputs": [],
      "source": [
        "from numpy.random import seed\n",
        "seed(1)\n",
        "tf.random.set_seed(2)"
      ]
    },
    {
      "cell_type": "markdown",
      "metadata": {
        "id": "jsbMmxWwDJNm"
      },
      "source": [
        "### LSTM a partir de LSTMCell encapsulada en capa RNN"
      ]
    },
    {
      "cell_type": "code",
      "execution_count": 3,
      "metadata": {
        "colab": {
          "base_uri": "https://localhost:8080/"
        },
        "id": "oQhBQWrq0FT6",
        "outputId": "57c3593e-d1b7-4459-9abb-bf5e91168acc"
      },
      "outputs": [
        {
          "output_type": "stream",
          "name": "stdout",
          "text": [
            "(32, 4)\n",
            "(32, 10, 4)\n",
            "(32, 4)\n",
            "(32, 4)\n"
          ]
        }
      ],
      "source": [
        "inputs = tf.random.normal([32, 10, 8])\n",
        "rnn = tf.keras.layers.RNN(tf.keras.layers.LSTMCell(4))\n",
        "output = rnn(inputs)\n",
        "print(output.shape)\n",
        "\n",
        "rnn = tf.keras.layers.RNN(\n",
        "   tf.keras.layers.LSTMCell(4),\n",
        "   return_sequences=True,\n",
        "   return_state=True)\n",
        "whole_seq_output, final_memory_state, final_carry_state = rnn(inputs)\n",
        "print(whole_seq_output.shape)\n",
        "\n",
        "print(final_memory_state.shape)\n",
        "\n",
        "print(final_carry_state.shape)\n"
      ]
    },
    {
      "cell_type": "code",
      "execution_count": 7,
      "metadata": {
        "colab": {
          "base_uri": "https://localhost:8080/"
        },
        "id": "8ve8yjBX3m1N",
        "outputId": "d035596f-3f7e-4c16-a50f-590854e80510"
      },
      "outputs": [
        {
          "output_type": "execute_result",
          "data": {
            "text/plain": [
              "<tf.Tensor: shape=(32, 4), dtype=float32, numpy=\n",
              "array([[ 0.51235765,  0.0389048 ,  0.23825817,  0.04272646],\n",
              "       [-0.3105641 ,  0.14984639,  0.01561201, -0.00965086],\n",
              "       [ 0.16623373, -0.02401589,  0.1497836 ,  0.26462644],\n",
              "       [ 0.31531835, -0.10075305,  0.06625727, -0.20350279],\n",
              "       [ 0.05771682, -0.06550565, -0.26266435,  0.05062744],\n",
              "       [ 0.11979724, -0.01559168,  0.11800979,  0.08040491],\n",
              "       [-0.08589976,  0.03652469,  0.07495347,  0.4977028 ],\n",
              "       [-0.29545403, -0.22342151, -0.2905299 , -0.04680187],\n",
              "       [ 0.09633102, -0.1572051 ,  0.03566454,  0.17657337],\n",
              "       [ 0.00560371, -0.34801263, -0.30901277,  0.21385485],\n",
              "       [-0.07315988, -0.14272395,  0.1342134 , -0.16102947],\n",
              "       [ 0.05916089,  0.00112796,  0.04582447,  0.41819566],\n",
              "       [-0.05757838,  0.08819887,  0.20661245,  0.39653993],\n",
              "       [-0.18027362,  0.13182361,  0.07735182,  0.1015406 ],\n",
              "       [ 0.161747  , -0.09695955,  0.2582656 , -0.18232803],\n",
              "       [ 0.19230947,  0.03070229,  0.09855746,  0.07757574],\n",
              "       [-0.04940091,  0.10163671, -0.05749654,  0.04100468],\n",
              "       [ 0.04540211, -0.01642533,  0.01178201,  0.03412374],\n",
              "       [ 0.22092998,  0.11753212,  0.1847547 , -0.00726545],\n",
              "       [ 0.1747464 , -0.00500817,  0.49903962,  0.02934588],\n",
              "       [-0.10098555,  0.06792607, -0.06819204,  0.27253932],\n",
              "       [-0.04090641, -0.05428455, -0.08880528, -0.14153032],\n",
              "       [ 0.08762746,  0.09506408,  0.10716016,  0.3176051 ],\n",
              "       [-0.18777958, -0.1512707 , -0.27985647, -0.07868383],\n",
              "       [-0.08365463, -0.16369079,  0.02594051, -0.06889656],\n",
              "       [ 0.2568971 ,  0.17459513,  0.24848786, -0.13084474],\n",
              "       [-0.02567925, -0.00658149, -0.29590863,  0.11145803],\n",
              "       [-0.36251962, -0.10925233, -0.07428988,  0.06377377],\n",
              "       [ 0.00169728,  0.04389805,  0.18883824, -0.04702605],\n",
              "       [-0.15913996,  0.3214943 , -0.46565837,  0.29082462],\n",
              "       [ 0.16535026, -0.1124042 , -0.05725018,  0.23328924],\n",
              "       [ 0.18213858,  0.08395582,  0.11142362,  0.10321011]],\n",
              "      dtype=float32)>"
            ]
          },
          "metadata": {},
          "execution_count": 7
        }
      ],
      "source": [
        "# Determina la salida final (tras 10 time steps) de la LSTM para la muestra 32 \n",
        "final_memory_state # = whole_seq_output[[-1, -1]]"
      ]
    },
    {
      "cell_type": "code",
      "source": [
        "whole_seq_output[[-1, -1]]"
      ],
      "metadata": {
        "colab": {
          "base_uri": "https://localhost:8080/"
        },
        "id": "2kD0txIdEQp4",
        "outputId": "e220fe70-dd14-45b6-fc24-e133c7548d5b"
      },
      "execution_count": 8,
      "outputs": [
        {
          "output_type": "execute_result",
          "data": {
            "text/plain": [
              "<tf.Tensor: shape=(4,), dtype=float32, numpy=array([0.18213858, 0.08395582, 0.11142362, 0.10321011], dtype=float32)>"
            ]
          },
          "metadata": {},
          "execution_count": 8
        }
      ]
    },
    {
      "cell_type": "code",
      "execution_count": 9,
      "metadata": {
        "colab": {
          "base_uri": "https://localhost:8080/"
        },
        "id": "SgdhFun2BSCw",
        "outputId": "f69dffad-efb3-4a58-a6d7-32380f53d78e"
      },
      "outputs": [
        {
          "output_type": "execute_result",
          "data": {
            "text/plain": [
              "<tf.Tensor: shape=(4,), dtype=float32, numpy=array([0.19230947, 0.03070229, 0.09855746, 0.07757574], dtype=float32)>"
            ]
          },
          "metadata": {},
          "execution_count": 9
        }
      ],
      "source": [
        "# Determina la salida final (tras 10 time steps) de la LSTM para la muestra 15 \n",
        "whole_seq_output[[15, -1]] #muestra 15, último instante temporal"
      ]
    },
    {
      "cell_type": "markdown",
      "metadata": {
        "id": "d0UFOe7yDJN1"
      },
      "source": [
        "### LSTM a partir de capa LSTM"
      ]
    },
    {
      "cell_type": "code",
      "execution_count": 10,
      "metadata": {
        "colab": {
          "base_uri": "https://localhost:8080/"
        },
        "id": "HvEfzL5NERcz",
        "outputId": "cae48dfd-4d8f-408b-f2d6-c335473ca131"
      },
      "outputs": [
        {
          "output_type": "stream",
          "name": "stdout",
          "text": [
            "(32, 4)\n",
            "(32, 10, 4)\n",
            "(32, 4)\n",
            "(32, 4)\n"
          ]
        }
      ],
      "source": [
        "lstm = tf.keras.layers.LSTM(4)\n",
        "output = lstm(inputs)\n",
        "print(output.shape)\n",
        "\n",
        "lstm = tf.keras.layers.LSTM(4, return_sequences=True, return_state=True)\n",
        "whole_seq_output, final_memory_state, final_carry_state = lstm(inputs)\n",
        "print(whole_seq_output.shape)\n",
        "\n",
        "print(final_memory_state.shape)\n",
        "\n",
        "print(final_carry_state.shape) \n"
      ]
    },
    {
      "cell_type": "markdown",
      "metadata": {
        "id": "-l4U-XiaH9Mj"
      },
      "source": [
        "## Integrar la capa LSTM en un modelo"
      ]
    },
    {
      "cell_type": "code",
      "execution_count": 11,
      "metadata": {
        "id": "1n5j4WxLIpNp"
      },
      "outputs": [],
      "source": [
        "# Import `Sequential` from `keras.models`\n",
        "from keras.models import Sequential\n",
        "# Import `Dense` from `keras.layers`\n",
        "from keras.layers import Dense, LSTM"
      ]
    },
    {
      "cell_type": "code",
      "execution_count": 12,
      "metadata": {
        "colab": {
          "base_uri": "https://localhost:8080/"
        },
        "id": "5uma8LqDIEfK",
        "outputId": "b9bca628-14a8-4f4e-f96f-911daa7416e9"
      },
      "outputs": [
        {
          "output_type": "stream",
          "name": "stdout",
          "text": [
            "Model: \"sequential\"\n",
            "_________________________________________________________________\n",
            " Layer (type)                Output Shape              Param #   \n",
            "=================================================================\n",
            " lstm_2 (LSTM)               (None, 32)                4480      \n",
            "                                                                 \n",
            " dense (Dense)               (None, 1)                 33        \n",
            "                                                                 \n",
            "=================================================================\n",
            "Total params: 4,513\n",
            "Trainable params: 4,513\n",
            "Non-trainable params: 0\n",
            "_________________________________________________________________\n"
          ]
        }
      ],
      "source": [
        "# Ejemplo: Capa LSTM de 32 salidas (units) conectada a capa densa. \n",
        "# En input shape se define el tamaño de entrada: (timesteps, features) \n",
        "model = Sequential()\n",
        "model.add(LSTM(32, input_shape=(50, 2)))\n",
        "model.add(Dense(1))\n",
        "model.summary()"
      ]
    },
    {
      "cell_type": "markdown",
      "metadata": {
        "id": "nPaA7n8DDJOD"
      },
      "source": [
        "### EJERCICIO\n",
        "\n",
        "Crea una secuencia temporal (np.array) de 10 números reales (10 time steps). Crea un modelo compuesto por una capa LSTM de 4 salidas conectada a una capa densa de 1 neurona. Evalúa la salida del modelo para la secuencia anterior en cada instante de tiempo. Nota: recuerda que LSTM() requiere entradas tridimensionales, aunque tengamos sólo una secuencia. \n",
        "\n",
        "- Prueba a poner return_sequences=False. Observa la salida en ese caso.\n",
        "\n",
        "- Repite el ejercicio pero con un array de 10 time steps y 2 features.\n",
        "\n",
        "- Apila una segunda capa LSTM de 4 salidas tras la primera y antes de la capa densa. Recuerda que la primera LSTM tiene que tener return_sequences=True. Observa la salida. \n"
      ]
    },
    {
      "cell_type": "code",
      "execution_count": 21,
      "metadata": {
        "colab": {
          "base_uri": "https://localhost:8080/"
        },
        "id": "AdEzG84RL9b0",
        "outputId": "2e90475d-c231-420a-fdaf-4c46373cb51c"
      },
      "outputs": [
        {
          "output_type": "stream",
          "name": "stdout",
          "text": [
            "(1, 10, 1)\n"
          ]
        },
        {
          "output_type": "execute_result",
          "data": {
            "text/plain": [
              "array([[[0.1],\n",
              "        [0.2],\n",
              "        [0.3],\n",
              "        [0.4],\n",
              "        [0.5],\n",
              "        [0.6],\n",
              "        [0.7],\n",
              "        [0.8],\n",
              "        [0.9],\n",
              "        [1. ]]])"
            ]
          },
          "metadata": {},
          "execution_count": 21
        }
      ],
      "source": [
        "from numpy import array\n",
        "data = array([0.1, 0.2, 0.3, 0.4, 0.5, 0.6, 0.7, 0.8, 0.9, 1.0])\n",
        "data = data.reshape((1, 10, 1))\n",
        "print(data.shape)\n",
        "data"
      ]
    },
    {
      "cell_type": "code",
      "source": [
        "model = Sequential()\n",
        "model.add(LSTM(4, input_shape=(10, 1), return_sequences=True))\n",
        "model.add(Dense(1))\n",
        "model.summary()"
      ],
      "metadata": {
        "colab": {
          "base_uri": "https://localhost:8080/"
        },
        "id": "D7Zfv-4sH-K8",
        "outputId": "47e39a58-5e2b-40b4-d046-e0eee8c6f16f"
      },
      "execution_count": 14,
      "outputs": [
        {
          "output_type": "stream",
          "name": "stdout",
          "text": [
            "Model: \"sequential_1\"\n",
            "_________________________________________________________________\n",
            " Layer (type)                Output Shape              Param #   \n",
            "=================================================================\n",
            " lstm_3 (LSTM)               (None, 10, 4)             96        \n",
            "                                                                 \n",
            " dense_1 (Dense)             (None, 10, 1)             5         \n",
            "                                                                 \n",
            "=================================================================\n",
            "Total params: 101\n",
            "Trainable params: 101\n",
            "Non-trainable params: 0\n",
            "_________________________________________________________________\n"
          ]
        }
      ]
    },
    {
      "cell_type": "code",
      "source": [
        "out=model(data)"
      ],
      "metadata": {
        "id": "k3na8x8cIRTu"
      },
      "execution_count": 15,
      "outputs": []
    },
    {
      "cell_type": "code",
      "source": [
        "print(out)"
      ],
      "metadata": {
        "colab": {
          "base_uri": "https://localhost:8080/"
        },
        "id": "4HoJCElOIhsB",
        "outputId": "864f02e5-59ea-4cab-a820-34e9142d68eb"
      },
      "execution_count": 16,
      "outputs": [
        {
          "output_type": "stream",
          "name": "stdout",
          "text": [
            "tf.Tensor(\n",
            "[[[0.02745794]\n",
            "  [0.07269983]\n",
            "  [0.12938198]\n",
            "  [0.19319937]\n",
            "  [0.2611881 ]\n",
            "  [0.33129418]\n",
            "  [0.40205154]\n",
            "  [0.47232255]\n",
            "  [0.54110163]\n",
            "  [0.6073975 ]]], shape=(1, 10, 1), dtype=float32)\n"
          ]
        }
      ]
    },
    {
      "cell_type": "code",
      "source": [
        "# Ahora con array de 2 features\n",
        "data = array ([\n",
        "               [0.1, 1.0],\n",
        "               [0.2, 0.9],\n",
        "               [0.3, 0.8],\n",
        "               [0.4, 0.7],\n",
        "               [0.5, 0.6],\n",
        "               [0.6, 0.5],\n",
        "               [0.7, 0.4],\n",
        "               [0.8, 0.3],\n",
        "               [0.9, 0.2],\n",
        "               [1.0, 0.1]])"
      ],
      "metadata": {
        "id": "zxuymD7dIipk"
      },
      "execution_count": 22,
      "outputs": []
    },
    {
      "cell_type": "code",
      "source": [
        "data = data.reshape(1, 10, 2)\n",
        "print(data.shape)"
      ],
      "metadata": {
        "colab": {
          "base_uri": "https://localhost:8080/"
        },
        "id": "ycjAyn-yKMIn",
        "outputId": "ded8211d-2672-4719-ddbd-6845b4375490"
      },
      "execution_count": 23,
      "outputs": [
        {
          "output_type": "stream",
          "name": "stdout",
          "text": [
            "(1, 10, 2)\n"
          ]
        }
      ]
    },
    {
      "cell_type": "code",
      "source": [
        "model = Sequential()\n",
        "model.add(LSTM(4, input_shape=(10,2), return_sequences=True))\n",
        "model.add(Dense(1))"
      ],
      "metadata": {
        "id": "sfWHu6MYKSgQ"
      },
      "execution_count": 24,
      "outputs": []
    },
    {
      "cell_type": "code",
      "source": [
        "out = model(data)\n",
        "print(out)"
      ],
      "metadata": {
        "colab": {
          "base_uri": "https://localhost:8080/"
        },
        "id": "6LKXRecjKiVK",
        "outputId": "f1be54c6-961e-4698-cea0-38134123be2c"
      },
      "execution_count": 25,
      "outputs": [
        {
          "output_type": "stream",
          "name": "stdout",
          "text": [
            "tf.Tensor(\n",
            "[[[-0.10153613]\n",
            "  [-0.15904397]\n",
            "  [-0.18747552]\n",
            "  [-0.19890827]\n",
            "  [-0.20085925]\n",
            "  [-0.19765525]\n",
            "  [-0.19178797]\n",
            "  [-0.1847493 ]\n",
            "  [-0.17745863]\n",
            "  [-0.17045932]]], shape=(1, 10, 1), dtype=float32)\n"
          ]
        }
      ]
    },
    {
      "cell_type": "code",
      "source": [
        "# Ahora con stacked LSTM de 2 capas\n",
        "model = Sequential()\n",
        "model.add(LSTM(4, input_shape=(10,2), return_sequences=True))\n",
        "model.add(LSTM(4))\n",
        "model.add(Dense(1))\n",
        "model.summary()"
      ],
      "metadata": {
        "colab": {
          "base_uri": "https://localhost:8080/"
        },
        "id": "NCgFblQaKlkP",
        "outputId": "e9ce24f7-2676-420d-a91a-51cf2215ea34"
      },
      "execution_count": 26,
      "outputs": [
        {
          "output_type": "stream",
          "name": "stdout",
          "text": [
            "Model: \"sequential_3\"\n",
            "_________________________________________________________________\n",
            " Layer (type)                Output Shape              Param #   \n",
            "=================================================================\n",
            " lstm_5 (LSTM)               (None, 10, 4)             112       \n",
            "                                                                 \n",
            " lstm_6 (LSTM)               (None, 4)                 144       \n",
            "                                                                 \n",
            " dense_3 (Dense)             (None, 1)                 5         \n",
            "                                                                 \n",
            "=================================================================\n",
            "Total params: 261\n",
            "Trainable params: 261\n",
            "Non-trainable params: 0\n",
            "_________________________________________________________________\n"
          ]
        }
      ]
    },
    {
      "cell_type": "code",
      "source": [
        "out = model(data)\n",
        "print(out)"
      ],
      "metadata": {
        "colab": {
          "base_uri": "https://localhost:8080/"
        },
        "id": "CuJ-dBSoLNy2",
        "outputId": "a4991ede-aacd-432a-f6ba-fea59074f59e"
      },
      "execution_count": 27,
      "outputs": [
        {
          "output_type": "stream",
          "name": "stdout",
          "text": [
            "tf.Tensor([[0.00193809]], shape=(1, 1), dtype=float32)\n"
          ]
        }
      ]
    },
    {
      "cell_type": "code",
      "source": [
        ""
      ],
      "metadata": {
        "id": "gavFvNJPN6gH"
      },
      "execution_count": null,
      "outputs": []
    }
  ],
  "metadata": {
    "colab": {
      "collapsed_sections": [],
      "name": "Basic_LSTM_keras-alumnos.ipynb",
      "provenance": [],
      "include_colab_link": true
    },
    "kernelspec": {
      "display_name": "Python 3",
      "language": "python",
      "name": "python3"
    },
    "language_info": {
      "codemirror_mode": {
        "name": "ipython",
        "version": 3
      },
      "file_extension": ".py",
      "mimetype": "text/x-python",
      "name": "python",
      "nbconvert_exporter": "python",
      "pygments_lexer": "ipython3",
      "version": "3.6.13"
    }
  },
  "nbformat": 4,
  "nbformat_minor": 0
}