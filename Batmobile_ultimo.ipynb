{
 "cells": [
  {
   "cell_type": "code",
   "execution_count": 207,
   "id": "9f579238",
   "metadata": {},
   "outputs": [],
   "source": [
    "class Rocket(): #munición rocket\n",
    "    def __init__(self, rockets):\n",
    "        self.rockets = rockets\n",
    "        #pass\n",
    "\n",
    "        \n",
    "class PEM_Pulse: #munición PEM\n",
    "    def __init__(self, pem_pulse):\n",
    "        self.pem_pulse = pem_pulse\n",
    "\n",
    "\n",
    "\n",
    "class Batmobile:\n",
    "    def __init__(self, pilot, liters_g, n_pem, n_batrockets):\n",
    "      \n",
    "        if isinstance(n_batrockets, Rocket):\n",
    "            self.n_batrockets = n_batrockets\n",
    "            print(n_batrockets)\n",
    "        else:\n",
    "            raise Exception(\"No hay Rockets cargados, el Batrocket no se pueden utilizar\")\n",
    "                \n",
    "       \n",
    "        \n",
    "        if isinstance(n_pem, PEM_Pulse):\n",
    "            self.n_pem = n_pem\n",
    "        else:\n",
    "            raise Exception(\"No hay PEM disponibles, el PEM Pulse no se pueden utilizar\")\n",
    "      \n",
    "                \n",
    "        self.pilot = pilot\n",
    "        self.liters_g = liters_g\n",
    "       \n",
    "        \n",
    "        for pilot in pilot:\n",
    "            if (self.pilot == \"Batman\") | (self.pilot == \"Robin\"):\n",
    "                pass\n",
    "            else:\n",
    "                raise Exception(\"No tienes permisos para conducir el Batmobile\")\n",
    "        \n",
    "        #for municion in self.municion_rockets.rockets:\n",
    "        #     municion = self.municion.rockets\n",
    "        \n",
    "        global qty_rockets\n",
    "        qty_rockets = 0\n",
    "        qty_rockets += self.n_batrockets.rockets\n",
    "        \n",
    "        global qty_pem\n",
    "        qty_pem = 0\n",
    "        qty_pem += self.n_pem.pem_pulse\n",
    "                \n",
    "        \n",
    "                \n",
    "    def accelerator(self, km):\n",
    "        conversion = km * 0.08 # 8l/ 100km - en modo accelerator\n",
    "        if conversion > self.liters_g:\n",
    "            print('No hay combustible')\n",
    "        else:\n",
    "            self.liters_g = self.liters_g - conversion\n",
    "        return self.liters_g\n",
    "    \n",
    "    def turbo(self, km):\n",
    "        conversion = km * 0.20 # 20l/ 100km - en modo turbo\n",
    "        if conversion > self.liters_g:\n",
    "            print('No hay combustible suficiente')\n",
    "        else:\n",
    "            self.liters_g = self.liters_g - conversion\n",
    "        return self.liters_g\n",
    "    \n",
    "    def lanzar_PEM(self):\n",
    "        global qty_pem      \n",
    "        if qty_pem != 0:\n",
    "            qty_pem -= 1\n",
    "            print('Quedan', qty_pem)\n",
    "        else:\n",
    "            print(\"No hay munición PEM\")\n",
    "    \n",
    "    def lanzar_rocket(self):\n",
    "        global qty_rockets\n",
    "        if qty_rockets !=0:\n",
    "            qty_rockets -= 1\n",
    "            print('Quedan', qty_rockets)\n",
    "            #municion_roket(True)\n",
    "        else:\n",
    "            print(\"No hay munición Roket\")\n",
    "        \n",
    "    #def lanzar_rocket(self):\n",
    "        \n",
    "    #    if self.n_batrockets !=0:\n",
    "    #        self.n_batrockets -= 1\n",
    "            #municion_roket(True)\n",
    "    #    else:\n",
    "    #        print(\"No hay munición Roket\")\n",
    "    #    return self.n_batrockets\n",
    "    \n",
    "    #def lanzar_PEM(self):\n",
    "                \n",
    "    #    if self.n_pem != 0:\n",
    "    #        self.n_pem -= 1\n",
    "    #    else:\n",
    "    #        print(\"No hay munición PEM\")\n",
    "    #    return self.n_pem\n",
    "    \n",
    "     \n",
    "    \n",
    "\n",
    "class Joker():\n",
    "    def __init__(self, KO = False, Weapon = True):\n",
    "        self.KO = KO\n",
    "        self.Weapon = Weapon\n",
    "        \n",
    "        if KO == True:\n",
    "            print(\"Roket recibido\")\n",
    "            \n",
    "        if Weapon == False:\n",
    "            print(\"PEM Pulse recibido\")\n",
    "        \n",
    "\n",
    "\n",
    "class JokerV():\n",
    "    def __init__(self, KO = False, Weapon = True):\n",
    "        self.KO = KO\n",
    "        self.Weapon = Weapon\n",
    "        \n",
    "        if KO == True:\n",
    "            print(\"Roket recibido\")\n",
    "            \n",
    "        if Weapon == False:\n",
    "            print(\"PEM Pulse recibido\")\n"
   ]
  },
  {
   "cell_type": "code",
   "execution_count": 208,
   "id": "6e4f02f2",
   "metadata": {},
   "outputs": [
    {
     "name": "stdout",
     "output_type": "stream",
     "text": [
      "<__main__.Rocket object at 0x0000020E8EE45DC0>\n"
     ]
    }
   ],
   "source": [
    "municion_Rockets = Rocket(80)\n",
    "municion_PEM = PEM_Pulse(80)\n",
    "#(pilot, liters_g, n_pem, n_batrockets)\n",
    "Bat_1 = Batmobile(\"Batman\", 80, municion_PEM, municion_Rockets)"
   ]
  },
  {
   "cell_type": "code",
   "execution_count": 209,
   "id": "7a011331",
   "metadata": {},
   "outputs": [
    {
     "data": {
      "text/plain": [
       "76.0"
      ]
     },
     "execution_count": 209,
     "metadata": {},
     "output_type": "execute_result"
    }
   ],
   "source": [
    "Bat_1.accelerator(50)"
   ]
  },
  {
   "cell_type": "code",
   "execution_count": 210,
   "id": "82ddd194",
   "metadata": {},
   "outputs": [
    {
     "data": {
      "text/plain": [
       "66.0"
      ]
     },
     "execution_count": 210,
     "metadata": {},
     "output_type": "execute_result"
    }
   ],
   "source": [
    "Bat_1.turbo(50)"
   ]
  },
  {
   "cell_type": "code",
   "execution_count": 216,
   "id": "e0f36b54",
   "metadata": {},
   "outputs": [
    {
     "name": "stdout",
     "output_type": "stream",
     "text": [
      "Quedan 74\n"
     ]
    }
   ],
   "source": [
    "Bat_1.lanzar_PEM()"
   ]
  },
  {
   "cell_type": "code",
   "execution_count": 223,
   "id": "60a89b80",
   "metadata": {},
   "outputs": [
    {
     "name": "stdout",
     "output_type": "stream",
     "text": [
      "Quedan 73\n"
     ]
    }
   ],
   "source": [
    "Bat_1.lanzar_rocket()"
   ]
  },
  {
   "cell_type": "code",
   "execution_count": 224,
   "id": "1985b4d1",
   "metadata": {},
   "outputs": [
    {
     "name": "stdout",
     "output_type": "stream",
     "text": [
      "PEM Pulse recibido\n"
     ]
    },
    {
     "data": {
      "text/plain": [
       "<__main__.Joker at 0x20e8ee45550>"
      ]
     },
     "execution_count": 224,
     "metadata": {},
     "output_type": "execute_result"
    }
   ],
   "source": [
    "Joker(Weapon=False)\n",
    "#def __init__(self, KO = False, Weapon = True):"
   ]
  },
  {
   "cell_type": "code",
   "execution_count": 225,
   "id": "f8121047",
   "metadata": {},
   "outputs": [
    {
     "name": "stdout",
     "output_type": "stream",
     "text": [
      "Roket recibido\n"
     ]
    },
    {
     "data": {
      "text/plain": [
       "<__main__.JokerV at 0x20e8ee45cd0>"
      ]
     },
     "execution_count": 225,
     "metadata": {},
     "output_type": "execute_result"
    }
   ],
   "source": [
    "JokerV(KO=True)"
   ]
  },
  {
   "cell_type": "code",
   "execution_count": 227,
   "id": "9663b324",
   "metadata": {},
   "outputs": [
    {
     "data": {
      "text/plain": [
       "<__main__.JokerV at 0x20e8ee45b50>"
      ]
     },
     "execution_count": 227,
     "metadata": {},
     "output_type": "execute_result"
    }
   ],
   "source": [
    "JokerV()"
   ]
  },
  {
   "cell_type": "code",
   "execution_count": null,
   "id": "090df5c2",
   "metadata": {},
   "outputs": [],
   "source": []
  }
 ],
 "metadata": {
  "kernelspec": {
   "display_name": "Python 3",
   "language": "python",
   "name": "python3"
  },
  "language_info": {
   "codemirror_mode": {
    "name": "ipython",
    "version": 3
   },
   "file_extension": ".py",
   "mimetype": "text/x-python",
   "name": "python",
   "nbconvert_exporter": "python",
   "pygments_lexer": "ipython3",
   "version": "3.8.8"
  }
 },
 "nbformat": 4,
 "nbformat_minor": 5
}
