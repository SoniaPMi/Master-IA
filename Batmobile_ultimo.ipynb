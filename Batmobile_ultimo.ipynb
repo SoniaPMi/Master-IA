{
 "cells": [
  {
   "cell_type": "code",
   "execution_count": 6,
   "id": "9f579238",
   "metadata": {},
   "outputs": [],
   "source": [
    "'''\n",
    "estas dos clases son las del arsenal de rockets y el arsenal de PEM-Pulses\n",
    "'''\n",
    "class Rocket(): #munición rocket\n",
    "    def __init__(self, rockets):\n",
    "        self.rockets = rockets\n",
    "        \n",
    "\n",
    "        \n",
    "class PEM_Pulse: #munición PEM\n",
    "    def __init__(self, pem_pulse):\n",
    "        self.pem_pulse = pem_pulse\n",
    "\n",
    "'''\n",
    "esta clase representa el batmobile, \n",
    "al llamar a la clase le doy como parámetro el Piloto, litros de combustible y le paso la variable que apunta al\n",
    "arsenal de las clases creadas arriba\n",
    "'''\n",
    "\n",
    "class Batmobile:\n",
    "    def __init__(self, pilot, liters_g, n_pem, n_batrockets):\n",
    "      \n",
    "        if isinstance(n_batrockets, Rocket):\n",
    "            self.n_batrockets = n_batrockets\n",
    "            #print(n_batrockets)\n",
    "        else:\n",
    "            raise Exception(\"No hay Rockets cargados, el Batrocket no se pueden utilizar\")\n",
    "                \n",
    "       \n",
    "        \n",
    "        if isinstance(n_pem, PEM_Pulse):\n",
    "            self.n_pem = n_pem\n",
    "        else:\n",
    "            raise Exception(\"No hay PEM disponibles, el PEM Pulse no se pueden utilizar\")\n",
    "      \n",
    "                \n",
    "        self.pilot = pilot\n",
    "        self.liters_g = liters_g\n",
    "       \n",
    "        \n",
    "        for pilot in pilot:\n",
    "            if (self.pilot == \"Batman\") | (self.pilot == \"Robin\"):\n",
    "                pass\n",
    "            else:\n",
    "                raise Exception(\"No tienes permisos para conducir el Batmobile\")\n",
    "        \n",
    "        #for municion in self.municion_rockets.rockets:\n",
    "        #     municion = self.municion.rockets\n",
    "        \n",
    "        global qty_rockets\n",
    "        qty_rockets = 0\n",
    "        qty_rockets += self.n_batrockets.rockets\n",
    "        \n",
    "        global qty_pem\n",
    "        qty_pem = 0\n",
    "        qty_pem += self.n_pem.pem_pulse\n",
    "                \n",
    "        \n",
    "                \n",
    "    def accelerator(self, km):\n",
    "        conversion = km * 0.08 # 8l/ 100km - en modo accelerator\n",
    "        if conversion > self.liters_g:\n",
    "            print('No hay combustible')\n",
    "        else:\n",
    "            self.liters_g = self.liters_g - conversion\n",
    "        return self.liters_g\n",
    "    \n",
    "    def turbo(self, km):\n",
    "        conversion = km * 0.20 # 20l/ 100km - en modo turbo\n",
    "        if conversion > self.liters_g:\n",
    "            print('No hay combustible suficiente')\n",
    "        else:\n",
    "            self.liters_g = self.liters_g - conversion\n",
    "        return self.liters_g\n",
    "    \n",
    "    def lanzar_PEM(self):\n",
    "        global qty_pem      \n",
    "        if qty_pem != 0:\n",
    "            qty_pem -= 1\n",
    "            print('Quedan', qty_pem)\n",
    "        else:\n",
    "            print(\"No hay munición PEM\")\n",
    "    \n",
    "    def lanzar_rocket(self):\n",
    "        global qty_rockets\n",
    "        if qty_rockets !=0:\n",
    "            qty_rockets -= 1\n",
    "            print('Quedan', qty_rockets)\n",
    "            \n",
    "        else:\n",
    "            print(\"No hay munición Roket\")\n",
    "        \n",
    "   \n",
    "     \n",
    "'''\n",
    "Estas dos clases representan a los villanos, \n",
    "cuando el villano reciba un pulso o un rocket le paso KO o Weapon \n",
    "No interacciona con el batmobile porque que lanze un pulso o un rocket no significa que apunte necesariamente \n",
    "en el villano, ---> ESTO NO ME QUEDA CLARO QUE TENGA QUE SER ASÍ.\n",
    "''' \n",
    "\n",
    "class Joker():\n",
    "    def __init__(self, KO = False, Weapon = True):\n",
    "        self.KO = KO\n",
    "        self.Weapon = Weapon\n",
    "        \n",
    "        if KO == True:\n",
    "            print(\"Roket recibido\")\n",
    "            \n",
    "        if Weapon == False:\n",
    "            print(\"PEM Pulse recibido\")\n",
    "        \n",
    "\n",
    "\n",
    "class JokerV():\n",
    "    def __init__(self, KO = False, Weapon = True):\n",
    "        self.KO = KO\n",
    "        self.Weapon = Weapon\n",
    "        \n",
    "        if KO == True:\n",
    "            print(\"Roket recibido\")\n",
    "            \n",
    "        if Weapon == False:\n",
    "            print(\"PEM Pulse recibido\")\n"
   ]
  },
  {
   "cell_type": "markdown",
   "id": "706cb83c",
   "metadata": {},
   "source": [
    "Primero cargo el arsenal de con el número de armas que disponga:"
   ]
  },
  {
   "cell_type": "code",
   "execution_count": 7,
   "id": "6e4f02f2",
   "metadata": {},
   "outputs": [],
   "source": [
    "municion_Rockets = Rocket(80)\n",
    "municion_PEM = PEM_Pulse(80)"
   ]
  },
  {
   "cell_type": "markdown",
   "id": "5b81cd89",
   "metadata": {},
   "source": [
    "Defino un objeto que apunte a la clase batmobile."
   ]
  },
  {
   "cell_type": "code",
   "execution_count": 8,
   "id": "8cf5b6e1",
   "metadata": {},
   "outputs": [],
   "source": [
    "#(pilot, liters_g, n_pem, n_batrockets)\n",
    "Bat_1 = Batmobile(\"Batman\", 80, municion_PEM, municion_Rockets)"
   ]
  },
  {
   "cell_type": "markdown",
   "id": "b81289be",
   "metadata": {},
   "source": [
    "Compruebo que las funciones definidas funcionen:"
   ]
  },
  {
   "cell_type": "code",
   "execution_count": 9,
   "id": "7a011331",
   "metadata": {},
   "outputs": [
    {
     "data": {
      "text/plain": [
       "76.0"
      ]
     },
     "execution_count": 9,
     "metadata": {},
     "output_type": "execute_result"
    }
   ],
   "source": [
    "Bat_1.accelerator(50) #50*8/100 = 4 , es decir, 80-4=76"
   ]
  },
  {
   "cell_type": "code",
   "execution_count": 10,
   "id": "82ddd194",
   "metadata": {},
   "outputs": [
    {
     "data": {
      "text/plain": [
       "66.0"
      ]
     },
     "execution_count": 10,
     "metadata": {},
     "output_type": "execute_result"
    }
   ],
   "source": [
    "Bat_1.turbo(50)"
   ]
  },
  {
   "cell_type": "code",
   "execution_count": 13,
   "id": "e0f36b54",
   "metadata": {},
   "outputs": [
    {
     "name": "stdout",
     "output_type": "stream",
     "text": [
      "Quedan 78\n"
     ]
    }
   ],
   "source": [
    "Bat_1.lanzar_PEM()\n",
    "Bat_1.lanzar_PEM()"
   ]
  },
  {
   "cell_type": "code",
   "execution_count": 12,
   "id": "60a89b80",
   "metadata": {},
   "outputs": [
    {
     "name": "stdout",
     "output_type": "stream",
     "text": [
      "Quedan 79\n"
     ]
    }
   ],
   "source": [
    "Bat_1.lanzar_rocket()"
   ]
  },
  {
   "cell_type": "markdown",
   "id": "425be89d",
   "metadata": {},
   "source": [
    "Cuando le doy a un villano le paso el tipo de disparo que ha recibido, el PEM_Pulse o Rocket"
   ]
  },
  {
   "cell_type": "code",
   "execution_count": 14,
   "id": "1985b4d1",
   "metadata": {},
   "outputs": [
    {
     "name": "stdout",
     "output_type": "stream",
     "text": [
      "PEM Pulse recibido\n"
     ]
    },
    {
     "data": {
      "text/plain": [
       "<__main__.Joker at 0x1457ce57190>"
      ]
     },
     "execution_count": 14,
     "metadata": {},
     "output_type": "execute_result"
    }
   ],
   "source": [
    "#KO = False (no recibe rocket), Weapon = True(puede usar el arma):\n",
    "Joker(Weapon=False)"
   ]
  },
  {
   "cell_type": "code",
   "execution_count": 15,
   "id": "f8121047",
   "metadata": {},
   "outputs": [
    {
     "name": "stdout",
     "output_type": "stream",
     "text": [
      "Roket recibido\n"
     ]
    },
    {
     "data": {
      "text/plain": [
       "<__main__.JokerV at 0x1457ce57580>"
      ]
     },
     "execution_count": 15,
     "metadata": {},
     "output_type": "execute_result"
    }
   ],
   "source": [
    "JokerV(KO=True)"
   ]
  },
  {
   "cell_type": "code",
   "execution_count": 16,
   "id": "9663b324",
   "metadata": {},
   "outputs": [
    {
     "data": {
      "text/plain": [
       "<__main__.JokerV at 0x1457ce570a0>"
      ]
     },
     "execution_count": 16,
     "metadata": {},
     "output_type": "execute_result"
    }
   ],
   "source": [
    "JokerV()"
   ]
  },
  {
   "cell_type": "markdown",
   "id": "9ad07f50",
   "metadata": {},
   "source": [
    "> ¿Por que aparece <__main__.JokerV at 0x1457ce570a0>?"
   ]
  },
  {
   "attachments": {
    "Captura.PNG": {
     "image/png": "[encoded data removed]"
    }
   },
   "cell_type": "markdown",
   "id": "7bb693aa",
   "metadata": {},
   "source": [
    "# ![Captura.PNG](attachment:Captura.PNG)"
   ]
  }
 ],
 "metadata": {
  "kernelspec": {
   "display_name": "Python 3",
   "language": "python",
   "name": "python3"
  },
  "language_info": {
   "codemirror_mode": {
    "name": "ipython",
    "version": 3
   },
   "file_extension": ".py",
   "mimetype": "text/x-python",
   "name": "python",
   "nbconvert_exporter": "python",
   "pygments_lexer": "ipython3",
   "version": "3.8.8"
  }
 },
 "nbformat": 4,
 "nbformat_minor": 5
}
