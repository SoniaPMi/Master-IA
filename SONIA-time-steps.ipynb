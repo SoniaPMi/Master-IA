{
  "nbformat": 4,
  "nbformat_minor": 0,
  "metadata": {
    "colab": {
      "name": "Untitled0.ipynb",
      "provenance": [],
      "authorship_tag": "ABX9TyOcn41hOSztdqfjiaOI8Bwy",
      "include_colab_link": true
    },
    "kernelspec": {
      "name": "python3",
      "display_name": "Python 3"
    },
    "language_info": {
      "name": "python"
    }
  },
  "cells": [
    {
      "cell_type": "markdown",
      "metadata": {
        "id": "view-in-github",
        "colab_type": "text"
      },
      "source": [
        "<a href=\"https://colab.research.google.com/github/SoniaPMi/Master-IA/blob/main/SONIA-time-steps.ipynb\" target=\"_parent\"><img src=\"https://colab.research.google.com/assets/colab-badge.svg\" alt=\"Open In Colab\"/></a>"
      ]
    },
    {
      "cell_type": "markdown",
      "source": [
        "Los datos del conjunto de datos de ciclismo bicicletas se agrupan por \"Hora de inicio\", lo que representa el recuento de nuevas bicicletas compartidas agrupadas por hora. Las acciones de larga duración no se toman en cuenta.\n",
        "\n",
        "El propósito es intentar predecir las futuras bicicletas compartidas.\n",
        "\n",
        "Vemos que tenemos una cantidad bastante buena de muestras.\n",
        "\n",
        "Las variables son:\n",
        "\n",
        "\"timestamp\" - timestamp field for grouping the data\n",
        "\n",
        "\"cnt\" - the count of a new bike shares\n",
        "\n",
        "\"t1\" - real temperature in C\n",
        "\n",
        "\"t2\" - temperature in C \"feels like\"\n",
        "\n",
        "\"hum\" - humidity in percentage\n",
        "\n",
        "\"windspeed\" - wind speed in km/h\n",
        "\n",
        "\"weathercode\" - category of the weather\n",
        "\n",
        "\"isholiday\" - boolean field - 1 holiday / 0 non holiday\n",
        "\n",
        "\"isweekend\" - boolean field - 1 if the day is weekend\n",
        "\n",
        "\"season\" - category field meteorological seasons: 0-spring ; 1-summer; 2-fall; 3-winter.\n",
        "\n",
        "\"weathe_code\" category description: 1 = Clear ; mostly clear but have some values with haze/fog/patches of fog/ fog in vicinity 2 = scattered clouds / few clouds 3 = Broken clouds 4 = Cloudy 7 = Rain/ light Rain shower/ Light rain 10 = rain with thunderstorm 26 = snowfall 94 = Freezing Fog"
      ],
      "metadata": {
        "id": "C-EPun93qGFz"
      }
    },
    {
      "cell_type": "code",
      "source": [
        "import numpy as np\n",
        "import pandas as pd\n",
        "\n",
        "from keras.models import Sequential, load_model\n",
        "from keras.layers import Dense, Conv1D, MaxPooling1D, Flatten\n",
        "from keras.callbacks import ModelCheckpoint\n",
        "from keras import optimizers\n",
        "\n",
        "from sklearn.metrics import mean_squared_error\n",
        "from sklearn.metrics import r2_score as R2_score\n",
        "\n",
        "import matplotlib.pyplot as plt\n",
        "from matplotlib.ticker import MaxNLocator\n",
        "\n",
        "%matplotlib inline\n",
        "# fijo la semilla aleatoria por reproducibilidad\n",
        "np.random.seed(7)"
      ],
      "metadata": {
        "id": "5lECvE-EqI5E"
      },
      "execution_count": 6,
      "outputs": []
    },
    {
      "cell_type": "code",
      "source": [
        "from keras.models import Sequential\n",
        "from keras.layers import Dense\n",
        "from keras.layers import LSTM\n",
        "from keras.layers import GRU\n",
        "from sklearn.preprocessing import MinMaxScaler\n",
        "\n",
        "from keras.preprocessing import sequence\n",
        "from keras.models import Sequential\n",
        "from keras.layers import Dense, Dropout , LSTM , Bidirectional"
      ],
      "metadata": {
        "id": "GvcPYqiqqgk-"
      },
      "execution_count": 7,
      "outputs": []
    },
    {
      "cell_type": "code",
      "source": [
        "import seaborn as sns"
      ],
      "metadata": {
        "id": "w_f0Oi2qqp9o"
      },
      "execution_count": 8,
      "outputs": []
    },
    {
      "cell_type": "code",
      "source": [
        "data = pd.read_csv('/content/london_merged.csv')"
      ],
      "metadata": {
        "id": "3Wpo6O65qr-T"
      },
      "execution_count": 9,
      "outputs": []
    },
    {
      "cell_type": "code",
      "source": [
        "data.head(10)"
      ],
      "metadata": {
        "colab": {
          "base_uri": "https://localhost:8080/",
          "height": 363
        },
        "id": "SlnSQD6RqtVw",
        "outputId": "b501ce88-0bc8-46e1-bcbe-540fc8185559"
      },
      "execution_count": 10,
      "outputs": [
        {
          "output_type": "execute_result",
          "data": {
            "text/plain": [
              "             timestamp  cnt   t1   t2    hum  wind_speed  weather_code  \\\n",
              "0  2015-01-04 00:00:00  182  3.0  2.0   93.0         6.0           3.0   \n",
              "1  2015-01-04 01:00:00  138  3.0  2.5   93.0         5.0           1.0   \n",
              "2  2015-01-04 02:00:00  134  2.5  2.5   96.5         0.0           1.0   \n",
              "3  2015-01-04 03:00:00   72  2.0  2.0  100.0         0.0           1.0   \n",
              "4  2015-01-04 04:00:00   47  2.0  0.0   93.0         6.5           1.0   \n",
              "5  2015-01-04 05:00:00   46  2.0  2.0   93.0         4.0           1.0   \n",
              "6  2015-01-04 06:00:00   51  1.0 -1.0  100.0         7.0           4.0   \n",
              "7  2015-01-04 07:00:00   75  1.0 -1.0  100.0         7.0           4.0   \n",
              "8  2015-01-04 08:00:00  131  1.5 -1.0   96.5         8.0           4.0   \n",
              "9  2015-01-04 09:00:00  301  2.0 -0.5  100.0         9.0           3.0   \n",
              "\n",
              "   is_holiday  is_weekend  season  \n",
              "0         0.0         1.0     3.0  \n",
              "1         0.0         1.0     3.0  \n",
              "2         0.0         1.0     3.0  \n",
              "3         0.0         1.0     3.0  \n",
              "4         0.0         1.0     3.0  \n",
              "5         0.0         1.0     3.0  \n",
              "6         0.0         1.0     3.0  \n",
              "7         0.0         1.0     3.0  \n",
              "8         0.0         1.0     3.0  \n",
              "9         0.0         1.0     3.0  "
            ],
            "text/html": [
              "\n",
              "  <div id=\"df-888f1d4d-d256-461a-9539-816d7b9f4470\">\n",
              "    <div class=\"colab-df-container\">\n",
              "      <div>\n",
              "<style scoped>\n",
              "    .dataframe tbody tr th:only-of-type {\n",
              "        vertical-align: middle;\n",
              "    }\n",
              "\n",
              "    .dataframe tbody tr th {\n",
              "        vertical-align: top;\n",
              "    }\n",
              "\n",
              "    .dataframe thead th {\n",
              "        text-align: right;\n",
              "    }\n",
              "</style>\n",
              "<table border=\"1\" class=\"dataframe\">\n",
              "  <thead>\n",
              "    <tr style=\"text-align: right;\">\n",
              "      <th></th>\n",
              "      <th>timestamp</th>\n",
              "      <th>cnt</th>\n",
              "      <th>t1</th>\n",
              "      <th>t2</th>\n",
              "      <th>hum</th>\n",
              "      <th>wind_speed</th>\n",
              "      <th>weather_code</th>\n",
              "      <th>is_holiday</th>\n",
              "      <th>is_weekend</th>\n",
              "      <th>season</th>\n",
              "    </tr>\n",
              "  </thead>\n",
              "  <tbody>\n",
              "    <tr>\n",
              "      <th>0</th>\n",
              "      <td>2015-01-04 00:00:00</td>\n",
              "      <td>182</td>\n",
              "      <td>3.0</td>\n",
              "      <td>2.0</td>\n",
              "      <td>93.0</td>\n",
              "      <td>6.0</td>\n",
              "      <td>3.0</td>\n",
              "      <td>0.0</td>\n",
              "      <td>1.0</td>\n",
              "      <td>3.0</td>\n",
              "    </tr>\n",
              "    <tr>\n",
              "      <th>1</th>\n",
              "      <td>2015-01-04 01:00:00</td>\n",
              "      <td>138</td>\n",
              "      <td>3.0</td>\n",
              "      <td>2.5</td>\n",
              "      <td>93.0</td>\n",
              "      <td>5.0</td>\n",
              "      <td>1.0</td>\n",
              "      <td>0.0</td>\n",
              "      <td>1.0</td>\n",
              "      <td>3.0</td>\n",
              "    </tr>\n",
              "    <tr>\n",
              "      <th>2</th>\n",
              "      <td>2015-01-04 02:00:00</td>\n",
              "      <td>134</td>\n",
              "      <td>2.5</td>\n",
              "      <td>2.5</td>\n",
              "      <td>96.5</td>\n",
              "      <td>0.0</td>\n",
              "      <td>1.0</td>\n",
              "      <td>0.0</td>\n",
              "      <td>1.0</td>\n",
              "      <td>3.0</td>\n",
              "    </tr>\n",
              "    <tr>\n",
              "      <th>3</th>\n",
              "      <td>2015-01-04 03:00:00</td>\n",
              "      <td>72</td>\n",
              "      <td>2.0</td>\n",
              "      <td>2.0</td>\n",
              "      <td>100.0</td>\n",
              "      <td>0.0</td>\n",
              "      <td>1.0</td>\n",
              "      <td>0.0</td>\n",
              "      <td>1.0</td>\n",
              "      <td>3.0</td>\n",
              "    </tr>\n",
              "    <tr>\n",
              "      <th>4</th>\n",
              "      <td>2015-01-04 04:00:00</td>\n",
              "      <td>47</td>\n",
              "      <td>2.0</td>\n",
              "      <td>0.0</td>\n",
              "      <td>93.0</td>\n",
              "      <td>6.5</td>\n",
              "      <td>1.0</td>\n",
              "      <td>0.0</td>\n",
              "      <td>1.0</td>\n",
              "      <td>3.0</td>\n",
              "    </tr>\n",
              "    <tr>\n",
              "      <th>5</th>\n",
              "      <td>2015-01-04 05:00:00</td>\n",
              "      <td>46</td>\n",
              "      <td>2.0</td>\n",
              "      <td>2.0</td>\n",
              "      <td>93.0</td>\n",
              "      <td>4.0</td>\n",
              "      <td>1.0</td>\n",
              "      <td>0.0</td>\n",
              "      <td>1.0</td>\n",
              "      <td>3.0</td>\n",
              "    </tr>\n",
              "    <tr>\n",
              "      <th>6</th>\n",
              "      <td>2015-01-04 06:00:00</td>\n",
              "      <td>51</td>\n",
              "      <td>1.0</td>\n",
              "      <td>-1.0</td>\n",
              "      <td>100.0</td>\n",
              "      <td>7.0</td>\n",
              "      <td>4.0</td>\n",
              "      <td>0.0</td>\n",
              "      <td>1.0</td>\n",
              "      <td>3.0</td>\n",
              "    </tr>\n",
              "    <tr>\n",
              "      <th>7</th>\n",
              "      <td>2015-01-04 07:00:00</td>\n",
              "      <td>75</td>\n",
              "      <td>1.0</td>\n",
              "      <td>-1.0</td>\n",
              "      <td>100.0</td>\n",
              "      <td>7.0</td>\n",
              "      <td>4.0</td>\n",
              "      <td>0.0</td>\n",
              "      <td>1.0</td>\n",
              "      <td>3.0</td>\n",
              "    </tr>\n",
              "    <tr>\n",
              "      <th>8</th>\n",
              "      <td>2015-01-04 08:00:00</td>\n",
              "      <td>131</td>\n",
              "      <td>1.5</td>\n",
              "      <td>-1.0</td>\n",
              "      <td>96.5</td>\n",
              "      <td>8.0</td>\n",
              "      <td>4.0</td>\n",
              "      <td>0.0</td>\n",
              "      <td>1.0</td>\n",
              "      <td>3.0</td>\n",
              "    </tr>\n",
              "    <tr>\n",
              "      <th>9</th>\n",
              "      <td>2015-01-04 09:00:00</td>\n",
              "      <td>301</td>\n",
              "      <td>2.0</td>\n",
              "      <td>-0.5</td>\n",
              "      <td>100.0</td>\n",
              "      <td>9.0</td>\n",
              "      <td>3.0</td>\n",
              "      <td>0.0</td>\n",
              "      <td>1.0</td>\n",
              "      <td>3.0</td>\n",
              "    </tr>\n",
              "  </tbody>\n",
              "</table>\n",
              "</div>\n",
              "      <button class=\"colab-df-convert\" onclick=\"convertToInteractive('df-888f1d4d-d256-461a-9539-816d7b9f4470')\"\n",
              "              title=\"Convert this dataframe to an interactive table.\"\n",
              "              style=\"display:none;\">\n",
              "        \n",
              "  <svg xmlns=\"http://www.w3.org/2000/svg\" height=\"24px\"viewBox=\"0 0 24 24\"\n",
              "       width=\"24px\">\n",
              "    <path d=\"M0 0h24v24H0V0z\" fill=\"none\"/>\n",
              "    <path d=\"M18.56 5.44l.94 2.06.94-2.06 2.06-.94-2.06-.94-.94-2.06-.94 2.06-2.06.94zm-11 1L8.5 8.5l.94-2.06 2.06-.94-2.06-.94L8.5 2.5l-.94 2.06-2.06.94zm10 10l.94 2.06.94-2.06 2.06-.94-2.06-.94-.94-2.06-.94 2.06-2.06.94z\"/><path d=\"M17.41 7.96l-1.37-1.37c-.4-.4-.92-.59-1.43-.59-.52 0-1.04.2-1.43.59L10.3 9.45l-7.72 7.72c-.78.78-.78 2.05 0 2.83L4 21.41c.39.39.9.59 1.41.59.51 0 1.02-.2 1.41-.59l7.78-7.78 2.81-2.81c.8-.78.8-2.07 0-2.86zM5.41 20L4 18.59l7.72-7.72 1.47 1.35L5.41 20z\"/>\n",
              "  </svg>\n",
              "      </button>\n",
              "      \n",
              "  <style>\n",
              "    .colab-df-container {\n",
              "      display:flex;\n",
              "      flex-wrap:wrap;\n",
              "      gap: 12px;\n",
              "    }\n",
              "\n",
              "    .colab-df-convert {\n",
              "      background-color: #E8F0FE;\n",
              "      border: none;\n",
              "      border-radius: 50%;\n",
              "      cursor: pointer;\n",
              "      display: none;\n",
              "      fill: #1967D2;\n",
              "      height: 32px;\n",
              "      padding: 0 0 0 0;\n",
              "      width: 32px;\n",
              "    }\n",
              "\n",
              "    .colab-df-convert:hover {\n",
              "      background-color: #E2EBFA;\n",
              "      box-shadow: 0px 1px 2px rgba(60, 64, 67, 0.3), 0px 1px 3px 1px rgba(60, 64, 67, 0.15);\n",
              "      fill: #174EA6;\n",
              "    }\n",
              "\n",
              "    [theme=dark] .colab-df-convert {\n",
              "      background-color: #3B4455;\n",
              "      fill: #D2E3FC;\n",
              "    }\n",
              "\n",
              "    [theme=dark] .colab-df-convert:hover {\n",
              "      background-color: #434B5C;\n",
              "      box-shadow: 0px 1px 3px 1px rgba(0, 0, 0, 0.15);\n",
              "      filter: drop-shadow(0px 1px 2px rgba(0, 0, 0, 0.3));\n",
              "      fill: #FFFFFF;\n",
              "    }\n",
              "  </style>\n",
              "\n",
              "      <script>\n",
              "        const buttonEl =\n",
              "          document.querySelector('#df-888f1d4d-d256-461a-9539-816d7b9f4470 button.colab-df-convert');\n",
              "        buttonEl.style.display =\n",
              "          google.colab.kernel.accessAllowed ? 'block' : 'none';\n",
              "\n",
              "        async function convertToInteractive(key) {\n",
              "          const element = document.querySelector('#df-888f1d4d-d256-461a-9539-816d7b9f4470');\n",
              "          const dataTable =\n",
              "            await google.colab.kernel.invokeFunction('convertToInteractive',\n",
              "                                                     [key], {});\n",
              "          if (!dataTable) return;\n",
              "\n",
              "          const docLinkHtml = 'Like what you see? Visit the ' +\n",
              "            '<a target=\"_blank\" href=https://colab.research.google.com/notebooks/data_table.ipynb>data table notebook</a>'\n",
              "            + ' to learn more about interactive tables.';\n",
              "          element.innerHTML = '';\n",
              "          dataTable['output_type'] = 'display_data';\n",
              "          await google.colab.output.renderOutput(dataTable, element);\n",
              "          const docLink = document.createElement('div');\n",
              "          docLink.innerHTML = docLinkHtml;\n",
              "          element.appendChild(docLink);\n",
              "        }\n",
              "      </script>\n",
              "    </div>\n",
              "  </div>\n",
              "  "
            ]
          },
          "metadata": {},
          "execution_count": 10
        }
      ]
    },
    {
      "cell_type": "code",
      "source": [
        "data.shape"
      ],
      "metadata": {
        "colab": {
          "base_uri": "https://localhost:8080/"
        },
        "id": "fXagpuCfq0Bx",
        "outputId": "89dddf02-706c-43ba-dfe3-c643129702aa"
      },
      "execution_count": 11,
      "outputs": [
        {
          "output_type": "execute_result",
          "data": {
            "text/plain": [
              "(17414, 10)"
            ]
          },
          "metadata": {},
          "execution_count": 11
        }
      ]
    },
    {
      "cell_type": "code",
      "source": [
        "data.info()"
      ],
      "metadata": {
        "colab": {
          "base_uri": "https://localhost:8080/"
        },
        "id": "cXj6yvIPq2DT",
        "outputId": "7eaa175a-090b-4eb0-dda6-4f00fed25be8"
      },
      "execution_count": 12,
      "outputs": [
        {
          "output_type": "stream",
          "name": "stdout",
          "text": [
            "<class 'pandas.core.frame.DataFrame'>\n",
            "RangeIndex: 17414 entries, 0 to 17413\n",
            "Data columns (total 10 columns):\n",
            " #   Column        Non-Null Count  Dtype  \n",
            "---  ------        --------------  -----  \n",
            " 0   timestamp     17414 non-null  object \n",
            " 1   cnt           17414 non-null  int64  \n",
            " 2   t1            17414 non-null  float64\n",
            " 3   t2            17414 non-null  float64\n",
            " 4   hum           17414 non-null  float64\n",
            " 5   wind_speed    17414 non-null  float64\n",
            " 6   weather_code  17414 non-null  float64\n",
            " 7   is_holiday    17414 non-null  float64\n",
            " 8   is_weekend    17414 non-null  float64\n",
            " 9   season        17414 non-null  float64\n",
            "dtypes: float64(8), int64(1), object(1)\n",
            "memory usage: 1.3+ MB\n"
          ]
        }
      ]
    },
    {
      "cell_type": "code",
      "source": [
        "target = 'cnt'\n",
        "features = [i for i in data.columns if i not in [target]]\n",
        "\n",
        "print(\"Target:\", target)\n",
        "print(\"Variables de contexto:\", features)"
      ],
      "metadata": {
        "colab": {
          "base_uri": "https://localhost:8080/"
        },
        "id": "X1IhpZ5Eq6KN",
        "outputId": "2aa32e36-d844-4b9c-8fb1-86b27d79c6aa"
      },
      "execution_count": 13,
      "outputs": [
        {
          "output_type": "stream",
          "name": "stdout",
          "text": [
            "Target: cnt\n",
            "Variables de contexto: ['timestamp', 't1', 't2', 'hum', 'wind_speed', 'weather_code', 'is_holiday', 'is_weekend', 'season']\n"
          ]
        }
      ]
    },
    {
      "cell_type": "code",
      "source": [
        "data['timestamp'] = pd.to_datetime(data['timestamp'])\n",
        "data = data.set_index('timestamp')"
      ],
      "metadata": {
        "id": "bHnGpJ-xzn9i"
      },
      "execution_count": 14,
      "outputs": []
    },
    {
      "cell_type": "code",
      "source": [
        "'''\n",
        "data[\"timestamp\"] = pd.to_datetime(data[\"timestamp\"])\n",
        "data = data.set_index(\"timestamp\")\n",
        "'''\n",
        "data['hour'] = data.index.hour #horas\n",
        "data[\"day_of_week\"] = data.index.weekday\n",
        "data[\"day_of_month\"] = data.index.day\n",
        "data[\"month\"] = data.index.month\n",
        "data[\"year\"] = data.index.year\n",
        "\n",
        "\n",
        "#timestamp\n",
        "target = data['cnt'].values\n",
        "t1 = data['t1'].values\n",
        "t2 = data['t2'].values\n",
        "hum = data['hum'].values\n",
        "viento = data['wind_speed'].values\n",
        "tiempo = data['weather_code'].values\n",
        "festivo = data['is_holiday'].values\n",
        "#is_weekend\n",
        "#season\n",
        "#year\n",
        "mes = data['month'].values\n",
        "dia = data['day_of_week'].values\n",
        "hora = data['hour'].values\n"
      ],
      "metadata": {
        "id": "q9PDFmcsq9iS"
      },
      "execution_count": 15,
      "outputs": []
    },
    {
      "cell_type": "code",
      "source": [
        "estacion = data['season'].values\n",
        "festivo = data['is_holiday'].values\n"
      ],
      "metadata": {
        "id": "fjXNe-oo2EG_"
      },
      "execution_count": 16,
      "outputs": []
    },
    {
      "cell_type": "code",
      "source": [
        "data[\"year_month\"] = data.index.strftime('%Y-%m')"
      ],
      "metadata": {
        "id": "exuNM5_guU5d"
      },
      "execution_count": 17,
      "outputs": []
    },
    {
      "cell_type": "code",
      "source": [
        "corrMatt = data.corr()\n",
        "mask = np.zeros_like(corrMatt)\n",
        "mask[np.triu_indices_from(mask)] = True\n",
        "fig, ax = plt.subplots(figsize=(15, 6))\n",
        "sns.heatmap(corrMatt, mask=mask, vmax=.8, square=False, annot=True, ax=ax, linewidths=1);"
      ],
      "metadata": {
        "colab": {
          "base_uri": "https://localhost:8080/",
          "height": 438
        },
        "id": "KxESwKsurG1t",
        "outputId": "a85ea894-94aa-4d8a-e1c0-1b6893ff327b"
      },
      "execution_count": 18,
      "outputs": [
        {
          "output_type": "display_data",
          "data": {
            "text/plain": [
              "<Figure size 1080x432 with 2 Axes>"
            ],
            "image/png": "[encoded data removed]"
          },
          "metadata": {
            "needs_background": "light"
          }
        }
      ]
    },
    {
      "cell_type": "code",
      "source": [
        "plt.figure(figsize=(15, 7))\n",
        "ax = sns.pointplot(x='hour', y='cnt', hue='is_holiday', data=data)"
      ],
      "metadata": {
        "colab": {
          "base_uri": "https://localhost:8080/",
          "height": 442
        },
        "id": "XORHkXu3rWrI",
        "outputId": "8aab0c21-af0e-42ca-ab1b-41344e57278a"
      },
      "execution_count": 19,
      "outputs": [
        {
          "output_type": "display_data",
          "data": {
            "text/plain": [
              "<Figure size 1080x504 with 1 Axes>"
            ],
            "image/png": "[encoded data removed]"
          },
          "metadata": {
            "needs_background": "light"
          }
        }
      ]
    },
    {
      "cell_type": "code",
      "source": [
        "data.head()"
      ],
      "metadata": {
        "colab": {
          "base_uri": "https://localhost:8080/",
          "height": 238
        },
        "id": "RFqoLBKPz7yz",
        "outputId": "413299ba-6b77-449c-b6f4-7c6cbb2c2730"
      },
      "execution_count": 20,
      "outputs": [
        {
          "output_type": "execute_result",
          "data": {
            "text/plain": [
              "                     cnt   t1   t2    hum  wind_speed  weather_code  \\\n",
              "timestamp                                                             \n",
              "2015-01-04 00:00:00  182  3.0  2.0   93.0         6.0           3.0   \n",
              "2015-01-04 01:00:00  138  3.0  2.5   93.0         5.0           1.0   \n",
              "2015-01-04 02:00:00  134  2.5  2.5   96.5         0.0           1.0   \n",
              "2015-01-04 03:00:00   72  2.0  2.0  100.0         0.0           1.0   \n",
              "2015-01-04 04:00:00   47  2.0  0.0   93.0         6.5           1.0   \n",
              "\n",
              "                     is_holiday  is_weekend  season  hour  day_of_week  \\\n",
              "timestamp                                                                \n",
              "2015-01-04 00:00:00         0.0         1.0     3.0     0            6   \n",
              "2015-01-04 01:00:00         0.0         1.0     3.0     1            6   \n",
              "2015-01-04 02:00:00         0.0         1.0     3.0     2            6   \n",
              "2015-01-04 03:00:00         0.0         1.0     3.0     3            6   \n",
              "2015-01-04 04:00:00         0.0         1.0     3.0     4            6   \n",
              "\n",
              "                     day_of_month  month  year year_month  \n",
              "timestamp                                                  \n",
              "2015-01-04 00:00:00             4      1  2015    2015-01  \n",
              "2015-01-04 01:00:00             4      1  2015    2015-01  \n",
              "2015-01-04 02:00:00             4      1  2015    2015-01  \n",
              "2015-01-04 03:00:00             4      1  2015    2015-01  \n",
              "2015-01-04 04:00:00             4      1  2015    2015-01  "
            ],
            "text/html": [
              "\n",
              "  <div id=\"df-de8fc4f5-c6b6-4ed6-8e53-a1085181f1aa\">\n",
              "    <div class=\"colab-df-container\">\n",
              "      <div>\n",
              "<style scoped>\n",
              "    .dataframe tbody tr th:only-of-type {\n",
              "        vertical-align: middle;\n",
              "    }\n",
              "\n",
              "    .dataframe tbody tr th {\n",
              "        vertical-align: top;\n",
              "    }\n",
              "\n",
              "    .dataframe thead th {\n",
              "        text-align: right;\n",
              "    }\n",
              "</style>\n",
              "<table border=\"1\" class=\"dataframe\">\n",
              "  <thead>\n",
              "    <tr style=\"text-align: right;\">\n",
              "      <th></th>\n",
              "      <th>cnt</th>\n",
              "      <th>t1</th>\n",
              "      <th>t2</th>\n",
              "      <th>hum</th>\n",
              "      <th>wind_speed</th>\n",
              "      <th>weather_code</th>\n",
              "      <th>is_holiday</th>\n",
              "      <th>is_weekend</th>\n",
              "      <th>season</th>\n",
              "      <th>hour</th>\n",
              "      <th>day_of_week</th>\n",
              "      <th>day_of_month</th>\n",
              "      <th>month</th>\n",
              "      <th>year</th>\n",
              "      <th>year_month</th>\n",
              "    </tr>\n",
              "    <tr>\n",
              "      <th>timestamp</th>\n",
              "      <th></th>\n",
              "      <th></th>\n",
              "      <th></th>\n",
              "      <th></th>\n",
              "      <th></th>\n",
              "      <th></th>\n",
              "      <th></th>\n",
              "      <th></th>\n",
              "      <th></th>\n",
              "      <th></th>\n",
              "      <th></th>\n",
              "      <th></th>\n",
              "      <th></th>\n",
              "      <th></th>\n",
              "      <th></th>\n",
              "    </tr>\n",
              "  </thead>\n",
              "  <tbody>\n",
              "    <tr>\n",
              "      <th>2015-01-04 00:00:00</th>\n",
              "      <td>182</td>\n",
              "      <td>3.0</td>\n",
              "      <td>2.0</td>\n",
              "      <td>93.0</td>\n",
              "      <td>6.0</td>\n",
              "      <td>3.0</td>\n",
              "      <td>0.0</td>\n",
              "      <td>1.0</td>\n",
              "      <td>3.0</td>\n",
              "      <td>0</td>\n",
              "      <td>6</td>\n",
              "      <td>4</td>\n",
              "      <td>1</td>\n",
              "      <td>2015</td>\n",
              "      <td>2015-01</td>\n",
              "    </tr>\n",
              "    <tr>\n",
              "      <th>2015-01-04 01:00:00</th>\n",
              "      <td>138</td>\n",
              "      <td>3.0</td>\n",
              "      <td>2.5</td>\n",
              "      <td>93.0</td>\n",
              "      <td>5.0</td>\n",
              "      <td>1.0</td>\n",
              "      <td>0.0</td>\n",
              "      <td>1.0</td>\n",
              "      <td>3.0</td>\n",
              "      <td>1</td>\n",
              "      <td>6</td>\n",
              "      <td>4</td>\n",
              "      <td>1</td>\n",
              "      <td>2015</td>\n",
              "      <td>2015-01</td>\n",
              "    </tr>\n",
              "    <tr>\n",
              "      <th>2015-01-04 02:00:00</th>\n",
              "      <td>134</td>\n",
              "      <td>2.5</td>\n",
              "      <td>2.5</td>\n",
              "      <td>96.5</td>\n",
              "      <td>0.0</td>\n",
              "      <td>1.0</td>\n",
              "      <td>0.0</td>\n",
              "      <td>1.0</td>\n",
              "      <td>3.0</td>\n",
              "      <td>2</td>\n",
              "      <td>6</td>\n",
              "      <td>4</td>\n",
              "      <td>1</td>\n",
              "      <td>2015</td>\n",
              "      <td>2015-01</td>\n",
              "    </tr>\n",
              "    <tr>\n",
              "      <th>2015-01-04 03:00:00</th>\n",
              "      <td>72</td>\n",
              "      <td>2.0</td>\n",
              "      <td>2.0</td>\n",
              "      <td>100.0</td>\n",
              "      <td>0.0</td>\n",
              "      <td>1.0</td>\n",
              "      <td>0.0</td>\n",
              "      <td>1.0</td>\n",
              "      <td>3.0</td>\n",
              "      <td>3</td>\n",
              "      <td>6</td>\n",
              "      <td>4</td>\n",
              "      <td>1</td>\n",
              "      <td>2015</td>\n",
              "      <td>2015-01</td>\n",
              "    </tr>\n",
              "    <tr>\n",
              "      <th>2015-01-04 04:00:00</th>\n",
              "      <td>47</td>\n",
              "      <td>2.0</td>\n",
              "      <td>0.0</td>\n",
              "      <td>93.0</td>\n",
              "      <td>6.5</td>\n",
              "      <td>1.0</td>\n",
              "      <td>0.0</td>\n",
              "      <td>1.0</td>\n",
              "      <td>3.0</td>\n",
              "      <td>4</td>\n",
              "      <td>6</td>\n",
              "      <td>4</td>\n",
              "      <td>1</td>\n",
              "      <td>2015</td>\n",
              "      <td>2015-01</td>\n",
              "    </tr>\n",
              "  </tbody>\n",
              "</table>\n",
              "</div>\n",
              "      <button class=\"colab-df-convert\" onclick=\"convertToInteractive('df-de8fc4f5-c6b6-4ed6-8e53-a1085181f1aa')\"\n",
              "              title=\"Convert this dataframe to an interactive table.\"\n",
              "              style=\"display:none;\">\n",
              "        \n",
              "  <svg xmlns=\"http://www.w3.org/2000/svg\" height=\"24px\"viewBox=\"0 0 24 24\"\n",
              "       width=\"24px\">\n",
              "    <path d=\"M0 0h24v24H0V0z\" fill=\"none\"/>\n",
              "    <path d=\"M18.56 5.44l.94 2.06.94-2.06 2.06-.94-2.06-.94-.94-2.06-.94 2.06-2.06.94zm-11 1L8.5 8.5l.94-2.06 2.06-.94-2.06-.94L8.5 2.5l-.94 2.06-2.06.94zm10 10l.94 2.06.94-2.06 2.06-.94-2.06-.94-.94-2.06-.94 2.06-2.06.94z\"/><path d=\"M17.41 7.96l-1.37-1.37c-.4-.4-.92-.59-1.43-.59-.52 0-1.04.2-1.43.59L10.3 9.45l-7.72 7.72c-.78.78-.78 2.05 0 2.83L4 21.41c.39.39.9.59 1.41.59.51 0 1.02-.2 1.41-.59l7.78-7.78 2.81-2.81c.8-.78.8-2.07 0-2.86zM5.41 20L4 18.59l7.72-7.72 1.47 1.35L5.41 20z\"/>\n",
              "  </svg>\n",
              "      </button>\n",
              "      \n",
              "  <style>\n",
              "    .colab-df-container {\n",
              "      display:flex;\n",
              "      flex-wrap:wrap;\n",
              "      gap: 12px;\n",
              "    }\n",
              "\n",
              "    .colab-df-convert {\n",
              "      background-color: #E8F0FE;\n",
              "      border: none;\n",
              "      border-radius: 50%;\n",
              "      cursor: pointer;\n",
              "      display: none;\n",
              "      fill: #1967D2;\n",
              "      height: 32px;\n",
              "      padding: 0 0 0 0;\n",
              "      width: 32px;\n",
              "    }\n",
              "\n",
              "    .colab-df-convert:hover {\n",
              "      background-color: #E2EBFA;\n",
              "      box-shadow: 0px 1px 2px rgba(60, 64, 67, 0.3), 0px 1px 3px 1px rgba(60, 64, 67, 0.15);\n",
              "      fill: #174EA6;\n",
              "    }\n",
              "\n",
              "    [theme=dark] .colab-df-convert {\n",
              "      background-color: #3B4455;\n",
              "      fill: #D2E3FC;\n",
              "    }\n",
              "\n",
              "    [theme=dark] .colab-df-convert:hover {\n",
              "      background-color: #434B5C;\n",
              "      box-shadow: 0px 1px 3px 1px rgba(0, 0, 0, 0.15);\n",
              "      filter: drop-shadow(0px 1px 2px rgba(0, 0, 0, 0.3));\n",
              "      fill: #FFFFFF;\n",
              "    }\n",
              "  </style>\n",
              "\n",
              "      <script>\n",
              "        const buttonEl =\n",
              "          document.querySelector('#df-de8fc4f5-c6b6-4ed6-8e53-a1085181f1aa button.colab-df-convert');\n",
              "        buttonEl.style.display =\n",
              "          google.colab.kernel.accessAllowed ? 'block' : 'none';\n",
              "\n",
              "        async function convertToInteractive(key) {\n",
              "          const element = document.querySelector('#df-de8fc4f5-c6b6-4ed6-8e53-a1085181f1aa');\n",
              "          const dataTable =\n",
              "            await google.colab.kernel.invokeFunction('convertToInteractive',\n",
              "                                                     [key], {});\n",
              "          if (!dataTable) return;\n",
              "\n",
              "          const docLinkHtml = 'Like what you see? Visit the ' +\n",
              "            '<a target=\"_blank\" href=https://colab.research.google.com/notebooks/data_table.ipynb>data table notebook</a>'\n",
              "            + ' to learn more about interactive tables.';\n",
              "          element.innerHTML = '';\n",
              "          dataTable['output_type'] = 'display_data';\n",
              "          await google.colab.output.renderOutput(dataTable, element);\n",
              "          const docLink = document.createElement('div');\n",
              "          docLink.innerHTML = docLinkHtml;\n",
              "          element.appendChild(docLink);\n",
              "        }\n",
              "      </script>\n",
              "    </div>\n",
              "  </div>\n",
              "  "
            ]
          },
          "metadata": {},
          "execution_count": 20
        }
      ]
    },
    {
      "cell_type": "code",
      "source": [
        "data_final = data[['t1',\n",
        " 'hum',\n",
        " 'wind_speed',\n",
        " 'weather_code',\n",
        " 'is_holiday',\n",
        " 'is_weekend',\n",
        " 'season',\n",
        " 'hour',\n",
        " 'month',\n",
        " 'cnt'\n",
        " ]]"
      ],
      "metadata": {
        "id": "JMBXiMKHreYu"
      },
      "execution_count": 21,
      "outputs": []
    },
    {
      "cell_type": "code",
      "source": [
        "data_final.head()"
      ],
      "metadata": {
        "colab": {
          "base_uri": "https://localhost:8080/",
          "height": 238
        },
        "id": "NOJ4AaWpws_K",
        "outputId": "4923a54a-16ca-4b0b-e987-359b98d4f107"
      },
      "execution_count": 22,
      "outputs": [
        {
          "output_type": "execute_result",
          "data": {
            "text/plain": [
              "                      t1    hum  wind_speed  weather_code  is_holiday  \\\n",
              "timestamp                                                               \n",
              "2015-01-04 00:00:00  3.0   93.0         6.0           3.0         0.0   \n",
              "2015-01-04 01:00:00  3.0   93.0         5.0           1.0         0.0   \n",
              "2015-01-04 02:00:00  2.5   96.5         0.0           1.0         0.0   \n",
              "2015-01-04 03:00:00  2.0  100.0         0.0           1.0         0.0   \n",
              "2015-01-04 04:00:00  2.0   93.0         6.5           1.0         0.0   \n",
              "\n",
              "                     is_weekend  season  hour  month  cnt  \n",
              "timestamp                                                  \n",
              "2015-01-04 00:00:00         1.0     3.0     0      1  182  \n",
              "2015-01-04 01:00:00         1.0     3.0     1      1  138  \n",
              "2015-01-04 02:00:00         1.0     3.0     2      1  134  \n",
              "2015-01-04 03:00:00         1.0     3.0     3      1   72  \n",
              "2015-01-04 04:00:00         1.0     3.0     4      1   47  "
            ],
            "text/html": [
              "\n",
              "  <div id=\"df-ce4f5ec7-6436-4512-987a-c8b5ea1122fa\">\n",
              "    <div class=\"colab-df-container\">\n",
              "      <div>\n",
              "<style scoped>\n",
              "    .dataframe tbody tr th:only-of-type {\n",
              "        vertical-align: middle;\n",
              "    }\n",
              "\n",
              "    .dataframe tbody tr th {\n",
              "        vertical-align: top;\n",
              "    }\n",
              "\n",
              "    .dataframe thead th {\n",
              "        text-align: right;\n",
              "    }\n",
              "</style>\n",
              "<table border=\"1\" class=\"dataframe\">\n",
              "  <thead>\n",
              "    <tr style=\"text-align: right;\">\n",
              "      <th></th>\n",
              "      <th>t1</th>\n",
              "      <th>hum</th>\n",
              "      <th>wind_speed</th>\n",
              "      <th>weather_code</th>\n",
              "      <th>is_holiday</th>\n",
              "      <th>is_weekend</th>\n",
              "      <th>season</th>\n",
              "      <th>hour</th>\n",
              "      <th>month</th>\n",
              "      <th>cnt</th>\n",
              "    </tr>\n",
              "    <tr>\n",
              "      <th>timestamp</th>\n",
              "      <th></th>\n",
              "      <th></th>\n",
              "      <th></th>\n",
              "      <th></th>\n",
              "      <th></th>\n",
              "      <th></th>\n",
              "      <th></th>\n",
              "      <th></th>\n",
              "      <th></th>\n",
              "      <th></th>\n",
              "    </tr>\n",
              "  </thead>\n",
              "  <tbody>\n",
              "    <tr>\n",
              "      <th>2015-01-04 00:00:00</th>\n",
              "      <td>3.0</td>\n",
              "      <td>93.0</td>\n",
              "      <td>6.0</td>\n",
              "      <td>3.0</td>\n",
              "      <td>0.0</td>\n",
              "      <td>1.0</td>\n",
              "      <td>3.0</td>\n",
              "      <td>0</td>\n",
              "      <td>1</td>\n",
              "      <td>182</td>\n",
              "    </tr>\n",
              "    <tr>\n",
              "      <th>2015-01-04 01:00:00</th>\n",
              "      <td>3.0</td>\n",
              "      <td>93.0</td>\n",
              "      <td>5.0</td>\n",
              "      <td>1.0</td>\n",
              "      <td>0.0</td>\n",
              "      <td>1.0</td>\n",
              "      <td>3.0</td>\n",
              "      <td>1</td>\n",
              "      <td>1</td>\n",
              "      <td>138</td>\n",
              "    </tr>\n",
              "    <tr>\n",
              "      <th>2015-01-04 02:00:00</th>\n",
              "      <td>2.5</td>\n",
              "      <td>96.5</td>\n",
              "      <td>0.0</td>\n",
              "      <td>1.0</td>\n",
              "      <td>0.0</td>\n",
              "      <td>1.0</td>\n",
              "      <td>3.0</td>\n",
              "      <td>2</td>\n",
              "      <td>1</td>\n",
              "      <td>134</td>\n",
              "    </tr>\n",
              "    <tr>\n",
              "      <th>2015-01-04 03:00:00</th>\n",
              "      <td>2.0</td>\n",
              "      <td>100.0</td>\n",
              "      <td>0.0</td>\n",
              "      <td>1.0</td>\n",
              "      <td>0.0</td>\n",
              "      <td>1.0</td>\n",
              "      <td>3.0</td>\n",
              "      <td>3</td>\n",
              "      <td>1</td>\n",
              "      <td>72</td>\n",
              "    </tr>\n",
              "    <tr>\n",
              "      <th>2015-01-04 04:00:00</th>\n",
              "      <td>2.0</td>\n",
              "      <td>93.0</td>\n",
              "      <td>6.5</td>\n",
              "      <td>1.0</td>\n",
              "      <td>0.0</td>\n",
              "      <td>1.0</td>\n",
              "      <td>3.0</td>\n",
              "      <td>4</td>\n",
              "      <td>1</td>\n",
              "      <td>47</td>\n",
              "    </tr>\n",
              "  </tbody>\n",
              "</table>\n",
              "</div>\n",
              "      <button class=\"colab-df-convert\" onclick=\"convertToInteractive('df-ce4f5ec7-6436-4512-987a-c8b5ea1122fa')\"\n",
              "              title=\"Convert this dataframe to an interactive table.\"\n",
              "              style=\"display:none;\">\n",
              "        \n",
              "  <svg xmlns=\"http://www.w3.org/2000/svg\" height=\"24px\"viewBox=\"0 0 24 24\"\n",
              "       width=\"24px\">\n",
              "    <path d=\"M0 0h24v24H0V0z\" fill=\"none\"/>\n",
              "    <path d=\"M18.56 5.44l.94 2.06.94-2.06 2.06-.94-2.06-.94-.94-2.06-.94 2.06-2.06.94zm-11 1L8.5 8.5l.94-2.06 2.06-.94-2.06-.94L8.5 2.5l-.94 2.06-2.06.94zm10 10l.94 2.06.94-2.06 2.06-.94-2.06-.94-.94-2.06-.94 2.06-2.06.94z\"/><path d=\"M17.41 7.96l-1.37-1.37c-.4-.4-.92-.59-1.43-.59-.52 0-1.04.2-1.43.59L10.3 9.45l-7.72 7.72c-.78.78-.78 2.05 0 2.83L4 21.41c.39.39.9.59 1.41.59.51 0 1.02-.2 1.41-.59l7.78-7.78 2.81-2.81c.8-.78.8-2.07 0-2.86zM5.41 20L4 18.59l7.72-7.72 1.47 1.35L5.41 20z\"/>\n",
              "  </svg>\n",
              "      </button>\n",
              "      \n",
              "  <style>\n",
              "    .colab-df-container {\n",
              "      display:flex;\n",
              "      flex-wrap:wrap;\n",
              "      gap: 12px;\n",
              "    }\n",
              "\n",
              "    .colab-df-convert {\n",
              "      background-color: #E8F0FE;\n",
              "      border: none;\n",
              "      border-radius: 50%;\n",
              "      cursor: pointer;\n",
              "      display: none;\n",
              "      fill: #1967D2;\n",
              "      height: 32px;\n",
              "      padding: 0 0 0 0;\n",
              "      width: 32px;\n",
              "    }\n",
              "\n",
              "    .colab-df-convert:hover {\n",
              "      background-color: #E2EBFA;\n",
              "      box-shadow: 0px 1px 2px rgba(60, 64, 67, 0.3), 0px 1px 3px 1px rgba(60, 64, 67, 0.15);\n",
              "      fill: #174EA6;\n",
              "    }\n",
              "\n",
              "    [theme=dark] .colab-df-convert {\n",
              "      background-color: #3B4455;\n",
              "      fill: #D2E3FC;\n",
              "    }\n",
              "\n",
              "    [theme=dark] .colab-df-convert:hover {\n",
              "      background-color: #434B5C;\n",
              "      box-shadow: 0px 1px 3px 1px rgba(0, 0, 0, 0.15);\n",
              "      filter: drop-shadow(0px 1px 2px rgba(0, 0, 0, 0.3));\n",
              "      fill: #FFFFFF;\n",
              "    }\n",
              "  </style>\n",
              "\n",
              "      <script>\n",
              "        const buttonEl =\n",
              "          document.querySelector('#df-ce4f5ec7-6436-4512-987a-c8b5ea1122fa button.colab-df-convert');\n",
              "        buttonEl.style.display =\n",
              "          google.colab.kernel.accessAllowed ? 'block' : 'none';\n",
              "\n",
              "        async function convertToInteractive(key) {\n",
              "          const element = document.querySelector('#df-ce4f5ec7-6436-4512-987a-c8b5ea1122fa');\n",
              "          const dataTable =\n",
              "            await google.colab.kernel.invokeFunction('convertToInteractive',\n",
              "                                                     [key], {});\n",
              "          if (!dataTable) return;\n",
              "\n",
              "          const docLinkHtml = 'Like what you see? Visit the ' +\n",
              "            '<a target=\"_blank\" href=https://colab.research.google.com/notebooks/data_table.ipynb>data table notebook</a>'\n",
              "            + ' to learn more about interactive tables.';\n",
              "          element.innerHTML = '';\n",
              "          dataTable['output_type'] = 'display_data';\n",
              "          await google.colab.output.renderOutput(dataTable, element);\n",
              "          const docLink = document.createElement('div');\n",
              "          docLink.innerHTML = docLinkHtml;\n",
              "          element.appendChild(docLink);\n",
              "        }\n",
              "      </script>\n",
              "    </div>\n",
              "  </div>\n",
              "  "
            ]
          },
          "metadata": {},
          "execution_count": 22
        }
      ]
    },
    {
      "cell_type": "code",
      "source": [
        "data_final = data_final.reset_index()"
      ],
      "metadata": {
        "id": "Kxu8p9XPq3FR"
      },
      "execution_count": 23,
      "outputs": []
    },
    {
      "cell_type": "code",
      "source": [
        "std_cnt = data.cnt.std()\n",
        "std_cnt"
      ],
      "metadata": {
        "colab": {
          "base_uri": "https://localhost:8080/"
        },
        "id": "U_6Z4yHzx-Fb",
        "outputId": "3309a1c9-beed-4367-8aa1-a3407be3133e"
      },
      "execution_count": 24,
      "outputs": [
        {
          "output_type": "execute_result",
          "data": {
            "text/plain": [
              "1085.1080679362167"
            ]
          },
          "metadata": {},
          "execution_count": 24
        }
      ]
    },
    {
      "cell_type": "code",
      "source": [
        "# Transformación de escala (ajustar el factor en función del problema)\n",
        "def transform(x):\n",
        "    return x/std_cnt\n",
        "def inverse_transform(x_escalado):\n",
        "    return x_escalado*std_cnt"
      ],
      "metadata": {
        "id": "MShH1CqyxXCn"
      },
      "execution_count": 25,
      "outputs": []
    },
    {
      "cell_type": "code",
      "source": [
        "from sklearn.preprocessing import RobustScaler\n",
        "\n",
        "f_columns = ['t1', 'hum', 'wind_speed']\n",
        "\n",
        "f_transformer = RobustScaler()\n",
        "\n",
        "f_transformer = f_transformer.fit(data_final[f_columns].to_numpy())\n",
        "\n",
        "data_final.loc[:, f_columns] = f_transformer.transform(\n",
        "    data_final[f_columns].to_numpy()\n",
        ")"
      ],
      "metadata": {
        "id": "1qV3kRWbyxJu"
      },
      "execution_count": 26,
      "outputs": []
    },
    {
      "cell_type": "code",
      "source": [
        "data_final['cnt'] = transform(data_final['cnt'])"
      ],
      "metadata": {
        "id": "nI7nPZLII4SR"
      },
      "execution_count": 27,
      "outputs": []
    },
    {
      "cell_type": "code",
      "source": [
        "data_final.head()"
      ],
      "metadata": {
        "colab": {
          "base_uri": "https://localhost:8080/",
          "height": 206
        },
        "id": "Zqp9EYHXGnTA",
        "outputId": "f50ea89f-cc7a-4b5c-fe2a-7e4329b1bdd0"
      },
      "execution_count": 28,
      "outputs": [
        {
          "output_type": "execute_result",
          "data": {
            "text/plain": [
              "            timestamp      t1    hum  wind_speed  weather_code  is_holiday  \\\n",
              "0 2015-01-04 00:00:00 -1.1875  0.925   -0.857143           3.0         0.0   \n",
              "1 2015-01-04 01:00:00 -1.1875  0.925   -0.952381           1.0         0.0   \n",
              "2 2015-01-04 02:00:00 -1.2500  1.100   -1.428571           1.0         0.0   \n",
              "3 2015-01-04 03:00:00 -1.3125  1.275   -1.428571           1.0         0.0   \n",
              "4 2015-01-04 04:00:00 -1.3125  0.925   -0.809524           1.0         0.0   \n",
              "\n",
              "   is_weekend  season  hour  month       cnt  \n",
              "0         1.0     3.0     0      1  0.167725  \n",
              "1         1.0     3.0     1      1  0.127176  \n",
              "2         1.0     3.0     2      1  0.123490  \n",
              "3         1.0     3.0     3      1  0.066353  \n",
              "4         1.0     3.0     4      1  0.043314  "
            ],
            "text/html": [
              "\n",
              "  <div id=\"df-b220eeed-330b-48e3-82bd-294fc6430cfc\">\n",
              "    <div class=\"colab-df-container\">\n",
              "      <div>\n",
              "<style scoped>\n",
              "    .dataframe tbody tr th:only-of-type {\n",
              "        vertical-align: middle;\n",
              "    }\n",
              "\n",
              "    .dataframe tbody tr th {\n",
              "        vertical-align: top;\n",
              "    }\n",
              "\n",
              "    .dataframe thead th {\n",
              "        text-align: right;\n",
              "    }\n",
              "</style>\n",
              "<table border=\"1\" class=\"dataframe\">\n",
              "  <thead>\n",
              "    <tr style=\"text-align: right;\">\n",
              "      <th></th>\n",
              "      <th>timestamp</th>\n",
              "      <th>t1</th>\n",
              "      <th>hum</th>\n",
              "      <th>wind_speed</th>\n",
              "      <th>weather_code</th>\n",
              "      <th>is_holiday</th>\n",
              "      <th>is_weekend</th>\n",
              "      <th>season</th>\n",
              "      <th>hour</th>\n",
              "      <th>month</th>\n",
              "      <th>cnt</th>\n",
              "    </tr>\n",
              "  </thead>\n",
              "  <tbody>\n",
              "    <tr>\n",
              "      <th>0</th>\n",
              "      <td>2015-01-04 00:00:00</td>\n",
              "      <td>-1.1875</td>\n",
              "      <td>0.925</td>\n",
              "      <td>-0.857143</td>\n",
              "      <td>3.0</td>\n",
              "      <td>0.0</td>\n",
              "      <td>1.0</td>\n",
              "      <td>3.0</td>\n",
              "      <td>0</td>\n",
              "      <td>1</td>\n",
              "      <td>0.167725</td>\n",
              "    </tr>\n",
              "    <tr>\n",
              "      <th>1</th>\n",
              "      <td>2015-01-04 01:00:00</td>\n",
              "      <td>-1.1875</td>\n",
              "      <td>0.925</td>\n",
              "      <td>-0.952381</td>\n",
              "      <td>1.0</td>\n",
              "      <td>0.0</td>\n",
              "      <td>1.0</td>\n",
              "      <td>3.0</td>\n",
              "      <td>1</td>\n",
              "      <td>1</td>\n",
              "      <td>0.127176</td>\n",
              "    </tr>\n",
              "    <tr>\n",
              "      <th>2</th>\n",
              "      <td>2015-01-04 02:00:00</td>\n",
              "      <td>-1.2500</td>\n",
              "      <td>1.100</td>\n",
              "      <td>-1.428571</td>\n",
              "      <td>1.0</td>\n",
              "      <td>0.0</td>\n",
              "      <td>1.0</td>\n",
              "      <td>3.0</td>\n",
              "      <td>2</td>\n",
              "      <td>1</td>\n",
              "      <td>0.123490</td>\n",
              "    </tr>\n",
              "    <tr>\n",
              "      <th>3</th>\n",
              "      <td>2015-01-04 03:00:00</td>\n",
              "      <td>-1.3125</td>\n",
              "      <td>1.275</td>\n",
              "      <td>-1.428571</td>\n",
              "      <td>1.0</td>\n",
              "      <td>0.0</td>\n",
              "      <td>1.0</td>\n",
              "      <td>3.0</td>\n",
              "      <td>3</td>\n",
              "      <td>1</td>\n",
              "      <td>0.066353</td>\n",
              "    </tr>\n",
              "    <tr>\n",
              "      <th>4</th>\n",
              "      <td>2015-01-04 04:00:00</td>\n",
              "      <td>-1.3125</td>\n",
              "      <td>0.925</td>\n",
              "      <td>-0.809524</td>\n",
              "      <td>1.0</td>\n",
              "      <td>0.0</td>\n",
              "      <td>1.0</td>\n",
              "      <td>3.0</td>\n",
              "      <td>4</td>\n",
              "      <td>1</td>\n",
              "      <td>0.043314</td>\n",
              "    </tr>\n",
              "  </tbody>\n",
              "</table>\n",
              "</div>\n",
              "      <button class=\"colab-df-convert\" onclick=\"convertToInteractive('df-b220eeed-330b-48e3-82bd-294fc6430cfc')\"\n",
              "              title=\"Convert this dataframe to an interactive table.\"\n",
              "              style=\"display:none;\">\n",
              "        \n",
              "  <svg xmlns=\"http://www.w3.org/2000/svg\" height=\"24px\"viewBox=\"0 0 24 24\"\n",
              "       width=\"24px\">\n",
              "    <path d=\"M0 0h24v24H0V0z\" fill=\"none\"/>\n",
              "    <path d=\"M18.56 5.44l.94 2.06.94-2.06 2.06-.94-2.06-.94-.94-2.06-.94 2.06-2.06.94zm-11 1L8.5 8.5l.94-2.06 2.06-.94-2.06-.94L8.5 2.5l-.94 2.06-2.06.94zm10 10l.94 2.06.94-2.06 2.06-.94-2.06-.94-.94-2.06-.94 2.06-2.06.94z\"/><path d=\"M17.41 7.96l-1.37-1.37c-.4-.4-.92-.59-1.43-.59-.52 0-1.04.2-1.43.59L10.3 9.45l-7.72 7.72c-.78.78-.78 2.05 0 2.83L4 21.41c.39.39.9.59 1.41.59.51 0 1.02-.2 1.41-.59l7.78-7.78 2.81-2.81c.8-.78.8-2.07 0-2.86zM5.41 20L4 18.59l7.72-7.72 1.47 1.35L5.41 20z\"/>\n",
              "  </svg>\n",
              "      </button>\n",
              "      \n",
              "  <style>\n",
              "    .colab-df-container {\n",
              "      display:flex;\n",
              "      flex-wrap:wrap;\n",
              "      gap: 12px;\n",
              "    }\n",
              "\n",
              "    .colab-df-convert {\n",
              "      background-color: #E8F0FE;\n",
              "      border: none;\n",
              "      border-radius: 50%;\n",
              "      cursor: pointer;\n",
              "      display: none;\n",
              "      fill: #1967D2;\n",
              "      height: 32px;\n",
              "      padding: 0 0 0 0;\n",
              "      width: 32px;\n",
              "    }\n",
              "\n",
              "    .colab-df-convert:hover {\n",
              "      background-color: #E2EBFA;\n",
              "      box-shadow: 0px 1px 2px rgba(60, 64, 67, 0.3), 0px 1px 3px 1px rgba(60, 64, 67, 0.15);\n",
              "      fill: #174EA6;\n",
              "    }\n",
              "\n",
              "    [theme=dark] .colab-df-convert {\n",
              "      background-color: #3B4455;\n",
              "      fill: #D2E3FC;\n",
              "    }\n",
              "\n",
              "    [theme=dark] .colab-df-convert:hover {\n",
              "      background-color: #434B5C;\n",
              "      box-shadow: 0px 1px 3px 1px rgba(0, 0, 0, 0.15);\n",
              "      filter: drop-shadow(0px 1px 2px rgba(0, 0, 0, 0.3));\n",
              "      fill: #FFFFFF;\n",
              "    }\n",
              "  </style>\n",
              "\n",
              "      <script>\n",
              "        const buttonEl =\n",
              "          document.querySelector('#df-b220eeed-330b-48e3-82bd-294fc6430cfc button.colab-df-convert');\n",
              "        buttonEl.style.display =\n",
              "          google.colab.kernel.accessAllowed ? 'block' : 'none';\n",
              "\n",
              "        async function convertToInteractive(key) {\n",
              "          const element = document.querySelector('#df-b220eeed-330b-48e3-82bd-294fc6430cfc');\n",
              "          const dataTable =\n",
              "            await google.colab.kernel.invokeFunction('convertToInteractive',\n",
              "                                                     [key], {});\n",
              "          if (!dataTable) return;\n",
              "\n",
              "          const docLinkHtml = 'Like what you see? Visit the ' +\n",
              "            '<a target=\"_blank\" href=https://colab.research.google.com/notebooks/data_table.ipynb>data table notebook</a>'\n",
              "            + ' to learn more about interactive tables.';\n",
              "          element.innerHTML = '';\n",
              "          dataTable['output_type'] = 'display_data';\n",
              "          await google.colab.output.renderOutput(dataTable, element);\n",
              "          const docLink = document.createElement('div');\n",
              "          docLink.innerHTML = docLinkHtml;\n",
              "          element.appendChild(docLink);\n",
              "        }\n",
              "      </script>\n",
              "    </div>\n",
              "  </div>\n",
              "  "
            ]
          },
          "metadata": {},
          "execution_count": 28
        }
      ]
    },
    {
      "cell_type": "code",
      "source": [
        "data_final[\"season\"] = data_final[\"season\"].astype(int)\n",
        "data_final[\"is_weekend\"] = data_final[\"is_weekend\"].astype(int)\n",
        "data_final[\"is_holiday\"] = data_final[\"is_holiday\"].astype(int)\n",
        "data_final[\"weather_code\"] = data_final[\"weather_code\"].astype(int)"
      ],
      "metadata": {
        "id": "b88WmgWHtSiq"
      },
      "execution_count": 29,
      "outputs": []
    },
    {
      "cell_type": "code",
      "source": [
        "data_final.head(5)"
      ],
      "metadata": {
        "id": "PK-snE24ugmF",
        "outputId": "338df818-14c7-41f6-f8c6-a0e3e19295d1",
        "colab": {
          "base_uri": "https://localhost:8080/",
          "height": 206
        }
      },
      "execution_count": 30,
      "outputs": [
        {
          "output_type": "execute_result",
          "data": {
            "text/plain": [
              "            timestamp      t1    hum  wind_speed  weather_code  is_holiday  \\\n",
              "0 2015-01-04 00:00:00 -1.1875  0.925   -0.857143             3           0   \n",
              "1 2015-01-04 01:00:00 -1.1875  0.925   -0.952381             1           0   \n",
              "2 2015-01-04 02:00:00 -1.2500  1.100   -1.428571             1           0   \n",
              "3 2015-01-04 03:00:00 -1.3125  1.275   -1.428571             1           0   \n",
              "4 2015-01-04 04:00:00 -1.3125  0.925   -0.809524             1           0   \n",
              "\n",
              "   is_weekend  season  hour  month       cnt  \n",
              "0           1       3     0      1  0.167725  \n",
              "1           1       3     1      1  0.127176  \n",
              "2           1       3     2      1  0.123490  \n",
              "3           1       3     3      1  0.066353  \n",
              "4           1       3     4      1  0.043314  "
            ],
            "text/html": [
              "\n",
              "  <div id=\"df-7c5ea92b-3fa9-4656-8325-2c4e9a5efb78\">\n",
              "    <div class=\"colab-df-container\">\n",
              "      <div>\n",
              "<style scoped>\n",
              "    .dataframe tbody tr th:only-of-type {\n",
              "        vertical-align: middle;\n",
              "    }\n",
              "\n",
              "    .dataframe tbody tr th {\n",
              "        vertical-align: top;\n",
              "    }\n",
              "\n",
              "    .dataframe thead th {\n",
              "        text-align: right;\n",
              "    }\n",
              "</style>\n",
              "<table border=\"1\" class=\"dataframe\">\n",
              "  <thead>\n",
              "    <tr style=\"text-align: right;\">\n",
              "      <th></th>\n",
              "      <th>timestamp</th>\n",
              "      <th>t1</th>\n",
              "      <th>hum</th>\n",
              "      <th>wind_speed</th>\n",
              "      <th>weather_code</th>\n",
              "      <th>is_holiday</th>\n",
              "      <th>is_weekend</th>\n",
              "      <th>season</th>\n",
              "      <th>hour</th>\n",
              "      <th>month</th>\n",
              "      <th>cnt</th>\n",
              "    </tr>\n",
              "  </thead>\n",
              "  <tbody>\n",
              "    <tr>\n",
              "      <th>0</th>\n",
              "      <td>2015-01-04 00:00:00</td>\n",
              "      <td>-1.1875</td>\n",
              "      <td>0.925</td>\n",
              "      <td>-0.857143</td>\n",
              "      <td>3</td>\n",
              "      <td>0</td>\n",
              "      <td>1</td>\n",
              "      <td>3</td>\n",
              "      <td>0</td>\n",
              "      <td>1</td>\n",
              "      <td>0.167725</td>\n",
              "    </tr>\n",
              "    <tr>\n",
              "      <th>1</th>\n",
              "      <td>2015-01-04 01:00:00</td>\n",
              "      <td>-1.1875</td>\n",
              "      <td>0.925</td>\n",
              "      <td>-0.952381</td>\n",
              "      <td>1</td>\n",
              "      <td>0</td>\n",
              "      <td>1</td>\n",
              "      <td>3</td>\n",
              "      <td>1</td>\n",
              "      <td>1</td>\n",
              "      <td>0.127176</td>\n",
              "    </tr>\n",
              "    <tr>\n",
              "      <th>2</th>\n",
              "      <td>2015-01-04 02:00:00</td>\n",
              "      <td>-1.2500</td>\n",
              "      <td>1.100</td>\n",
              "      <td>-1.428571</td>\n",
              "      <td>1</td>\n",
              "      <td>0</td>\n",
              "      <td>1</td>\n",
              "      <td>3</td>\n",
              "      <td>2</td>\n",
              "      <td>1</td>\n",
              "      <td>0.123490</td>\n",
              "    </tr>\n",
              "    <tr>\n",
              "      <th>3</th>\n",
              "      <td>2015-01-04 03:00:00</td>\n",
              "      <td>-1.3125</td>\n",
              "      <td>1.275</td>\n",
              "      <td>-1.428571</td>\n",
              "      <td>1</td>\n",
              "      <td>0</td>\n",
              "      <td>1</td>\n",
              "      <td>3</td>\n",
              "      <td>3</td>\n",
              "      <td>1</td>\n",
              "      <td>0.066353</td>\n",
              "    </tr>\n",
              "    <tr>\n",
              "      <th>4</th>\n",
              "      <td>2015-01-04 04:00:00</td>\n",
              "      <td>-1.3125</td>\n",
              "      <td>0.925</td>\n",
              "      <td>-0.809524</td>\n",
              "      <td>1</td>\n",
              "      <td>0</td>\n",
              "      <td>1</td>\n",
              "      <td>3</td>\n",
              "      <td>4</td>\n",
              "      <td>1</td>\n",
              "      <td>0.043314</td>\n",
              "    </tr>\n",
              "  </tbody>\n",
              "</table>\n",
              "</div>\n",
              "      <button class=\"colab-df-convert\" onclick=\"convertToInteractive('df-7c5ea92b-3fa9-4656-8325-2c4e9a5efb78')\"\n",
              "              title=\"Convert this dataframe to an interactive table.\"\n",
              "              style=\"display:none;\">\n",
              "        \n",
              "  <svg xmlns=\"http://www.w3.org/2000/svg\" height=\"24px\"viewBox=\"0 0 24 24\"\n",
              "       width=\"24px\">\n",
              "    <path d=\"M0 0h24v24H0V0z\" fill=\"none\"/>\n",
              "    <path d=\"M18.56 5.44l.94 2.06.94-2.06 2.06-.94-2.06-.94-.94-2.06-.94 2.06-2.06.94zm-11 1L8.5 8.5l.94-2.06 2.06-.94-2.06-.94L8.5 2.5l-.94 2.06-2.06.94zm10 10l.94 2.06.94-2.06 2.06-.94-2.06-.94-.94-2.06-.94 2.06-2.06.94z\"/><path d=\"M17.41 7.96l-1.37-1.37c-.4-.4-.92-.59-1.43-.59-.52 0-1.04.2-1.43.59L10.3 9.45l-7.72 7.72c-.78.78-.78 2.05 0 2.83L4 21.41c.39.39.9.59 1.41.59.51 0 1.02-.2 1.41-.59l7.78-7.78 2.81-2.81c.8-.78.8-2.07 0-2.86zM5.41 20L4 18.59l7.72-7.72 1.47 1.35L5.41 20z\"/>\n",
              "  </svg>\n",
              "      </button>\n",
              "      \n",
              "  <style>\n",
              "    .colab-df-container {\n",
              "      display:flex;\n",
              "      flex-wrap:wrap;\n",
              "      gap: 12px;\n",
              "    }\n",
              "\n",
              "    .colab-df-convert {\n",
              "      background-color: #E8F0FE;\n",
              "      border: none;\n",
              "      border-radius: 50%;\n",
              "      cursor: pointer;\n",
              "      display: none;\n",
              "      fill: #1967D2;\n",
              "      height: 32px;\n",
              "      padding: 0 0 0 0;\n",
              "      width: 32px;\n",
              "    }\n",
              "\n",
              "    .colab-df-convert:hover {\n",
              "      background-color: #E2EBFA;\n",
              "      box-shadow: 0px 1px 2px rgba(60, 64, 67, 0.3), 0px 1px 3px 1px rgba(60, 64, 67, 0.15);\n",
              "      fill: #174EA6;\n",
              "    }\n",
              "\n",
              "    [theme=dark] .colab-df-convert {\n",
              "      background-color: #3B4455;\n",
              "      fill: #D2E3FC;\n",
              "    }\n",
              "\n",
              "    [theme=dark] .colab-df-convert:hover {\n",
              "      background-color: #434B5C;\n",
              "      box-shadow: 0px 1px 3px 1px rgba(0, 0, 0, 0.15);\n",
              "      filter: drop-shadow(0px 1px 2px rgba(0, 0, 0, 0.3));\n",
              "      fill: #FFFFFF;\n",
              "    }\n",
              "  </style>\n",
              "\n",
              "      <script>\n",
              "        const buttonEl =\n",
              "          document.querySelector('#df-7c5ea92b-3fa9-4656-8325-2c4e9a5efb78 button.colab-df-convert');\n",
              "        buttonEl.style.display =\n",
              "          google.colab.kernel.accessAllowed ? 'block' : 'none';\n",
              "\n",
              "        async function convertToInteractive(key) {\n",
              "          const element = document.querySelector('#df-7c5ea92b-3fa9-4656-8325-2c4e9a5efb78');\n",
              "          const dataTable =\n",
              "            await google.colab.kernel.invokeFunction('convertToInteractive',\n",
              "                                                     [key], {});\n",
              "          if (!dataTable) return;\n",
              "\n",
              "          const docLinkHtml = 'Like what you see? Visit the ' +\n",
              "            '<a target=\"_blank\" href=https://colab.research.google.com/notebooks/data_table.ipynb>data table notebook</a>'\n",
              "            + ' to learn more about interactive tables.';\n",
              "          element.innerHTML = '';\n",
              "          dataTable['output_type'] = 'display_data';\n",
              "          await google.colab.output.renderOutput(dataTable, element);\n",
              "          const docLink = document.createElement('div');\n",
              "          docLink.innerHTML = docLinkHtml;\n",
              "          element.appendChild(docLink);\n",
              "        }\n",
              "      </script>\n",
              "    </div>\n",
              "  </div>\n",
              "  "
            ]
          },
          "metadata": {},
          "execution_count": 30
        }
      ]
    },
    {
      "cell_type": "code",
      "source": [
        "data_final.drop(['weather_code'], axis = 'columns')"
      ],
      "metadata": {
        "id": "vjvrWQ47vf3G",
        "outputId": "bfee3176-0736-4a35-8e2e-32b849653880",
        "colab": {
          "base_uri": "https://localhost:8080/",
          "height": 423
        }
      },
      "execution_count": 31,
      "outputs": [
        {
          "output_type": "execute_result",
          "data": {
            "text/plain": [
              "                timestamp      t1    hum  wind_speed  is_holiday  is_weekend  \\\n",
              "0     2015-01-04 00:00:00 -1.1875  0.925   -0.857143           0           1   \n",
              "1     2015-01-04 01:00:00 -1.1875  0.925   -0.952381           0           1   \n",
              "2     2015-01-04 02:00:00 -1.2500  1.100   -1.428571           0           1   \n",
              "3     2015-01-04 03:00:00 -1.3125  1.275   -1.428571           0           1   \n",
              "4     2015-01-04 04:00:00 -1.3125  0.925   -0.809524           0           1   \n",
              "...                   ...     ...    ...         ...         ...         ...   \n",
              "17409 2017-01-03 19:00:00 -0.9375  0.325    0.380952           0           0   \n",
              "17410 2017-01-03 20:00:00 -0.9375  0.325    0.571429           0           0   \n",
              "17411 2017-01-03 21:00:00 -0.8750  0.200    0.857143           0           0   \n",
              "17412 2017-01-03 22:00:00 -0.8750  0.075    0.761905           0           0   \n",
              "17413 2017-01-03 23:00:00 -0.9375  0.075    0.666667           0           0   \n",
              "\n",
              "       season  hour  month       cnt  \n",
              "0           3     0      1  0.167725  \n",
              "1           3     1      1  0.127176  \n",
              "2           3     2      1  0.123490  \n",
              "3           3     3      1  0.066353  \n",
              "4           3     4      1  0.043314  \n",
              "...       ...   ...    ...       ...  \n",
              "17409       3    19      1  0.960273  \n",
              "17410       3    20      1  0.498568  \n",
              "17411       3    21      1  0.310568  \n",
              "17412       3    22      1  0.206431  \n",
              "17413       3    23      1  0.128098  \n",
              "\n",
              "[17414 rows x 10 columns]"
            ],
            "text/html": [
              "\n",
              "  <div id=\"df-5b1a933c-d773-4f53-bde5-575d49b11469\">\n",
              "    <div class=\"colab-df-container\">\n",
              "      <div>\n",
              "<style scoped>\n",
              "    .dataframe tbody tr th:only-of-type {\n",
              "        vertical-align: middle;\n",
              "    }\n",
              "\n",
              "    .dataframe tbody tr th {\n",
              "        vertical-align: top;\n",
              "    }\n",
              "\n",
              "    .dataframe thead th {\n",
              "        text-align: right;\n",
              "    }\n",
              "</style>\n",
              "<table border=\"1\" class=\"dataframe\">\n",
              "  <thead>\n",
              "    <tr style=\"text-align: right;\">\n",
              "      <th></th>\n",
              "      <th>timestamp</th>\n",
              "      <th>t1</th>\n",
              "      <th>hum</th>\n",
              "      <th>wind_speed</th>\n",
              "      <th>is_holiday</th>\n",
              "      <th>is_weekend</th>\n",
              "      <th>season</th>\n",
              "      <th>hour</th>\n",
              "      <th>month</th>\n",
              "      <th>cnt</th>\n",
              "    </tr>\n",
              "  </thead>\n",
              "  <tbody>\n",
              "    <tr>\n",
              "      <th>0</th>\n",
              "      <td>2015-01-04 00:00:00</td>\n",
              "      <td>-1.1875</td>\n",
              "      <td>0.925</td>\n",
              "      <td>-0.857143</td>\n",
              "      <td>0</td>\n",
              "      <td>1</td>\n",
              "      <td>3</td>\n",
              "      <td>0</td>\n",
              "      <td>1</td>\n",
              "      <td>0.167725</td>\n",
              "    </tr>\n",
              "    <tr>\n",
              "      <th>1</th>\n",
              "      <td>2015-01-04 01:00:00</td>\n",
              "      <td>-1.1875</td>\n",
              "      <td>0.925</td>\n",
              "      <td>-0.952381</td>\n",
              "      <td>0</td>\n",
              "      <td>1</td>\n",
              "      <td>3</td>\n",
              "      <td>1</td>\n",
              "      <td>1</td>\n",
              "      <td>0.127176</td>\n",
              "    </tr>\n",
              "    <tr>\n",
              "      <th>2</th>\n",
              "      <td>2015-01-04 02:00:00</td>\n",
              "      <td>-1.2500</td>\n",
              "      <td>1.100</td>\n",
              "      <td>-1.428571</td>\n",
              "      <td>0</td>\n",
              "      <td>1</td>\n",
              "      <td>3</td>\n",
              "      <td>2</td>\n",
              "      <td>1</td>\n",
              "      <td>0.123490</td>\n",
              "    </tr>\n",
              "    <tr>\n",
              "      <th>3</th>\n",
              "      <td>2015-01-04 03:00:00</td>\n",
              "      <td>-1.3125</td>\n",
              "      <td>1.275</td>\n",
              "      <td>-1.428571</td>\n",
              "      <td>0</td>\n",
              "      <td>1</td>\n",
              "      <td>3</td>\n",
              "      <td>3</td>\n",
              "      <td>1</td>\n",
              "      <td>0.066353</td>\n",
              "    </tr>\n",
              "    <tr>\n",
              "      <th>4</th>\n",
              "      <td>2015-01-04 04:00:00</td>\n",
              "      <td>-1.3125</td>\n",
              "      <td>0.925</td>\n",
              "      <td>-0.809524</td>\n",
              "      <td>0</td>\n",
              "      <td>1</td>\n",
              "      <td>3</td>\n",
              "      <td>4</td>\n",
              "      <td>1</td>\n",
              "      <td>0.043314</td>\n",
              "    </tr>\n",
              "    <tr>\n",
              "      <th>...</th>\n",
              "      <td>...</td>\n",
              "      <td>...</td>\n",
              "      <td>...</td>\n",
              "      <td>...</td>\n",
              "      <td>...</td>\n",
              "      <td>...</td>\n",
              "      <td>...</td>\n",
              "      <td>...</td>\n",
              "      <td>...</td>\n",
              "      <td>...</td>\n",
              "    </tr>\n",
              "    <tr>\n",
              "      <th>17409</th>\n",
              "      <td>2017-01-03 19:00:00</td>\n",
              "      <td>-0.9375</td>\n",
              "      <td>0.325</td>\n",
              "      <td>0.380952</td>\n",
              "      <td>0</td>\n",
              "      <td>0</td>\n",
              "      <td>3</td>\n",
              "      <td>19</td>\n",
              "      <td>1</td>\n",
              "      <td>0.960273</td>\n",
              "    </tr>\n",
              "    <tr>\n",
              "      <th>17410</th>\n",
              "      <td>2017-01-03 20:00:00</td>\n",
              "      <td>-0.9375</td>\n",
              "      <td>0.325</td>\n",
              "      <td>0.571429</td>\n",
              "      <td>0</td>\n",
              "      <td>0</td>\n",
              "      <td>3</td>\n",
              "      <td>20</td>\n",
              "      <td>1</td>\n",
              "      <td>0.498568</td>\n",
              "    </tr>\n",
              "    <tr>\n",
              "      <th>17411</th>\n",
              "      <td>2017-01-03 21:00:00</td>\n",
              "      <td>-0.8750</td>\n",
              "      <td>0.200</td>\n",
              "      <td>0.857143</td>\n",
              "      <td>0</td>\n",
              "      <td>0</td>\n",
              "      <td>3</td>\n",
              "      <td>21</td>\n",
              "      <td>1</td>\n",
              "      <td>0.310568</td>\n",
              "    </tr>\n",
              "    <tr>\n",
              "      <th>17412</th>\n",
              "      <td>2017-01-03 22:00:00</td>\n",
              "      <td>-0.8750</td>\n",
              "      <td>0.075</td>\n",
              "      <td>0.761905</td>\n",
              "      <td>0</td>\n",
              "      <td>0</td>\n",
              "      <td>3</td>\n",
              "      <td>22</td>\n",
              "      <td>1</td>\n",
              "      <td>0.206431</td>\n",
              "    </tr>\n",
              "    <tr>\n",
              "      <th>17413</th>\n",
              "      <td>2017-01-03 23:00:00</td>\n",
              "      <td>-0.9375</td>\n",
              "      <td>0.075</td>\n",
              "      <td>0.666667</td>\n",
              "      <td>0</td>\n",
              "      <td>0</td>\n",
              "      <td>3</td>\n",
              "      <td>23</td>\n",
              "      <td>1</td>\n",
              "      <td>0.128098</td>\n",
              "    </tr>\n",
              "  </tbody>\n",
              "</table>\n",
              "<p>17414 rows × 10 columns</p>\n",
              "</div>\n",
              "      <button class=\"colab-df-convert\" onclick=\"convertToInteractive('df-5b1a933c-d773-4f53-bde5-575d49b11469')\"\n",
              "              title=\"Convert this dataframe to an interactive table.\"\n",
              "              style=\"display:none;\">\n",
              "        \n",
              "  <svg xmlns=\"http://www.w3.org/2000/svg\" height=\"24px\"viewBox=\"0 0 24 24\"\n",
              "       width=\"24px\">\n",
              "    <path d=\"M0 0h24v24H0V0z\" fill=\"none\"/>\n",
              "    <path d=\"M18.56 5.44l.94 2.06.94-2.06 2.06-.94-2.06-.94-.94-2.06-.94 2.06-2.06.94zm-11 1L8.5 8.5l.94-2.06 2.06-.94-2.06-.94L8.5 2.5l-.94 2.06-2.06.94zm10 10l.94 2.06.94-2.06 2.06-.94-2.06-.94-.94-2.06-.94 2.06-2.06.94z\"/><path d=\"M17.41 7.96l-1.37-1.37c-.4-.4-.92-.59-1.43-.59-.52 0-1.04.2-1.43.59L10.3 9.45l-7.72 7.72c-.78.78-.78 2.05 0 2.83L4 21.41c.39.39.9.59 1.41.59.51 0 1.02-.2 1.41-.59l7.78-7.78 2.81-2.81c.8-.78.8-2.07 0-2.86zM5.41 20L4 18.59l7.72-7.72 1.47 1.35L5.41 20z\"/>\n",
              "  </svg>\n",
              "      </button>\n",
              "      \n",
              "  <style>\n",
              "    .colab-df-container {\n",
              "      display:flex;\n",
              "      flex-wrap:wrap;\n",
              "      gap: 12px;\n",
              "    }\n",
              "\n",
              "    .colab-df-convert {\n",
              "      background-color: #E8F0FE;\n",
              "      border: none;\n",
              "      border-radius: 50%;\n",
              "      cursor: pointer;\n",
              "      display: none;\n",
              "      fill: #1967D2;\n",
              "      height: 32px;\n",
              "      padding: 0 0 0 0;\n",
              "      width: 32px;\n",
              "    }\n",
              "\n",
              "    .colab-df-convert:hover {\n",
              "      background-color: #E2EBFA;\n",
              "      box-shadow: 0px 1px 2px rgba(60, 64, 67, 0.3), 0px 1px 3px 1px rgba(60, 64, 67, 0.15);\n",
              "      fill: #174EA6;\n",
              "    }\n",
              "\n",
              "    [theme=dark] .colab-df-convert {\n",
              "      background-color: #3B4455;\n",
              "      fill: #D2E3FC;\n",
              "    }\n",
              "\n",
              "    [theme=dark] .colab-df-convert:hover {\n",
              "      background-color: #434B5C;\n",
              "      box-shadow: 0px 1px 3px 1px rgba(0, 0, 0, 0.15);\n",
              "      filter: drop-shadow(0px 1px 2px rgba(0, 0, 0, 0.3));\n",
              "      fill: #FFFFFF;\n",
              "    }\n",
              "  </style>\n",
              "\n",
              "      <script>\n",
              "        const buttonEl =\n",
              "          document.querySelector('#df-5b1a933c-d773-4f53-bde5-575d49b11469 button.colab-df-convert');\n",
              "        buttonEl.style.display =\n",
              "          google.colab.kernel.accessAllowed ? 'block' : 'none';\n",
              "\n",
              "        async function convertToInteractive(key) {\n",
              "          const element = document.querySelector('#df-5b1a933c-d773-4f53-bde5-575d49b11469');\n",
              "          const dataTable =\n",
              "            await google.colab.kernel.invokeFunction('convertToInteractive',\n",
              "                                                     [key], {});\n",
              "          if (!dataTable) return;\n",
              "\n",
              "          const docLinkHtml = 'Like what you see? Visit the ' +\n",
              "            '<a target=\"_blank\" href=https://colab.research.google.com/notebooks/data_table.ipynb>data table notebook</a>'\n",
              "            + ' to learn more about interactive tables.';\n",
              "          element.innerHTML = '';\n",
              "          dataTable['output_type'] = 'display_data';\n",
              "          await google.colab.output.renderOutput(dataTable, element);\n",
              "          const docLink = document.createElement('div');\n",
              "          docLink.innerHTML = docLinkHtml;\n",
              "          element.appendChild(docLink);\n",
              "        }\n",
              "      </script>\n",
              "    </div>\n",
              "  </div>\n",
              "  "
            ]
          },
          "metadata": {},
          "execution_count": 31
        }
      ]
    },
    {
      "cell_type": "code",
      "source": [
        "t1 = data_final['t1'].values\n",
        "hum = data_final['hum'].values\n",
        "wind_speed = data_final['wind_speed'].values\n",
        "is_weekend = data_final['is_weekend'].values"
      ],
      "metadata": {
        "id": "nJuyggPxw3QB"
      },
      "execution_count": 32,
      "outputs": []
    },
    {
      "cell_type": "code",
      "source": [
        "tiempo = data_final['weather_code'].values\n",
        "festivo = data_final['is_holiday'].values\n",
        "#is_weekend\n",
        "#season\n",
        "#year\n",
        "estacion = data_final['season'].values\n",
        "mes = data_final['month'].values\n",
        "#dia = data_final['day_of_week'].values\n",
        "hora = data_final['hour'].values"
      ],
      "metadata": {
        "id": "la60qFuvu83k"
      },
      "execution_count": 33,
      "outputs": []
    },
    {
      "cell_type": "code",
      "source": [
        "from my_utils_series_temporales import NAN, int2dummy, enventanar, info_enventanado"
      ],
      "metadata": {
        "id": "7rX3aOr8rxpK"
      },
      "execution_count": 34,
      "outputs": []
    },
    {
      "cell_type": "code",
      "source": [
        "one_hot_mes = int2dummy(mes, 1, 12)\n",
        "one_hot_hora = int2dummy(hora, 0, 23)\n",
        "one_hot_estacion = int2dummy(estacion, 0, 3)"
      ],
      "metadata": {
        "id": "qiJZ0Zutr8fB"
      },
      "execution_count": 35,
      "outputs": []
    },
    {
      "cell_type": "code",
      "source": [
        "#timestamp\tt1\thum\twind_speed\tis_holiday\tis_weekend\tseason\thour\tmonth\tcnt"
      ],
      "metadata": {
        "id": "UzdWS3eQwoFi"
      },
      "execution_count": 36,
      "outputs": []
    },
    {
      "cell_type": "code",
      "source": [
        "target_transf = transform(target)\n",
        "\n",
        "series = [target_transf, t1, hum, wind_speed, is_weekend, festivo]\n",
        "se_saben_antes = [False, True, True, True, True, True]\n",
        "nombres_series = [\"target_transf\", \"t1\", \"hum\", \"wind_speed\", \"is_weekend\", \"festivo\"]\n",
        "\n",
        "# Variables calendario sobre las que hemos hecho one-hot encoding\n",
        "for i in range(one_hot_mes.shape[1]):\n",
        "    series.append(one_hot_mes[:,i])\n",
        "    nombres_series.append(\"mes\"+str(i+1))\n",
        "    se_saben_antes.append(True)\n",
        "\n",
        "for i in range(one_hot_hora.shape[1]):\n",
        "    series.append(one_hot_hora[:,i])\n",
        "    nombres_series.append(\"semana\"+str(i+1))\n",
        "    se_saben_antes.append(True)\n",
        "\n",
        "for i in range(one_hot_estacion.shape[1]):\n",
        "    series.append(one_hot_estacion[:,i])\n",
        "    nombres_series.append(\"day\"+str(i+1))\n",
        "    se_saben_antes.append(True)"
      ],
      "metadata": {
        "id": "dsfRtT2MJwH0"
      },
      "execution_count": 37,
      "outputs": []
    },
    {
      "cell_type": "code",
      "source": [
        "print(np.shape(series))\n",
        "print(np.shape(se_saben_antes))"
      ],
      "metadata": {
        "id": "WKY1IO6pya_1",
        "outputId": "ab1e119a-4478-4578-cb76-55c9846bb01f",
        "colab": {
          "base_uri": "https://localhost:8080/"
        }
      },
      "execution_count": 38,
      "outputs": [
        {
          "output_type": "stream",
          "name": "stdout",
          "text": [
            "(46, 17414)\n",
            "(46,)\n"
          ]
        }
      ]
    },
    {
      "cell_type": "code",
      "source": [
        "data_final"
      ],
      "metadata": {
        "id": "UUWmqv2QjvHr",
        "outputId": "be0fa8cb-a4b0-4f3e-8a3d-5c41502d8e5b",
        "colab": {
          "base_uri": "https://localhost:8080/",
          "height": 423
        }
      },
      "execution_count": 50,
      "outputs": [
        {
          "output_type": "execute_result",
          "data": {
            "text/plain": [
              "                timestamp      t1    hum  wind_speed  weather_code  \\\n",
              "0     2015-01-04 00:00:00 -1.1875  0.925   -0.857143             3   \n",
              "1     2015-01-04 01:00:00 -1.1875  0.925   -0.952381             1   \n",
              "2     2015-01-04 02:00:00 -1.2500  1.100   -1.428571             1   \n",
              "3     2015-01-04 03:00:00 -1.3125  1.275   -1.428571             1   \n",
              "4     2015-01-04 04:00:00 -1.3125  0.925   -0.809524             1   \n",
              "...                   ...     ...    ...         ...           ...   \n",
              "17409 2017-01-03 19:00:00 -0.9375  0.325    0.380952             3   \n",
              "17410 2017-01-03 20:00:00 -0.9375  0.325    0.571429             4   \n",
              "17411 2017-01-03 21:00:00 -0.8750  0.200    0.857143             4   \n",
              "17412 2017-01-03 22:00:00 -0.8750  0.075    0.761905             4   \n",
              "17413 2017-01-03 23:00:00 -0.9375  0.075    0.666667             2   \n",
              "\n",
              "       is_holiday  is_weekend  season  hour  month       cnt  \n",
              "0               0           1       3     0      1  0.167725  \n",
              "1               0           1       3     1      1  0.127176  \n",
              "2               0           1       3     2      1  0.123490  \n",
              "3               0           1       3     3      1  0.066353  \n",
              "4               0           1       3     4      1  0.043314  \n",
              "...           ...         ...     ...   ...    ...       ...  \n",
              "17409           0           0       3    19      1  0.960273  \n",
              "17410           0           0       3    20      1  0.498568  \n",
              "17411           0           0       3    21      1  0.310568  \n",
              "17412           0           0       3    22      1  0.206431  \n",
              "17413           0           0       3    23      1  0.128098  \n",
              "\n",
              "[17414 rows x 11 columns]"
            ],
            "text/html": [
              "\n",
              "  <div id=\"df-57972a36-8cdb-4fca-b446-f78101b33e76\">\n",
              "    <div class=\"colab-df-container\">\n",
              "      <div>\n",
              "<style scoped>\n",
              "    .dataframe tbody tr th:only-of-type {\n",
              "        vertical-align: middle;\n",
              "    }\n",
              "\n",
              "    .dataframe tbody tr th {\n",
              "        vertical-align: top;\n",
              "    }\n",
              "\n",
              "    .dataframe thead th {\n",
              "        text-align: right;\n",
              "    }\n",
              "</style>\n",
              "<table border=\"1\" class=\"dataframe\">\n",
              "  <thead>\n",
              "    <tr style=\"text-align: right;\">\n",
              "      <th></th>\n",
              "      <th>timestamp</th>\n",
              "      <th>t1</th>\n",
              "      <th>hum</th>\n",
              "      <th>wind_speed</th>\n",
              "      <th>weather_code</th>\n",
              "      <th>is_holiday</th>\n",
              "      <th>is_weekend</th>\n",
              "      <th>season</th>\n",
              "      <th>hour</th>\n",
              "      <th>month</th>\n",
              "      <th>cnt</th>\n",
              "    </tr>\n",
              "  </thead>\n",
              "  <tbody>\n",
              "    <tr>\n",
              "      <th>0</th>\n",
              "      <td>2015-01-04 00:00:00</td>\n",
              "      <td>-1.1875</td>\n",
              "      <td>0.925</td>\n",
              "      <td>-0.857143</td>\n",
              "      <td>3</td>\n",
              "      <td>0</td>\n",
              "      <td>1</td>\n",
              "      <td>3</td>\n",
              "      <td>0</td>\n",
              "      <td>1</td>\n",
              "      <td>0.167725</td>\n",
              "    </tr>\n",
              "    <tr>\n",
              "      <th>1</th>\n",
              "      <td>2015-01-04 01:00:00</td>\n",
              "      <td>-1.1875</td>\n",
              "      <td>0.925</td>\n",
              "      <td>-0.952381</td>\n",
              "      <td>1</td>\n",
              "      <td>0</td>\n",
              "      <td>1</td>\n",
              "      <td>3</td>\n",
              "      <td>1</td>\n",
              "      <td>1</td>\n",
              "      <td>0.127176</td>\n",
              "    </tr>\n",
              "    <tr>\n",
              "      <th>2</th>\n",
              "      <td>2015-01-04 02:00:00</td>\n",
              "      <td>-1.2500</td>\n",
              "      <td>1.100</td>\n",
              "      <td>-1.428571</td>\n",
              "      <td>1</td>\n",
              "      <td>0</td>\n",
              "      <td>1</td>\n",
              "      <td>3</td>\n",
              "      <td>2</td>\n",
              "      <td>1</td>\n",
              "      <td>0.123490</td>\n",
              "    </tr>\n",
              "    <tr>\n",
              "      <th>3</th>\n",
              "      <td>2015-01-04 03:00:00</td>\n",
              "      <td>-1.3125</td>\n",
              "      <td>1.275</td>\n",
              "      <td>-1.428571</td>\n",
              "      <td>1</td>\n",
              "      <td>0</td>\n",
              "      <td>1</td>\n",
              "      <td>3</td>\n",
              "      <td>3</td>\n",
              "      <td>1</td>\n",
              "      <td>0.066353</td>\n",
              "    </tr>\n",
              "    <tr>\n",
              "      <th>4</th>\n",
              "      <td>2015-01-04 04:00:00</td>\n",
              "      <td>-1.3125</td>\n",
              "      <td>0.925</td>\n",
              "      <td>-0.809524</td>\n",
              "      <td>1</td>\n",
              "      <td>0</td>\n",
              "      <td>1</td>\n",
              "      <td>3</td>\n",
              "      <td>4</td>\n",
              "      <td>1</td>\n",
              "      <td>0.043314</td>\n",
              "    </tr>\n",
              "    <tr>\n",
              "      <th>...</th>\n",
              "      <td>...</td>\n",
              "      <td>...</td>\n",
              "      <td>...</td>\n",
              "      <td>...</td>\n",
              "      <td>...</td>\n",
              "      <td>...</td>\n",
              "      <td>...</td>\n",
              "      <td>...</td>\n",
              "      <td>...</td>\n",
              "      <td>...</td>\n",
              "      <td>...</td>\n",
              "    </tr>\n",
              "    <tr>\n",
              "      <th>17409</th>\n",
              "      <td>2017-01-03 19:00:00</td>\n",
              "      <td>-0.9375</td>\n",
              "      <td>0.325</td>\n",
              "      <td>0.380952</td>\n",
              "      <td>3</td>\n",
              "      <td>0</td>\n",
              "      <td>0</td>\n",
              "      <td>3</td>\n",
              "      <td>19</td>\n",
              "      <td>1</td>\n",
              "      <td>0.960273</td>\n",
              "    </tr>\n",
              "    <tr>\n",
              "      <th>17410</th>\n",
              "      <td>2017-01-03 20:00:00</td>\n",
              "      <td>-0.9375</td>\n",
              "      <td>0.325</td>\n",
              "      <td>0.571429</td>\n",
              "      <td>4</td>\n",
              "      <td>0</td>\n",
              "      <td>0</td>\n",
              "      <td>3</td>\n",
              "      <td>20</td>\n",
              "      <td>1</td>\n",
              "      <td>0.498568</td>\n",
              "    </tr>\n",
              "    <tr>\n",
              "      <th>17411</th>\n",
              "      <td>2017-01-03 21:00:00</td>\n",
              "      <td>-0.8750</td>\n",
              "      <td>0.200</td>\n",
              "      <td>0.857143</td>\n",
              "      <td>4</td>\n",
              "      <td>0</td>\n",
              "      <td>0</td>\n",
              "      <td>3</td>\n",
              "      <td>21</td>\n",
              "      <td>1</td>\n",
              "      <td>0.310568</td>\n",
              "    </tr>\n",
              "    <tr>\n",
              "      <th>17412</th>\n",
              "      <td>2017-01-03 22:00:00</td>\n",
              "      <td>-0.8750</td>\n",
              "      <td>0.075</td>\n",
              "      <td>0.761905</td>\n",
              "      <td>4</td>\n",
              "      <td>0</td>\n",
              "      <td>0</td>\n",
              "      <td>3</td>\n",
              "      <td>22</td>\n",
              "      <td>1</td>\n",
              "      <td>0.206431</td>\n",
              "    </tr>\n",
              "    <tr>\n",
              "      <th>17413</th>\n",
              "      <td>2017-01-03 23:00:00</td>\n",
              "      <td>-0.9375</td>\n",
              "      <td>0.075</td>\n",
              "      <td>0.666667</td>\n",
              "      <td>2</td>\n",
              "      <td>0</td>\n",
              "      <td>0</td>\n",
              "      <td>3</td>\n",
              "      <td>23</td>\n",
              "      <td>1</td>\n",
              "      <td>0.128098</td>\n",
              "    </tr>\n",
              "  </tbody>\n",
              "</table>\n",
              "<p>17414 rows × 11 columns</p>\n",
              "</div>\n",
              "      <button class=\"colab-df-convert\" onclick=\"convertToInteractive('df-57972a36-8cdb-4fca-b446-f78101b33e76')\"\n",
              "              title=\"Convert this dataframe to an interactive table.\"\n",
              "              style=\"display:none;\">\n",
              "        \n",
              "  <svg xmlns=\"http://www.w3.org/2000/svg\" height=\"24px\"viewBox=\"0 0 24 24\"\n",
              "       width=\"24px\">\n",
              "    <path d=\"M0 0h24v24H0V0z\" fill=\"none\"/>\n",
              "    <path d=\"M18.56 5.44l.94 2.06.94-2.06 2.06-.94-2.06-.94-.94-2.06-.94 2.06-2.06.94zm-11 1L8.5 8.5l.94-2.06 2.06-.94-2.06-.94L8.5 2.5l-.94 2.06-2.06.94zm10 10l.94 2.06.94-2.06 2.06-.94-2.06-.94-.94-2.06-.94 2.06-2.06.94z\"/><path d=\"M17.41 7.96l-1.37-1.37c-.4-.4-.92-.59-1.43-.59-.52 0-1.04.2-1.43.59L10.3 9.45l-7.72 7.72c-.78.78-.78 2.05 0 2.83L4 21.41c.39.39.9.59 1.41.59.51 0 1.02-.2 1.41-.59l7.78-7.78 2.81-2.81c.8-.78.8-2.07 0-2.86zM5.41 20L4 18.59l7.72-7.72 1.47 1.35L5.41 20z\"/>\n",
              "  </svg>\n",
              "      </button>\n",
              "      \n",
              "  <style>\n",
              "    .colab-df-container {\n",
              "      display:flex;\n",
              "      flex-wrap:wrap;\n",
              "      gap: 12px;\n",
              "    }\n",
              "\n",
              "    .colab-df-convert {\n",
              "      background-color: #E8F0FE;\n",
              "      border: none;\n",
              "      border-radius: 50%;\n",
              "      cursor: pointer;\n",
              "      display: none;\n",
              "      fill: #1967D2;\n",
              "      height: 32px;\n",
              "      padding: 0 0 0 0;\n",
              "      width: 32px;\n",
              "    }\n",
              "\n",
              "    .colab-df-convert:hover {\n",
              "      background-color: #E2EBFA;\n",
              "      box-shadow: 0px 1px 2px rgba(60, 64, 67, 0.3), 0px 1px 3px 1px rgba(60, 64, 67, 0.15);\n",
              "      fill: #174EA6;\n",
              "    }\n",
              "\n",
              "    [theme=dark] .colab-df-convert {\n",
              "      background-color: #3B4455;\n",
              "      fill: #D2E3FC;\n",
              "    }\n",
              "\n",
              "    [theme=dark] .colab-df-convert:hover {\n",
              "      background-color: #434B5C;\n",
              "      box-shadow: 0px 1px 3px 1px rgba(0, 0, 0, 0.15);\n",
              "      filter: drop-shadow(0px 1px 2px rgba(0, 0, 0, 0.3));\n",
              "      fill: #FFFFFF;\n",
              "    }\n",
              "  </style>\n",
              "\n",
              "      <script>\n",
              "        const buttonEl =\n",
              "          document.querySelector('#df-57972a36-8cdb-4fca-b446-f78101b33e76 button.colab-df-convert');\n",
              "        buttonEl.style.display =\n",
              "          google.colab.kernel.accessAllowed ? 'block' : 'none';\n",
              "\n",
              "        async function convertToInteractive(key) {\n",
              "          const element = document.querySelector('#df-57972a36-8cdb-4fca-b446-f78101b33e76');\n",
              "          const dataTable =\n",
              "            await google.colab.kernel.invokeFunction('convertToInteractive',\n",
              "                                                     [key], {});\n",
              "          if (!dataTable) return;\n",
              "\n",
              "          const docLinkHtml = 'Like what you see? Visit the ' +\n",
              "            '<a target=\"_blank\" href=https://colab.research.google.com/notebooks/data_table.ipynb>data table notebook</a>'\n",
              "            + ' to learn more about interactive tables.';\n",
              "          element.innerHTML = '';\n",
              "          dataTable['output_type'] = 'display_data';\n",
              "          await google.colab.output.renderOutput(dataTable, element);\n",
              "          const docLink = document.createElement('div');\n",
              "          docLink.innerHTML = docLinkHtml;\n",
              "          element.appendChild(docLink);\n",
              "        }\n",
              "      </script>\n",
              "    </div>\n",
              "  </div>\n",
              "  "
            ]
          },
          "metadata": {},
          "execution_count": 50
        }
      ]
    },
    {
      "cell_type": "markdown",
      "source": [
        "# Enventanar"
      ],
      "metadata": {
        "id": "uyeuJZXLdAFA"
      }
    },
    {
      "cell_type": "code",
      "source": [
        "lookback = 48 # lookback es otro sinónimo de W_in\n",
        "\n",
        "# target=0 en siguiente línea quiere decir cuál es el índice del target en objeto \"series\":\n",
        "X, y = enventanar(series, target=0, se_saben_antes=se_saben_antes,\n",
        "                  W_in=lookback, W_out=24)\n",
        "\n",
        "print(X.shape, np.shape(y))"
      ],
      "metadata": {
        "id": "_3yODdJEyqzz",
        "outputId": "cf4f9ad8-01c7-42d4-b3e1-f8ee5f547f8b",
        "colab": {
          "base_uri": "https://localhost:8080/"
        }
      },
      "execution_count": 41,
      "outputs": [
        {
          "output_type": "stream",
          "name": "stdout",
          "text": [
            "(17414, 48, 46) (17414, 24)\n"
          ]
        }
      ]
    },
    {
      "cell_type": "code",
      "source": [
        "print(X.shape)\n",
        "print(np.shape(target))"
      ],
      "metadata": {
        "id": "ibiOfDbOzDfj",
        "outputId": "6e5f37f3-28fb-4048-a5a1-ba30b65d36f9",
        "colab": {
          "base_uri": "https://localhost:8080/"
        }
      },
      "execution_count": null,
      "outputs": [
        {
          "output_type": "stream",
          "name": "stdout",
          "text": [
            "(17414, 48, 46)\n",
            "(17414,)\n"
          ]
        }
      ]
    },
    {
      "cell_type": "code",
      "source": [
        "y.shape()"
      ],
      "metadata": {
        "id": "CdZguU9mz-VO",
        "outputId": "215686e5-776b-48d1-dcd6-3744a3ba7ab4",
        "colab": {
          "base_uri": "https://localhost:8080/",
          "height": 165
        }
      },
      "execution_count": null,
      "outputs": [
        {
          "output_type": "error",
          "ename": "TypeError",
          "evalue": "ignored",
          "traceback": [
            "\u001b[0;31m---------------------------------------------------------------------------\u001b[0m",
            "\u001b[0;31mTypeError\u001b[0m                                 Traceback (most recent call last)",
            "\u001b[0;32m<ipython-input-74-c5cc93b6f9c2>\u001b[0m in \u001b[0;36m<module>\u001b[0;34m()\u001b[0m\n\u001b[0;32m----> 1\u001b[0;31m \u001b[0my\u001b[0m\u001b[0;34m.\u001b[0m\u001b[0mshape\u001b[0m\u001b[0;34m(\u001b[0m\u001b[0;34m)\u001b[0m\u001b[0;34m\u001b[0m\u001b[0;34m\u001b[0m\u001b[0m\n\u001b[0m",
            "\u001b[0;31mTypeError\u001b[0m: 'tuple' object is not callable"
          ]
        }
      ]
    },
    {
      "cell_type": "code",
      "source": [
        "print(y[-23:, :])#48 time steps y 8 features, var. contexto"
      ],
      "metadata": {
        "colab": {
          "base_uri": "https://localhost:8080/"
        },
        "id": "K803rGsGKBqV",
        "outputId": "b02c9d8d-4725-4ec8-da6b-cdbf78f0c52a"
      },
      "execution_count": null,
      "outputs": [
        {
          "output_type": "stream",
          "name": "stdout",
          "text": [
            "[[0.04515679 0.03962739 0.00921567 0.02764702 0.07649008 0.39996016\n",
            "  1.29664505 2.67623114 1.25056669 0.60915592 0.58611674 0.76029294\n",
            "  0.809136   0.70499891 0.77872428 1.1068022  2.52693725 2.04587918\n",
            "  0.96027302 0.49856785 0.31056815 0.20643105 0.12809784        nan]\n",
            " [0.03962739 0.00921567 0.02764702 0.07649008 0.39996016 1.29664505\n",
            "  2.67623114 1.25056669 0.60915592 0.58611674 0.76029294 0.809136\n",
            "  0.70499891 0.77872428 1.1068022  2.52693725 2.04587918 0.96027302\n",
            "  0.49856785 0.31056815 0.20643105 0.12809784        nan        nan]\n",
            " [0.00921567 0.02764702 0.07649008 0.39996016 1.29664505 2.67623114\n",
            "  1.25056669 0.60915592 0.58611674 0.76029294 0.809136   0.70499891\n",
            "  0.77872428 1.1068022  2.52693725 2.04587918 0.96027302 0.49856785\n",
            "  0.31056815 0.20643105 0.12809784        nan        nan        nan]\n",
            " [0.02764702 0.07649008 0.39996016 1.29664505 2.67623114 1.25056669\n",
            "  0.60915592 0.58611674 0.76029294 0.809136   0.70499891 0.77872428\n",
            "  1.1068022  2.52693725 2.04587918 0.96027302 0.49856785 0.31056815\n",
            "  0.20643105 0.12809784        nan        nan        nan        nan]\n",
            " [0.07649008 0.39996016 1.29664505 2.67623114 1.25056669 0.60915592\n",
            "  0.58611674 0.76029294 0.809136   0.70499891 0.77872428 1.1068022\n",
            "  2.52693725 2.04587918 0.96027302 0.49856785 0.31056815 0.20643105\n",
            "  0.12809784        nan        nan        nan        nan        nan]\n",
            " [0.39996016 1.29664505 2.67623114 1.25056669 0.60915592 0.58611674\n",
            "  0.76029294 0.809136   0.70499891 0.77872428 1.1068022  2.52693725\n",
            "  2.04587918 0.96027302 0.49856785 0.31056815 0.20643105 0.12809784\n",
            "         nan        nan        nan        nan        nan        nan]\n",
            " [1.29664505 2.67623114 1.25056669 0.60915592 0.58611674 0.76029294\n",
            "  0.809136   0.70499891 0.77872428 1.1068022  2.52693725 2.04587918\n",
            "  0.96027302 0.49856785 0.31056815 0.20643105 0.12809784        nan\n",
            "         nan        nan        nan        nan        nan        nan]\n",
            " [2.67623114 1.25056669 0.60915592 0.58611674 0.76029294 0.809136\n",
            "  0.70499891 0.77872428 1.1068022  2.52693725 2.04587918 0.96027302\n",
            "  0.49856785 0.31056815 0.20643105 0.12809784        nan        nan\n",
            "         nan        nan        nan        nan        nan        nan]\n",
            " [1.25056669 0.60915592 0.58611674 0.76029294 0.809136   0.70499891\n",
            "  0.77872428 1.1068022  2.52693725 2.04587918 0.96027302 0.49856785\n",
            "  0.31056815 0.20643105 0.12809784        nan        nan        nan\n",
            "         nan        nan        nan        nan        nan        nan]\n",
            " [0.60915592 0.58611674 0.76029294 0.809136   0.70499891 0.77872428\n",
            "  1.1068022  2.52693725 2.04587918 0.96027302 0.49856785 0.31056815\n",
            "  0.20643105 0.12809784        nan        nan        nan        nan\n",
            "         nan        nan        nan        nan        nan        nan]\n",
            " [0.58611674 0.76029294 0.809136   0.70499891 0.77872428 1.1068022\n",
            "  2.52693725 2.04587918 0.96027302 0.49856785 0.31056815 0.20643105\n",
            "  0.12809784        nan        nan        nan        nan        nan\n",
            "         nan        nan        nan        nan        nan        nan]\n",
            " [0.76029294 0.809136   0.70499891 0.77872428 1.1068022  2.52693725\n",
            "  2.04587918 0.96027302 0.49856785 0.31056815 0.20643105 0.12809784\n",
            "         nan        nan        nan        nan        nan        nan\n",
            "         nan        nan        nan        nan        nan        nan]\n",
            " [0.809136   0.70499891 0.77872428 1.1068022  2.52693725 2.04587918\n",
            "  0.96027302 0.49856785 0.31056815 0.20643105 0.12809784        nan\n",
            "         nan        nan        nan        nan        nan        nan\n",
            "         nan        nan        nan        nan        nan        nan]\n",
            " [0.70499891 0.77872428 1.1068022  2.52693725 2.04587918 0.96027302\n",
            "  0.49856785 0.31056815 0.20643105 0.12809784        nan        nan\n",
            "         nan        nan        nan        nan        nan        nan\n",
            "         nan        nan        nan        nan        nan        nan]\n",
            " [0.77872428 1.1068022  2.52693725 2.04587918 0.96027302 0.49856785\n",
            "  0.31056815 0.20643105 0.12809784        nan        nan        nan\n",
            "         nan        nan        nan        nan        nan        nan\n",
            "         nan        nan        nan        nan        nan        nan]\n",
            " [1.1068022  2.52693725 2.04587918 0.96027302 0.49856785 0.31056815\n",
            "  0.20643105 0.12809784        nan        nan        nan        nan\n",
            "         nan        nan        nan        nan        nan        nan\n",
            "         nan        nan        nan        nan        nan        nan]\n",
            " [2.52693725 2.04587918 0.96027302 0.49856785 0.31056815 0.20643105\n",
            "  0.12809784        nan        nan        nan        nan        nan\n",
            "         nan        nan        nan        nan        nan        nan\n",
            "         nan        nan        nan        nan        nan        nan]\n",
            " [2.04587918 0.96027302 0.49856785 0.31056815 0.20643105 0.12809784\n",
            "         nan        nan        nan        nan        nan        nan\n",
            "         nan        nan        nan        nan        nan        nan\n",
            "         nan        nan        nan        nan        nan        nan]\n",
            " [0.96027302 0.49856785 0.31056815 0.20643105 0.12809784        nan\n",
            "         nan        nan        nan        nan        nan        nan\n",
            "         nan        nan        nan        nan        nan        nan\n",
            "         nan        nan        nan        nan        nan        nan]\n",
            " [0.49856785 0.31056815 0.20643105 0.12809784        nan        nan\n",
            "         nan        nan        nan        nan        nan        nan\n",
            "         nan        nan        nan        nan        nan        nan\n",
            "         nan        nan        nan        nan        nan        nan]\n",
            " [0.31056815 0.20643105 0.12809784        nan        nan        nan\n",
            "         nan        nan        nan        nan        nan        nan\n",
            "         nan        nan        nan        nan        nan        nan\n",
            "         nan        nan        nan        nan        nan        nan]\n",
            " [0.20643105 0.12809784        nan        nan        nan        nan\n",
            "         nan        nan        nan        nan        nan        nan\n",
            "         nan        nan        nan        nan        nan        nan\n",
            "         nan        nan        nan        nan        nan        nan]\n",
            " [0.12809784        nan        nan        nan        nan        nan\n",
            "         nan        nan        nan        nan        nan        nan\n",
            "         nan        nan        nan        nan        nan        nan\n",
            "         nan        nan        nan        nan        nan        nan]]\n"
          ]
        }
      ]
    },
    {
      "cell_type": "code",
      "source": [
        "x_ = X[:-23, :, :]\n",
        "y_ = y[:-23, :]"
      ],
      "metadata": {
        "id": "erShQEMl41nH"
      },
      "execution_count": null,
      "outputs": []
    },
    {
      "cell_type": "code",
      "source": [
        "print(x_.shape, np.shape(y_))"
      ],
      "metadata": {
        "id": "TT1ngZDu5KdB",
        "outputId": "59e88c3b-2285-4d66-b268-451bd56beb81",
        "colab": {
          "base_uri": "https://localhost:8080/"
        }
      },
      "execution_count": null,
      "outputs": [
        {
          "output_type": "stream",
          "name": "stdout",
          "text": [
            "(17391, 48, 46) (17391, 24)\n"
          ]
        }
      ]
    },
    {
      "cell_type": "code",
      "source": [
        "train_perc  = .8\n",
        "punto_corte = int(len(X)*train_perc)"
      ],
      "metadata": {
        "id": "_tyF-04D5wof"
      },
      "execution_count": null,
      "outputs": []
    },
    {
      "cell_type": "code",
      "source": [
        "X_train      = x_[lookback:punto_corte]      # elimino los lookback primeros al tener NANs\n",
        "y_train      = y_[lookback:punto_corte]      # elimino los lookback primeros al tener NANs\n",
        "target_train = target[lookback:punto_corte] # elimino los lookback primeros al tener NANs\n",
        "#fechas_train = fechas[lookback:punto_corte] # elimino los lookback primeros al tener NANs\n",
        "\n",
        "X_test       = x_[punto_corte:]\n",
        "y_test       = y_[punto_corte:]\n",
        "target_test  = target[punto_corte:]\n",
        "#fechas_test  = fechas[punto_corte:]\n",
        "\n",
        "print(np.shape(target_train))\n",
        "print(np.shape(target_test))"
      ],
      "metadata": {
        "id": "F5x-HmjX6SpX",
        "outputId": "2ccb1042-e135-428f-e571-d36d3083fc8a",
        "colab": {
          "base_uri": "https://localhost:8080/"
        }
      },
      "execution_count": null,
      "outputs": [
        {
          "output_type": "stream",
          "name": "stdout",
          "text": [
            "(13883,)\n",
            "(3483,)\n"
          ]
        }
      ]
    },
    {
      "cell_type": "code",
      "source": [
        "print(X_train.shape, y_train.shape)"
      ],
      "metadata": {
        "id": "5GEL9bC46yEW",
        "outputId": "0a2ac6d9-528f-44e4-c780-0e1cae4d54a5",
        "colab": {
          "base_uri": "https://localhost:8080/"
        }
      },
      "execution_count": null,
      "outputs": [
        {
          "output_type": "stream",
          "name": "stdout",
          "text": [
            "(13883, 48, 46) (13883, 24)\n"
          ]
        }
      ]
    },
    {
      "cell_type": "code",
      "source": [
        "n_timesteps, n_features, n_outputs = X_train.shape[1], X_train.shape[2], y_train.shape[1]"
      ],
      "metadata": {
        "id": "4P_880sy6yNk"
      },
      "execution_count": null,
      "outputs": []
    },
    {
      "cell_type": "code",
      "source": [
        "model_0 = Sequential()\n",
        "model_0.add(LSTM(200, activation='relu', input_shape=(n_timesteps, n_features)))  # input_shape=[time steps, features]\n",
        "model_0.add(Dense(100, activation='relu'))\n",
        "model_0.add(Dense(n_outputs))\n",
        "model_0.compile(loss='mean_squared_error', metrics=['mse'], optimizer='adam')"
      ],
      "metadata": {
        "id": "M-bcw0VZKFw8",
        "outputId": "17b3be38-16f9-4b57-f40d-62e02d3d0675",
        "colab": {
          "base_uri": "https://localhost:8080/"
        }
      },
      "execution_count": null,
      "outputs": [
        {
          "output_type": "stream",
          "name": "stdout",
          "text": [
            "WARNING:tensorflow:Layer lstm_2 will not use cuDNN kernels since it doesn't meet the criteria. It will use a generic GPU kernel as fallback when running on GPU.\n"
          ]
        }
      ]
    },
    {
      "cell_type": "code",
      "source": [
        "model_0.summary()"
      ],
      "metadata": {
        "colab": {
          "base_uri": "https://localhost:8080/"
        },
        "id": "B6jAa3axKWs8",
        "outputId": "26742ea0-9d89-4a2a-ddf8-33b7a77f7431"
      },
      "execution_count": null,
      "outputs": [
        {
          "output_type": "stream",
          "name": "stdout",
          "text": [
            "Model: \"sequential_2\"\n",
            "_________________________________________________________________\n",
            " Layer (type)                Output Shape              Param #   \n",
            "=================================================================\n",
            " lstm_2 (LSTM)               (None, 200)               197600    \n",
            "                                                                 \n",
            " dense_4 (Dense)             (None, 100)               20100     \n",
            "                                                                 \n",
            " dense_5 (Dense)             (None, 24)                2424      \n",
            "                                                                 \n",
            "=================================================================\n",
            "Total params: 220,124\n",
            "Trainable params: 220,124\n",
            "Non-trainable params: 0\n",
            "_________________________________________________________________\n"
          ]
        }
      ]
    },
    {
      "cell_type": "code",
      "source": [
        "history_model_0 = model_0.fit(X_train, y_train, epochs=100, validation_split=0.1, batch_size=32)"
      ],
      "metadata": {
        "colab": {
          "base_uri": "https://localhost:8080/",
          "height": 1000
        },
        "id": "NcWx1PIpKewk",
        "outputId": "582d8714-cd45-4985-b635-cb4c98779337"
      },
      "execution_count": null,
      "outputs": [
        {
          "output_type": "stream",
          "name": "stdout",
          "text": [
            "Epoch 1/100\n",
            "391/391 [==============================] - 49s 115ms/step - loss: 0.6225 - val_loss: 0.4324\n",
            "Epoch 2/100\n",
            "391/391 [==============================] - 46s 117ms/step - loss: 0.2473 - val_loss: 0.2931\n",
            "Epoch 3/100\n",
            "391/391 [==============================] - 45s 115ms/step - loss: 0.1790 - val_loss: 0.2521\n",
            "Epoch 4/100\n",
            "391/391 [==============================] - 45s 116ms/step - loss: 0.1498 - val_loss: 0.2490\n",
            "Epoch 5/100\n",
            "391/391 [==============================] - 45s 114ms/step - loss: 0.1275 - val_loss: 0.3230\n",
            "Epoch 6/100\n",
            "391/391 [==============================] - 45s 116ms/step - loss: 0.1142 - val_loss: 0.2825\n",
            "Epoch 7/100\n",
            "391/391 [==============================] - 45s 115ms/step - loss: 0.1686 - val_loss: 0.2986\n",
            "Epoch 8/100\n",
            "391/391 [==============================] - 44s 113ms/step - loss: 0.1268 - val_loss: 0.2734\n",
            "Epoch 9/100\n",
            "391/391 [==============================] - 45s 115ms/step - loss: 0.1031 - val_loss: 0.2688\n",
            "Epoch 10/100\n",
            "391/391 [==============================] - 45s 116ms/step - loss: 0.0928 - val_loss: 0.2699\n",
            "Epoch 11/100\n",
            "391/391 [==============================] - 45s 116ms/step - loss: 0.0847 - val_loss: 0.2635\n",
            "Epoch 12/100\n",
            "391/391 [==============================] - 46s 117ms/step - loss: 0.0802 - val_loss: 0.2853\n",
            "Epoch 13/100\n",
            "391/391 [==============================] - 45s 114ms/step - loss: 0.0727 - val_loss: 0.2752\n",
            "Epoch 14/100\n",
            "391/391 [==============================] - 45s 114ms/step - loss: 0.0672 - val_loss: 0.2693\n",
            "Epoch 15/100\n",
            "391/391 [==============================] - 44s 113ms/step - loss: 0.0622 - val_loss: 0.2984\n",
            "Epoch 16/100\n",
            "391/391 [==============================] - 44s 113ms/step - loss: 0.0585 - val_loss: 0.2622\n",
            "Epoch 17/100\n",
            "391/391 [==============================] - 45s 116ms/step - loss: 0.0542 - val_loss: 0.2655\n",
            "Epoch 18/100\n",
            "391/391 [==============================] - 45s 115ms/step - loss: 0.0504 - val_loss: 0.2838\n",
            "Epoch 19/100\n",
            "391/391 [==============================] - 46s 116ms/step - loss: 0.0493 - val_loss: 0.2626\n",
            "Epoch 20/100\n",
            "391/391 [==============================] - 45s 115ms/step - loss: 0.0437 - val_loss: 0.2920\n",
            "Epoch 21/100\n",
            "391/391 [==============================] - 45s 114ms/step - loss: 0.0416 - val_loss: 0.3196\n",
            "Epoch 22/100\n",
            "391/391 [==============================] - 45s 115ms/step - loss: 0.0416 - val_loss: 0.2784\n",
            "Epoch 23/100\n",
            "391/391 [==============================] - 44s 113ms/step - loss: 0.0364 - val_loss: 0.2970\n",
            "Epoch 24/100\n",
            "391/391 [==============================] - 45s 114ms/step - loss: 0.0374 - val_loss: 0.3250\n",
            "Epoch 25/100\n",
            "391/391 [==============================] - 44s 112ms/step - loss: 0.0324 - val_loss: 0.2964\n",
            "Epoch 26/100\n",
            "391/391 [==============================] - 45s 115ms/step - loss: 0.0305 - val_loss: 0.3005\n",
            "Epoch 27/100\n",
            "391/391 [==============================] - 45s 116ms/step - loss: 0.0287 - val_loss: 0.2886\n",
            "Epoch 28/100\n",
            "391/391 [==============================] - 45s 115ms/step - loss: 0.0302 - val_loss: 0.2880\n",
            "Epoch 29/100\n",
            "391/391 [==============================] - 45s 114ms/step - loss: 0.0270 - val_loss: 0.2786\n",
            "Epoch 30/100\n",
            "391/391 [==============================] - 45s 115ms/step - loss: 0.0263 - val_loss: 0.2744\n",
            "Epoch 31/100\n",
            "391/391 [==============================] - 45s 114ms/step - loss: 0.0257 - val_loss: 0.2944\n",
            "Epoch 32/100\n",
            "391/391 [==============================] - 44s 113ms/step - loss: 0.0243 - val_loss: 0.2931\n",
            "Epoch 33/100\n",
            "391/391 [==============================] - 44s 112ms/step - loss: 0.0229 - val_loss: 0.2918\n",
            "Epoch 34/100\n",
            "391/391 [==============================] - 44s 112ms/step - loss: 0.0202 - val_loss: 0.3006\n",
            "Epoch 35/100\n",
            "391/391 [==============================] - 44s 113ms/step - loss: 0.0197 - val_loss: 0.3151\n",
            "Epoch 36/100\n",
            "391/391 [==============================] - 45s 115ms/step - loss: 0.0261 - val_loss: 0.2900\n",
            "Epoch 37/100\n",
            "391/391 [==============================] - 46s 117ms/step - loss: 0.0201 - val_loss: 0.2755\n",
            "Epoch 38/100\n",
            "391/391 [==============================] - 45s 114ms/step - loss: 0.0186 - val_loss: 0.2897\n",
            "Epoch 39/100\n",
            "391/391 [==============================] - 45s 115ms/step - loss: 0.0173 - val_loss: 0.2942\n",
            "Epoch 40/100\n",
            "391/391 [==============================] - 45s 115ms/step - loss: 0.0167 - val_loss: 0.3058\n",
            "Epoch 41/100\n",
            "391/391 [==============================] - 44s 113ms/step - loss: 0.0232 - val_loss: 0.2731\n",
            "Epoch 42/100\n",
            "391/391 [==============================] - 44s 112ms/step - loss: 0.0178 - val_loss: 0.2770\n",
            "Epoch 43/100\n",
            "391/391 [==============================] - 45s 114ms/step - loss: 0.0143 - val_loss: 0.2869\n",
            "Epoch 44/100\n",
            "391/391 [==============================] - 46s 117ms/step - loss: 0.0143 - val_loss: 0.2699\n",
            "Epoch 45/100\n",
            "391/391 [==============================] - 44s 113ms/step - loss: 0.0141 - val_loss: 0.2993\n",
            "Epoch 46/100\n",
            "391/391 [==============================] - 45s 115ms/step - loss: 0.0223 - val_loss: 0.2831\n",
            "Epoch 47/100\n",
            "391/391 [==============================] - 45s 116ms/step - loss: 0.0131 - val_loss: 0.2727\n",
            "Epoch 48/100\n",
            "391/391 [==============================] - 46s 117ms/step - loss: 0.0122 - val_loss: 0.2874\n",
            "Epoch 49/100\n",
            "391/391 [==============================] - 45s 114ms/step - loss: 0.0121 - val_loss: 0.2845\n",
            "Epoch 50/100\n",
            "391/391 [==============================] - 44s 114ms/step - loss: 0.0131 - val_loss: 0.2657\n",
            "Epoch 51/100\n",
            "391/391 [==============================] - 44s 114ms/step - loss: 0.0119 - val_loss: 0.2614\n",
            "Epoch 52/100\n",
            " 79/391 [=====>........................] - ETA: 34s - loss: 0.0132"
          ]
        },
        {
          "output_type": "error",
          "ename": "KeyboardInterrupt",
          "evalue": "ignored",
          "traceback": [
            "\u001b[0;31m---------------------------------------------------------------------------\u001b[0m",
            "\u001b[0;31mKeyboardInterrupt\u001b[0m                         Traceback (most recent call last)",
            "\u001b[0;32m<ipython-input-97-64e940fec16b>\u001b[0m in \u001b[0;36m<module>\u001b[0;34m()\u001b[0m\n\u001b[0;32m----> 1\u001b[0;31m \u001b[0mhistory_model_0\u001b[0m \u001b[0;34m=\u001b[0m \u001b[0mmodel_0\u001b[0m\u001b[0;34m.\u001b[0m\u001b[0mfit\u001b[0m\u001b[0;34m(\u001b[0m\u001b[0mX_train\u001b[0m\u001b[0;34m,\u001b[0m \u001b[0my_train\u001b[0m\u001b[0;34m,\u001b[0m \u001b[0mepochs\u001b[0m\u001b[0;34m=\u001b[0m\u001b[0;36m100\u001b[0m\u001b[0;34m,\u001b[0m \u001b[0mvalidation_split\u001b[0m\u001b[0;34m=\u001b[0m\u001b[0;36m0.1\u001b[0m\u001b[0;34m,\u001b[0m \u001b[0mbatch_size\u001b[0m\u001b[0;34m=\u001b[0m\u001b[0;36m32\u001b[0m\u001b[0;34m)\u001b[0m\u001b[0;34m\u001b[0m\u001b[0;34m\u001b[0m\u001b[0m\n\u001b[0m",
            "\u001b[0;32m/usr/local/lib/python3.7/dist-packages/keras/utils/traceback_utils.py\u001b[0m in \u001b[0;36merror_handler\u001b[0;34m(*args, **kwargs)\u001b[0m\n\u001b[1;32m     62\u001b[0m     \u001b[0mfiltered_tb\u001b[0m \u001b[0;34m=\u001b[0m \u001b[0;32mNone\u001b[0m\u001b[0;34m\u001b[0m\u001b[0;34m\u001b[0m\u001b[0m\n\u001b[1;32m     63\u001b[0m     \u001b[0;32mtry\u001b[0m\u001b[0;34m:\u001b[0m\u001b[0;34m\u001b[0m\u001b[0;34m\u001b[0m\u001b[0m\n\u001b[0;32m---> 64\u001b[0;31m       \u001b[0;32mreturn\u001b[0m \u001b[0mfn\u001b[0m\u001b[0;34m(\u001b[0m\u001b[0;34m*\u001b[0m\u001b[0margs\u001b[0m\u001b[0;34m,\u001b[0m \u001b[0;34m**\u001b[0m\u001b[0mkwargs\u001b[0m\u001b[0;34m)\u001b[0m\u001b[0;34m\u001b[0m\u001b[0;34m\u001b[0m\u001b[0m\n\u001b[0m\u001b[1;32m     65\u001b[0m     \u001b[0;32mexcept\u001b[0m \u001b[0mException\u001b[0m \u001b[0;32mas\u001b[0m \u001b[0me\u001b[0m\u001b[0;34m:\u001b[0m  \u001b[0;31m# pylint: disable=broad-except\u001b[0m\u001b[0;34m\u001b[0m\u001b[0;34m\u001b[0m\u001b[0m\n\u001b[1;32m     66\u001b[0m       \u001b[0mfiltered_tb\u001b[0m \u001b[0;34m=\u001b[0m \u001b[0m_process_traceback_frames\u001b[0m\u001b[0;34m(\u001b[0m\u001b[0me\u001b[0m\u001b[0;34m.\u001b[0m\u001b[0m__traceback__\u001b[0m\u001b[0;34m)\u001b[0m\u001b[0;34m\u001b[0m\u001b[0;34m\u001b[0m\u001b[0m\n",
            "\u001b[0;32m/usr/local/lib/python3.7/dist-packages/keras/engine/training.py\u001b[0m in \u001b[0;36mfit\u001b[0;34m(self, x, y, batch_size, epochs, verbose, callbacks, validation_split, validation_data, shuffle, class_weight, sample_weight, initial_epoch, steps_per_epoch, validation_steps, validation_batch_size, validation_freq, max_queue_size, workers, use_multiprocessing)\u001b[0m\n\u001b[1;32m   1382\u001b[0m                 _r=1):\n\u001b[1;32m   1383\u001b[0m               \u001b[0mcallbacks\u001b[0m\u001b[0;34m.\u001b[0m\u001b[0mon_train_batch_begin\u001b[0m\u001b[0;34m(\u001b[0m\u001b[0mstep\u001b[0m\u001b[0;34m)\u001b[0m\u001b[0;34m\u001b[0m\u001b[0;34m\u001b[0m\u001b[0m\n\u001b[0;32m-> 1384\u001b[0;31m               \u001b[0mtmp_logs\u001b[0m \u001b[0;34m=\u001b[0m \u001b[0mself\u001b[0m\u001b[0;34m.\u001b[0m\u001b[0mtrain_function\u001b[0m\u001b[0;34m(\u001b[0m\u001b[0miterator\u001b[0m\u001b[0;34m)\u001b[0m\u001b[0;34m\u001b[0m\u001b[0;34m\u001b[0m\u001b[0m\n\u001b[0m\u001b[1;32m   1385\u001b[0m               \u001b[0;32mif\u001b[0m \u001b[0mdata_handler\u001b[0m\u001b[0;34m.\u001b[0m\u001b[0mshould_sync\u001b[0m\u001b[0;34m:\u001b[0m\u001b[0;34m\u001b[0m\u001b[0;34m\u001b[0m\u001b[0m\n\u001b[1;32m   1386\u001b[0m                 \u001b[0mcontext\u001b[0m\u001b[0;34m.\u001b[0m\u001b[0masync_wait\u001b[0m\u001b[0;34m(\u001b[0m\u001b[0;34m)\u001b[0m\u001b[0;34m\u001b[0m\u001b[0;34m\u001b[0m\u001b[0m\n",
            "\u001b[0;32m/usr/local/lib/python3.7/dist-packages/tensorflow/python/util/traceback_utils.py\u001b[0m in \u001b[0;36merror_handler\u001b[0;34m(*args, **kwargs)\u001b[0m\n\u001b[1;32m    148\u001b[0m     \u001b[0mfiltered_tb\u001b[0m \u001b[0;34m=\u001b[0m \u001b[0;32mNone\u001b[0m\u001b[0;34m\u001b[0m\u001b[0;34m\u001b[0m\u001b[0m\n\u001b[1;32m    149\u001b[0m     \u001b[0;32mtry\u001b[0m\u001b[0;34m:\u001b[0m\u001b[0;34m\u001b[0m\u001b[0;34m\u001b[0m\u001b[0m\n\u001b[0;32m--> 150\u001b[0;31m       \u001b[0;32mreturn\u001b[0m \u001b[0mfn\u001b[0m\u001b[0;34m(\u001b[0m\u001b[0;34m*\u001b[0m\u001b[0margs\u001b[0m\u001b[0;34m,\u001b[0m \u001b[0;34m**\u001b[0m\u001b[0mkwargs\u001b[0m\u001b[0;34m)\u001b[0m\u001b[0;34m\u001b[0m\u001b[0;34m\u001b[0m\u001b[0m\n\u001b[0m\u001b[1;32m    151\u001b[0m     \u001b[0;32mexcept\u001b[0m \u001b[0mException\u001b[0m \u001b[0;32mas\u001b[0m \u001b[0me\u001b[0m\u001b[0;34m:\u001b[0m\u001b[0;34m\u001b[0m\u001b[0;34m\u001b[0m\u001b[0m\n\u001b[1;32m    152\u001b[0m       \u001b[0mfiltered_tb\u001b[0m \u001b[0;34m=\u001b[0m \u001b[0m_process_traceback_frames\u001b[0m\u001b[0;34m(\u001b[0m\u001b[0me\u001b[0m\u001b[0;34m.\u001b[0m\u001b[0m__traceback__\u001b[0m\u001b[0;34m)\u001b[0m\u001b[0;34m\u001b[0m\u001b[0;34m\u001b[0m\u001b[0m\n",
            "\u001b[0;32m/usr/local/lib/python3.7/dist-packages/tensorflow/python/eager/def_function.py\u001b[0m in \u001b[0;36m__call__\u001b[0;34m(self, *args, **kwds)\u001b[0m\n\u001b[1;32m    913\u001b[0m \u001b[0;34m\u001b[0m\u001b[0m\n\u001b[1;32m    914\u001b[0m       \u001b[0;32mwith\u001b[0m \u001b[0mOptionalXlaContext\u001b[0m\u001b[0;34m(\u001b[0m\u001b[0mself\u001b[0m\u001b[0;34m.\u001b[0m\u001b[0m_jit_compile\u001b[0m\u001b[0;34m)\u001b[0m\u001b[0;34m:\u001b[0m\u001b[0;34m\u001b[0m\u001b[0;34m\u001b[0m\u001b[0m\n\u001b[0;32m--> 915\u001b[0;31m         \u001b[0mresult\u001b[0m \u001b[0;34m=\u001b[0m \u001b[0mself\u001b[0m\u001b[0;34m.\u001b[0m\u001b[0m_call\u001b[0m\u001b[0;34m(\u001b[0m\u001b[0;34m*\u001b[0m\u001b[0margs\u001b[0m\u001b[0;34m,\u001b[0m \u001b[0;34m**\u001b[0m\u001b[0mkwds\u001b[0m\u001b[0;34m)\u001b[0m\u001b[0;34m\u001b[0m\u001b[0;34m\u001b[0m\u001b[0m\n\u001b[0m\u001b[1;32m    916\u001b[0m \u001b[0;34m\u001b[0m\u001b[0m\n\u001b[1;32m    917\u001b[0m       \u001b[0mnew_tracing_count\u001b[0m \u001b[0;34m=\u001b[0m \u001b[0mself\u001b[0m\u001b[0;34m.\u001b[0m\u001b[0mexperimental_get_tracing_count\u001b[0m\u001b[0;34m(\u001b[0m\u001b[0;34m)\u001b[0m\u001b[0;34m\u001b[0m\u001b[0;34m\u001b[0m\u001b[0m\n",
            "\u001b[0;32m/usr/local/lib/python3.7/dist-packages/tensorflow/python/eager/def_function.py\u001b[0m in \u001b[0;36m_call\u001b[0;34m(self, *args, **kwds)\u001b[0m\n\u001b[1;32m    945\u001b[0m       \u001b[0;31m# In this case we have created variables on the first call, so we run the\u001b[0m\u001b[0;34m\u001b[0m\u001b[0;34m\u001b[0m\u001b[0;34m\u001b[0m\u001b[0m\n\u001b[1;32m    946\u001b[0m       \u001b[0;31m# defunned version which is guaranteed to never create variables.\u001b[0m\u001b[0;34m\u001b[0m\u001b[0;34m\u001b[0m\u001b[0;34m\u001b[0m\u001b[0m\n\u001b[0;32m--> 947\u001b[0;31m       \u001b[0;32mreturn\u001b[0m \u001b[0mself\u001b[0m\u001b[0;34m.\u001b[0m\u001b[0m_stateless_fn\u001b[0m\u001b[0;34m(\u001b[0m\u001b[0;34m*\u001b[0m\u001b[0margs\u001b[0m\u001b[0;34m,\u001b[0m \u001b[0;34m**\u001b[0m\u001b[0mkwds\u001b[0m\u001b[0;34m)\u001b[0m  \u001b[0;31m# pylint: disable=not-callable\u001b[0m\u001b[0;34m\u001b[0m\u001b[0;34m\u001b[0m\u001b[0m\n\u001b[0m\u001b[1;32m    948\u001b[0m     \u001b[0;32melif\u001b[0m \u001b[0mself\u001b[0m\u001b[0;34m.\u001b[0m\u001b[0m_stateful_fn\u001b[0m \u001b[0;32mis\u001b[0m \u001b[0;32mnot\u001b[0m \u001b[0;32mNone\u001b[0m\u001b[0;34m:\u001b[0m\u001b[0;34m\u001b[0m\u001b[0;34m\u001b[0m\u001b[0m\n\u001b[1;32m    949\u001b[0m       \u001b[0;31m# Release the lock early so that multiple threads can perform the call\u001b[0m\u001b[0;34m\u001b[0m\u001b[0;34m\u001b[0m\u001b[0;34m\u001b[0m\u001b[0m\n",
            "\u001b[0;32m/usr/local/lib/python3.7/dist-packages/tensorflow/python/eager/function.py\u001b[0m in \u001b[0;36m__call__\u001b[0;34m(self, *args, **kwargs)\u001b[0m\n\u001b[1;32m   2955\u001b[0m        filtered_flat_args) = self._maybe_define_function(args, kwargs)\n\u001b[1;32m   2956\u001b[0m     return graph_function._call_flat(\n\u001b[0;32m-> 2957\u001b[0;31m         filtered_flat_args, captured_inputs=graph_function.captured_inputs)  # pylint: disable=protected-access\n\u001b[0m\u001b[1;32m   2958\u001b[0m \u001b[0;34m\u001b[0m\u001b[0m\n\u001b[1;32m   2959\u001b[0m   \u001b[0;34m@\u001b[0m\u001b[0mproperty\u001b[0m\u001b[0;34m\u001b[0m\u001b[0;34m\u001b[0m\u001b[0m\n",
            "\u001b[0;32m/usr/local/lib/python3.7/dist-packages/tensorflow/python/eager/function.py\u001b[0m in \u001b[0;36m_call_flat\u001b[0;34m(self, args, captured_inputs, cancellation_manager)\u001b[0m\n\u001b[1;32m   1852\u001b[0m       \u001b[0;31m# No tape is watching; skip to running the function.\u001b[0m\u001b[0;34m\u001b[0m\u001b[0;34m\u001b[0m\u001b[0;34m\u001b[0m\u001b[0m\n\u001b[1;32m   1853\u001b[0m       return self._build_call_outputs(self._inference_function.call(\n\u001b[0;32m-> 1854\u001b[0;31m           ctx, args, cancellation_manager=cancellation_manager))\n\u001b[0m\u001b[1;32m   1855\u001b[0m     forward_backward = self._select_forward_and_backward_functions(\n\u001b[1;32m   1856\u001b[0m         \u001b[0margs\u001b[0m\u001b[0;34m,\u001b[0m\u001b[0;34m\u001b[0m\u001b[0;34m\u001b[0m\u001b[0m\n",
            "\u001b[0;32m/usr/local/lib/python3.7/dist-packages/tensorflow/python/eager/function.py\u001b[0m in \u001b[0;36mcall\u001b[0;34m(self, ctx, args, cancellation_manager)\u001b[0m\n\u001b[1;32m    502\u001b[0m               \u001b[0minputs\u001b[0m\u001b[0;34m=\u001b[0m\u001b[0margs\u001b[0m\u001b[0;34m,\u001b[0m\u001b[0;34m\u001b[0m\u001b[0;34m\u001b[0m\u001b[0m\n\u001b[1;32m    503\u001b[0m               \u001b[0mattrs\u001b[0m\u001b[0;34m=\u001b[0m\u001b[0mattrs\u001b[0m\u001b[0;34m,\u001b[0m\u001b[0;34m\u001b[0m\u001b[0;34m\u001b[0m\u001b[0m\n\u001b[0;32m--> 504\u001b[0;31m               ctx=ctx)\n\u001b[0m\u001b[1;32m    505\u001b[0m         \u001b[0;32melse\u001b[0m\u001b[0;34m:\u001b[0m\u001b[0;34m\u001b[0m\u001b[0;34m\u001b[0m\u001b[0m\n\u001b[1;32m    506\u001b[0m           outputs = execute.execute_with_cancellation(\n",
            "\u001b[0;32m/usr/local/lib/python3.7/dist-packages/tensorflow/python/eager/execute.py\u001b[0m in \u001b[0;36mquick_execute\u001b[0;34m(op_name, num_outputs, inputs, attrs, ctx, name)\u001b[0m\n\u001b[1;32m     53\u001b[0m     \u001b[0mctx\u001b[0m\u001b[0;34m.\u001b[0m\u001b[0mensure_initialized\u001b[0m\u001b[0;34m(\u001b[0m\u001b[0;34m)\u001b[0m\u001b[0;34m\u001b[0m\u001b[0;34m\u001b[0m\u001b[0m\n\u001b[1;32m     54\u001b[0m     tensors = pywrap_tfe.TFE_Py_Execute(ctx._handle, device_name, op_name,\n\u001b[0;32m---> 55\u001b[0;31m                                         inputs, attrs, num_outputs)\n\u001b[0m\u001b[1;32m     56\u001b[0m   \u001b[0;32mexcept\u001b[0m \u001b[0mcore\u001b[0m\u001b[0;34m.\u001b[0m\u001b[0m_NotOkStatusException\u001b[0m \u001b[0;32mas\u001b[0m \u001b[0me\u001b[0m\u001b[0;34m:\u001b[0m\u001b[0;34m\u001b[0m\u001b[0;34m\u001b[0m\u001b[0m\n\u001b[1;32m     57\u001b[0m     \u001b[0;32mif\u001b[0m \u001b[0mname\u001b[0m \u001b[0;32mis\u001b[0m \u001b[0;32mnot\u001b[0m \u001b[0;32mNone\u001b[0m\u001b[0;34m:\u001b[0m\u001b[0;34m\u001b[0m\u001b[0;34m\u001b[0m\u001b[0m\n",
            "\u001b[0;31mKeyboardInterrupt\u001b[0m: "
          ]
        }
      ]
    },
    {
      "cell_type": "code",
      "source": [
        "plt.plot(history_model_0.history['loss'], label='Training loss')\n",
        "plt.plot(history_model_0.history['val_loss'], label='Validation loss')\n",
        "plt.title('Training and validation loss')\n",
        "plt.legend();"
      ],
      "metadata": {
        "colab": {
          "base_uri": "https://localhost:8080/",
          "height": 217
        },
        "id": "y_Bj3T-iKdHi",
        "outputId": "1483ea89-0dfa-4ed6-f9f8-2429f1d1340b"
      },
      "execution_count": null,
      "outputs": [
        {
          "output_type": "error",
          "ename": "NameError",
          "evalue": "ignored",
          "traceback": [
            "\u001b[0;31m---------------------------------------------------------------------------\u001b[0m",
            "\u001b[0;31mNameError\u001b[0m                                 Traceback (most recent call last)",
            "\u001b[0;32m<ipython-input-104-2a77b564114a>\u001b[0m in \u001b[0;36m<module>\u001b[0;34m()\u001b[0m\n\u001b[0;32m----> 1\u001b[0;31m \u001b[0mplt\u001b[0m\u001b[0;34m.\u001b[0m\u001b[0mplot\u001b[0m\u001b[0;34m(\u001b[0m\u001b[0mhistory_model_0\u001b[0m\u001b[0;34m.\u001b[0m\u001b[0mhistory\u001b[0m\u001b[0;34m[\u001b[0m\u001b[0;34m'loss'\u001b[0m\u001b[0;34m]\u001b[0m\u001b[0;34m,\u001b[0m \u001b[0mlabel\u001b[0m\u001b[0;34m=\u001b[0m\u001b[0;34m'Training loss'\u001b[0m\u001b[0;34m)\u001b[0m\u001b[0;34m\u001b[0m\u001b[0;34m\u001b[0m\u001b[0m\n\u001b[0m\u001b[1;32m      2\u001b[0m \u001b[0mplt\u001b[0m\u001b[0;34m.\u001b[0m\u001b[0mplot\u001b[0m\u001b[0;34m(\u001b[0m\u001b[0mhistory_model_0\u001b[0m\u001b[0;34m.\u001b[0m\u001b[0mhistory\u001b[0m\u001b[0;34m[\u001b[0m\u001b[0;34m'val_loss'\u001b[0m\u001b[0;34m]\u001b[0m\u001b[0;34m,\u001b[0m \u001b[0mlabel\u001b[0m\u001b[0;34m=\u001b[0m\u001b[0;34m'Validation loss'\u001b[0m\u001b[0;34m)\u001b[0m\u001b[0;34m\u001b[0m\u001b[0;34m\u001b[0m\u001b[0m\n\u001b[1;32m      3\u001b[0m \u001b[0mplt\u001b[0m\u001b[0;34m.\u001b[0m\u001b[0mtitle\u001b[0m\u001b[0;34m(\u001b[0m\u001b[0;34m'Training and validation loss'\u001b[0m\u001b[0;34m)\u001b[0m\u001b[0;34m\u001b[0m\u001b[0;34m\u001b[0m\u001b[0m\n\u001b[1;32m      4\u001b[0m \u001b[0mplt\u001b[0m\u001b[0;34m.\u001b[0m\u001b[0mlegend\u001b[0m\u001b[0;34m(\u001b[0m\u001b[0;34m)\u001b[0m\u001b[0;34m;\u001b[0m\u001b[0;34m\u001b[0m\u001b[0;34m\u001b[0m\u001b[0m\n",
            "\u001b[0;31mNameError\u001b[0m: name 'history_model_0' is not defined"
          ]
        }
      ]
    },
    {
      "cell_type": "code",
      "source": [
        "def grafica_entrenamiento(tr_mse, val_mse):\n",
        "    ax=plt.figure(figsize=(10,4)).gca()\n",
        "    plt.plot(1+np.arange(len(tr_mse)), tr_mse)\n",
        "    plt.plot(1+np.arange(len(val_mse)), val_mse)\n",
        "    plt.title('mse del modelo', fontsize=18)\n",
        "    plt.xlabel('epoca', fontsize=18)\n",
        "    plt.ylabel('mse', fontsize=18)\n",
        "    plt.legend(['entrenamiento', 'validación'], loc='upper left')\n",
        "    ax.xaxis.set_major_locator(MaxNLocator(integer=True))\n",
        "    plt.show()"
      ],
      "metadata": {
        "id": "jyrdvWfPOl4C"
      },
      "execution_count": null,
      "outputs": []
    },
    {
      "cell_type": "code",
      "source": [
        "epochs = 100\n",
        "batch_size = 32\n",
        "Nval = 200\n",
        "control_sobreajuste_val = True\n",
        "\n",
        "if not control_sobreajuste_val:\n",
        "    history = model_0.fit(X_train, y_train, epochs=100, validation_split=0.1, batch_size=32)\n",
        "\n",
        "else:    \n",
        "    acum_tr_mse = []\n",
        "    acum_val_mse = []\n",
        "    modelpath=\"model_current_best.h5\"\n",
        "    checkpoint = ModelCheckpoint(modelpath, monitor='val_mse', verbose=2, # val_mean_squared_error\n",
        "                                 save_best_only=True,\n",
        "                                 mode='min') # graba sólo los que mejoran en validación\n",
        "\n",
        "    callbacks_list = [checkpoint]\n",
        "    \n",
        "    for e in range(epochs):\n",
        "        #aux = aug.scaling(aug.jitter(X_train[:-Nval])) # data augmentation con jitter\n",
        "        aux = X_train[:-Nval]\n",
        "        history = model_0.fit(aux, y_train[:-Nval],\n",
        "                            batch_size=batch_size,\n",
        "                            epochs=1,\n",
        "                            callbacks=callbacks_list,\n",
        "                            verbose=0,\n",
        "                            validation_data=(X_train[-Nval:], y_train[-Nval:]))\n",
        "        \n",
        "        acum_tr_mse  += history.history['mse'] # mean_squared_error\n",
        "        acum_val_mse += history.history['val_mse'] # val_mean_squared_error\n",
        "        \n",
        "        if (e+1)%50 == 0:\n",
        "            grafica_entrenamiento(acum_tr_mse, acum_val_mse)"
      ],
      "metadata": {
        "id": "YHdahksAFDLX",
        "outputId": "405978d6-2fb0-46a1-db7a-e515c0f00e10",
        "colab": {
          "base_uri": "https://localhost:8080/",
          "height": 675
        }
      },
      "execution_count": null,
      "outputs": [
        {
          "output_type": "stream",
          "name": "stdout",
          "text": [
            "\n",
            "Epoch 1: val_mse improved from inf to 0.60246, saving model to model_current_best.h5\n",
            "\n",
            "Epoch 1: val_mse improved from 0.60246 to 0.33128, saving model to model_current_best.h5\n",
            "\n",
            "Epoch 1: val_mse improved from 0.33128 to 0.24894, saving model to model_current_best.h5\n",
            "\n",
            "Epoch 1: val_mse did not improve from 0.24894\n",
            "\n",
            "Epoch 1: val_mse improved from 0.24894 to 0.23830, saving model to model_current_best.h5\n",
            "\n",
            "Epoch 1: val_mse improved from 0.23830 to 0.19653, saving model to model_current_best.h5\n",
            "\n",
            "Epoch 1: val_mse improved from 0.19653 to 0.17405, saving model to model_current_best.h5\n",
            "\n",
            "Epoch 1: val_mse did not improve from 0.17405\n"
          ]
        },
        {
          "output_type": "error",
          "ename": "KeyboardInterrupt",
          "evalue": "ignored",
          "traceback": [
            "\u001b[0;31m---------------------------------------------------------------------------\u001b[0m",
            "\u001b[0;31mKeyboardInterrupt\u001b[0m                         Traceback (most recent call last)",
            "\u001b[0;32m<ipython-input-105-c08363874603>\u001b[0m in \u001b[0;36m<module>\u001b[0;34m()\u001b[0m\n\u001b[1;32m     25\u001b[0m                             \u001b[0mcallbacks\u001b[0m\u001b[0;34m=\u001b[0m\u001b[0mcallbacks_list\u001b[0m\u001b[0;34m,\u001b[0m\u001b[0;34m\u001b[0m\u001b[0;34m\u001b[0m\u001b[0m\n\u001b[1;32m     26\u001b[0m                             \u001b[0mverbose\u001b[0m\u001b[0;34m=\u001b[0m\u001b[0;36m0\u001b[0m\u001b[0;34m,\u001b[0m\u001b[0;34m\u001b[0m\u001b[0;34m\u001b[0m\u001b[0m\n\u001b[0;32m---> 27\u001b[0;31m                             validation_data=(X_train[-Nval:], y_train[-Nval:]))\n\u001b[0m\u001b[1;32m     28\u001b[0m \u001b[0;34m\u001b[0m\u001b[0m\n\u001b[1;32m     29\u001b[0m         \u001b[0macum_tr_mse\u001b[0m  \u001b[0;34m+=\u001b[0m \u001b[0mhistory\u001b[0m\u001b[0;34m.\u001b[0m\u001b[0mhistory\u001b[0m\u001b[0;34m[\u001b[0m\u001b[0;34m'mse'\u001b[0m\u001b[0;34m]\u001b[0m \u001b[0;31m# mean_squared_error\u001b[0m\u001b[0;34m\u001b[0m\u001b[0;34m\u001b[0m\u001b[0m\n",
            "\u001b[0;32m/usr/local/lib/python3.7/dist-packages/keras/utils/traceback_utils.py\u001b[0m in \u001b[0;36merror_handler\u001b[0;34m(*args, **kwargs)\u001b[0m\n\u001b[1;32m     62\u001b[0m     \u001b[0mfiltered_tb\u001b[0m \u001b[0;34m=\u001b[0m \u001b[0;32mNone\u001b[0m\u001b[0;34m\u001b[0m\u001b[0;34m\u001b[0m\u001b[0m\n\u001b[1;32m     63\u001b[0m     \u001b[0;32mtry\u001b[0m\u001b[0;34m:\u001b[0m\u001b[0;34m\u001b[0m\u001b[0;34m\u001b[0m\u001b[0m\n\u001b[0;32m---> 64\u001b[0;31m       \u001b[0;32mreturn\u001b[0m \u001b[0mfn\u001b[0m\u001b[0;34m(\u001b[0m\u001b[0;34m*\u001b[0m\u001b[0margs\u001b[0m\u001b[0;34m,\u001b[0m \u001b[0;34m**\u001b[0m\u001b[0mkwargs\u001b[0m\u001b[0;34m)\u001b[0m\u001b[0;34m\u001b[0m\u001b[0;34m\u001b[0m\u001b[0m\n\u001b[0m\u001b[1;32m     65\u001b[0m     \u001b[0;32mexcept\u001b[0m \u001b[0mException\u001b[0m \u001b[0;32mas\u001b[0m \u001b[0me\u001b[0m\u001b[0;34m:\u001b[0m  \u001b[0;31m# pylint: disable=broad-except\u001b[0m\u001b[0;34m\u001b[0m\u001b[0;34m\u001b[0m\u001b[0m\n\u001b[1;32m     66\u001b[0m       \u001b[0mfiltered_tb\u001b[0m \u001b[0;34m=\u001b[0m \u001b[0m_process_traceback_frames\u001b[0m\u001b[0;34m(\u001b[0m\u001b[0me\u001b[0m\u001b[0;34m.\u001b[0m\u001b[0m__traceback__\u001b[0m\u001b[0;34m)\u001b[0m\u001b[0;34m\u001b[0m\u001b[0;34m\u001b[0m\u001b[0m\n",
            "\u001b[0;32m/usr/local/lib/python3.7/dist-packages/keras/engine/training.py\u001b[0m in \u001b[0;36mfit\u001b[0;34m(self, x, y, batch_size, epochs, verbose, callbacks, validation_split, validation_data, shuffle, class_weight, sample_weight, initial_epoch, steps_per_epoch, validation_steps, validation_batch_size, validation_freq, max_queue_size, workers, use_multiprocessing)\u001b[0m\n\u001b[1;32m   1382\u001b[0m                 _r=1):\n\u001b[1;32m   1383\u001b[0m               \u001b[0mcallbacks\u001b[0m\u001b[0;34m.\u001b[0m\u001b[0mon_train_batch_begin\u001b[0m\u001b[0;34m(\u001b[0m\u001b[0mstep\u001b[0m\u001b[0;34m)\u001b[0m\u001b[0;34m\u001b[0m\u001b[0;34m\u001b[0m\u001b[0m\n\u001b[0;32m-> 1384\u001b[0;31m               \u001b[0mtmp_logs\u001b[0m \u001b[0;34m=\u001b[0m \u001b[0mself\u001b[0m\u001b[0;34m.\u001b[0m\u001b[0mtrain_function\u001b[0m\u001b[0;34m(\u001b[0m\u001b[0miterator\u001b[0m\u001b[0;34m)\u001b[0m\u001b[0;34m\u001b[0m\u001b[0;34m\u001b[0m\u001b[0m\n\u001b[0m\u001b[1;32m   1385\u001b[0m               \u001b[0;32mif\u001b[0m \u001b[0mdata_handler\u001b[0m\u001b[0;34m.\u001b[0m\u001b[0mshould_sync\u001b[0m\u001b[0;34m:\u001b[0m\u001b[0;34m\u001b[0m\u001b[0;34m\u001b[0m\u001b[0m\n\u001b[1;32m   1386\u001b[0m                 \u001b[0mcontext\u001b[0m\u001b[0;34m.\u001b[0m\u001b[0masync_wait\u001b[0m\u001b[0;34m(\u001b[0m\u001b[0;34m)\u001b[0m\u001b[0;34m\u001b[0m\u001b[0;34m\u001b[0m\u001b[0m\n",
            "\u001b[0;32m/usr/local/lib/python3.7/dist-packages/tensorflow/python/util/traceback_utils.py\u001b[0m in \u001b[0;36merror_handler\u001b[0;34m(*args, **kwargs)\u001b[0m\n\u001b[1;32m    148\u001b[0m     \u001b[0mfiltered_tb\u001b[0m \u001b[0;34m=\u001b[0m \u001b[0;32mNone\u001b[0m\u001b[0;34m\u001b[0m\u001b[0;34m\u001b[0m\u001b[0m\n\u001b[1;32m    149\u001b[0m     \u001b[0;32mtry\u001b[0m\u001b[0;34m:\u001b[0m\u001b[0;34m\u001b[0m\u001b[0;34m\u001b[0m\u001b[0m\n\u001b[0;32m--> 150\u001b[0;31m       \u001b[0;32mreturn\u001b[0m \u001b[0mfn\u001b[0m\u001b[0;34m(\u001b[0m\u001b[0;34m*\u001b[0m\u001b[0margs\u001b[0m\u001b[0;34m,\u001b[0m \u001b[0;34m**\u001b[0m\u001b[0mkwargs\u001b[0m\u001b[0;34m)\u001b[0m\u001b[0;34m\u001b[0m\u001b[0;34m\u001b[0m\u001b[0m\n\u001b[0m\u001b[1;32m    151\u001b[0m     \u001b[0;32mexcept\u001b[0m \u001b[0mException\u001b[0m \u001b[0;32mas\u001b[0m \u001b[0me\u001b[0m\u001b[0;34m:\u001b[0m\u001b[0;34m\u001b[0m\u001b[0;34m\u001b[0m\u001b[0m\n\u001b[1;32m    152\u001b[0m       \u001b[0mfiltered_tb\u001b[0m \u001b[0;34m=\u001b[0m \u001b[0m_process_traceback_frames\u001b[0m\u001b[0;34m(\u001b[0m\u001b[0me\u001b[0m\u001b[0;34m.\u001b[0m\u001b[0m__traceback__\u001b[0m\u001b[0;34m)\u001b[0m\u001b[0;34m\u001b[0m\u001b[0;34m\u001b[0m\u001b[0m\n",
            "\u001b[0;32m/usr/local/lib/python3.7/dist-packages/tensorflow/python/eager/def_function.py\u001b[0m in \u001b[0;36m__call__\u001b[0;34m(self, *args, **kwds)\u001b[0m\n\u001b[1;32m    913\u001b[0m \u001b[0;34m\u001b[0m\u001b[0m\n\u001b[1;32m    914\u001b[0m       \u001b[0;32mwith\u001b[0m \u001b[0mOptionalXlaContext\u001b[0m\u001b[0;34m(\u001b[0m\u001b[0mself\u001b[0m\u001b[0;34m.\u001b[0m\u001b[0m_jit_compile\u001b[0m\u001b[0;34m)\u001b[0m\u001b[0;34m:\u001b[0m\u001b[0;34m\u001b[0m\u001b[0;34m\u001b[0m\u001b[0m\n\u001b[0;32m--> 915\u001b[0;31m         \u001b[0mresult\u001b[0m \u001b[0;34m=\u001b[0m \u001b[0mself\u001b[0m\u001b[0;34m.\u001b[0m\u001b[0m_call\u001b[0m\u001b[0;34m(\u001b[0m\u001b[0;34m*\u001b[0m\u001b[0margs\u001b[0m\u001b[0;34m,\u001b[0m \u001b[0;34m**\u001b[0m\u001b[0mkwds\u001b[0m\u001b[0;34m)\u001b[0m\u001b[0;34m\u001b[0m\u001b[0;34m\u001b[0m\u001b[0m\n\u001b[0m\u001b[1;32m    916\u001b[0m \u001b[0;34m\u001b[0m\u001b[0m\n\u001b[1;32m    917\u001b[0m       \u001b[0mnew_tracing_count\u001b[0m \u001b[0;34m=\u001b[0m \u001b[0mself\u001b[0m\u001b[0;34m.\u001b[0m\u001b[0mexperimental_get_tracing_count\u001b[0m\u001b[0;34m(\u001b[0m\u001b[0;34m)\u001b[0m\u001b[0;34m\u001b[0m\u001b[0;34m\u001b[0m\u001b[0m\n",
            "\u001b[0;32m/usr/local/lib/python3.7/dist-packages/tensorflow/python/eager/def_function.py\u001b[0m in \u001b[0;36m_call\u001b[0;34m(self, *args, **kwds)\u001b[0m\n\u001b[1;32m    945\u001b[0m       \u001b[0;31m# In this case we have created variables on the first call, so we run the\u001b[0m\u001b[0;34m\u001b[0m\u001b[0;34m\u001b[0m\u001b[0;34m\u001b[0m\u001b[0m\n\u001b[1;32m    946\u001b[0m       \u001b[0;31m# defunned version which is guaranteed to never create variables.\u001b[0m\u001b[0;34m\u001b[0m\u001b[0;34m\u001b[0m\u001b[0;34m\u001b[0m\u001b[0m\n\u001b[0;32m--> 947\u001b[0;31m       \u001b[0;32mreturn\u001b[0m \u001b[0mself\u001b[0m\u001b[0;34m.\u001b[0m\u001b[0m_stateless_fn\u001b[0m\u001b[0;34m(\u001b[0m\u001b[0;34m*\u001b[0m\u001b[0margs\u001b[0m\u001b[0;34m,\u001b[0m \u001b[0;34m**\u001b[0m\u001b[0mkwds\u001b[0m\u001b[0;34m)\u001b[0m  \u001b[0;31m# pylint: disable=not-callable\u001b[0m\u001b[0;34m\u001b[0m\u001b[0;34m\u001b[0m\u001b[0m\n\u001b[0m\u001b[1;32m    948\u001b[0m     \u001b[0;32melif\u001b[0m \u001b[0mself\u001b[0m\u001b[0;34m.\u001b[0m\u001b[0m_stateful_fn\u001b[0m \u001b[0;32mis\u001b[0m \u001b[0;32mnot\u001b[0m \u001b[0;32mNone\u001b[0m\u001b[0;34m:\u001b[0m\u001b[0;34m\u001b[0m\u001b[0;34m\u001b[0m\u001b[0m\n\u001b[1;32m    949\u001b[0m       \u001b[0;31m# Release the lock early so that multiple threads can perform the call\u001b[0m\u001b[0;34m\u001b[0m\u001b[0;34m\u001b[0m\u001b[0;34m\u001b[0m\u001b[0m\n",
            "\u001b[0;32m/usr/local/lib/python3.7/dist-packages/tensorflow/python/eager/function.py\u001b[0m in \u001b[0;36m__call__\u001b[0;34m(self, *args, **kwargs)\u001b[0m\n\u001b[1;32m   2955\u001b[0m        filtered_flat_args) = self._maybe_define_function(args, kwargs)\n\u001b[1;32m   2956\u001b[0m     return graph_function._call_flat(\n\u001b[0;32m-> 2957\u001b[0;31m         filtered_flat_args, captured_inputs=graph_function.captured_inputs)  # pylint: disable=protected-access\n\u001b[0m\u001b[1;32m   2958\u001b[0m \u001b[0;34m\u001b[0m\u001b[0m\n\u001b[1;32m   2959\u001b[0m   \u001b[0;34m@\u001b[0m\u001b[0mproperty\u001b[0m\u001b[0;34m\u001b[0m\u001b[0;34m\u001b[0m\u001b[0m\n",
            "\u001b[0;32m/usr/local/lib/python3.7/dist-packages/tensorflow/python/eager/function.py\u001b[0m in \u001b[0;36m_call_flat\u001b[0;34m(self, args, captured_inputs, cancellation_manager)\u001b[0m\n\u001b[1;32m   1852\u001b[0m       \u001b[0;31m# No tape is watching; skip to running the function.\u001b[0m\u001b[0;34m\u001b[0m\u001b[0;34m\u001b[0m\u001b[0;34m\u001b[0m\u001b[0m\n\u001b[1;32m   1853\u001b[0m       return self._build_call_outputs(self._inference_function.call(\n\u001b[0;32m-> 1854\u001b[0;31m           ctx, args, cancellation_manager=cancellation_manager))\n\u001b[0m\u001b[1;32m   1855\u001b[0m     forward_backward = self._select_forward_and_backward_functions(\n\u001b[1;32m   1856\u001b[0m         \u001b[0margs\u001b[0m\u001b[0;34m,\u001b[0m\u001b[0;34m\u001b[0m\u001b[0;34m\u001b[0m\u001b[0m\n",
            "\u001b[0;32m/usr/local/lib/python3.7/dist-packages/tensorflow/python/eager/function.py\u001b[0m in \u001b[0;36mcall\u001b[0;34m(self, ctx, args, cancellation_manager)\u001b[0m\n\u001b[1;32m    502\u001b[0m               \u001b[0minputs\u001b[0m\u001b[0;34m=\u001b[0m\u001b[0margs\u001b[0m\u001b[0;34m,\u001b[0m\u001b[0;34m\u001b[0m\u001b[0;34m\u001b[0m\u001b[0m\n\u001b[1;32m    503\u001b[0m               \u001b[0mattrs\u001b[0m\u001b[0;34m=\u001b[0m\u001b[0mattrs\u001b[0m\u001b[0;34m,\u001b[0m\u001b[0;34m\u001b[0m\u001b[0;34m\u001b[0m\u001b[0m\n\u001b[0;32m--> 504\u001b[0;31m               ctx=ctx)\n\u001b[0m\u001b[1;32m    505\u001b[0m         \u001b[0;32melse\u001b[0m\u001b[0;34m:\u001b[0m\u001b[0;34m\u001b[0m\u001b[0;34m\u001b[0m\u001b[0m\n\u001b[1;32m    506\u001b[0m           outputs = execute.execute_with_cancellation(\n",
            "\u001b[0;32m/usr/local/lib/python3.7/dist-packages/tensorflow/python/eager/execute.py\u001b[0m in \u001b[0;36mquick_execute\u001b[0;34m(op_name, num_outputs, inputs, attrs, ctx, name)\u001b[0m\n\u001b[1;32m     53\u001b[0m     \u001b[0mctx\u001b[0m\u001b[0;34m.\u001b[0m\u001b[0mensure_initialized\u001b[0m\u001b[0;34m(\u001b[0m\u001b[0;34m)\u001b[0m\u001b[0;34m\u001b[0m\u001b[0;34m\u001b[0m\u001b[0m\n\u001b[1;32m     54\u001b[0m     tensors = pywrap_tfe.TFE_Py_Execute(ctx._handle, device_name, op_name,\n\u001b[0;32m---> 55\u001b[0;31m                                         inputs, attrs, num_outputs)\n\u001b[0m\u001b[1;32m     56\u001b[0m   \u001b[0;32mexcept\u001b[0m \u001b[0mcore\u001b[0m\u001b[0;34m.\u001b[0m\u001b[0m_NotOkStatusException\u001b[0m \u001b[0;32mas\u001b[0m \u001b[0me\u001b[0m\u001b[0;34m:\u001b[0m\u001b[0;34m\u001b[0m\u001b[0;34m\u001b[0m\u001b[0m\n\u001b[1;32m     57\u001b[0m     \u001b[0;32mif\u001b[0m \u001b[0mname\u001b[0m \u001b[0;32mis\u001b[0m \u001b[0;32mnot\u001b[0m \u001b[0;32mNone\u001b[0m\u001b[0;34m:\u001b[0m\u001b[0;34m\u001b[0m\u001b[0;34m\u001b[0m\u001b[0m\n",
            "\u001b[0;31mKeyboardInterrupt\u001b[0m: "
          ]
        }
      ]
    },
    {
      "cell_type": "code",
      "source": [
        "plt.plot(history.history['loss'], label='train')\n",
        "plt.plot(history.history['val_loss'], label='test')\n",
        "plt.legend();"
      ],
      "metadata": {
        "id": "E20wtqyfFU9_",
        "outputId": "fc3a06d9-0474-4126-b49a-2f63c921e956",
        "colab": {
          "base_uri": "https://localhost:8080/",
          "height": 265
        }
      },
      "execution_count": null,
      "outputs": [
        {
          "output_type": "display_data",
          "data": {
            "text/plain": [
              "<Figure size 432x288 with 1 Axes>"
            ],
            "image/png": "[encoded data removed]"
          },
          "metadata": {
            "needs_background": "light"
          }
        }
      ]
    },
    {
      "cell_type": "code",
      "source": [
        ""
      ],
      "metadata": {
        "id": "DsrGBKWIdOTa"
      },
      "execution_count": null,
      "outputs": []
    },
    {
      "cell_type": "markdown",
      "source": [
        "# Nueva forma"
      ],
      "metadata": {
        "id": "YA8DYWnDdPRw"
      }
    },
    {
      "cell_type": "code",
      "source": [
        "# lag (horas pasadas usadas para pronosticar)\n",
        "# n_ahead (pasos que queremos pronosticar)\n",
        "\n",
        "\n",
        "def create_X_Y(ts: np.array, lag=1, n_ahead=1, target_index=0) -> tuple:\n",
        "\n",
        "    \"\"\"\n",
        "    A method to create X and Y matrix from a time series array for the training of \n",
        "    deep learning models \n",
        "    \"\"\"\n",
        "    # Extracting the number of features that are passed from the array \n",
        "    n_features = ts.shape[1]\n",
        "    \n",
        "    # Creating placeholder lists\n",
        "    X, Y = [], []\n",
        "\n",
        "    if len(ts) - lag <= 0:\n",
        "        X.append(ts)\n",
        "    else:\n",
        "        for i in range(len(ts) - lag - n_ahead):\n",
        "            Y.append(ts[(i + lag):(i + lag + n_ahead), target_index])\n",
        "            X.append(ts[i:(i + lag)])\n",
        "\n",
        "    X, Y = np.array(X), np.array(Y)\n",
        "\n",
        "    # Reshaping the X array to an RNN input shape \n",
        "    X = np.reshape(X, (X.shape[0], lag, n_features))\n",
        "\n",
        "    return X, Y"
      ],
      "metadata": {
        "id": "VuXsi_FodR4n"
      },
      "execution_count": 39,
      "outputs": []
    },
    {
      "cell_type": "code",
      "source": [
        "# Number of lags (hours back) to use for models\n",
        "lag = 48\n",
        "# Steps ahead to forecast \n",
        "n_ahead = 1 #num outputs \n",
        "# Share of obs in testing \n",
        "test_share = 0.1\n",
        "# Epochs for training\n",
        "epochs = 20\n",
        "# Batch size \n",
        "batch_size = 32\n",
        "# Learning rate\n",
        "lr = 0.001\n",
        "# Number of neurons in LSTM layer\n",
        "n_layer = 10\n",
        "# The features used in the modeling \n",
        "features_final = [\"target_transf\", \"t1\", \"hum\", \"wind_speed\", \"is_weekend\", \"festivo\"]"
      ],
      "metadata": {
        "id": "esKRpfMGdm-s"
      },
      "execution_count": 41,
      "outputs": []
    },
    {
      "cell_type": "code",
      "source": [
        "class NNMultistepModel():\n",
        "    \n",
        "    def __init__(\n",
        "        self, \n",
        "        X, \n",
        "        Y, \n",
        "        n_outputs,\n",
        "        n_lag,\n",
        "        n_ft,\n",
        "        n_layer,\n",
        "        batch,\n",
        "        epochs, \n",
        "        lr,\n",
        "        Xval=None,\n",
        "        Yval=None,\n",
        "        mask_value=-999.0,\n",
        "        min_delta=0.001,\n",
        "        patience=5\n",
        "    ):\n",
        "        lstm_input = Input(shape=(n_lag, n_ft))\n",
        "\n",
        "        # Series signal \n",
        "        lstm_layer = LSTM(n_layer, activation='relu')(lstm_input)\n",
        "\n",
        "        x = Dense(n_outputs)(lstm_layer)\n",
        "        \n",
        "        self.model = Model(inputs=lstm_input, outputs=x)\n",
        "        self.batch = batch \n",
        "        self.epochs = epochs\n",
        "        self.n_layer=n_layer\n",
        "        self.lr = lr \n",
        "        self.Xval = Xval\n",
        "        self.Yval = Yval\n",
        "        self.X = X\n",
        "        self.Y = Y\n",
        "        self.mask_value = mask_value\n",
        "        self.min_delta = min_delta\n",
        "        self.patience = patience\n",
        "\n",
        "    def trainCallback(self):\n",
        "        return EarlyStopping(monitor='loss', patience=self.patience, min_delta=self.min_delta)\n",
        "\n",
        "    def train(self):\n",
        "        # Getting the untrained model \n",
        "        empty_model = self.model\n",
        "        \n",
        "        # Initiating the optimizer\n",
        "        optimizer = keras.optimizers.Adam(learning_rate=self.lr)\n",
        "\n",
        "        # Compiling the model\n",
        "        empty_model.compile(loss=losses.MeanAbsoluteError(), optimizer=optimizer)\n",
        "\n",
        "        if (self.Xval is not None) & (self.Yval is not None):\n",
        "            history = empty_model.fit(\n",
        "                self.X, \n",
        "                self.Y, \n",
        "                epochs=self.epochs, \n",
        "                batch_size=self.batch, \n",
        "                validation_data=(self.Xval, self.Yval), \n",
        "                shuffle=False,\n",
        "                callbacks=[self.trainCallback()]\n",
        "            )\n",
        "        else:\n",
        "            history = empty_model.fit(\n",
        "                self.X, \n",
        "                self.Y, \n",
        "                epochs=self.epochs, \n",
        "                batch_size=self.batch,\n",
        "                shuffle=False,\n",
        "                callbacks=[self.trainCallback()]\n",
        "            )\n",
        "        \n",
        "        # Saving to original model attribute in the class\n",
        "        self.model = empty_model\n",
        "        \n",
        "        # Returning the training history\n",
        "        return history\n",
        "    \n",
        "    def predict(self, X):\n",
        "        return self.model.predict(X)"
      ],
      "metadata": {
        "id": "MdnUzmLzgpt0"
      },
      "execution_count": 42,
      "outputs": []
    },
    {
      "cell_type": "code",
      "source": [
        "test_share"
      ],
      "metadata": {
        "id": "f10RcptfjWHh",
        "outputId": "bd5e744a-1bcb-4c68-e09b-5267b4052235",
        "colab": {
          "base_uri": "https://localhost:8080/"
        }
      },
      "execution_count": 47,
      "outputs": [
        {
          "output_type": "execute_result",
          "data": {
            "text/plain": [
              "0.1"
            ]
          },
          "metadata": {},
          "execution_count": 47
        }
      ]
    },
    {
      "cell_type": "code",
      "source": [
        "features_final = ['cnt',\n",
        "                't1',\n",
        "                'hum',\n",
        "                'wind_speed',\n",
        "                'is_holiday',\n",
        "                'is_weekend',\n",
        "                'season',\n",
        "                'hour',\n",
        "                'month']"
      ],
      "metadata": {
        "id": "z5unmFILnOUu"
      },
      "execution_count": 63,
      "outputs": []
    },
    {
      "cell_type": "code",
      "source": [
        "ts = data_final[features_final]"
      ],
      "metadata": {
        "id": "prv8ZgtJj8zi"
      },
      "execution_count": 64,
      "outputs": []
    },
    {
      "cell_type": "code",
      "source": [
        "ts.head()"
      ],
      "metadata": {
        "id": "y5awTLuFtrA8",
        "outputId": "4f2a0647-4a52-477a-d35a-d41ab11078b0",
        "colab": {
          "base_uri": "https://localhost:8080/",
          "height": 206
        }
      },
      "execution_count": 90,
      "outputs": [
        {
          "output_type": "execute_result",
          "data": {
            "text/plain": [
              "        cnt      t1    hum  wind_speed  is_holiday  is_weekend  season  hour  \\\n",
              "0  0.167725 -1.1875  0.925   -0.857143           0           1       3     0   \n",
              "1  0.127176 -1.1875  0.925   -0.952381           0           1       3     1   \n",
              "2  0.123490 -1.2500  1.100   -1.428571           0           1       3     2   \n",
              "3  0.066353 -1.3125  1.275   -1.428571           0           1       3     3   \n",
              "4  0.043314 -1.3125  0.925   -0.809524           0           1       3     4   \n",
              "\n",
              "   month  \n",
              "0      1  \n",
              "1      1  \n",
              "2      1  \n",
              "3      1  \n",
              "4      1  "
            ],
            "text/html": [
              "\n",
              "  <div id=\"df-86b104bf-34e2-4077-ad70-38999837f6fe\">\n",
              "    <div class=\"colab-df-container\">\n",
              "      <div>\n",
              "<style scoped>\n",
              "    .dataframe tbody tr th:only-of-type {\n",
              "        vertical-align: middle;\n",
              "    }\n",
              "\n",
              "    .dataframe tbody tr th {\n",
              "        vertical-align: top;\n",
              "    }\n",
              "\n",
              "    .dataframe thead th {\n",
              "        text-align: right;\n",
              "    }\n",
              "</style>\n",
              "<table border=\"1\" class=\"dataframe\">\n",
              "  <thead>\n",
              "    <tr style=\"text-align: right;\">\n",
              "      <th></th>\n",
              "      <th>cnt</th>\n",
              "      <th>t1</th>\n",
              "      <th>hum</th>\n",
              "      <th>wind_speed</th>\n",
              "      <th>is_holiday</th>\n",
              "      <th>is_weekend</th>\n",
              "      <th>season</th>\n",
              "      <th>hour</th>\n",
              "      <th>month</th>\n",
              "    </tr>\n",
              "  </thead>\n",
              "  <tbody>\n",
              "    <tr>\n",
              "      <th>0</th>\n",
              "      <td>0.167725</td>\n",
              "      <td>-1.1875</td>\n",
              "      <td>0.925</td>\n",
              "      <td>-0.857143</td>\n",
              "      <td>0</td>\n",
              "      <td>1</td>\n",
              "      <td>3</td>\n",
              "      <td>0</td>\n",
              "      <td>1</td>\n",
              "    </tr>\n",
              "    <tr>\n",
              "      <th>1</th>\n",
              "      <td>0.127176</td>\n",
              "      <td>-1.1875</td>\n",
              "      <td>0.925</td>\n",
              "      <td>-0.952381</td>\n",
              "      <td>0</td>\n",
              "      <td>1</td>\n",
              "      <td>3</td>\n",
              "      <td>1</td>\n",
              "      <td>1</td>\n",
              "    </tr>\n",
              "    <tr>\n",
              "      <th>2</th>\n",
              "      <td>0.123490</td>\n",
              "      <td>-1.2500</td>\n",
              "      <td>1.100</td>\n",
              "      <td>-1.428571</td>\n",
              "      <td>0</td>\n",
              "      <td>1</td>\n",
              "      <td>3</td>\n",
              "      <td>2</td>\n",
              "      <td>1</td>\n",
              "    </tr>\n",
              "    <tr>\n",
              "      <th>3</th>\n",
              "      <td>0.066353</td>\n",
              "      <td>-1.3125</td>\n",
              "      <td>1.275</td>\n",
              "      <td>-1.428571</td>\n",
              "      <td>0</td>\n",
              "      <td>1</td>\n",
              "      <td>3</td>\n",
              "      <td>3</td>\n",
              "      <td>1</td>\n",
              "    </tr>\n",
              "    <tr>\n",
              "      <th>4</th>\n",
              "      <td>0.043314</td>\n",
              "      <td>-1.3125</td>\n",
              "      <td>0.925</td>\n",
              "      <td>-0.809524</td>\n",
              "      <td>0</td>\n",
              "      <td>1</td>\n",
              "      <td>3</td>\n",
              "      <td>4</td>\n",
              "      <td>1</td>\n",
              "    </tr>\n",
              "  </tbody>\n",
              "</table>\n",
              "</div>\n",
              "      <button class=\"colab-df-convert\" onclick=\"convertToInteractive('df-86b104bf-34e2-4077-ad70-38999837f6fe')\"\n",
              "              title=\"Convert this dataframe to an interactive table.\"\n",
              "              style=\"display:none;\">\n",
              "        \n",
              "  <svg xmlns=\"http://www.w3.org/2000/svg\" height=\"24px\"viewBox=\"0 0 24 24\"\n",
              "       width=\"24px\">\n",
              "    <path d=\"M0 0h24v24H0V0z\" fill=\"none\"/>\n",
              "    <path d=\"M18.56 5.44l.94 2.06.94-2.06 2.06-.94-2.06-.94-.94-2.06-.94 2.06-2.06.94zm-11 1L8.5 8.5l.94-2.06 2.06-.94-2.06-.94L8.5 2.5l-.94 2.06-2.06.94zm10 10l.94 2.06.94-2.06 2.06-.94-2.06-.94-.94-2.06-.94 2.06-2.06.94z\"/><path d=\"M17.41 7.96l-1.37-1.37c-.4-.4-.92-.59-1.43-.59-.52 0-1.04.2-1.43.59L10.3 9.45l-7.72 7.72c-.78.78-.78 2.05 0 2.83L4 21.41c.39.39.9.59 1.41.59.51 0 1.02-.2 1.41-.59l7.78-7.78 2.81-2.81c.8-.78.8-2.07 0-2.86zM5.41 20L4 18.59l7.72-7.72 1.47 1.35L5.41 20z\"/>\n",
              "  </svg>\n",
              "      </button>\n",
              "      \n",
              "  <style>\n",
              "    .colab-df-container {\n",
              "      display:flex;\n",
              "      flex-wrap:wrap;\n",
              "      gap: 12px;\n",
              "    }\n",
              "\n",
              "    .colab-df-convert {\n",
              "      background-color: #E8F0FE;\n",
              "      border: none;\n",
              "      border-radius: 50%;\n",
              "      cursor: pointer;\n",
              "      display: none;\n",
              "      fill: #1967D2;\n",
              "      height: 32px;\n",
              "      padding: 0 0 0 0;\n",
              "      width: 32px;\n",
              "    }\n",
              "\n",
              "    .colab-df-convert:hover {\n",
              "      background-color: #E2EBFA;\n",
              "      box-shadow: 0px 1px 2px rgba(60, 64, 67, 0.3), 0px 1px 3px 1px rgba(60, 64, 67, 0.15);\n",
              "      fill: #174EA6;\n",
              "    }\n",
              "\n",
              "    [theme=dark] .colab-df-convert {\n",
              "      background-color: #3B4455;\n",
              "      fill: #D2E3FC;\n",
              "    }\n",
              "\n",
              "    [theme=dark] .colab-df-convert:hover {\n",
              "      background-color: #434B5C;\n",
              "      box-shadow: 0px 1px 3px 1px rgba(0, 0, 0, 0.15);\n",
              "      filter: drop-shadow(0px 1px 2px rgba(0, 0, 0, 0.3));\n",
              "      fill: #FFFFFF;\n",
              "    }\n",
              "  </style>\n",
              "\n",
              "      <script>\n",
              "        const buttonEl =\n",
              "          document.querySelector('#df-86b104bf-34e2-4077-ad70-38999837f6fe button.colab-df-convert');\n",
              "        buttonEl.style.display =\n",
              "          google.colab.kernel.accessAllowed ? 'block' : 'none';\n",
              "\n",
              "        async function convertToInteractive(key) {\n",
              "          const element = document.querySelector('#df-86b104bf-34e2-4077-ad70-38999837f6fe');\n",
              "          const dataTable =\n",
              "            await google.colab.kernel.invokeFunction('convertToInteractive',\n",
              "                                                     [key], {});\n",
              "          if (!dataTable) return;\n",
              "\n",
              "          const docLinkHtml = 'Like what you see? Visit the ' +\n",
              "            '<a target=\"_blank\" href=https://colab.research.google.com/notebooks/data_table.ipynb>data table notebook</a>'\n",
              "            + ' to learn more about interactive tables.';\n",
              "          element.innerHTML = '';\n",
              "          dataTable['output_type'] = 'display_data';\n",
              "          await google.colab.output.renderOutput(dataTable, element);\n",
              "          const docLink = document.createElement('div');\n",
              "          docLink.innerHTML = docLinkHtml;\n",
              "          element.appendChild(docLink);\n",
              "        }\n",
              "      </script>\n",
              "    </div>\n",
              "  </div>\n",
              "  "
            ]
          },
          "metadata": {},
          "execution_count": 90
        }
      ]
    },
    {
      "cell_type": "code",
      "source": [
        "nrows"
      ],
      "metadata": {
        "id": "hcVgRw3rvtNf",
        "outputId": "c4ed8341-0041-42e5-f9e9-f8db1d5d35cf",
        "colab": {
          "base_uri": "https://localhost:8080/"
        }
      },
      "execution_count": 100,
      "outputs": [
        {
          "output_type": "execute_result",
          "data": {
            "text/plain": [
              "17414"
            ]
          },
          "metadata": {},
          "execution_count": 100
        }
      ]
    },
    {
      "cell_type": "code",
      "source": [
        "# Subseting only the needed columns \n",
        "ts = data_final[features_final]\n",
        "nrows = ts.shape[0]\n",
        "# Spliting into train and test sets\n",
        "train = ts[0:int(nrows * (1-test_share))]\n",
        "test = ts[int(nrows * (1-test_share)):]\n",
        "# Scaling the data \n",
        "train_mean = train.mean()\n",
        "train_std = train.std()\n",
        "train = (train - train_mean) / train_std\n",
        "test = (test - train_mean) / train_std\n",
        "# Creating the final scaled frame \n",
        "ts_s = pd.concat([train, test])\n",
        "# Creating the X and Y for training\n",
        "X, Y = create_X_Y(ts_s.values, lag=lag, n_ahead=n_ahead)\n",
        "n_ft = X.shape[2]"
      ],
      "metadata": {
        "id": "6-Hdpk-ihJTS"
      },
      "execution_count": 80,
      "outputs": []
    },
    {
      "cell_type": "code",
      "source": [
        "# Spliting into train and test sets \n",
        "Xtrain, Ytrain = X[0:int(X.shape[0] * (1 - test_share))], Y[0:int(X.shape[0] * (1 - test_share))]\n",
        "Xval, Yval = X[int(X.shape[0] * (1 - test_share)):], Y[int(X.shape[0] * (1 - test_share)):]"
      ],
      "metadata": {
        "id": "vj6O5RoviUU9"
      },
      "execution_count": 82,
      "outputs": []
    },
    {
      "cell_type": "code",
      "source": [
        "print(\"Shape of training data: \", Xtrain.shape)\n",
        "print(\"Shape of the target data: \", Ytrain.shape)\n",
        "print(\"Shape of validation data: \", Xval.shape)\n",
        "print(\"Shape of the validation target data: \", Yval.shape)"
      ],
      "metadata": {
        "colab": {
          "base_uri": "https://localhost:8080/"
        },
        "id": "npj2DQkyp0d9",
        "outputId": "5e7367b7-bd86-4bed-a186-edc63a45e59a"
      },
      "execution_count": 86,
      "outputs": [
        {
          "output_type": "stream",
          "name": "stdout",
          "text": [
            "Shape of training data:  (15628, 48, 9)\n",
            "Shape of the target data:  (15628, 1)\n",
            "Shape of validation data:  (1737, 48, 9)\n",
            "Shape of the validation target data:  (1737, 1)\n"
          ]
        }
      ]
    },
    {
      "cell_type": "code",
      "source": [
        "print(Xtrain.shape[1])\n",
        "print(Xtrain.shape[2])"
      ],
      "metadata": {
        "id": "3MNKPW8Lv_xq",
        "outputId": "0778ecfc-f8c5-428c-d12b-d148748d0baa",
        "colab": {
          "base_uri": "https://localhost:8080/"
        }
      },
      "execution_count": 106,
      "outputs": [
        {
          "output_type": "stream",
          "name": "stdout",
          "text": [
            "48\n",
            "9\n"
          ]
        }
      ]
    },
    {
      "cell_type": "code",
      "source": [
        "model_0 = Sequential()\n",
        "model_0.add(LSTM(4, input_shape=(Xtrain.shape[1], Xtrain.shape[2])))  # input_shape=[time steps, features]\n",
        "model_0.add(Dense(units = 512, activation = 'relu'))\n",
        "model_0.add(Dense(n_ahead))\n",
        "model_0.compile(loss='mean_squared_error', optimizer='adam')"
      ],
      "metadata": {
        "id": "KXf_k3T3tQBJ"
      },
      "execution_count": 109,
      "outputs": []
    },
    {
      "cell_type": "code",
      "source": [
        "model_0.summary()"
      ],
      "metadata": {
        "colab": {
          "base_uri": "https://localhost:8080/"
        },
        "id": "n73pvhmgqR-T",
        "outputId": "1acb259a-8bde-4020-ece0-da8446e3fdc1"
      },
      "execution_count": 110,
      "outputs": [
        {
          "output_type": "stream",
          "name": "stdout",
          "text": [
            "Model: \"sequential_2\"\n",
            "_________________________________________________________________\n",
            " Layer (type)                Output Shape              Param #   \n",
            "=================================================================\n",
            " lstm_2 (LSTM)               (None, 4)                 224       \n",
            "                                                                 \n",
            " dense_2 (Dense)             (None, 512)               2560      \n",
            "                                                                 \n",
            " dense_3 (Dense)             (None, 1)                 513       \n",
            "                                                                 \n",
            "=================================================================\n",
            "Total params: 3,297\n",
            "Trainable params: 3,297\n",
            "Non-trainable params: 0\n",
            "_________________________________________________________________\n"
          ]
        }
      ]
    },
    {
      "cell_type": "code",
      "source": [
        "history_lstm = model_0.fit(Xtrain, Ytrain, epochs=20, validation_split=0.1, batch_size=32)"
      ],
      "metadata": {
        "colab": {
          "base_uri": "https://localhost:8080/"
        },
        "id": "AjjuyiPlqmvl",
        "outputId": "129a4eca-c2a8-40b7-9387-1d3cd444cee9"
      },
      "execution_count": 112,
      "outputs": [
        {
          "output_type": "stream",
          "name": "stdout",
          "text": [
            "Epoch 1/20\n",
            "440/440 [==============================] - 10s 16ms/step - loss: 0.5318 - val_loss: 0.4714\n",
            "Epoch 2/20\n",
            "440/440 [==============================] - 7s 15ms/step - loss: 0.2871 - val_loss: 0.3152\n",
            "Epoch 3/20\n",
            "440/440 [==============================] - 7s 15ms/step - loss: 0.1955 - val_loss: 0.2085\n",
            "Epoch 4/20\n",
            "440/440 [==============================] - 6s 15ms/step - loss: 0.1303 - val_loss: 0.1261\n",
            "Epoch 5/20\n",
            "440/440 [==============================] - 6s 15ms/step - loss: 0.0956 - val_loss: 0.1034\n",
            "Epoch 6/20\n",
            "440/440 [==============================] - 6s 15ms/step - loss: 0.0791 - val_loss: 0.0760\n",
            "Epoch 7/20\n",
            "440/440 [==============================] - 7s 15ms/step - loss: 0.0694 - val_loss: 0.0653\n",
            "Epoch 8/20\n",
            "440/440 [==============================] - 7s 15ms/step - loss: 0.0642 - val_loss: 0.0650\n",
            "Epoch 9/20\n",
            "440/440 [==============================] - 7s 15ms/step - loss: 0.0594 - val_loss: 0.0639\n",
            "Epoch 10/20\n",
            "440/440 [==============================] - 7s 15ms/step - loss: 0.0554 - val_loss: 0.0539\n",
            "Epoch 11/20\n",
            "440/440 [==============================] - 7s 15ms/step - loss: 0.0517 - val_loss: 0.0499\n",
            "Epoch 12/20\n",
            "440/440 [==============================] - 6s 15ms/step - loss: 0.0493 - val_loss: 0.0527\n",
            "Epoch 13/20\n",
            "440/440 [==============================] - 7s 15ms/step - loss: 0.0469 - val_loss: 0.0555\n",
            "Epoch 14/20\n",
            "440/440 [==============================] - 7s 15ms/step - loss: 0.0447 - val_loss: 0.0477\n",
            "Epoch 15/20\n",
            "440/440 [==============================] - 7s 16ms/step - loss: 0.0435 - val_loss: 0.0510\n",
            "Epoch 16/20\n",
            "440/440 [==============================] - 7s 15ms/step - loss: 0.0419 - val_loss: 0.0397\n",
            "Epoch 17/20\n",
            "440/440 [==============================] - 7s 15ms/step - loss: 0.0416 - val_loss: 0.0499\n",
            "Epoch 18/20\n",
            "440/440 [==============================] - 7s 15ms/step - loss: 0.0394 - val_loss: 0.0404\n",
            "Epoch 19/20\n",
            "440/440 [==============================] - 7s 15ms/step - loss: 0.0385 - val_loss: 0.0387\n",
            "Epoch 20/20\n",
            "440/440 [==============================] - 7s 15ms/step - loss: 0.0378 - val_loss: 0.0401\n"
          ]
        }
      ]
    },
    {
      "cell_type": "code",
      "source": [
        "plt.plot(history_lstm.history['loss'], label='train')\n",
        "plt.plot(history_lstm.history['val_loss'], label='test')\n",
        "plt.legend();"
      ],
      "metadata": {
        "id": "CKy4n0FSx7KU",
        "outputId": "209f6850-0cc3-447b-acc9-c373726ec6d4",
        "colab": {
          "base_uri": "https://localhost:8080/",
          "height": 265
        }
      },
      "execution_count": 113,
      "outputs": [
        {
          "output_type": "display_data",
          "data": {
            "text/plain": [
              "<Figure size 432x288 with 1 Axes>"
            ],
            "image/png": "[encoded data removed]"
          },
          "metadata": {
            "needs_background": "light"
          }
        }
      ]
    },
    {
      "cell_type": "code",
      "source": [
        "# make predictions\n",
        "#y_pred_test = model_0.predict(Xval)\n",
        "y_pred_train = model_0.predict(Xtrain)"
      ],
      "metadata": {
        "id": "XwhnuOrC6Aer",
        "outputId": "920f3bed-9a04-48f5-a08b-af5e732a6d12",
        "colab": {
          "base_uri": "https://localhost:8080/",
          "height": 606
        }
      },
      "execution_count": 137,
      "outputs": [
        {
          "output_type": "error",
          "ename": "ValueError",
          "evalue": "ignored",
          "traceback": [
            "\u001b[0;31m---------------------------------------------------------------------------\u001b[0m",
            "\u001b[0;31mValueError\u001b[0m                                Traceback (most recent call last)",
            "\u001b[0;32m<ipython-input-137-fda25121514d>\u001b[0m in \u001b[0;36m<module>\u001b[0;34m()\u001b[0m\n\u001b[1;32m      1\u001b[0m \u001b[0;31m# make predictions\u001b[0m\u001b[0;34m\u001b[0m\u001b[0;34m\u001b[0m\u001b[0;34m\u001b[0m\u001b[0m\n\u001b[1;32m      2\u001b[0m \u001b[0;31m#y_pred_test = model_0.predict(Xval)\u001b[0m\u001b[0;34m\u001b[0m\u001b[0;34m\u001b[0m\u001b[0;34m\u001b[0m\u001b[0m\n\u001b[0;32m----> 3\u001b[0;31m \u001b[0my_pred_train\u001b[0m \u001b[0;34m=\u001b[0m \u001b[0mmodel_0\u001b[0m\u001b[0;34m.\u001b[0m\u001b[0mpredict\u001b[0m\u001b[0;34m(\u001b[0m\u001b[0mXtrain\u001b[0m\u001b[0;34m)\u001b[0m\u001b[0;34m\u001b[0m\u001b[0;34m\u001b[0m\u001b[0m\n\u001b[0m",
            "\u001b[0;32m/usr/local/lib/python3.7/dist-packages/keras/utils/traceback_utils.py\u001b[0m in \u001b[0;36merror_handler\u001b[0;34m(*args, **kwargs)\u001b[0m\n\u001b[1;32m     65\u001b[0m     \u001b[0;32mexcept\u001b[0m \u001b[0mException\u001b[0m \u001b[0;32mas\u001b[0m \u001b[0me\u001b[0m\u001b[0;34m:\u001b[0m  \u001b[0;31m# pylint: disable=broad-except\u001b[0m\u001b[0;34m\u001b[0m\u001b[0;34m\u001b[0m\u001b[0m\n\u001b[1;32m     66\u001b[0m       \u001b[0mfiltered_tb\u001b[0m \u001b[0;34m=\u001b[0m \u001b[0m_process_traceback_frames\u001b[0m\u001b[0;34m(\u001b[0m\u001b[0me\u001b[0m\u001b[0;34m.\u001b[0m\u001b[0m__traceback__\u001b[0m\u001b[0;34m)\u001b[0m\u001b[0;34m\u001b[0m\u001b[0;34m\u001b[0m\u001b[0m\n\u001b[0;32m---> 67\u001b[0;31m       \u001b[0;32mraise\u001b[0m \u001b[0me\u001b[0m\u001b[0;34m.\u001b[0m\u001b[0mwith_traceback\u001b[0m\u001b[0;34m(\u001b[0m\u001b[0mfiltered_tb\u001b[0m\u001b[0;34m)\u001b[0m \u001b[0;32mfrom\u001b[0m \u001b[0;32mNone\u001b[0m\u001b[0;34m\u001b[0m\u001b[0;34m\u001b[0m\u001b[0m\n\u001b[0m\u001b[1;32m     68\u001b[0m     \u001b[0;32mfinally\u001b[0m\u001b[0;34m:\u001b[0m\u001b[0;34m\u001b[0m\u001b[0;34m\u001b[0m\u001b[0m\n\u001b[1;32m     69\u001b[0m       \u001b[0;32mdel\u001b[0m \u001b[0mfiltered_tb\u001b[0m\u001b[0;34m\u001b[0m\u001b[0;34m\u001b[0m\u001b[0m\n",
            "\u001b[0;32m/usr/local/lib/python3.7/dist-packages/tensorflow/python/framework/func_graph.py\u001b[0m in \u001b[0;36mautograph_handler\u001b[0;34m(*args, **kwargs)\u001b[0m\n\u001b[1;32m   1145\u001b[0m           \u001b[0;32mexcept\u001b[0m \u001b[0mException\u001b[0m \u001b[0;32mas\u001b[0m \u001b[0me\u001b[0m\u001b[0;34m:\u001b[0m  \u001b[0;31m# pylint:disable=broad-except\u001b[0m\u001b[0;34m\u001b[0m\u001b[0;34m\u001b[0m\u001b[0m\n\u001b[1;32m   1146\u001b[0m             \u001b[0;32mif\u001b[0m \u001b[0mhasattr\u001b[0m\u001b[0;34m(\u001b[0m\u001b[0me\u001b[0m\u001b[0;34m,\u001b[0m \u001b[0;34m\"ag_error_metadata\"\u001b[0m\u001b[0;34m)\u001b[0m\u001b[0;34m:\u001b[0m\u001b[0;34m\u001b[0m\u001b[0;34m\u001b[0m\u001b[0m\n\u001b[0;32m-> 1147\u001b[0;31m               \u001b[0;32mraise\u001b[0m \u001b[0me\u001b[0m\u001b[0;34m.\u001b[0m\u001b[0mag_error_metadata\u001b[0m\u001b[0;34m.\u001b[0m\u001b[0mto_exception\u001b[0m\u001b[0;34m(\u001b[0m\u001b[0me\u001b[0m\u001b[0;34m)\u001b[0m\u001b[0;34m\u001b[0m\u001b[0;34m\u001b[0m\u001b[0m\n\u001b[0m\u001b[1;32m   1148\u001b[0m             \u001b[0;32melse\u001b[0m\u001b[0;34m:\u001b[0m\u001b[0;34m\u001b[0m\u001b[0;34m\u001b[0m\u001b[0m\n\u001b[1;32m   1149\u001b[0m               \u001b[0;32mraise\u001b[0m\u001b[0;34m\u001b[0m\u001b[0;34m\u001b[0m\u001b[0m\n",
            "\u001b[0;31mValueError\u001b[0m: in user code:\n\n    File \"/usr/local/lib/python3.7/dist-packages/keras/engine/training.py\", line 1801, in predict_function  *\n        return step_function(self, iterator)\n    File \"/usr/local/lib/python3.7/dist-packages/keras/engine/training.py\", line 1790, in step_function  **\n        outputs = model.distribute_strategy.run(run_step, args=(data,))\n    File \"/usr/local/lib/python3.7/dist-packages/keras/engine/training.py\", line 1783, in run_step  **\n        outputs = model.predict_step(data)\n    File \"/usr/local/lib/python3.7/dist-packages/keras/engine/training.py\", line 1751, in predict_step\n        return self(x, training=False)\n    File \"/usr/local/lib/python3.7/dist-packages/keras/utils/traceback_utils.py\", line 67, in error_handler\n        raise e.with_traceback(filtered_tb) from None\n    File \"/usr/local/lib/python3.7/dist-packages/keras/engine/input_spec.py\", line 264, in assert_input_compatibility\n        raise ValueError(f'Input {input_index} of layer \"{layer_name}\" is '\n\n    ValueError: Input 0 of layer \"sequential_2\" is incompatible with the layer: expected shape=(None, 48, 9), found shape=(None, 168, 9)\n"
          ]
        }
      ]
    },
    {
      "cell_type": "code",
      "source": [
        "# invert scaling\n",
        "\n",
        "y_train_inv = inverse_transform(Ytrain.reshape(1, -1)) #flatten() creo que hace lo mismo\n",
        "y_test_inv = inverse_transform(Yval.reshape(1, -1))\n",
        "y_pred_test_inv = inverse_transform(y_pred_test)\n",
        "y_pred_train_inv = inverse_transform(y_pred_train)"
      ],
      "metadata": {
        "id": "26tVFpyL7YRJ"
      },
      "execution_count": null,
      "outputs": []
    },
    {
      "cell_type": "code",
      "source": [
        "#####"
      ],
      "metadata": {
        "id": "ZTpcQHn2ykYR"
      },
      "execution_count": null,
      "outputs": []
    },
    {
      "cell_type": "code",
      "source": [
        ""
      ],
      "metadata": {
        "id": "jcL3-gDKy58I"
      },
      "execution_count": null,
      "outputs": []
    },
    {
      "cell_type": "code",
      "source": [
        "# Number of lags (hours back) to use for models\n",
        "lag = 168 #ultimos 7 días\n",
        "# Steps ahead to forecast \n",
        "n_ahead = 24 #num outputs \n",
        "# Share of obs in testing \n",
        "test_share = 0.1\n",
        "# Epochs for training\n",
        "epochs = 20\n",
        "# Batch size \n",
        "batch_size = 32\n",
        "# Learning rate\n",
        "lr = 0.001\n",
        "# Number of neurons in LSTM layer\n",
        "n_layer = 10\n",
        "# The features used in the modeling \n",
        "features_final = [\"target_transf\", \"t1\", \"hum\", \"wind_speed\", \"is_weekend\", \"festivo\"]"
      ],
      "metadata": {
        "id": "ICHoiYcTzdg5"
      },
      "execution_count": 114,
      "outputs": []
    },
    {
      "cell_type": "code",
      "source": [
        "data_final"
      ],
      "metadata": {
        "id": "6NbtQVEe0Iff",
        "outputId": "fca736b3-41fb-453b-a723-bba7e35c768f",
        "colab": {
          "base_uri": "https://localhost:8080/",
          "height": 423
        }
      },
      "execution_count": 116,
      "outputs": [
        {
          "output_type": "execute_result",
          "data": {
            "text/plain": [
              "                timestamp      t1    hum  wind_speed  weather_code  \\\n",
              "0     2015-01-04 00:00:00 -1.1875  0.925   -0.857143             3   \n",
              "1     2015-01-04 01:00:00 -1.1875  0.925   -0.952381             1   \n",
              "2     2015-01-04 02:00:00 -1.2500  1.100   -1.428571             1   \n",
              "3     2015-01-04 03:00:00 -1.3125  1.275   -1.428571             1   \n",
              "4     2015-01-04 04:00:00 -1.3125  0.925   -0.809524             1   \n",
              "...                   ...     ...    ...         ...           ...   \n",
              "17409 2017-01-03 19:00:00 -0.9375  0.325    0.380952             3   \n",
              "17410 2017-01-03 20:00:00 -0.9375  0.325    0.571429             4   \n",
              "17411 2017-01-03 21:00:00 -0.8750  0.200    0.857143             4   \n",
              "17412 2017-01-03 22:00:00 -0.8750  0.075    0.761905             4   \n",
              "17413 2017-01-03 23:00:00 -0.9375  0.075    0.666667             2   \n",
              "\n",
              "       is_holiday  is_weekend  season  hour  month       cnt  \n",
              "0               0           1       3     0      1  0.167725  \n",
              "1               0           1       3     1      1  0.127176  \n",
              "2               0           1       3     2      1  0.123490  \n",
              "3               0           1       3     3      1  0.066353  \n",
              "4               0           1       3     4      1  0.043314  \n",
              "...           ...         ...     ...   ...    ...       ...  \n",
              "17409           0           0       3    19      1  0.960273  \n",
              "17410           0           0       3    20      1  0.498568  \n",
              "17411           0           0       3    21      1  0.310568  \n",
              "17412           0           0       3    22      1  0.206431  \n",
              "17413           0           0       3    23      1  0.128098  \n",
              "\n",
              "[17414 rows x 11 columns]"
            ],
            "text/html": [
              "\n",
              "  <div id=\"df-f669623b-7ceb-49cb-9f27-d74b1509b81f\">\n",
              "    <div class=\"colab-df-container\">\n",
              "      <div>\n",
              "<style scoped>\n",
              "    .dataframe tbody tr th:only-of-type {\n",
              "        vertical-align: middle;\n",
              "    }\n",
              "\n",
              "    .dataframe tbody tr th {\n",
              "        vertical-align: top;\n",
              "    }\n",
              "\n",
              "    .dataframe thead th {\n",
              "        text-align: right;\n",
              "    }\n",
              "</style>\n",
              "<table border=\"1\" class=\"dataframe\">\n",
              "  <thead>\n",
              "    <tr style=\"text-align: right;\">\n",
              "      <th></th>\n",
              "      <th>timestamp</th>\n",
              "      <th>t1</th>\n",
              "      <th>hum</th>\n",
              "      <th>wind_speed</th>\n",
              "      <th>weather_code</th>\n",
              "      <th>is_holiday</th>\n",
              "      <th>is_weekend</th>\n",
              "      <th>season</th>\n",
              "      <th>hour</th>\n",
              "      <th>month</th>\n",
              "      <th>cnt</th>\n",
              "    </tr>\n",
              "  </thead>\n",
              "  <tbody>\n",
              "    <tr>\n",
              "      <th>0</th>\n",
              "      <td>2015-01-04 00:00:00</td>\n",
              "      <td>-1.1875</td>\n",
              "      <td>0.925</td>\n",
              "      <td>-0.857143</td>\n",
              "      <td>3</td>\n",
              "      <td>0</td>\n",
              "      <td>1</td>\n",
              "      <td>3</td>\n",
              "      <td>0</td>\n",
              "      <td>1</td>\n",
              "      <td>0.167725</td>\n",
              "    </tr>\n",
              "    <tr>\n",
              "      <th>1</th>\n",
              "      <td>2015-01-04 01:00:00</td>\n",
              "      <td>-1.1875</td>\n",
              "      <td>0.925</td>\n",
              "      <td>-0.952381</td>\n",
              "      <td>1</td>\n",
              "      <td>0</td>\n",
              "      <td>1</td>\n",
              "      <td>3</td>\n",
              "      <td>1</td>\n",
              "      <td>1</td>\n",
              "      <td>0.127176</td>\n",
              "    </tr>\n",
              "    <tr>\n",
              "      <th>2</th>\n",
              "      <td>2015-01-04 02:00:00</td>\n",
              "      <td>-1.2500</td>\n",
              "      <td>1.100</td>\n",
              "      <td>-1.428571</td>\n",
              "      <td>1</td>\n",
              "      <td>0</td>\n",
              "      <td>1</td>\n",
              "      <td>3</td>\n",
              "      <td>2</td>\n",
              "      <td>1</td>\n",
              "      <td>0.123490</td>\n",
              "    </tr>\n",
              "    <tr>\n",
              "      <th>3</th>\n",
              "      <td>2015-01-04 03:00:00</td>\n",
              "      <td>-1.3125</td>\n",
              "      <td>1.275</td>\n",
              "      <td>-1.428571</td>\n",
              "      <td>1</td>\n",
              "      <td>0</td>\n",
              "      <td>1</td>\n",
              "      <td>3</td>\n",
              "      <td>3</td>\n",
              "      <td>1</td>\n",
              "      <td>0.066353</td>\n",
              "    </tr>\n",
              "    <tr>\n",
              "      <th>4</th>\n",
              "      <td>2015-01-04 04:00:00</td>\n",
              "      <td>-1.3125</td>\n",
              "      <td>0.925</td>\n",
              "      <td>-0.809524</td>\n",
              "      <td>1</td>\n",
              "      <td>0</td>\n",
              "      <td>1</td>\n",
              "      <td>3</td>\n",
              "      <td>4</td>\n",
              "      <td>1</td>\n",
              "      <td>0.043314</td>\n",
              "    </tr>\n",
              "    <tr>\n",
              "      <th>...</th>\n",
              "      <td>...</td>\n",
              "      <td>...</td>\n",
              "      <td>...</td>\n",
              "      <td>...</td>\n",
              "      <td>...</td>\n",
              "      <td>...</td>\n",
              "      <td>...</td>\n",
              "      <td>...</td>\n",
              "      <td>...</td>\n",
              "      <td>...</td>\n",
              "      <td>...</td>\n",
              "    </tr>\n",
              "    <tr>\n",
              "      <th>17409</th>\n",
              "      <td>2017-01-03 19:00:00</td>\n",
              "      <td>-0.9375</td>\n",
              "      <td>0.325</td>\n",
              "      <td>0.380952</td>\n",
              "      <td>3</td>\n",
              "      <td>0</td>\n",
              "      <td>0</td>\n",
              "      <td>3</td>\n",
              "      <td>19</td>\n",
              "      <td>1</td>\n",
              "      <td>0.960273</td>\n",
              "    </tr>\n",
              "    <tr>\n",
              "      <th>17410</th>\n",
              "      <td>2017-01-03 20:00:00</td>\n",
              "      <td>-0.9375</td>\n",
              "      <td>0.325</td>\n",
              "      <td>0.571429</td>\n",
              "      <td>4</td>\n",
              "      <td>0</td>\n",
              "      <td>0</td>\n",
              "      <td>3</td>\n",
              "      <td>20</td>\n",
              "      <td>1</td>\n",
              "      <td>0.498568</td>\n",
              "    </tr>\n",
              "    <tr>\n",
              "      <th>17411</th>\n",
              "      <td>2017-01-03 21:00:00</td>\n",
              "      <td>-0.8750</td>\n",
              "      <td>0.200</td>\n",
              "      <td>0.857143</td>\n",
              "      <td>4</td>\n",
              "      <td>0</td>\n",
              "      <td>0</td>\n",
              "      <td>3</td>\n",
              "      <td>21</td>\n",
              "      <td>1</td>\n",
              "      <td>0.310568</td>\n",
              "    </tr>\n",
              "    <tr>\n",
              "      <th>17412</th>\n",
              "      <td>2017-01-03 22:00:00</td>\n",
              "      <td>-0.8750</td>\n",
              "      <td>0.075</td>\n",
              "      <td>0.761905</td>\n",
              "      <td>4</td>\n",
              "      <td>0</td>\n",
              "      <td>0</td>\n",
              "      <td>3</td>\n",
              "      <td>22</td>\n",
              "      <td>1</td>\n",
              "      <td>0.206431</td>\n",
              "    </tr>\n",
              "    <tr>\n",
              "      <th>17413</th>\n",
              "      <td>2017-01-03 23:00:00</td>\n",
              "      <td>-0.9375</td>\n",
              "      <td>0.075</td>\n",
              "      <td>0.666667</td>\n",
              "      <td>2</td>\n",
              "      <td>0</td>\n",
              "      <td>0</td>\n",
              "      <td>3</td>\n",
              "      <td>23</td>\n",
              "      <td>1</td>\n",
              "      <td>0.128098</td>\n",
              "    </tr>\n",
              "  </tbody>\n",
              "</table>\n",
              "<p>17414 rows × 11 columns</p>\n",
              "</div>\n",
              "      <button class=\"colab-df-convert\" onclick=\"convertToInteractive('df-f669623b-7ceb-49cb-9f27-d74b1509b81f')\"\n",
              "              title=\"Convert this dataframe to an interactive table.\"\n",
              "              style=\"display:none;\">\n",
              "        \n",
              "  <svg xmlns=\"http://www.w3.org/2000/svg\" height=\"24px\"viewBox=\"0 0 24 24\"\n",
              "       width=\"24px\">\n",
              "    <path d=\"M0 0h24v24H0V0z\" fill=\"none\"/>\n",
              "    <path d=\"M18.56 5.44l.94 2.06.94-2.06 2.06-.94-2.06-.94-.94-2.06-.94 2.06-2.06.94zm-11 1L8.5 8.5l.94-2.06 2.06-.94-2.06-.94L8.5 2.5l-.94 2.06-2.06.94zm10 10l.94 2.06.94-2.06 2.06-.94-2.06-.94-.94-2.06-.94 2.06-2.06.94z\"/><path d=\"M17.41 7.96l-1.37-1.37c-.4-.4-.92-.59-1.43-.59-.52 0-1.04.2-1.43.59L10.3 9.45l-7.72 7.72c-.78.78-.78 2.05 0 2.83L4 21.41c.39.39.9.59 1.41.59.51 0 1.02-.2 1.41-.59l7.78-7.78 2.81-2.81c.8-.78.8-2.07 0-2.86zM5.41 20L4 18.59l7.72-7.72 1.47 1.35L5.41 20z\"/>\n",
              "  </svg>\n",
              "      </button>\n",
              "      \n",
              "  <style>\n",
              "    .colab-df-container {\n",
              "      display:flex;\n",
              "      flex-wrap:wrap;\n",
              "      gap: 12px;\n",
              "    }\n",
              "\n",
              "    .colab-df-convert {\n",
              "      background-color: #E8F0FE;\n",
              "      border: none;\n",
              "      border-radius: 50%;\n",
              "      cursor: pointer;\n",
              "      display: none;\n",
              "      fill: #1967D2;\n",
              "      height: 32px;\n",
              "      padding: 0 0 0 0;\n",
              "      width: 32px;\n",
              "    }\n",
              "\n",
              "    .colab-df-convert:hover {\n",
              "      background-color: #E2EBFA;\n",
              "      box-shadow: 0px 1px 2px rgba(60, 64, 67, 0.3), 0px 1px 3px 1px rgba(60, 64, 67, 0.15);\n",
              "      fill: #174EA6;\n",
              "    }\n",
              "\n",
              "    [theme=dark] .colab-df-convert {\n",
              "      background-color: #3B4455;\n",
              "      fill: #D2E3FC;\n",
              "    }\n",
              "\n",
              "    [theme=dark] .colab-df-convert:hover {\n",
              "      background-color: #434B5C;\n",
              "      box-shadow: 0px 1px 3px 1px rgba(0, 0, 0, 0.15);\n",
              "      filter: drop-shadow(0px 1px 2px rgba(0, 0, 0, 0.3));\n",
              "      fill: #FFFFFF;\n",
              "    }\n",
              "  </style>\n",
              "\n",
              "      <script>\n",
              "        const buttonEl =\n",
              "          document.querySelector('#df-f669623b-7ceb-49cb-9f27-d74b1509b81f button.colab-df-convert');\n",
              "        buttonEl.style.display =\n",
              "          google.colab.kernel.accessAllowed ? 'block' : 'none';\n",
              "\n",
              "        async function convertToInteractive(key) {\n",
              "          const element = document.querySelector('#df-f669623b-7ceb-49cb-9f27-d74b1509b81f');\n",
              "          const dataTable =\n",
              "            await google.colab.kernel.invokeFunction('convertToInteractive',\n",
              "                                                     [key], {});\n",
              "          if (!dataTable) return;\n",
              "\n",
              "          const docLinkHtml = 'Like what you see? Visit the ' +\n",
              "            '<a target=\"_blank\" href=https://colab.research.google.com/notebooks/data_table.ipynb>data table notebook</a>'\n",
              "            + ' to learn more about interactive tables.';\n",
              "          element.innerHTML = '';\n",
              "          dataTable['output_type'] = 'display_data';\n",
              "          await google.colab.output.renderOutput(dataTable, element);\n",
              "          const docLink = document.createElement('div');\n",
              "          docLink.innerHTML = docLinkHtml;\n",
              "          element.appendChild(docLink);\n",
              "        }\n",
              "      </script>\n",
              "    </div>\n",
              "  </div>\n",
              "  "
            ]
          },
          "metadata": {},
          "execution_count": 116
        }
      ]
    },
    {
      "cell_type": "code",
      "source": [
        "# Subseting only the needed columns \n",
        "#ts = data_final[features_final]\n",
        "nrows = ts.shape[0]\n",
        "# Spliting into train and test sets\n",
        "train = ts[0:int(nrows * (1-test_share))]\n",
        "test = ts[int(nrows * (1-test_share)):]\n",
        "# Scaling the data \n",
        "train_mean = train.mean()\n",
        "train_std = train.std()\n",
        "train = (train - train_mean) / train_std\n",
        "test = (test - train_mean) / train_std\n",
        "# Creating the final scaled frame \n",
        "ts_s = pd.concat([train, test])\n",
        "# Creating the X and Y for training\n",
        "X, Y = create_X_Y(ts_s.values, lag=lag, n_ahead=n_ahead)\n",
        "n_ft = X.shape[2]"
      ],
      "metadata": {
        "id": "51SUZSw1zdg8"
      },
      "execution_count": 117,
      "outputs": []
    },
    {
      "cell_type": "code",
      "source": [
        "# Spliting into train and test sets \n",
        "Xtrain, Ytrain = X[0:int(X.shape[0] * (1 - test_share))], Y[0:int(X.shape[0] * (1 - test_share))]\n",
        "Xval, Yval = X[int(X.shape[0] * (1 - test_share)):], Y[int(X.shape[0] * (1 - test_share)):]"
      ],
      "metadata": {
        "id": "hppESYCyzdg-"
      },
      "execution_count": 118,
      "outputs": []
    },
    {
      "cell_type": "code",
      "source": [
        "print(\"Shape of training data: \", Xtrain.shape)\n",
        "print(\"Shape of the target data: \", Ytrain.shape)\n",
        "print(\"Shape of validation data: \", Xval.shape)\n",
        "print(\"Shape of the validation target data: \", Yval.shape)"
      ],
      "metadata": {
        "outputId": "d8137249-5966-41da-8d64-912a1cdb7f53",
        "colab": {
          "base_uri": "https://localhost:8080/"
        },
        "id": "GkO_COVCzdg_"
      },
      "execution_count": 119,
      "outputs": [
        {
          "output_type": "stream",
          "name": "stdout",
          "text": [
            "Shape of training data:  (15499, 168, 9)\n",
            "Shape of the target data:  (15499, 24)\n",
            "Shape of validation data:  (1723, 168, 9)\n",
            "Shape of the validation target data:  (1723, 24)\n"
          ]
        }
      ]
    },
    {
      "cell_type": "code",
      "source": [
        "model_1 = Sequential()\n",
        "model_1.add(LSTM(10, input_shape=(Xtrain.shape[1], Xtrain.shape[2])))  # input_shape=[time steps, features]\n",
        "model_1.add(Dense(units = 512, activation = 'relu'))\n",
        "model_1.add(Dropout(rate=0.2))\n",
        "model_1.add(Dense(n_ahead))\n",
        "model_1.compile(loss='mean_squared_error', optimizer='adam')"
      ],
      "metadata": {
        "id": "7CuAXCGk0V3m"
      },
      "execution_count": 127,
      "outputs": []
    },
    {
      "cell_type": "code",
      "source": [
        "model_1.summary()"
      ],
      "metadata": {
        "outputId": "4b32a323-267f-465b-fe80-cc94f41dc455",
        "colab": {
          "base_uri": "https://localhost:8080/"
        },
        "id": "CCfokFNT05-e"
      },
      "execution_count": 128,
      "outputs": [
        {
          "output_type": "stream",
          "name": "stdout",
          "text": [
            "Model: \"sequential_6\"\n",
            "_________________________________________________________________\n",
            " Layer (type)                Output Shape              Param #   \n",
            "=================================================================\n",
            " lstm_6 (LSTM)               (None, 10)                800       \n",
            "                                                                 \n",
            " dense_9 (Dense)             (None, 512)               5632      \n",
            "                                                                 \n",
            " dropout (Dropout)           (None, 512)               0         \n",
            "                                                                 \n",
            " dense_10 (Dense)            (None, 24)                12312     \n",
            "                                                                 \n",
            "=================================================================\n",
            "Total params: 18,744\n",
            "Trainable params: 18,744\n",
            "Non-trainable params: 0\n",
            "_________________________________________________________________\n"
          ]
        }
      ]
    },
    {
      "cell_type": "code",
      "source": [
        "history_lstm_2 = model_1.fit(Xtrain, Ytrain, epochs=35, validation_split=0.1, batch_size=32)"
      ],
      "metadata": {
        "outputId": "982fd760-28ad-4443-cd8a-fe1139b6ed0c",
        "colab": {
          "base_uri": "https://localhost:8080/"
        },
        "id": "OYR7nQQS05-f"
      },
      "execution_count": 130,
      "outputs": [
        {
          "output_type": "stream",
          "name": "stdout",
          "text": [
            "Epoch 1/35\n",
            "436/436 [==============================] - 22s 50ms/step - loss: 0.4197 - val_loss: 0.4448\n",
            "Epoch 2/35\n",
            "436/436 [==============================] - 20s 47ms/step - loss: 0.3209 - val_loss: 0.3690\n",
            "Epoch 3/35\n",
            "436/436 [==============================] - 20s 46ms/step - loss: 0.2810 - val_loss: 0.3275\n",
            "Epoch 4/35\n",
            "436/436 [==============================] - 20s 46ms/step - loss: 0.2615 - val_loss: 0.3143\n",
            "Epoch 5/35\n",
            "436/436 [==============================] - 20s 47ms/step - loss: 0.2502 - val_loss: 0.3049\n",
            "Epoch 6/35\n",
            "436/436 [==============================] - 20s 46ms/step - loss: 0.2424 - val_loss: 0.2975\n",
            "Epoch 7/35\n",
            "436/436 [==============================] - 20s 46ms/step - loss: 0.2351 - val_loss: 0.2900\n",
            "Epoch 8/35\n",
            "436/436 [==============================] - 20s 46ms/step - loss: 0.2297 - val_loss: 0.2892\n",
            "Epoch 9/35\n",
            "436/436 [==============================] - 20s 46ms/step - loss: 0.2267 - val_loss: 0.2830\n",
            "Epoch 10/35\n",
            "436/436 [==============================] - 20s 46ms/step - loss: 0.2213 - val_loss: 0.2754\n",
            "Epoch 11/35\n",
            "436/436 [==============================] - 20s 46ms/step - loss: 0.2171 - val_loss: 0.2798\n",
            "Epoch 12/35\n",
            "436/436 [==============================] - 20s 46ms/step - loss: 0.2127 - val_loss: 0.2703\n",
            "Epoch 13/35\n",
            "436/436 [==============================] - 20s 45ms/step - loss: 0.2082 - val_loss: 0.2621\n",
            "Epoch 14/35\n",
            "436/436 [==============================] - 20s 46ms/step - loss: 0.2033 - val_loss: 0.2602\n",
            "Epoch 15/35\n",
            "436/436 [==============================] - 20s 46ms/step - loss: 0.1975 - val_loss: 0.2344\n",
            "Epoch 16/35\n",
            "436/436 [==============================] - 20s 46ms/step - loss: 0.1905 - val_loss: 0.2501\n",
            "Epoch 17/35\n",
            "436/436 [==============================] - 20s 46ms/step - loss: 0.1843 - val_loss: 0.2247\n",
            "Epoch 18/35\n",
            "436/436 [==============================] - 20s 45ms/step - loss: 0.1794 - val_loss: 0.2192\n",
            "Epoch 19/35\n",
            "436/436 [==============================] - 20s 45ms/step - loss: 0.1746 - val_loss: 0.2128\n",
            "Epoch 20/35\n",
            "436/436 [==============================] - 20s 45ms/step - loss: 0.1714 - val_loss: 0.2150\n",
            "Epoch 21/35\n",
            "436/436 [==============================] - 20s 45ms/step - loss: 0.1685 - val_loss: 0.2040\n",
            "Epoch 22/35\n",
            "436/436 [==============================] - 20s 45ms/step - loss: 0.1668 - val_loss: 0.2040\n",
            "Epoch 23/35\n",
            "436/436 [==============================] - 20s 45ms/step - loss: 0.1641 - val_loss: 0.2002\n",
            "Epoch 24/35\n",
            "436/436 [==============================] - 20s 45ms/step - loss: 0.1623 - val_loss: 0.2046\n",
            "Epoch 25/35\n",
            "436/436 [==============================] - 20s 46ms/step - loss: 0.1599 - val_loss: 0.2007\n",
            "Epoch 26/35\n",
            "436/436 [==============================] - 20s 46ms/step - loss: 0.1578 - val_loss: 0.1946\n",
            "Epoch 27/35\n",
            "436/436 [==============================] - 20s 46ms/step - loss: 0.1567 - val_loss: 0.2053\n",
            "Epoch 28/35\n",
            "436/436 [==============================] - 20s 45ms/step - loss: 0.1561 - val_loss: 0.1936\n",
            "Epoch 29/35\n",
            "436/436 [==============================] - 20s 45ms/step - loss: 0.1544 - val_loss: 0.1982\n",
            "Epoch 30/35\n",
            "436/436 [==============================] - 20s 46ms/step - loss: 0.1530 - val_loss: 0.1925\n",
            "Epoch 31/35\n",
            "436/436 [==============================] - 19s 45ms/step - loss: 0.1528 - val_loss: 0.1929\n",
            "Epoch 32/35\n",
            "436/436 [==============================] - 19s 45ms/step - loss: 0.1510 - val_loss: 0.1892\n",
            "Epoch 33/35\n",
            "436/436 [==============================] - 20s 45ms/step - loss: 0.1500 - val_loss: 0.1900\n",
            "Epoch 34/35\n",
            "436/436 [==============================] - 19s 44ms/step - loss: 0.1497 - val_loss: 0.1912\n",
            "Epoch 35/35\n",
            "436/436 [==============================] - 19s 44ms/step - loss: 0.1480 - val_loss: 0.1855\n"
          ]
        }
      ]
    },
    {
      "cell_type": "code",
      "source": [
        "plt.plot(history_lstm_2.history['loss'], label='train')\n",
        "plt.plot(history_lstm_2.history['val_loss'], label='test')\n",
        "plt.legend();"
      ],
      "metadata": {
        "id": "EC3vw4120-Vs",
        "outputId": "1f188da7-54f6-41bb-e87b-ad02866a05cb",
        "colab": {
          "base_uri": "https://localhost:8080/",
          "height": 265
        }
      },
      "execution_count": 131,
      "outputs": [
        {
          "output_type": "display_data",
          "data": {
            "text/plain": [
              "<Figure size 432x288 with 1 Axes>"
            ],
            "image/png": "[encoded data removed]"
          },
          "metadata": {
            "needs_background": "light"
          }
        }
      ]
    },
    {
      "cell_type": "code",
      "source": [
        "# make predictions\n",
        "y_pred_test = model_1.predict(Xval)\n",
        "y_pred_train = model_1.predict(Xtrain)"
      ],
      "metadata": {
        "id": "FKcpD5cz2xSt"
      },
      "execution_count": 138,
      "outputs": []
    },
    {
      "cell_type": "code",
      "source": [
        "# invert scaling\n",
        "\n",
        "y_train_inv = inverse_transform(Ytrain) #flatten() creo que hace lo mismo\n",
        "y_test_inv = inverse_transform(Yval)\n",
        "y_pred_test_inv = inverse_transform(y_pred_test)\n",
        "y_pred_train_inv = inverse_transform(y_pred_train)"
      ],
      "metadata": {
        "id": "wc4XoMpA75ig"
      },
      "execution_count": 164,
      "outputs": []
    },
    {
      "cell_type": "code",
      "source": [
        "len(y_train_inv)"
      ],
      "metadata": {
        "id": "P5d1XOhG934y",
        "outputId": "4b006a16-e922-4010-be5a-0f4f682f5b61",
        "colab": {
          "base_uri": "https://localhost:8080/"
        }
      },
      "execution_count": 161,
      "outputs": [
        {
          "output_type": "execute_result",
          "data": {
            "text/plain": [
              "15499"
            ]
          },
          "metadata": {},
          "execution_count": 161
        }
      ]
    },
    {
      "cell_type": "code",
      "source": [
        "print(y_train_inv[0,:])\n",
        "print(y_train_inv[1,:])"
      ],
      "metadata": {
        "id": "AqF2IdeIElJ2",
        "outputId": "a5e3413b-e2fb-436f-849f-68eac90ab8dd",
        "colab": {
          "base_uri": "https://localhost:8080/"
        }
      },
      "execution_count": 173,
      "outputs": [
        {
          "output_type": "stream",
          "name": "stdout",
          "text": [
            "[ -897.32173485  -953.59490535 -1015.79156747 -1076.01373239\n",
            " -1092.79695868 -1082.92447263 -1057.25600889  -911.14321532\n",
            "  -617.93037958  -238.82691518    83.01613011   386.10145191\n",
            "   640.81159205   469.03033475   296.26182884   -66.05840927\n",
            "  -332.61553268  -636.68810308  -662.35656681  -838.08681854\n",
            "  -892.38549182  -915.09220974  -983.2123635  -1033.56204237]\n",
            "[ -953.59490535 -1015.79156747 -1076.01373239 -1092.79695868\n",
            " -1082.92447263 -1057.25600889  -911.14321532  -617.93037958\n",
            "  -238.82691518    83.01613011   386.10145191   640.81159205\n",
            "   469.03033475   296.26182884   -66.05840927  -332.61553268\n",
            "  -636.68810308  -662.35656681  -838.08681854  -892.38549182\n",
            "  -915.09220974  -983.2123635  -1033.56204237 -1104.64394194]\n"
          ]
        }
      ]
    },
    {
      "cell_type": "code",
      "source": [
        "y_train_inv"
      ],
      "metadata": {
        "id": "paw3qS_h_BvO",
        "outputId": "32993261-7f4f-4b69-ff26-e41425c307d5",
        "colab": {
          "base_uri": "https://localhost:8080/"
        }
      },
      "execution_count": 168,
      "outputs": [
        {
          "output_type": "execute_result",
          "data": {
            "text/plain": [
              "array([[ -897.32173485,  -953.59490535, -1015.79156747, ...,\n",
              "         -915.09220974,  -983.2123635 , -1033.56204237],\n",
              "       [ -953.59490535, -1015.79156747, -1076.01373239, ...,\n",
              "         -983.2123635 , -1033.56204237, -1104.64394194],\n",
              "       [-1015.79156747, -1076.01373239, -1092.79695868, ...,\n",
              "        -1033.56204237, -1104.64394194, -1120.43991962],\n",
              "       ...,\n",
              "       [ -697.8975166 ,  -725.54047754,  -798.59687433, ...,\n",
              "         -692.96127357,  -674.20355007,  -849.9338018 ],\n",
              "       [ -725.54047754,  -798.59687433,  -934.83718185, ...,\n",
              "         -674.20355007,  -849.9338018 ,  -949.64591092],\n",
              "       [ -798.59687433,  -934.83718185, -1000.98283839, ...,\n",
              "         -849.9338018 ,  -949.64591092, -1014.80431887]])"
            ]
          },
          "metadata": {},
          "execution_count": 168
        }
      ]
    },
    {
      "cell_type": "code",
      "source": [
        "len(Ytrain)"
      ],
      "metadata": {
        "id": "xMKZDrUO9t0X",
        "outputId": "e1ee69c9-cc59-4022-be5f-148daa90c30a",
        "colab": {
          "base_uri": "https://localhost:8080/"
        }
      },
      "execution_count": 152,
      "outputs": [
        {
          "output_type": "execute_result",
          "data": {
            "text/plain": [
              "15499"
            ]
          },
          "metadata": {},
          "execution_count": 152
        }
      ]
    },
    {
      "cell_type": "code",
      "source": [
        ""
      ],
      "metadata": {
        "id": "ulnqsDPcEX3m"
      },
      "execution_count": null,
      "outputs": []
    },
    {
      "cell_type": "code",
      "source": [
        "plt.figure(figsize=(16, 8))\n",
        "plt.plot(np.arange(0, len(Ytrain)), y_train_inv, 'g', label=\"history\")\n",
        "plt.plot(np.arange(len(Ytrain), len(Ytrain) + len(Yval)), y_test_inv, 'r', marker='.', label=\"true\")\n",
        "plt.plot(np.arange(len(Ytrain), len(Ytrain) + len(Yval)), y_pred_test_inv,'b', label=\"prediction\")\n",
        "plt.ylabel('Bike Count')\n",
        "plt.xlabel('Time Step')\n",
        "plt.legend()\n",
        "plt.show();"
      ],
      "metadata": {
        "id": "abhFd8I97-A9",
        "outputId": "7bb05c7d-084e-4498-cffc-d0b5ff2ff393",
        "colab": {
          "base_uri": "https://localhost:8080/",
          "height": 1000
        }
      },
      "execution_count": 167,
      "outputs": [
        {
          "output_type": "display_data",
          "data": {
            "text/plain": [
              "<Figure size 1152x576 with 1 Axes>"
            ],
            "image/png": "[encoded data removed]"
          },
          "metadata": {
            "needs_background": "light"
          }
        }
      ]
    },
    {
      "cell_type": "code",
      "source": [
        "# make a forecast\n",
        "def forecast(model, history, n_input):\n",
        "\t# flatten data\n",
        "\tdata = array(history)\n",
        "\tdata = data.reshape((data.shape[0]*data.shape[1], data.shape[2]))\n",
        "\t# retrieve last observations for input data\n",
        "\tinput_x = data[-n_input:, 0]\n",
        "\t# reshape into [1, n_input, 1]\n",
        "\tinput_x = input_x.reshape((1, len(input_x), 1))\n",
        "\t# forecast the next week\n",
        "\tyhat = model.predict(input_x, verbose=0)\n",
        "\t# we only want the vector forecast\n",
        "\tyhat = yhat[0]\n",
        "\treturn yhat"
      ],
      "metadata": {
        "id": "rBnDt2dh8Br_"
      },
      "execution_count": 174,
      "outputs": []
    },
    {
      "cell_type": "code",
      "source": [
        "# evaluate a single model\n",
        "def evaluate_model(train, test, n_input):\n",
        "\t# fit model\n",
        "\t#model = build_model(train, n_input)\n",
        "\t# history is a list of weekly data\n",
        "\t#history = [x for x in train]\n",
        "\t# walk-forward validation over each week\n",
        "\tpredictions = list()\n",
        "\tfor i in range(len(test)):\n",
        "\t\t# predict the week\n",
        "\t\tyhat_sequence = forecast(model_1, history_lstm_2, n_input)\n",
        "\t\t# store the predictions\n",
        "\t\tpredictions.append(yhat_sequence)\n",
        "\t\t# get real observation and add to history for predicting the next week\n",
        "\t\thistory.append(test[i, :])\n",
        "\t# evaluate predictions days for each week\n",
        "\tpredictions = array(predictions)\n",
        "\tscore, scores = evaluate_forecasts(test[:, :, 0], predictions)\n",
        "\treturn score, scores"
      ],
      "metadata": {
        "id": "QyquJMZdGwW5"
      },
      "execution_count": 176,
      "outputs": []
    },
    {
      "cell_type": "code",
      "source": [
        "score, scores = evaluate_model(train, test, n_input)"
      ],
      "metadata": {
        "id": "rk3o889IH15r",
        "outputId": "cc7470fb-c7e4-457d-a188-553b35fdab56",
        "colab": {
          "base_uri": "https://localhost:8080/",
          "height": 165
        }
      },
      "execution_count": 180,
      "outputs": [
        {
          "output_type": "error",
          "ename": "NameError",
          "evalue": "ignored",
          "traceback": [
            "\u001b[0;31m---------------------------------------------------------------------------\u001b[0m",
            "\u001b[0;31mNameError\u001b[0m                                 Traceback (most recent call last)",
            "\u001b[0;32m<ipython-input-180-ed434490890b>\u001b[0m in \u001b[0;36m<module>\u001b[0;34m()\u001b[0m\n\u001b[0;32m----> 1\u001b[0;31m \u001b[0mscore\u001b[0m\u001b[0;34m,\u001b[0m \u001b[0mscores\u001b[0m \u001b[0;34m=\u001b[0m \u001b[0mevaluate_model\u001b[0m\u001b[0;34m(\u001b[0m\u001b[0mtrain\u001b[0m\u001b[0;34m,\u001b[0m \u001b[0mtest\u001b[0m\u001b[0;34m,\u001b[0m \u001b[0mn_input\u001b[0m\u001b[0;34m)\u001b[0m\u001b[0;34m\u001b[0m\u001b[0;34m\u001b[0m\u001b[0m\n\u001b[0m",
            "\u001b[0;31mNameError\u001b[0m: name 'n_input' is not defined"
          ]
        }
      ]
    },
    {
      "cell_type": "code",
      "source": [
        "hour = ['0', '1', '2', '3', '4', '5', '6', '7', '8', '9', '10', '11', '12', '13', '14', '15', '16', '17', '18', '19', '20', '21', '22', '23']\n",
        "plt.plot(hour, scores, marker='o', label='lstm')\n",
        "plt.show()"
      ],
      "metadata": {
        "id": "hbDzsbEXG3F3",
        "outputId": "16431cab-49ca-46be-8fba-2a99d18ef3bd",
        "colab": {
          "base_uri": "https://localhost:8080/",
          "height": 200
        }
      },
      "execution_count": 178,
      "outputs": [
        {
          "output_type": "error",
          "ename": "NameError",
          "evalue": "ignored",
          "traceback": [
            "\u001b[0;31m---------------------------------------------------------------------------\u001b[0m",
            "\u001b[0;31mNameError\u001b[0m                                 Traceback (most recent call last)",
            "\u001b[0;32m<ipython-input-178-90b75bba7257>\u001b[0m in \u001b[0;36m<module>\u001b[0;34m()\u001b[0m\n\u001b[1;32m      1\u001b[0m \u001b[0mhour\u001b[0m \u001b[0;34m=\u001b[0m \u001b[0;34m[\u001b[0m\u001b[0;34m'0'\u001b[0m\u001b[0;34m,\u001b[0m \u001b[0;34m'1'\u001b[0m\u001b[0;34m,\u001b[0m \u001b[0;34m'2'\u001b[0m\u001b[0;34m,\u001b[0m \u001b[0;34m'3'\u001b[0m\u001b[0;34m,\u001b[0m \u001b[0;34m'4'\u001b[0m\u001b[0;34m,\u001b[0m \u001b[0;34m'5'\u001b[0m\u001b[0;34m,\u001b[0m \u001b[0;34m'6'\u001b[0m\u001b[0;34m,\u001b[0m \u001b[0;34m'7'\u001b[0m\u001b[0;34m,\u001b[0m \u001b[0;34m'8'\u001b[0m\u001b[0;34m,\u001b[0m \u001b[0;34m'9'\u001b[0m\u001b[0;34m,\u001b[0m \u001b[0;34m'10'\u001b[0m\u001b[0;34m,\u001b[0m \u001b[0;34m'11'\u001b[0m\u001b[0;34m,\u001b[0m \u001b[0;34m'12'\u001b[0m\u001b[0;34m,\u001b[0m \u001b[0;34m'13'\u001b[0m\u001b[0;34m,\u001b[0m \u001b[0;34m'14'\u001b[0m\u001b[0;34m,\u001b[0m \u001b[0;34m'15'\u001b[0m\u001b[0;34m,\u001b[0m \u001b[0;34m'16'\u001b[0m\u001b[0;34m,\u001b[0m \u001b[0;34m'17'\u001b[0m\u001b[0;34m,\u001b[0m \u001b[0;34m'18'\u001b[0m\u001b[0;34m,\u001b[0m \u001b[0;34m'19'\u001b[0m\u001b[0;34m,\u001b[0m \u001b[0;34m'20'\u001b[0m\u001b[0;34m,\u001b[0m \u001b[0;34m'21'\u001b[0m\u001b[0;34m,\u001b[0m \u001b[0;34m'22'\u001b[0m\u001b[0;34m,\u001b[0m \u001b[0;34m'23'\u001b[0m\u001b[0;34m]\u001b[0m\u001b[0;34m\u001b[0m\u001b[0;34m\u001b[0m\u001b[0m\n\u001b[0;32m----> 2\u001b[0;31m \u001b[0mplt\u001b[0m\u001b[0;34m.\u001b[0m\u001b[0mplot\u001b[0m\u001b[0;34m(\u001b[0m\u001b[0mhour\u001b[0m\u001b[0;34m,\u001b[0m \u001b[0mscores\u001b[0m\u001b[0;34m,\u001b[0m \u001b[0mmarker\u001b[0m\u001b[0;34m=\u001b[0m\u001b[0;34m'o'\u001b[0m\u001b[0;34m,\u001b[0m \u001b[0mlabel\u001b[0m\u001b[0;34m=\u001b[0m\u001b[0;34m'lstm'\u001b[0m\u001b[0;34m)\u001b[0m\u001b[0;34m\u001b[0m\u001b[0;34m\u001b[0m\u001b[0m\n\u001b[0m\u001b[1;32m      3\u001b[0m \u001b[0mplt\u001b[0m\u001b[0;34m.\u001b[0m\u001b[0mshow\u001b[0m\u001b[0;34m(\u001b[0m\u001b[0;34m)\u001b[0m\u001b[0;34m\u001b[0m\u001b[0;34m\u001b[0m\u001b[0m\n",
            "\u001b[0;31mNameError\u001b[0m: name 'scores' is not defined"
          ]
        }
      ]
    },
    {
      "cell_type": "code",
      "source": [
        "\n",
        "# make one forecast with an LSTM,\n",
        "def forecast_lstm(model, X, n_batch):\n",
        "\t# reshape input pattern to [samples, timesteps, features]\n",
        "\tX = X.reshape(1, 1, len(X))\n",
        "\t# make forecast\n",
        "\tforecast = model.predict(X, batch_size=n_batch)\n",
        "\t# convert to array\n",
        "\treturn [x for x in forecast[0, :]]\n",
        "\n",
        "\n",
        "# evaluate the persistence model\n",
        "def make_forecasts(model, n_batch, train, test, n_lag, n_seq):\n",
        "\tforecasts = list()\n",
        "\tfor i in range(len(test)):\n",
        "\t\tX, y = test[i, 0:n_lag], test[i, n_lag:]\n",
        "\t\t# make forecast\n",
        "\t\tforecast = forecast_lstm(model, X, n_batch)\n",
        "\t\t# store the forecast\n",
        "\t\tforecasts.append(forecast)\n",
        "\treturn forecasts\n",
        "\n",
        "# make forecasts\n",
        "forecasts = make_forecasts(model_1, 1, Xtrain, Xval, 1, 3)\n",
        "\n",
        "# invert differenced forecast\n",
        "def inverse_difference(last_ob, forecast):\n",
        "\t# invert first forecast\n",
        "\tinverted = list()\n",
        "\tinverted.append(forecast[0] + last_ob)\n",
        "\t# propagate difference forecast using inverted first value\n",
        "\tfor i in range(1, len(forecast)):\n",
        "\t\tinverted.append(forecast[i] + inverted[i-1])\n",
        "\treturn inverted\n",
        "\n",
        "# inverse data transform on forecasts\n",
        "def inverse_transform(series, forecasts, scaler, n_test):\n",
        "\tinverted = list()\n",
        "\tfor i in range(len(forecasts)):\n",
        "\t\t# create array from forecast\n",
        "\t\tforecast = array(forecasts[i])\n",
        "\t\tforecast = forecast.reshape(1, len(forecast))\n",
        "\t\t# invert scaling\n",
        "\t\tinv_scale = scaler.inverse_transform(forecast)\n",
        "\t\tinv_scale = inv_scale[0, :]\n",
        "\t\t# invert differencing\n",
        "\t\tindex = len(series) - n_test + i - 1\n",
        "\t\tlast_ob = series.values[index]\n",
        "\t\tinv_diff = inverse_difference(last_ob, inv_scale)\n",
        "\t\t# store\n",
        "\t\tinverted.append(inv_diff)\n",
        "\treturn inverted\n",
        "\n",
        "# inverse transform forecasts and test\n",
        "forecasts = inverse_transform(series, forecasts, scaler, n_test+2)\n",
        "\n",
        "\n",
        "actual = [row[n_lag:] for row in test]\n",
        "actual = inverse_transform(series, actual, scaler, n_test+2)\n",
        "\n",
        "def evaluate_forecasts(test, forecasts, n_lag, n_seq):\n",
        "\tfor i in range(n_seq):\n",
        "\t\tactual = [row[i] for row in test]\n",
        "\t\tpredicted = [forecast[i] for forecast in forecasts]\n",
        "\t\trmse = sqrt(mean_squared_error(actual, predicted))\n",
        "\t\tprint('t+%d RMSE: %f' % ((i+1), rmse))"
      ],
      "metadata": {
        "id": "yjQrmUHET9ns",
        "outputId": "23409a2f-50a6-430d-ab72-6e229b587d90",
        "colab": {
          "base_uri": "https://localhost:8080/",
          "height": 380
        }
      },
      "execution_count": 185,
      "outputs": [
        {
          "output_type": "error",
          "ename": "ValueError",
          "evalue": "ignored",
          "traceback": [
            "\u001b[0;31m---------------------------------------------------------------------------\u001b[0m",
            "\u001b[0;31mValueError\u001b[0m                                Traceback (most recent call last)",
            "\u001b[0;32m<ipython-input-185-90349c9a96a2>\u001b[0m in \u001b[0;36m<module>\u001b[0;34m()\u001b[0m\n\u001b[1;32m     22\u001b[0m \u001b[0;34m\u001b[0m\u001b[0m\n\u001b[1;32m     23\u001b[0m \u001b[0;31m# make forecasts\u001b[0m\u001b[0;34m\u001b[0m\u001b[0;34m\u001b[0m\u001b[0;34m\u001b[0m\u001b[0m\n\u001b[0;32m---> 24\u001b[0;31m \u001b[0mforecasts\u001b[0m \u001b[0;34m=\u001b[0m \u001b[0mmake_forecasts\u001b[0m\u001b[0;34m(\u001b[0m\u001b[0mmodel_1\u001b[0m\u001b[0;34m,\u001b[0m \u001b[0;36m1\u001b[0m\u001b[0;34m,\u001b[0m \u001b[0mXtrain\u001b[0m\u001b[0;34m,\u001b[0m \u001b[0mXval\u001b[0m\u001b[0;34m,\u001b[0m \u001b[0;36m1\u001b[0m\u001b[0;34m,\u001b[0m \u001b[0;36m3\u001b[0m\u001b[0;34m)\u001b[0m\u001b[0;34m\u001b[0m\u001b[0;34m\u001b[0m\u001b[0m\n\u001b[0m\u001b[1;32m     25\u001b[0m \u001b[0;34m\u001b[0m\u001b[0m\n\u001b[1;32m     26\u001b[0m \u001b[0;31m# invert differenced forecast\u001b[0m\u001b[0;34m\u001b[0m\u001b[0;34m\u001b[0m\u001b[0;34m\u001b[0m\u001b[0m\n",
            "\u001b[0;32m<ipython-input-185-90349c9a96a2>\u001b[0m in \u001b[0;36mmake_forecasts\u001b[0;34m(model, n_batch, train, test, n_lag, n_seq)\u001b[0m\n\u001b[1;32m     16\u001b[0m                 \u001b[0mX\u001b[0m\u001b[0;34m,\u001b[0m \u001b[0my\u001b[0m \u001b[0;34m=\u001b[0m \u001b[0mtest\u001b[0m\u001b[0;34m[\u001b[0m\u001b[0mi\u001b[0m\u001b[0;34m,\u001b[0m \u001b[0;36m0\u001b[0m\u001b[0;34m:\u001b[0m\u001b[0mn_lag\u001b[0m\u001b[0;34m]\u001b[0m\u001b[0;34m,\u001b[0m \u001b[0mtest\u001b[0m\u001b[0;34m[\u001b[0m\u001b[0mi\u001b[0m\u001b[0;34m,\u001b[0m \u001b[0mn_lag\u001b[0m\u001b[0;34m:\u001b[0m\u001b[0;34m]\u001b[0m\u001b[0;34m\u001b[0m\u001b[0;34m\u001b[0m\u001b[0m\n\u001b[1;32m     17\u001b[0m                 \u001b[0;31m# make forecast\u001b[0m\u001b[0;34m\u001b[0m\u001b[0;34m\u001b[0m\u001b[0;34m\u001b[0m\u001b[0m\n\u001b[0;32m---> 18\u001b[0;31m                 \u001b[0mforecast\u001b[0m \u001b[0;34m=\u001b[0m \u001b[0mforecast_lstm\u001b[0m\u001b[0;34m(\u001b[0m\u001b[0mmodel\u001b[0m\u001b[0;34m,\u001b[0m \u001b[0mX\u001b[0m\u001b[0;34m,\u001b[0m \u001b[0mn_batch\u001b[0m\u001b[0;34m)\u001b[0m\u001b[0;34m\u001b[0m\u001b[0;34m\u001b[0m\u001b[0m\n\u001b[0m\u001b[1;32m     19\u001b[0m                 \u001b[0;31m# store the forecast\u001b[0m\u001b[0;34m\u001b[0m\u001b[0;34m\u001b[0m\u001b[0;34m\u001b[0m\u001b[0m\n\u001b[1;32m     20\u001b[0m                 \u001b[0mforecasts\u001b[0m\u001b[0;34m.\u001b[0m\u001b[0mappend\u001b[0m\u001b[0;34m(\u001b[0m\u001b[0mforecast\u001b[0m\u001b[0;34m)\u001b[0m\u001b[0;34m\u001b[0m\u001b[0;34m\u001b[0m\u001b[0m\n",
            "\u001b[0;32m<ipython-input-185-90349c9a96a2>\u001b[0m in \u001b[0;36mforecast_lstm\u001b[0;34m(model, X, n_batch)\u001b[0m\n\u001b[1;32m      3\u001b[0m \u001b[0;32mdef\u001b[0m \u001b[0mforecast_lstm\u001b[0m\u001b[0;34m(\u001b[0m\u001b[0mmodel\u001b[0m\u001b[0;34m,\u001b[0m \u001b[0mX\u001b[0m\u001b[0;34m,\u001b[0m \u001b[0mn_batch\u001b[0m\u001b[0;34m)\u001b[0m\u001b[0;34m:\u001b[0m\u001b[0;34m\u001b[0m\u001b[0;34m\u001b[0m\u001b[0m\n\u001b[1;32m      4\u001b[0m         \u001b[0;31m# reshape input pattern to [samples, timesteps, features]\u001b[0m\u001b[0;34m\u001b[0m\u001b[0;34m\u001b[0m\u001b[0;34m\u001b[0m\u001b[0m\n\u001b[0;32m----> 5\u001b[0;31m         \u001b[0mX\u001b[0m \u001b[0;34m=\u001b[0m \u001b[0mX\u001b[0m\u001b[0;34m.\u001b[0m\u001b[0mreshape\u001b[0m\u001b[0;34m(\u001b[0m\u001b[0;36m1\u001b[0m\u001b[0;34m,\u001b[0m \u001b[0;36m1\u001b[0m\u001b[0;34m,\u001b[0m \u001b[0mlen\u001b[0m\u001b[0;34m(\u001b[0m\u001b[0mX\u001b[0m\u001b[0;34m)\u001b[0m\u001b[0;34m)\u001b[0m\u001b[0;34m\u001b[0m\u001b[0;34m\u001b[0m\u001b[0m\n\u001b[0m\u001b[1;32m      6\u001b[0m         \u001b[0;31m# make forecast\u001b[0m\u001b[0;34m\u001b[0m\u001b[0;34m\u001b[0m\u001b[0;34m\u001b[0m\u001b[0m\n\u001b[1;32m      7\u001b[0m         \u001b[0mforecast\u001b[0m \u001b[0;34m=\u001b[0m \u001b[0mmodel\u001b[0m\u001b[0;34m.\u001b[0m\u001b[0mpredict\u001b[0m\u001b[0;34m(\u001b[0m\u001b[0mX\u001b[0m\u001b[0;34m,\u001b[0m \u001b[0mbatch_size\u001b[0m\u001b[0;34m=\u001b[0m\u001b[0mn_batch\u001b[0m\u001b[0;34m)\u001b[0m\u001b[0;34m\u001b[0m\u001b[0;34m\u001b[0m\u001b[0m\n",
            "\u001b[0;31mValueError\u001b[0m: cannot reshape array of size 9 into shape (1,1,1)"
          ]
        }
      ]
    },
    {
      "cell_type": "code",
      "source": [
        "# make forecasts\n",
        "forecasts = make_forecasts(model, n_batch, train, test, n_lag, n_seq)\n",
        "# inverse transform forecasts and test\n",
        "forecasts = inverse_transform(series, forecasts, scaler, n_test+2)\n",
        "actual = [row[n_lag:] for row in test]\n",
        "actual = inverse_transform(series, actual, scaler, n_test+2)\n",
        "# evaluate forecasts\n",
        "evaluate_forecasts(actual, forecasts, n_lag, n_seq)\n",
        "# plot forecasts\n",
        "plot_forecasts(series, forecasts, n_test+2)"
      ],
      "metadata": {
        "id": "vUBZk73iUfZS"
      },
      "execution_count": null,
      "outputs": []
    },
    {
      "cell_type": "code",
      "source": [
        ""
      ],
      "metadata": {
        "id": "8ngqCQQkUb0b"
      },
      "execution_count": null,
      "outputs": []
    }
  ]
}