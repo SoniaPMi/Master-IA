{
  "nbformat": 4,
  "nbformat_minor": 0,
  "metadata": {
    "accelerator": "GPU",
    "colab": {
      "name": "autoencoders_mnist.ipynb",
      "provenance": [],
      "collapsed_sections": [],
      "include_colab_link": true
    },
    "kernelspec": {
      "display_name": "Python 3",
      "language": "python",
      "name": "python3"
    },
    "language_info": {
      "codemirror_mode": {
        "name": "ipython",
        "version": 3
      },
      "file_extension": ".py",
      "mimetype": "text/x-python",
      "name": "python",
      "nbconvert_exporter": "python",
      "pygments_lexer": "ipython3",
      "version": "3.8.8"
    }
  },
  "cells": [
    {
      "cell_type": "markdown",
      "metadata": {
        "id": "view-in-github",
        "colab_type": "text"
      },
      "source": [
        "<a href=\"https://colab.research.google.com/github/SoniaPMi/Master-IA/blob/main/autoencoders_mnist.ipynb\" target=\"_parent\"><img src=\"https://colab.research.google.com/assets/colab-badge.svg\" alt=\"Open In Colab\"/></a>"
      ]
    },
    {
      "cell_type": "markdown",
      "metadata": {
        "id": "ZoEFSXNDN4ju"
      },
      "source": [
        "# Entrenamiento de Autoencoders con datos de dígitos (MNIST)"
      ]
    },
    {
      "cell_type": "code",
      "metadata": {
        "id": "ZKwAmM2mNgEF"
      },
      "source": [
        "import numpy as np\n",
        "import tensorflow as tf\n",
        "from tensorflow.keras.layers import Dense, Input, Lambda\n",
        "import matplotlib.pyplot as plt\n",
        "tf.random.set_seed(42)"
      ],
      "execution_count": 1,
      "outputs": []
    },
    {
      "cell_type": "markdown",
      "metadata": {
        "id": "XssZbuDSOEI1"
      },
      "source": [
        "## Carga y procesamiento de los datos\n"
      ]
    },
    {
      "cell_type": "code",
      "metadata": {
        "id": "V0fBxO1COFIl",
        "colab": {
          "base_uri": "https://localhost:8080/"
        },
        "outputId": "638a31e6-56ab-46a3-8886-11d63b6937e9"
      },
      "source": [
        "# Carga\n",
        "(X_train, y_train), (X_test, _) = tf.keras.datasets.mnist.load_data()\n",
        "print(' -Entradas Entrenamiento:', X_train.shape)\n",
        "print(' -Entradas Test:', X_test.shape)\n",
        "\n",
        "# Normalización\n",
        "X_train = X_train.astype('float32') / 255\n",
        "X_test = X_test.astype('float32') / 255\n",
        "\n",
        "print('Cambio de dimensiones para ajustar a la entrada de un Perceptrón:')\n",
        "x_shape = X_train.shape\n",
        "X_train = X_train.reshape(x_shape[0], x_shape[1]*x_shape[2])\n",
        "X_test = X_test.reshape(len(X_test), x_shape[1]*x_shape[2])\n",
        "print(' -Entradas Entrenamiento:', X_train.shape)\n",
        "print(' -Entradas Test:', X_test.shape)"
      ],
      "execution_count": 2,
      "outputs": [
        {
          "output_type": "stream",
          "name": "stdout",
          "text": [
            " -Entradas Entrenamiento: (60000, 28, 28)\n",
            " -Entradas Test: (10000, 28, 28)\n",
            "Cambio de dimensiones para ajustar a la entrada de un Perceptrón:\n",
            " -Entradas Entrenamiento: (60000, 784)\n",
            " -Entradas Test: (10000, 784)\n"
          ]
        }
      ]
    },
    {
      "cell_type": "markdown",
      "metadata": {
        "id": "N9l_RuFtOc9n"
      },
      "source": [
        "## Autoencoder profundo\n",
        "### Creación del autoencoder\n",
        "Vamos a crear un autoencoder que codifique y decodifique la entrada de 728 píxeles en la siguiente secuencia de dimensiones:\n",
        "\n",
        "784 → 128 → 64 → 32 → 64 → 128 → 784"
      ]
    },
    {
      "cell_type": "code",
      "metadata": {
        "id": "qi1nIAg7Oafu",
        "colab": {
          "base_uri": "https://localhost:8080/"
        },
        "outputId": "eba31cd2-3e77-4357-e56f-b7c8d00e03bb"
      },
      "source": [
        "# Tamaño de nuestra representación codificada\n",
        "encoding_dim = 32  # Factor de compresión = 24.5 (dado que la entrada es de tamaño 784)\n",
        "# primero va a cogerme hasta la capa 32, por lo que voy a utilizar la API funcional ya que con la secuencias no puede coger d eenmedio\n",
        "\n",
        "## utilizo la API funcional, modelo FUNCIONAL\n",
        "\n",
        "# Definimos las capas para la entrada, el encoder y el decoder:\n",
        "# Capa de entrada\n",
        "input_img = Input(shape=(784,), name='Input')\n",
        "\n",
        "# Capas del encoder\n",
        "enconder1 = Dense(128, activation='relu', name='Encoder1')\n",
        "enconder2 = Dense(64, activation='relu', name='Encoder2')\n",
        "enconder3 = Dense(encoding_dim, activation='relu', name='Encoder3')\n",
        "\n",
        "# Capas del decoder\n",
        "deconder1 = Dense(64, activation='relu', name='Decoder1')\n",
        "deconder2 = Dense(128, activation='relu', name='Decoder2')\n",
        "deconder3 = Dense(784, activation='sigmoid', name='Decoder3')\n",
        "\n",
        "\n",
        "#       Autoencoder\n",
        "# --------------------------\n",
        "# \"encoded\" es la representación codificada de la entrada (cada vez más comprimida)\n",
        "encoded = enconder1(input_img)\n",
        "encoded = enconder2(encoded)\n",
        "encoded = enconder3(encoded)\n",
        "\n",
        "# \"decoded\" es la reconstrución de la entrada a partir de la entrada codificada\n",
        "decoded = deconder1(encoded)\n",
        "decoded = deconder2(decoded)\n",
        "decoded = deconder3(decoded)\n",
        "\n",
        "# Modelo que reconstruye una entrada\n",
        "autoencoder = tf.keras.Model(input_img, decoded)\n",
        "\n",
        "# Visualizar arquitectura y dimensiones\n",
        "print(f\"{'*'*65}\\n\\t\\t\\tAutoencoder\\n{'*'*65}\")\n",
        "autoencoder.summary()"
      ],
      "execution_count": 21,
      "outputs": [
        {
          "output_type": "stream",
          "name": "stdout",
          "text": [
            "*****************************************************************\n",
            "\t\t\tAutoencoder\n",
            "*****************************************************************\n",
            "Model: \"model_5\"\n",
            "_________________________________________________________________\n",
            " Layer (type)                Output Shape              Param #   \n",
            "=================================================================\n",
            " Input (InputLayer)          [(None, 784)]             0         \n",
            "                                                                 \n",
            " Encoder1 (Dense)            (None, 128)               100480    \n",
            "                                                                 \n",
            " Encoder2 (Dense)            (None, 64)                8256      \n",
            "                                                                 \n",
            " Encoder3 (Dense)            (None, 32)                2080      \n",
            "                                                                 \n",
            " Decoder1 (Dense)            (None, 64)                2112      \n",
            "                                                                 \n",
            " Decoder2 (Dense)            (None, 128)               8320      \n",
            "                                                                 \n",
            " Decoder3 (Dense)            (None, 784)               101136    \n",
            "                                                                 \n",
            "=================================================================\n",
            "Total params: 222,384\n",
            "Trainable params: 222,384\n",
            "Non-trainable params: 0\n",
            "_________________________________________________________________\n"
          ]
        }
      ]
    },
    {
      "cell_type": "code",
      "metadata": {
        "colab": {
          "base_uri": "https://localhost:8080/"
        },
        "id": "jyotIVnKB-HL",
        "outputId": "eebbfa81-bdf5-4723-cef6-dc10123d7c17"
      },
      "source": [
        "# Tamaño de nuestra representación codificada\n",
        "\n",
        "encoding_dim = 32  # Factor de compresión = 24.5 (dado que la entrada es de tamaño 784)\n",
        "\n",
        "\n",
        "\n",
        "# Definimos las capas para la entrada, el encoder y el decoder:\n",
        "\n",
        "# Capa de entrada\n",
        "\n",
        "input_img = Input(shape=(784,), name='Input')\n",
        "\n",
        "\n",
        "\n",
        "# Capas del encoder\n",
        "\n",
        "encoder1 = Dense(128, activation='relu', name='Encoder1')\n",
        "\n",
        "encoder2 = Dense(64, activation='relu', name='Encoder2')\n",
        "\n",
        "encoder3 = Dense(encoding_dim, activation='relu', name='Encoder3')\n",
        "\n",
        "\n",
        "\n",
        "# Capas del decoder\n",
        "\n",
        "decoder1 = Dense(64, activation='relu', name='Decoder1')\n",
        "\n",
        "decoder2 = Dense(128, activation='relu', name='Decoder2')\n",
        "\n",
        "decoder3 = Dense(784, activation='sigmoid', name='Decoder3')\n",
        "\n",
        "\n",
        "\n",
        "#       Autoencoder\n",
        "\n",
        "# --------------------------\n",
        "\n",
        "# \"encoded\" es la representación codificada de la entrada (cada vez más comprimida)\n",
        "\n",
        "encoded = encoder1(input_img)\n",
        "\n",
        "encoded = encoder2(encoded)\n",
        "\n",
        "encoded = encoder3(encoded)\n",
        "\n",
        "\n",
        "\n",
        "# \"decoded\" es la reconstrución de la entrada a partir de la entrada codificada\n",
        "\n",
        "decoded = decoder1(encoded)\n",
        "\n",
        "decoded = decoder2(decoded)\n",
        "\n",
        "decoded = decoder3(decoded)\n",
        "\n",
        "\n",
        "\n",
        "# Modelo que reconstruye una entrada\n",
        "\n",
        "autoencoder = tf.keras.Model(input_img, decoded)\n",
        "\n",
        "\n",
        "\n",
        "# Visualizar arquitectura y dimensiones\n",
        "\n",
        "print(f\"{'*'*65}\\n\\t\\t\\tAutoencoder\\n{'*'*65}\")\n",
        "\n",
        "autoencoder.summary()"
      ],
      "execution_count": 3,
      "outputs": [
        {
          "output_type": "stream",
          "name": "stdout",
          "text": [
            "*****************************************************************\n",
            "\t\t\tAutoencoder\n",
            "*****************************************************************\n",
            "Model: \"model\"\n",
            "_________________________________________________________________\n",
            " Layer (type)                Output Shape              Param #   \n",
            "=================================================================\n",
            " Input (InputLayer)          [(None, 784)]             0         \n",
            "                                                                 \n",
            " Encoder1 (Dense)            (None, 128)               100480    \n",
            "                                                                 \n",
            " Encoder2 (Dense)            (None, 64)                8256      \n",
            "                                                                 \n",
            " Encoder3 (Dense)            (None, 32)                2080      \n",
            "                                                                 \n",
            " Decoder1 (Dense)            (None, 64)                2112      \n",
            "                                                                 \n",
            " Decoder2 (Dense)            (None, 128)               8320      \n",
            "                                                                 \n",
            " Decoder3 (Dense)            (None, 784)               101136    \n",
            "                                                                 \n",
            "=================================================================\n",
            "Total params: 222,384\n",
            "Trainable params: 222,384\n",
            "Non-trainable params: 0\n",
            "_________________________________________________________________\n"
          ]
        }
      ]
    },
    {
      "cell_type": "markdown",
      "metadata": {
        "id": "tIRkVdivQ8qL"
      },
      "source": [
        "### Entrenamiento"
      ]
    },
    {
      "cell_type": "code",
      "metadata": {
        "id": "nblNVZF3Q8Cl",
        "colab": {
          "base_uri": "https://localhost:8080/",
          "height": 824
        },
        "outputId": "e8ce1b34-b8d3-457a-fda6-d0208c16ad1a"
      },
      "source": [
        "#binary_crossentropy error entre 0 y 1 si uso la sigmoid\n",
        "#ayer teniamos sistema multiclase con softmax\n",
        "#linear i MSE tambien se puede usar\n",
        "\n",
        "autoencoder.compile(optimizer='adam', loss='binary_crossentropy')\n",
        "hist= autoencoder.fit(X_train, \n",
        "                      y_train,\n",
        "                      epochs=50,\n",
        "                      batch_size=256,\n",
        "                      shuffle=True,\n",
        "                      validation_data=(X_test, X_test))"
      ],
      "execution_count": 6,
      "outputs": [
        {
          "output_type": "stream",
          "name": "stdout",
          "text": [
            "Epoch 1/50\n"
          ]
        },
        {
          "output_type": "error",
          "ename": "ValueError",
          "evalue": "ignored",
          "traceback": [
            "\u001b[0;31m---------------------------------------------------------------------------\u001b[0m",
            "\u001b[0;31mValueError\u001b[0m                                Traceback (most recent call last)",
            "\u001b[0;32m<ipython-input-6-599f4915cf0f>\u001b[0m in \u001b[0;36m<module>\u001b[0;34m()\u001b[0m\n\u001b[1;32m      6\u001b[0m                       \u001b[0mbatch_size\u001b[0m\u001b[0;34m=\u001b[0m\u001b[0;36m256\u001b[0m\u001b[0;34m,\u001b[0m\u001b[0;34m\u001b[0m\u001b[0;34m\u001b[0m\u001b[0m\n\u001b[1;32m      7\u001b[0m                       \u001b[0mshuffle\u001b[0m\u001b[0;34m=\u001b[0m\u001b[0;32mTrue\u001b[0m\u001b[0;34m,\u001b[0m\u001b[0;34m\u001b[0m\u001b[0;34m\u001b[0m\u001b[0m\n\u001b[0;32m----> 8\u001b[0;31m                       validation_data=(X_test, X_test))\n\u001b[0m",
            "\u001b[0;32m/usr/local/lib/python3.7/dist-packages/keras/utils/traceback_utils.py\u001b[0m in \u001b[0;36merror_handler\u001b[0;34m(*args, **kwargs)\u001b[0m\n\u001b[1;32m     65\u001b[0m     \u001b[0;32mexcept\u001b[0m \u001b[0mException\u001b[0m \u001b[0;32mas\u001b[0m \u001b[0me\u001b[0m\u001b[0;34m:\u001b[0m  \u001b[0;31m# pylint: disable=broad-except\u001b[0m\u001b[0;34m\u001b[0m\u001b[0;34m\u001b[0m\u001b[0m\n\u001b[1;32m     66\u001b[0m       \u001b[0mfiltered_tb\u001b[0m \u001b[0;34m=\u001b[0m \u001b[0m_process_traceback_frames\u001b[0m\u001b[0;34m(\u001b[0m\u001b[0me\u001b[0m\u001b[0;34m.\u001b[0m\u001b[0m__traceback__\u001b[0m\u001b[0;34m)\u001b[0m\u001b[0;34m\u001b[0m\u001b[0;34m\u001b[0m\u001b[0m\n\u001b[0;32m---> 67\u001b[0;31m       \u001b[0;32mraise\u001b[0m \u001b[0me\u001b[0m\u001b[0;34m.\u001b[0m\u001b[0mwith_traceback\u001b[0m\u001b[0;34m(\u001b[0m\u001b[0mfiltered_tb\u001b[0m\u001b[0;34m)\u001b[0m \u001b[0;32mfrom\u001b[0m \u001b[0;32mNone\u001b[0m\u001b[0;34m\u001b[0m\u001b[0;34m\u001b[0m\u001b[0m\n\u001b[0m\u001b[1;32m     68\u001b[0m     \u001b[0;32mfinally\u001b[0m\u001b[0;34m:\u001b[0m\u001b[0;34m\u001b[0m\u001b[0;34m\u001b[0m\u001b[0m\n\u001b[1;32m     69\u001b[0m       \u001b[0;32mdel\u001b[0m \u001b[0mfiltered_tb\u001b[0m\u001b[0;34m\u001b[0m\u001b[0;34m\u001b[0m\u001b[0m\n",
            "\u001b[0;32m/usr/local/lib/python3.7/dist-packages/tensorflow/python/framework/func_graph.py\u001b[0m in \u001b[0;36mautograph_handler\u001b[0;34m(*args, **kwargs)\u001b[0m\n\u001b[1;32m   1127\u001b[0m           \u001b[0;32mexcept\u001b[0m \u001b[0mException\u001b[0m \u001b[0;32mas\u001b[0m \u001b[0me\u001b[0m\u001b[0;34m:\u001b[0m  \u001b[0;31m# pylint:disable=broad-except\u001b[0m\u001b[0;34m\u001b[0m\u001b[0;34m\u001b[0m\u001b[0m\n\u001b[1;32m   1128\u001b[0m             \u001b[0;32mif\u001b[0m \u001b[0mhasattr\u001b[0m\u001b[0;34m(\u001b[0m\u001b[0me\u001b[0m\u001b[0;34m,\u001b[0m \u001b[0;34m\"ag_error_metadata\"\u001b[0m\u001b[0;34m)\u001b[0m\u001b[0;34m:\u001b[0m\u001b[0;34m\u001b[0m\u001b[0;34m\u001b[0m\u001b[0m\n\u001b[0;32m-> 1129\u001b[0;31m               \u001b[0;32mraise\u001b[0m \u001b[0me\u001b[0m\u001b[0;34m.\u001b[0m\u001b[0mag_error_metadata\u001b[0m\u001b[0;34m.\u001b[0m\u001b[0mto_exception\u001b[0m\u001b[0;34m(\u001b[0m\u001b[0me\u001b[0m\u001b[0;34m)\u001b[0m\u001b[0;34m\u001b[0m\u001b[0;34m\u001b[0m\u001b[0m\n\u001b[0m\u001b[1;32m   1130\u001b[0m             \u001b[0;32melse\u001b[0m\u001b[0;34m:\u001b[0m\u001b[0;34m\u001b[0m\u001b[0;34m\u001b[0m\u001b[0m\n\u001b[1;32m   1131\u001b[0m               \u001b[0;32mraise\u001b[0m\u001b[0;34m\u001b[0m\u001b[0;34m\u001b[0m\u001b[0m\n",
            "\u001b[0;31mValueError\u001b[0m: in user code:\n\n    File \"/usr/local/lib/python3.7/dist-packages/keras/engine/training.py\", line 878, in train_function  *\n        return step_function(self, iterator)\n    File \"/usr/local/lib/python3.7/dist-packages/keras/engine/training.py\", line 867, in step_function  **\n        outputs = model.distribute_strategy.run(run_step, args=(data,))\n    File \"/usr/local/lib/python3.7/dist-packages/keras/engine/training.py\", line 860, in run_step  **\n        outputs = model.train_step(data)\n    File \"/usr/local/lib/python3.7/dist-packages/keras/engine/training.py\", line 810, in train_step\n        y, y_pred, sample_weight, regularization_losses=self.losses)\n    File \"/usr/local/lib/python3.7/dist-packages/keras/engine/compile_utils.py\", line 201, in __call__\n        loss_value = loss_obj(y_t, y_p, sample_weight=sw)\n    File \"/usr/local/lib/python3.7/dist-packages/keras/losses.py\", line 141, in __call__\n        losses = call_fn(y_true, y_pred)\n    File \"/usr/local/lib/python3.7/dist-packages/keras/losses.py\", line 245, in call  **\n        return ag_fn(y_true, y_pred, **self._fn_kwargs)\n    File \"/usr/local/lib/python3.7/dist-packages/keras/losses.py\", line 1807, in binary_crossentropy\n        backend.binary_crossentropy(y_true, y_pred, from_logits=from_logits),\n    File \"/usr/local/lib/python3.7/dist-packages/keras/backend.py\", line 5158, in binary_crossentropy\n        return tf.nn.sigmoid_cross_entropy_with_logits(labels=target, logits=output)\n\n    ValueError: `logits` and `labels` must have the same shape, received ((None, 784) vs (None, 1)).\n"
          ]
        }
      ]
    },
    {
      "cell_type": "code",
      "metadata": {
        "colab": {
          "base_uri": "https://localhost:8080/"
        },
        "id": "EalK5fZj_1nd",
        "outputId": "157dc453-581c-4814-9ab0-b1fb435cffb5"
      },
      "source": [
        "autoencoder.compile(optimizer='adam', loss='binary_crossentropy')\n",
        "hist= autoencoder.fit(X_train, X_train, epochs=50, batch_size=256, shuffle=True, validation_data=(X_test, X_test))"
      ],
      "execution_count": 7,
      "outputs": [
        {
          "output_type": "stream",
          "name": "stdout",
          "text": [
            "Epoch 1/50\n",
            "235/235 [==============================] - 3s 7ms/step - loss: 0.2454 - val_loss: 0.1664\n",
            "Epoch 2/50\n",
            "235/235 [==============================] - 1s 6ms/step - loss: 0.1488 - val_loss: 0.1337\n",
            "Epoch 3/50\n",
            "235/235 [==============================] - 1s 6ms/step - loss: 0.1283 - val_loss: 0.1215\n",
            "Epoch 4/50\n",
            "235/235 [==============================] - 1s 6ms/step - loss: 0.1193 - val_loss: 0.1154\n",
            "Epoch 5/50\n",
            "235/235 [==============================] - 1s 6ms/step - loss: 0.1147 - val_loss: 0.1114\n",
            "Epoch 6/50\n",
            "235/235 [==============================] - 1s 6ms/step - loss: 0.1111 - val_loss: 0.1080\n",
            "Epoch 7/50\n",
            "235/235 [==============================] - 1s 6ms/step - loss: 0.1081 - val_loss: 0.1059\n",
            "Epoch 8/50\n",
            "235/235 [==============================] - 1s 6ms/step - loss: 0.1054 - val_loss: 0.1027\n",
            "Epoch 9/50\n",
            "235/235 [==============================] - 1s 6ms/step - loss: 0.1029 - val_loss: 0.1006\n",
            "Epoch 10/50\n",
            "235/235 [==============================] - 1s 6ms/step - loss: 0.1009 - val_loss: 0.0991\n",
            "Epoch 11/50\n",
            "235/235 [==============================] - 1s 6ms/step - loss: 0.0994 - val_loss: 0.0977\n",
            "Epoch 12/50\n",
            "235/235 [==============================] - 1s 6ms/step - loss: 0.0982 - val_loss: 0.0966\n",
            "Epoch 13/50\n",
            "235/235 [==============================] - 1s 6ms/step - loss: 0.0972 - val_loss: 0.0961\n",
            "Epoch 14/50\n",
            "235/235 [==============================] - 1s 6ms/step - loss: 0.0962 - val_loss: 0.0948\n",
            "Epoch 15/50\n",
            "235/235 [==============================] - 1s 6ms/step - loss: 0.0953 - val_loss: 0.0943\n",
            "Epoch 16/50\n",
            "235/235 [==============================] - 1s 6ms/step - loss: 0.0945 - val_loss: 0.0934\n",
            "Epoch 17/50\n",
            "235/235 [==============================] - 1s 6ms/step - loss: 0.0937 - val_loss: 0.0926\n",
            "Epoch 18/50\n",
            "235/235 [==============================] - 1s 6ms/step - loss: 0.0931 - val_loss: 0.0918\n",
            "Epoch 19/50\n",
            "235/235 [==============================] - 1s 6ms/step - loss: 0.0925 - val_loss: 0.0917\n",
            "Epoch 20/50\n",
            "235/235 [==============================] - 1s 6ms/step - loss: 0.0919 - val_loss: 0.0910\n",
            "Epoch 21/50\n",
            "235/235 [==============================] - 1s 6ms/step - loss: 0.0915 - val_loss: 0.0905\n",
            "Epoch 22/50\n",
            "235/235 [==============================] - 1s 6ms/step - loss: 0.0911 - val_loss: 0.0903\n",
            "Epoch 23/50\n",
            "235/235 [==============================] - 1s 6ms/step - loss: 0.0907 - val_loss: 0.0900\n",
            "Epoch 24/50\n",
            "235/235 [==============================] - 1s 6ms/step - loss: 0.0904 - val_loss: 0.0894\n",
            "Epoch 25/50\n",
            "235/235 [==============================] - 1s 6ms/step - loss: 0.0901 - val_loss: 0.0895\n",
            "Epoch 26/50\n",
            "235/235 [==============================] - 1s 6ms/step - loss: 0.0897 - val_loss: 0.0889\n",
            "Epoch 27/50\n",
            "235/235 [==============================] - 1s 6ms/step - loss: 0.0895 - val_loss: 0.0888\n",
            "Epoch 28/50\n",
            "235/235 [==============================] - 1s 6ms/step - loss: 0.0892 - val_loss: 0.0889\n",
            "Epoch 29/50\n",
            "235/235 [==============================] - 1s 6ms/step - loss: 0.0889 - val_loss: 0.0883\n",
            "Epoch 30/50\n",
            "235/235 [==============================] - 1s 6ms/step - loss: 0.0887 - val_loss: 0.0885\n",
            "Epoch 31/50\n",
            "235/235 [==============================] - 1s 6ms/step - loss: 0.0884 - val_loss: 0.0879\n",
            "Epoch 32/50\n",
            "235/235 [==============================] - 1s 6ms/step - loss: 0.0882 - val_loss: 0.0877\n",
            "Epoch 33/50\n",
            "235/235 [==============================] - 1s 6ms/step - loss: 0.0880 - val_loss: 0.0873\n",
            "Epoch 34/50\n",
            "235/235 [==============================] - 1s 6ms/step - loss: 0.0878 - val_loss: 0.0873\n",
            "Epoch 35/50\n",
            "235/235 [==============================] - 1s 6ms/step - loss: 0.0876 - val_loss: 0.0870\n",
            "Epoch 36/50\n",
            "235/235 [==============================] - 1s 6ms/step - loss: 0.0875 - val_loss: 0.0871\n",
            "Epoch 37/50\n",
            "235/235 [==============================] - 1s 6ms/step - loss: 0.0873 - val_loss: 0.0866\n",
            "Epoch 38/50\n",
            "235/235 [==============================] - 1s 6ms/step - loss: 0.0872 - val_loss: 0.0869\n",
            "Epoch 39/50\n",
            "235/235 [==============================] - 1s 6ms/step - loss: 0.0870 - val_loss: 0.0865\n",
            "Epoch 40/50\n",
            "235/235 [==============================] - 1s 6ms/step - loss: 0.0868 - val_loss: 0.0862\n",
            "Epoch 41/50\n",
            "235/235 [==============================] - 1s 6ms/step - loss: 0.0867 - val_loss: 0.0863\n",
            "Epoch 42/50\n",
            "235/235 [==============================] - 1s 6ms/step - loss: 0.0866 - val_loss: 0.0859\n",
            "Epoch 43/50\n",
            "235/235 [==============================] - 1s 6ms/step - loss: 0.0865 - val_loss: 0.0861\n",
            "Epoch 44/50\n",
            "235/235 [==============================] - 1s 6ms/step - loss: 0.0863 - val_loss: 0.0861\n",
            "Epoch 45/50\n",
            "235/235 [==============================] - 1s 6ms/step - loss: 0.0861 - val_loss: 0.0857\n",
            "Epoch 46/50\n",
            "235/235 [==============================] - 1s 6ms/step - loss: 0.0861 - val_loss: 0.0856\n",
            "Epoch 47/50\n",
            "235/235 [==============================] - 1s 6ms/step - loss: 0.0858 - val_loss: 0.0854\n",
            "Epoch 48/50\n",
            "235/235 [==============================] - 1s 6ms/step - loss: 0.0858 - val_loss: 0.0852\n",
            "Epoch 49/50\n",
            "235/235 [==============================] - 1s 6ms/step - loss: 0.0856 - val_loss: 0.0851\n",
            "Epoch 50/50\n",
            "235/235 [==============================] - 1s 6ms/step - loss: 0.0855 - val_loss: 0.0850\n"
          ]
        }
      ]
    },
    {
      "cell_type": "markdown",
      "metadata": {
        "id": "Ud9za_Rx3Z2u"
      },
      "source": [
        "### Evaluación y visualización"
      ]
    },
    {
      "cell_type": "code",
      "metadata": {
        "id": "EmX4QIq59nKc",
        "colab": {
          "base_uri": "https://localhost:8080/",
          "height": 281
        },
        "outputId": "42f29b17-5ad3-4547-ceaf-65b4a1d3a512"
      },
      "source": [
        "plt.figure()\n",
        "plt.xlabel('Épocas')\n",
        "plt.ylabel('Error')\n",
        "plt.plot(hist.history['loss'])\n",
        "plt.plot(hist.history['val_loss'])\n",
        "plt.legend(['Entrenamiento', 'Validación']);"
      ],
      "execution_count": 8,
      "outputs": [
        {
          "output_type": "display_data",
          "data": {
            "image/png": "[encoded data removed]",
            "text/plain": [
              "<Figure size 432x288 with 1 Axes>"
            ]
          },
          "metadata": {
            "needs_background": "light"
          }
        }
      ]
    },
    {
      "cell_type": "code",
      "metadata": {
        "id": "4JAmGvpcs0_r",
        "colab": {
          "base_uri": "https://localhost:8080/",
          "height": 637
        },
        "outputId": "4d58411c-a2fd-4b0d-a53b-d87ddbaabfe1"
      },
      "source": [
        "# Vamos a crear ahora por un lado un modelo para el encoder y otro para el decoder\n",
        "#          Encoder\n",
        "# ------------------------\n",
        "encoder = tf.keras.Model(input_img, encoded) #aqui monto el modelo solo para visualizarlo\n",
        "#decoder = tf.keras.Model(encoded, decoded) \n",
        "\n",
        "# Visualizar arquitectura y dimensiones\n",
        "print(f\"\\n{'*'*65}\\n\\t\\t\\tEncoder\\n{'*'*65}\")\n",
        "encoder.summary()\n",
        "\n",
        "# Codificamos y decodificamos algunos dígitos de ejemplo (datos de test)\n",
        "# -----------------------\n",
        "encoded_imgs = encoder.predict(X_test) #al modelo de la entrada predijo la salida\n",
        "decoded_imgs = autoencoder.predict(X_test) #le meto la entrada y le saco la salida despues de haber saaco el encoder y decoder\n",
        "\n",
        "\n",
        "n_images = 10 \n",
        "plt.figure(figsize=(30, 4))\n",
        "for i in range(n_images):\n",
        "    # Entrada (original)\n",
        "    plt.subplot(3, n_images, i + 1)\n",
        "    plt.imshow(X_test[i].reshape(28, 28), cmap='gray')\n",
        "    plt.title('Entrada')\n",
        "    plt.axis('off')\n",
        "\n",
        "    # Codificación\n",
        "    plt.subplot(3, n_images, i + 1 + n_images)\n",
        "    plt.imshow(encoded_imgs[i].reshape(1, encoding_dim), cmap='gray')\n",
        "    plt.axis('off')\n",
        "    plt.title('Entrada codificada')\n",
        "    \n",
        "    # Reconstrucción\n",
        "    plt.subplot(3, n_images, i + 1 + n_images + n_images)\n",
        "    plt.imshow(decoded_imgs[i].reshape(28, 28), cmap='gray')\n",
        "    plt.axis('off')\n",
        "    plt.title('Reconstrucción')\n",
        "\n"
      ],
      "execution_count": 9,
      "outputs": [
        {
          "output_type": "stream",
          "name": "stdout",
          "text": [
            "\n",
            "*****************************************************************\n",
            "\t\t\tEncoder\n",
            "*****************************************************************\n",
            "Model: \"model_1\"\n",
            "_________________________________________________________________\n",
            " Layer (type)                Output Shape              Param #   \n",
            "=================================================================\n",
            " Input (InputLayer)          [(None, 784)]             0         \n",
            "                                                                 \n",
            " Encoder1 (Dense)            (None, 128)               100480    \n",
            "                                                                 \n",
            " Encoder2 (Dense)            (None, 64)                8256      \n",
            "                                                                 \n",
            " Encoder3 (Dense)            (None, 32)                2080      \n",
            "                                                                 \n",
            "=================================================================\n",
            "Total params: 110,816\n",
            "Trainable params: 110,816\n",
            "Non-trainable params: 0\n",
            "_________________________________________________________________\n"
          ]
        },
        {
          "output_type": "display_data",
          "data": {
            "image/png": "[encoded data removed]",
            "text/plain": [
              "<Figure size 2160x288 with 30 Axes>"
            ]
          },
          "metadata": {
            "needs_background": "light"
          }
        }
      ]
    },
    {
      "cell_type": "markdown",
      "metadata": {
        "id": "-8OphiLxFXkE"
      },
      "source": [
        "Estos nos vale para ver como lo reconstruye y por lo tanto para ver como lo reconstruye."
      ]
    },
    {
      "cell_type": "markdown",
      "metadata": {
        "id": "z_F7bIhs3fCN"
      },
      "source": [
        "## Aplicación: Eliminación de ruido\n",
        "Para obtener un modelo capaz de eliminar ruido de las imágenes de dígitos vamos a entrenar un autoencoder que mapee imágenes de dígitos con ruido (entrada) a imágenes de dígitos \"limpias\"."
      ]
    },
    {
      "cell_type": "code",
      "metadata": {
        "id": "G4ms-kNx3tZG",
        "colab": {
          "base_uri": "https://localhost:8080/",
          "height": 104
        },
        "outputId": "27368719-54e6-4be5-fd4d-3196de88500a"
      },
      "source": [
        "# Añadimos ruido gaussiano (distribución normal) a las imágenes.\n",
        "noise_factor = 0.5\n",
        "X_train_noisy = X_train + noise_factor * np.random.normal(loc=0.0, scale=1.0, size=X_train.shape) \n",
        "X_test_noisy = X_test + noise_factor * np.random.normal(loc=0.0, scale=1.0, size=X_test.shape) \n",
        "\n",
        "# Aseguramos que todos los pixeles queden en el rango [0, 1]\n",
        "X_train_noisy = np.clip(X_train_noisy, 0., 1.)\n",
        "X_test_noisy = np.clip(X_test_noisy, 0., 1.)\n",
        "\n",
        "# Dibujamos las imágenes con ruido\n",
        "n_images = 10\n",
        "plt.figure(figsize=(30, 3))\n",
        "for i in range(n_images):\n",
        "    plt.subplot(1, n_images, i+1)\n",
        "    plt.imshow(X_test_noisy[i].reshape(28, 28), cmap='gray')\n",
        "    plt.axis('off')\n",
        "  \n",
        "#aplicación de ruido artificial a la imagen"
      ],
      "execution_count": 10,
      "outputs": [
        {
          "output_type": "display_data",
          "data": {
            "image/png": "[encoded data removed]",
            "text/plain": [
              "<Figure size 2160x216 with 10 Axes>"
            ]
          },
          "metadata": {
            "needs_background": "light"
          }
        }
      ]
    },
    {
      "cell_type": "markdown",
      "metadata": {
        "id": "DP5x2WdhAZo7"
      },
      "source": [
        "### Creación del modelo y entrenamiento"
      ]
    },
    {
      "cell_type": "code",
      "metadata": {
        "id": "rnDxX8xYAY6d",
        "colab": {
          "base_uri": "https://localhost:8080/"
        },
        "outputId": "e7fe5473-a41e-453f-abab-2f7a75ca3b9e"
      },
      "source": [
        "# Creación del modelo\n",
        "encoding_dim = 32\n",
        "autoencoder = tf.keras.models.Sequential()\n",
        "#       .\n",
        "#       .\n",
        "#       .\n",
        "autoencoder.add(Dense(units=128, activation='relu', input_shape=(X_train_noisy.shape[1],)))\n",
        "autoencoder.add(Dense(units=64, activation='relu'))\n",
        "autoencoder.add(Dense(units=encoding_dim, activation='relu'))\n",
        "autoencoder.add(Dense(units=64, activation='relu'))\n",
        "autoencoder.add(Dense(units=128, activation='relu'))\n",
        "autoencoder.add(Dense(units=X_train_noisy.shape[1], activation='sigmoid'))\n",
        "\n",
        "# Entrenamiento\n",
        "autoencoder.compile(optimizer='adam', loss='binary_crossentropy')\n",
        "hist= autoencoder.fit(X_train_noisy, \n",
        "                      X_train,\n",
        "                      epochs=50,\n",
        "                      batch_size=256,\n",
        "                      shuffle=True,\n",
        "                      validation_data=(X_test_noisy, X_test))\n"
      ],
      "execution_count": 14,
      "outputs": [
        {
          "output_type": "stream",
          "name": "stdout",
          "text": [
            "Epoch 1/50\n",
            "235/235 [==============================] - 2s 7ms/step - loss: 0.2627 - val_loss: 0.2012\n",
            "Epoch 2/50\n",
            "235/235 [==============================] - 1s 6ms/step - loss: 0.1822 - val_loss: 0.1693\n",
            "Epoch 3/50\n",
            "235/235 [==============================] - 1s 6ms/step - loss: 0.1628 - val_loss: 0.1554\n",
            "Epoch 4/50\n",
            "235/235 [==============================] - 1s 6ms/step - loss: 0.1516 - val_loss: 0.1472\n",
            "Epoch 5/50\n",
            "235/235 [==============================] - 1s 6ms/step - loss: 0.1452 - val_loss: 0.1416\n",
            "Epoch 6/50\n",
            "235/235 [==============================] - 1s 6ms/step - loss: 0.1408 - val_loss: 0.1382\n",
            "Epoch 7/50\n",
            "235/235 [==============================] - 1s 6ms/step - loss: 0.1380 - val_loss: 0.1361\n",
            "Epoch 8/50\n",
            "235/235 [==============================] - 1s 6ms/step - loss: 0.1358 - val_loss: 0.1347\n",
            "Epoch 9/50\n",
            "235/235 [==============================] - 1s 6ms/step - loss: 0.1340 - val_loss: 0.1331\n",
            "Epoch 10/50\n",
            "235/235 [==============================] - 1s 6ms/step - loss: 0.1323 - val_loss: 0.1312\n",
            "Epoch 11/50\n",
            "235/235 [==============================] - 1s 6ms/step - loss: 0.1310 - val_loss: 0.1303\n",
            "Epoch 12/50\n",
            "235/235 [==============================] - 1s 6ms/step - loss: 0.1297 - val_loss: 0.1288\n",
            "Epoch 13/50\n",
            "235/235 [==============================] - 1s 6ms/step - loss: 0.1284 - val_loss: 0.1280\n",
            "Epoch 14/50\n",
            "235/235 [==============================] - 1s 6ms/step - loss: 0.1274 - val_loss: 0.1276\n",
            "Epoch 15/50\n",
            "235/235 [==============================] - 1s 6ms/step - loss: 0.1264 - val_loss: 0.1262\n",
            "Epoch 16/50\n",
            "235/235 [==============================] - 1s 6ms/step - loss: 0.1253 - val_loss: 0.1255\n",
            "Epoch 17/50\n",
            "235/235 [==============================] - 1s 6ms/step - loss: 0.1244 - val_loss: 0.1258\n",
            "Epoch 18/50\n",
            "235/235 [==============================] - 1s 6ms/step - loss: 0.1236 - val_loss: 0.1238\n",
            "Epoch 19/50\n",
            "235/235 [==============================] - 1s 6ms/step - loss: 0.1228 - val_loss: 0.1235\n",
            "Epoch 20/50\n",
            "235/235 [==============================] - 1s 6ms/step - loss: 0.1223 - val_loss: 0.1230\n",
            "Epoch 21/50\n",
            "235/235 [==============================] - 1s 6ms/step - loss: 0.1216 - val_loss: 0.1232\n",
            "Epoch 22/50\n",
            "235/235 [==============================] - 1s 6ms/step - loss: 0.1211 - val_loss: 0.1217\n",
            "Epoch 23/50\n",
            "235/235 [==============================] - 1s 6ms/step - loss: 0.1205 - val_loss: 0.1216\n",
            "Epoch 24/50\n",
            "235/235 [==============================] - 1s 6ms/step - loss: 0.1200 - val_loss: 0.1212\n",
            "Epoch 25/50\n",
            "235/235 [==============================] - 1s 6ms/step - loss: 0.1196 - val_loss: 0.1206\n",
            "Epoch 26/50\n",
            "235/235 [==============================] - 1s 6ms/step - loss: 0.1192 - val_loss: 0.1205\n",
            "Epoch 27/50\n",
            "235/235 [==============================] - 1s 6ms/step - loss: 0.1189 - val_loss: 0.1204\n",
            "Epoch 28/50\n",
            "235/235 [==============================] - 1s 6ms/step - loss: 0.1185 - val_loss: 0.1204\n",
            "Epoch 29/50\n",
            "235/235 [==============================] - 1s 6ms/step - loss: 0.1182 - val_loss: 0.1197\n",
            "Epoch 30/50\n",
            "235/235 [==============================] - 1s 6ms/step - loss: 0.1180 - val_loss: 0.1197\n",
            "Epoch 31/50\n",
            "235/235 [==============================] - 1s 6ms/step - loss: 0.1176 - val_loss: 0.1192\n",
            "Epoch 32/50\n",
            "235/235 [==============================] - 1s 6ms/step - loss: 0.1174 - val_loss: 0.1195\n",
            "Epoch 33/50\n",
            "235/235 [==============================] - 1s 6ms/step - loss: 0.1171 - val_loss: 0.1190\n",
            "Epoch 34/50\n",
            "235/235 [==============================] - 1s 6ms/step - loss: 0.1168 - val_loss: 0.1185\n",
            "Epoch 35/50\n",
            "235/235 [==============================] - 1s 6ms/step - loss: 0.1166 - val_loss: 0.1186\n",
            "Epoch 36/50\n",
            "235/235 [==============================] - 1s 6ms/step - loss: 0.1164 - val_loss: 0.1180\n",
            "Epoch 37/50\n",
            "235/235 [==============================] - 1s 6ms/step - loss: 0.1162 - val_loss: 0.1189\n",
            "Epoch 38/50\n",
            "235/235 [==============================] - 1s 6ms/step - loss: 0.1160 - val_loss: 0.1177\n",
            "Epoch 39/50\n",
            "235/235 [==============================] - 1s 6ms/step - loss: 0.1157 - val_loss: 0.1182\n",
            "Epoch 40/50\n",
            "235/235 [==============================] - 1s 6ms/step - loss: 0.1154 - val_loss: 0.1179\n",
            "Epoch 41/50\n",
            "235/235 [==============================] - 1s 6ms/step - loss: 0.1153 - val_loss: 0.1177\n",
            "Epoch 42/50\n",
            "235/235 [==============================] - 1s 6ms/step - loss: 0.1151 - val_loss: 0.1170\n",
            "Epoch 43/50\n",
            "235/235 [==============================] - 1s 6ms/step - loss: 0.1149 - val_loss: 0.1170\n",
            "Epoch 44/50\n",
            "235/235 [==============================] - 1s 6ms/step - loss: 0.1147 - val_loss: 0.1171\n",
            "Epoch 45/50\n",
            "235/235 [==============================] - 1s 6ms/step - loss: 0.1145 - val_loss: 0.1170\n",
            "Epoch 46/50\n",
            "235/235 [==============================] - 1s 6ms/step - loss: 0.1144 - val_loss: 0.1166\n",
            "Epoch 47/50\n",
            "235/235 [==============================] - 1s 6ms/step - loss: 0.1142 - val_loss: 0.1162\n",
            "Epoch 48/50\n",
            "235/235 [==============================] - 1s 6ms/step - loss: 0.1140 - val_loss: 0.1170\n",
            "Epoch 49/50\n",
            "235/235 [==============================] - 1s 6ms/step - loss: 0.1139 - val_loss: 0.1168\n",
            "Epoch 50/50\n",
            "235/235 [==============================] - 1s 6ms/step - loss: 0.1138 - val_loss: 0.1161\n"
          ]
        }
      ]
    },
    {
      "cell_type": "markdown",
      "metadata": {
        "id": "eJVpDdoJC27n"
      },
      "source": [
        "### Evaluación y visualización"
      ]
    },
    {
      "cell_type": "code",
      "metadata": {
        "id": "cr5V5UOgC-OV",
        "colab": {
          "base_uri": "https://localhost:8080/",
          "height": 455
        },
        "outputId": "a29158b3-c061-47d1-d564-7317dc154f0a"
      },
      "source": [
        "plt.figure()\n",
        "plt.xlabel('Épocas')\n",
        "plt.ylabel('Error')\n",
        "plt.plot(hist.history['loss'])\n",
        "plt.plot(hist.history['val_loss'])\n",
        "plt.legend(['Entrenamiento', 'Validación'])\n",
        "\n",
        "predictions = autoencoder.predict(X_test)\n",
        "n_images = 10 \n",
        "plt.figure(figsize=(30, 8))\n",
        "for i in range(n_images):\n",
        "    # Entrada (original)\n",
        "    plt.subplot(3, n_images, i + 1)\n",
        "    plt.imshow(X_test_noisy[i].reshape(28, 28), cmap='gray')\n",
        "    plt.title('Entrada')\n",
        "    plt.axis('off')\n",
        "    \n",
        "    # Reconstrucción\n",
        "    plt.subplot(3, n_images, i + 1 + n_images)\n",
        "    plt.imshow(predictions[i].reshape(28, 28), cmap='gray')\n",
        "    plt.axis('off')\n",
        "    plt.title('Reconstrucción')"
      ],
      "execution_count": 15,
      "outputs": [
        {
          "output_type": "display_data",
          "data": {
            "image/png": "[encoded data removed]",
            "text/plain": [
              "<Figure size 432x288 with 1 Axes>"
            ]
          },
          "metadata": {
            "needs_background": "light"
          }
        },
        {
          "output_type": "display_data",
          "data": {
            "image/png": "[encoded data removed]",
            "text/plain": [
              "<Figure size 2160x576 with 20 Axes>"
            ]
          },
          "metadata": {
            "needs_background": "light"
          }
        }
      ]
    },
    {
      "cell_type": "markdown",
      "metadata": {
        "id": "F0igVc6GhgJF"
      },
      "source": [
        "## Autoencoder Variacional\n",
        "### Creación del Encoder"
      ]
    },
    {
      "cell_type": "code",
      "metadata": {
        "id": "o3MI8YrlBK_h"
      },
      "source": [
        "class Encoder(tf.keras.Model):\n",
        "  def __init__(self):\n",
        "    super(Encoder, self).__init__()\n",
        "\n",
        "    # Capas del encoder\n",
        "    encoder1=Dense\n",
        "    self.enconder1 = Dense(128, activation='relu', name='Encoder1')\n",
        "    self.enconder2 = Dense(64, activation='relu', name='Encoder2')\n",
        "    self.enconder3 = Dense(32, activation='relu', name='Encoder3')\n",
        "\n",
        "  def call(self, inputs, training=None, mask=None):\n",
        "    #conectamos las capas\n",
        "    x = self.enconder1(inputs)\n",
        "    x = self.enconder2(x)\n",
        "    y = self.enconder3(x)\n",
        "\n",
        "    return y"
      ],
      "execution_count": 16,
      "outputs": []
    },
    {
      "cell_type": "markdown",
      "metadata": {
        "id": "z3OWaMRyyfff"
      },
      "source": [
        "### Creación de la capa que representa la distribución normal"
      ]
    },
    {
      "cell_type": "code",
      "metadata": {
        "id": "9spiM1SnyrZH"
      },
      "source": [
        "class NormalDistribution(tf.keras.Model):\n",
        "  def __init__(self):\n",
        "    super(NormalDistribution, self).__init__()\n",
        "    \n",
        "    # Capas\n",
        "    self.z_mean = Dense(2, name = 'z_mean', activation='linear')\n",
        "    self.z_log_var = Dense(2, name = 'z_log_var', activation='linear')\n",
        "\n",
        "\n",
        "  def call(self, inputs, training=None, mask=None):\n",
        "    z_mean = self.z_mean(inputs)\n",
        "    z_log_var = self.z_log_var(inputs)\n",
        "    #       .\n",
        "    #       .\n",
        "    #       .\n",
        "    return z_mean, z_log_var"
      ],
      "execution_count": 17,
      "outputs": []
    },
    {
      "cell_type": "markdown",
      "metadata": {
        "id": "aACxBKvohkXO"
      },
      "source": [
        "\n",
        "### Creación de la capa de muestreo"
      ]
    },
    {
      "cell_type": "code",
      "metadata": {
        "id": "3qtElIDFhpUr"
      },
      "source": [
        "class Reparametrize(tf.keras.layers.Layer):\n",
        "  \"\"\"\n",
        "  Usa (z_mu, z_log_var) para muestrear z (el vector que \n",
        "  representa el dígito codificado)\n",
        "  \"\"\"\n",
        "  def call(self, inputs):\n",
        "    z_mu, z_log_var = inputs\n",
        "    \n",
        "    # Extraemos dimensiones (del batch y del espacio codificado)\n",
        "    batch = tf.shape(z_mu)[0]\n",
        "    dim = tf.shape(z_mu)[1]\n",
        "    #       .\n",
        "    #       .\n",
        "    \n",
        "    # Muestreamos de una distribucion normal ϵ: con dimensiones (batch, dim_spacio_codificado)\n",
        "    epsilon = tf.random.normal(shape=(batch, dim))\n",
        "        \n",
        "    # Transformamos log(σ^2) en σ \n",
        "    sigma = tf.exp(0.5*z_log_var)\n",
        "\n",
        "    # Truco de re-parametrización\n",
        "    reparametrization = z_mu + sigma* epsilon\n",
        "    \n",
        "    return reparametrization\n"
      ],
      "execution_count": 18,
      "outputs": []
    },
    {
      "cell_type": "markdown",
      "metadata": {
        "id": "FL1FirsoCtKy"
      },
      "source": [
        "### Creación del Decoder"
      ]
    },
    {
      "cell_type": "code",
      "metadata": {
        "id": "L-iYljRwBnIz"
      },
      "source": [
        "class Decoder(tf.keras.Model):\n",
        "  def __init__(self):\n",
        "    super(Decoder, self).__init__()\n",
        "\n",
        "    # Capas del decoder\n",
        "    decoder1=Dense\n",
        "    self.decoder1 = Dense(64, activation='relu', name='Decoder1')\n",
        "    self.decoder2 = Dense(128, activation='relu', name='Decoder2')\n",
        "    self.decoder3 = Dense(784, activation='sigmoid', name='Decoder3')\n",
        "\n",
        "  def call(self, inputs,  training=None, mask=None):\n",
        "    x = self.decoder1(inputs)\n",
        "    x = self.decoder2(x)\n",
        "    y = self.decoder3(x)\n",
        "\n",
        "    return y"
      ],
      "execution_count": 20,
      "outputs": []
    },
    {
      "cell_type": "markdown",
      "metadata": {
        "id": "qKQzo-txsLoc"
      },
      "source": [
        "### Creación de la función de coste"
      ]
    },
    {
      "cell_type": "code",
      "metadata": {
        "id": "lLcf71NqsKra"
      },
      "source": [
        "class LossVAE(tf.keras.layers.Layer):\n",
        "  \"\"\"\n",
        "  Función de error custom: suma del término de reconstrucción y \n",
        "  el término de regularización KL divergence\n",
        "  \"\"\"\n",
        "  def call(self, inputs):\n",
        "    y_true, y_pred, z_mean, z_log_var = inputs\n",
        "    \n",
        "    # Error de reconstrucción (usa categorical_crossentroy)\n",
        "    #reconstruction_loss = tf.mean(tf.losses.binary_crossentropy(y_true=y_true, y_pred=y_pred))\n",
        "    #queremos el error de la imagen, por lo que no hay que sacar la media sino:\n",
        "    #reconstruction_loss *= 784 # así deshago la disivión de la media y me quedo con el sum de los errores\n",
        "    reconstruction_loss = tf.reduce_sum(tf.losses.binary_crossentropy(y_true=y_true, y_pred=y_pred))\n",
        "\n",
        "    # Divergencia KL\n",
        "    #sigma^2 \n",
        "    kl_loss = tf.exp(z_log_var) + tf.square(z_mean) - 1 - z_log_var\n",
        "    kl_loss = tf.reduce_sum(0.5*tf.reduce_sum(kl_loss, axis=-1))\n",
        "\n",
        "\n",
        "  \n",
        "    return reconstruction_loss + kl_loss"
      ],
      "execution_count": 21,
      "outputs": []
    },
    {
      "cell_type": "markdown",
      "metadata": {
        "id": "wx9qBX37CzeY"
      },
      "source": [
        "### Creación del Autoencoder Variacional"
      ]
    },
    {
      "cell_type": "code",
      "metadata": {
        "id": "HIPYLV1uhmHj"
      },
      "source": [
        "class VAE(tf.keras.Model):\n",
        "    def __init__(self):\n",
        "      super(VAE, self).__init__()\n",
        "      # Capas del VAE\n",
        "      #       .\n",
        "      #       .\n",
        "      #       .\n",
        "\n",
        "    def call(self, inputs,  training=None, mask=None):\n",
        "      #       .\n",
        "      #       .\n",
        "      #       .\n",
        "      return (z_mean, z_log_var, z), decoded\n",
        "\n",
        "    def train_step(self, data):\n",
        "      with tf.GradientTape() as tape:\n",
        "        # Propagación hacia delante\n",
        "        #       .\n",
        "        #       .\n",
        "        #       .\n",
        "        total_loss = (784 * reconstruction_loss) + (2 * kl_loss)\n",
        "      \n",
        "      # Retro-propagación\n",
        "      grads = tape.gradient(total_loss, self.trainable_weights)\n",
        "      \n",
        "      # Actualización de los pesos\n",
        "      self.optimizer.apply_gradients(zip(grads, self.trainable_weights))\n",
        "      \n",
        "      return {\"reconstruction_loss\": reconstruction_loss,\n",
        "              \"kl_loss\": kl_loss,\n",
        "              \"total_loss\": total_loss}"
      ],
      "execution_count": null,
      "outputs": []
    },
    {
      "cell_type": "markdown",
      "metadata": {
        "id": "d4k9tjKAQ7wo"
      },
      "source": [
        "### Entrenamiento del Autoencoder Variacional"
      ]
    },
    {
      "cell_type": "code",
      "metadata": {
        "id": "oYCno6nA4vGU"
      },
      "source": [
        "vae = VAE()\n",
        "vae.compile(optimizer=tf.keras.optimizers.Adam())\n",
        "vae.fit(X_train, epochs=30, batch_size=128)"
      ],
      "execution_count": null,
      "outputs": []
    },
    {
      "cell_type": "markdown",
      "metadata": {
        "id": "uvUZD_JsRIE_"
      },
      "source": [
        "### Muestra de Dígitos Generados con el Autoencoder Varacional"
      ]
    },
    {
      "cell_type": "code",
      "metadata": {
        "id": "Jbk67dUWRo6v"
      },
      "source": [
        "def plot_latent(model, fig_size=15, scale=3.):\n",
        "    n = 30\n",
        "    digit_size = 28\n",
        "    figure = np.zeros((digit_size * n, digit_size * n))\n",
        "    # Creamos un grid 2D linealmente espaciado correspondiente a\n",
        "    # los dígitos en el espacio codificado\n",
        "    grid_x = np.linspace(-scale, scale, n)\n",
        "    grid_y = np.linspace(-scale, scale, n)[::-1]\n",
        "\n",
        "    for i, yi in enumerate(grid_y):\n",
        "        for j, xi in enumerate(grid_x):\n",
        "            z_sample = np.array([[xi, yi]])\n",
        "            # Para cada coordenada 2D del espacio codificado, \n",
        "            # usamos el decoder para reconstruir/generar una imagen nueva.\n",
        "            x_decoded = model.decoder(z_sample).numpy()\n",
        "            digit = x_decoded.reshape(digit_size, digit_size)\n",
        "            figure[i * digit_size : (i + 1) * digit_size,\n",
        "                   j * digit_size : (j + 1) * digit_size] = digit\n",
        "\n",
        "    plt.figure(figsize=(fig_size, fig_size))\n",
        "    start_range = digit_size // 2\n",
        "    end_range = n * digit_size + start_range + 1\n",
        "    pixel_range = np.arange(start_range, end_range, digit_size)\n",
        "    sample_range_x = np.round(grid_x, 1)\n",
        "    sample_range_y = np.round(grid_y, 1)\n",
        "    plt.xticks(pixel_range, sample_range_x)\n",
        "    plt.yticks(pixel_range, sample_range_y)\n",
        "    plt.xlabel(\"z[0]\")\n",
        "    plt.ylabel(\"z[1]\")\n",
        "    plt.imshow(figure, cmap=\"gray\")\n",
        "    plt.show()\n",
        "\n",
        "\n",
        "def plot_label_clusters(model, data, labels, fig_size=15, scale=3.):\n",
        "    # Dibujamos un plot 2D the los dígitos y sus clases en el espacio codificado\n",
        "    encoded = model.encoder(data)\n",
        "    z_mean, _ = model.normal_distribution(encoded)\n",
        "    plt.figure(figsize=(fig_size, fig_size))\n",
        "    plt.scatter(z_mean[:, 0], z_mean[:, 1], c=labels)\n",
        "    plt.colorbar()\n",
        "    plt.xlabel(\"z[0]\")\n",
        "    plt.ylabel(\"z[1]\")\n",
        "    plt.xlim((-scale, scale))\n",
        "    plt.ylim((-scale, scale)) \n",
        "    plt.show()"
      ],
      "execution_count": null,
      "outputs": []
    },
    {
      "cell_type": "code",
      "metadata": {
        "id": "zaGwFRoRY2vU"
      },
      "source": [
        "plot_latent(vae)"
      ],
      "execution_count": null,
      "outputs": []
    },
    {
      "cell_type": "code",
      "metadata": {
        "id": "EgOm9S0jk5S3"
      },
      "source": [
        "plot_label_clusters(vae, X_train, y_train)"
      ],
      "execution_count": null,
      "outputs": []
    }
  ]
}