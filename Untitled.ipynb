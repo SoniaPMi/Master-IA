{
 "cells": [
  {
   "cell_type": "code",
   "execution_count": 44,
   "id": "9f579238",
   "metadata": {},
   "outputs": [],
   "source": [
    "class Batmobile:\n",
    "    def __init__(self, pilot, liters_g, n_pem, n_batrockets):\n",
    "        self.pilot = pilot\n",
    "        self.liters_g = liters_g\n",
    "        self.n_pem = n_pem\n",
    "        self.n_batrockets = n_batrockets\n",
    "        \n",
    "        for pilot in pilot:\n",
    "            if (self.pilot == \"Batman\") | (self.pilot == \"Robin\"):\n",
    "                pass\n",
    "            else:\n",
    "                raise Exception(\"No tienes permisos\")\n",
    "    \n",
    "                \n",
    "    def accelerator(self, km):\n",
    "        conversion = km * 0.08 # 8l/ 100km - en modo accelerator\n",
    "        if conversion > self.liters_g:\n",
    "            print('No hay combustible')\n",
    "        else:\n",
    "            self.liters_g = self.liters_g - conversion\n",
    "        return self.liters_g\n",
    "    \n",
    "    def turbo(self, km):\n",
    "        conversion = km * 0.20 # 20l/ 100km - en modo turbo\n",
    "        if conversion > self.liters_g:\n",
    "            print('No hay combustible suficiente')\n",
    "        else:\n",
    "            self.liters_g = self.liters_g - conversion\n",
    "        return self.liters_g\n",
    "    \n",
    "    def lanzar_PEM(self):\n",
    "                \n",
    "        if self.n_pem != 0:\n",
    "            self.n_pem -= 1\n",
    "        else:\n",
    "            print(\"No hay munición PEM\")\n",
    "        return self.n_pem\n",
    "        \n",
    "    def lanzar_rocket(self):\n",
    "        if self.n_batrockets !=0:\n",
    "            self.n_batrockets -= 1\n",
    "            municion_roket(True)\n",
    "        else:\n",
    "            print(\"No hay munición Roket\")\n",
    "        return self.n_batrockets\n",
    "    \n",
    "\n",
    "class Joker(Batmobile):\n",
    "   # NO SE QUE HAY QUE HACER\n",
    "    pass\n",
    "\n",
    "\n",
    "class JokerV(Batmobile):\n",
    "   # NO SE QUE HAY QUE HACER\n",
    "    pass\n",
    "\n",
    "\n",
    "class municion_roket(Batmobile):\n",
    "     def __init__(self, KO):\n",
    "        self.KO = KO\n",
    "                \n",
    "        if KO == True:\n",
    "            print(\"Roket recibido\")\n",
    "        \n",
    "        KO = 0\n",
    "\n",
    "\n",
    "    #pass\n",
    "\n",
    "class municion_PEM(Batmobile):\n",
    "   # SERÁ IGUAL QUE MUNICIÓN ROCKET\n",
    "    pass"
   ]
  },
  {
   "cell_type": "code",
   "execution_count": 45,
   "id": "6e4f02f2",
   "metadata": {},
   "outputs": [],
   "source": [
    "Bat_1 = Batmobile(\"Batman\", 80, 80, 80)"
   ]
  },
  {
   "cell_type": "code",
   "execution_count": 46,
   "id": "7a011331",
   "metadata": {},
   "outputs": [
    {
     "data": {
      "text/plain": [
       "76.0"
      ]
     },
     "execution_count": 46,
     "metadata": {},
     "output_type": "execute_result"
    }
   ],
   "source": [
    "Bat_1.accelerator(50)"
   ]
  },
  {
   "cell_type": "code",
   "execution_count": 47,
   "id": "82ddd194",
   "metadata": {},
   "outputs": [
    {
     "data": {
      "text/plain": [
       "66.0"
      ]
     },
     "execution_count": 47,
     "metadata": {},
     "output_type": "execute_result"
    }
   ],
   "source": [
    "Bat_1.turbo(50)"
   ]
  },
  {
   "cell_type": "code",
   "execution_count": 48,
   "id": "e0f36b54",
   "metadata": {},
   "outputs": [
    {
     "data": {
      "text/plain": [
       "79"
      ]
     },
     "execution_count": 48,
     "metadata": {},
     "output_type": "execute_result"
    }
   ],
   "source": [
    "Bat_1.lanzar_PEM()"
   ]
  },
  {
   "cell_type": "code",
   "execution_count": 49,
   "id": "60a89b80",
   "metadata": {},
   "outputs": [
    {
     "name": "stdout",
     "output_type": "stream",
     "text": [
      "Roket recibido\n"
     ]
    },
    {
     "data": {
      "text/plain": [
       "79"
      ]
     },
     "execution_count": 49,
     "metadata": {},
     "output_type": "execute_result"
    }
   ],
   "source": [
    "Bat_1.lanzar_rocket()"
   ]
  },
  {
   "cell_type": "code",
   "execution_count": null,
   "id": "4ab5866e",
   "metadata": {},
   "outputs": [],
   "source": []
  }
 ],
 "metadata": {
  "kernelspec": {
   "display_name": "Python 3",
   "language": "python",
   "name": "python3"
  },
  "language_info": {
   "codemirror_mode": {
    "name": "ipython",
    "version": 3
   },
   "file_extension": ".py",
   "mimetype": "text/x-python",
   "name": "python",
   "nbconvert_exporter": "python",
   "pygments_lexer": "ipython3",
   "version": "3.8.8"
  }
 },
 "nbformat": 4,
 "nbformat_minor": 5
}
