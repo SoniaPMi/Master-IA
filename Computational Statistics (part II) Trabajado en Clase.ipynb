{
 "cells": [
  {
   "cell_type": "markdown",
   "metadata": {
    "id": "_oyKDtitbKNe"
   },
   "source": [
    "\n",
    "# Computational Statistics for Data Analysis (part II)\n"
   ]
  },
  {
   "cell_type": "markdown",
   "metadata": {
    "id": "9SwdoTOWbKNi"
   },
   "source": [
    "> Statistics is the discipline of using data samples to support claims about populations.\n",
    "\n",
    "Statistics is based on 2 main concepts:\n",
    "\n",
    "* A **population** is a collection of objects, items (“units”) about which information is sought.\n",
    "\n",
    "* A **sample** is a part of the population that is observed."
   ]
  },
  {
   "cell_type": "markdown",
   "metadata": {
    "id": "9a99Jm5MbKNj"
   },
   "source": [
    "# Index"
   ]
  },
  {
   "cell_type": "markdown",
   "metadata": {
    "id": "dEzB3c9kbKNj"
   },
   "source": [
    "###1 Data preparation.\n",
    "* 1.1 Getting data\n",
    "* 1.2 Improving data as a pandas DataFrame\n",
    "* 1.3 Data cleaning and preparation\n",
    " "
   ]
  },
  {
   "cell_type": "markdown",
   "metadata": {
    "id": "aoDlPB62bKNk"
   },
   "source": [
    "###2 Exploratory Data Analysis.\n",
    "* 2.1 Summarizing the data: mean, variance, median, quantiles & percentiles\n",
    "* 2.2 Histogram\n",
    "* 2.3 Data distributions\n",
    "* 2.3.1 PMF\n",
    "* 2.3.2 CDF\n",
    "* 2.4 Outliers\n",
    "* 2.5 Measuring asymmetry\n",
    "* 2.6 Relative risk"
   ]
  },
  {
   "cell_type": "markdown",
   "metadata": {
    "id": "8E-jqqq-bKNk"
   },
   "source": [
    "### \"Do firts babies arrive late?\"\n",
    "\n",
    "Some people believe it is true, but **without data analysis** to support it, this claim is a case of **anecdotal evidence**:\n",
    "\n",
    "* There are a **small number of samples** (personal experience, friends, etc.).\n",
    "* There is a **selection bias**: most *believers* are interested in this claim because their first babies were late.\n",
    "* There is a **confirmation bias**: believers might be more likely to contribute data that confirm it.\n",
    "* Sources are **innaccurate**: personal stories are subject to memory deformations. \n"
   ]
  },
  {
   "cell_type": "markdown",
   "metadata": {
    "id": "GgPfUloAbKNl"
   },
   "source": [
    "\n",
    "# 1 Data preparation."
   ]
  },
  {
   "cell_type": "markdown",
   "metadata": {
    "id": "FMnKIy-hbKNl"
   },
   "source": [
    "## 1.1 Getting Data\n",
    "\n",
    "There is an interesting and publicly available **data source** to check this claim. Since 1973 the U.S. Centers for Disease Control and Prevention (CDC) have conducted a survey, the National Survey of Family Growth (NSFG), to gather *information on family life, marriage and divorce, pregnancy, infertility, use of contraception, and men's and women's health.* \n",
    "\n",
    "Data can be downloaded from: \n",
    "\n",
    "http://www.cdc.gov/nchs/nsfg/nsfg_cycle6.htm#cyc6downdatafiles\n",
    "\n",
    "We will use this file: \n",
    "\n",
    "* Female Pregnancy Data File (2002FemPreg.dat): one record for each pregnancy reported by a respondent."
   ]
  },
  {
   "cell_type": "markdown",
   "metadata": {
    "id": "eVyZX_zhbKNm"
   },
   "source": [
    "There are 13593 pregnancies in our data. The meaning of the data is (each record is in a line):\n",
    "\n",
    "+ <code>case.id</code> is the ID of the respondent. From col 1 to 12.\n",
    "+ <code>prg.length</code> is the duration of the pregnancy in weeks. From col 275 to 276. \n",
    "+ <code>outcome</code> is the outcome of the pregnancy (1 = live birth). Col 277.\n",
    "+ <code>birth.ord</code> is the integer birth order of each live birth. From col 278 to 279.\n",
    "+ <code>final.wgt</code> is the statistical weight associated to the respondent (it is a floating point value that indicates the number of people in the U.S. population this respondent represents). From col 423 to 440.\n",
    "<small> "
   ]
  },
  {
   "cell_type": "markdown",
   "metadata": {
    "id": "l41tGnzabKNm"
   },
   "source": [
    "<small> If curious: Online documentation of the survey is at http://www.icpsr.umich.edu/nsfg6.<small> "
   ]
  },
  {
   "cell_type": "markdown",
   "metadata": {
    "id": "ww0YPOvPbKNn"
   },
   "source": [
    "One of the reasons we are using a general-purpose language such as Python rather than a stats language like R is that for many projects the *hard* part is preparing the data, not doing the analysis.\n",
    "\n",
    "The most common steps are:\n",
    "\n",
    "1. **Getting the data**. Data can be directly read from a file or it might be necessary to scrap the web.\n",
    "2. **Parsing the data**.  Of course, this depends on what format it is in: plain text, fixed columns, CSV, XML, HTML, etc.\n",
    "3. **Cleaning the data**.  Survey responses and other data files are almost always incomplete.  Sometimes there are multiple codes for things like, *not asked*, *did not know*, and *declined to answer*. And there are almost always errors. A simple strategy is to remove or ignore incomplete records.\n",
    "4. **Building data structures**. Once you read the data, you usually want to store it in a data structure that lends itself to the analysis you want to do.\n",
    "\n",
    "If the data fits into memory, building a data structure is usually the way to go.   If not, you could build a **database**, which is an out-of-memory data structure. Most databases provide a mapping from keys to values, so they are like dictionaries."
   ]
  },
  {
   "cell_type": "code",
   "execution_count": 1,
   "metadata": {
    "colab": {
     "base_uri": "https://localhost:8080/",
     "height": 212
    },
    "executionInfo": {
     "elapsed": 283,
     "status": "error",
     "timestamp": 1633957119585,
     "user": {
      "displayName": "Valero Laparra",
      "photoUrl": "https://lh3.googleusercontent.com/a/default-user=s64",
      "userId": "00355299981903664579"
     },
     "user_tz": -120
    },
    "id": "i38f2tFsbKNo",
    "outputId": "aa629c6c-c03d-46bd-c1ec-183250a2c307"
   },
   "outputs": [
    {
     "ename": "ValueError",
     "evalue": "invalid literal for int() with base 10: '  '",
     "output_type": "error",
     "traceback": [
      "\u001b[0;31m---------------------------------------------------------------------------\u001b[0m",
      "\u001b[0;31mValueError\u001b[0m                                Traceback (most recent call last)",
      "\u001b[0;32m<ipython-input-1-d5e560550113>\u001b[0m in \u001b[0;36m<module>\u001b[0;34m\u001b[0m\n\u001b[1;32m      6\u001b[0m \u001b[0;32mfor\u001b[0m \u001b[0mline\u001b[0m \u001b[0;32min\u001b[0m \u001b[0mfile\u001b[0m\u001b[0;34m:\u001b[0m\u001b[0;34m\u001b[0m\u001b[0;34m\u001b[0m\u001b[0m\n\u001b[1;32m      7\u001b[0m      preg.append([int(line[:12]), int(line[274:276]), int(line[276]), \\\n\u001b[0;32m----> 8\u001b[0;31m                  int(line[277:279]), float(line[422:440])])\n\u001b[0m",
      "\u001b[0;31mValueError\u001b[0m: invalid literal for int() with base 10: '  '"
     ]
    }
   ],
   "source": [
    "file = open('files/2002FemPreg.dat', 'r')\n",
    "\n",
    "# Let's build a list of lists.\n",
    "\n",
    "preg=[]\n",
    "for line in file:\n",
    "     preg.append([int(line[:12]), int(line[274:276]), int(line[276]), \\\n",
    "                 int(line[277:279]), float(line[422:440])])\n"
   ]
  },
  {
   "cell_type": "markdown",
   "metadata": {
    "id": "ZOOqTYUbbKNp"
   },
   "source": [
    "Ooops! There is something wrong in the data file!\n",
    "\n",
    "By inspecting the data we can observe that there are some empty records that caused an error to the ``int`` function."
   ]
  },
  {
   "cell_type": "code",
   "execution_count": 7,
   "metadata": {
    "id": "UuLytYAabKNq"
   },
   "outputs": [],
   "source": [
    "file = open('2002FemPreg.dat', 'r')\n",
    "\n",
    "def chr_int(a):\n",
    "    if a == '  ':\n",
    "        return 0\n",
    "    else:\n",
    "        return int(a)\n",
    "        \n",
    "preg=[]\n",
    "for line in file:\n",
    "    lst  = [int(line[:12]), int(line[274:276]), int(line[276]), \\\n",
    "                 chr_int(line[277:279]), float(line[422:440])]\n",
    "    preg.append(lst)"
   ]
  },
  {
   "cell_type": "code",
   "execution_count": 8,
   "metadata": {
    "colab": {
     "base_uri": "https://localhost:8080/"
    },
    "executionInfo": {
     "elapsed": 337,
     "status": "ok",
     "timestamp": 1633957127481,
     "user": {
      "displayName": "Valero Laparra",
      "photoUrl": "https://lh3.googleusercontent.com/a/default-user=s64",
      "userId": "00355299981903664579"
     },
     "user_tz": -120
    },
    "id": "Facz9fy2bKNq",
    "outputId": "8df7542a-8712-48cf-fae1-a9f157b2a17a"
   },
   "outputs": [
    {
     "name": "stdout",
     "output_type": "stream",
     "text": [
      "[1, 39, 1, 2, 6448.271111704751]\n",
      "13593\n"
     ]
    }
   ],
   "source": [
    "print(preg[1])\n",
    "print(len(preg))"
   ]
  },
  {
   "cell_type": "markdown",
   "metadata": {
    "id": "XEsO22HObKNq"
   },
   "source": [
    "### 1.2 Importing data as a pandas DataFrame"
   ]
  },
  {
   "cell_type": "code",
   "execution_count": 9,
   "metadata": {
    "colab": {
     "base_uri": "https://localhost:8080/",
     "height": 203
    },
    "executionInfo": {
     "elapsed": 374,
     "status": "ok",
     "timestamp": 1633957129855,
     "user": {
      "displayName": "Valero Laparra",
      "photoUrl": "https://lh3.googleusercontent.com/a/default-user=s64",
      "userId": "00355299981903664579"
     },
     "user_tz": -120
    },
    "id": "8U2a80G8bKNq",
    "outputId": "33bb727c-5d83-4488-db9b-99b4f9462ab1"
   },
   "outputs": [
    {
     "data": {
      "text/html": [
       "<div>\n",
       "<style scoped>\n",
       "    .dataframe tbody tr th:only-of-type {\n",
       "        vertical-align: middle;\n",
       "    }\n",
       "\n",
       "    .dataframe tbody tr th {\n",
       "        vertical-align: top;\n",
       "    }\n",
       "\n",
       "    .dataframe thead th {\n",
       "        text-align: right;\n",
       "    }\n",
       "</style>\n",
       "<table border=\"1\" class=\"dataframe\">\n",
       "  <thead>\n",
       "    <tr style=\"text-align: right;\">\n",
       "      <th></th>\n",
       "      <th>caseId</th>\n",
       "      <th>prgLength</th>\n",
       "      <th>outcome</th>\n",
       "      <th>birthOrd</th>\n",
       "      <th>finalWgt</th>\n",
       "    </tr>\n",
       "  </thead>\n",
       "  <tbody>\n",
       "    <tr>\n",
       "      <th>0</th>\n",
       "      <td>1</td>\n",
       "      <td>39</td>\n",
       "      <td>1</td>\n",
       "      <td>1</td>\n",
       "      <td>6448.271112</td>\n",
       "    </tr>\n",
       "    <tr>\n",
       "      <th>1</th>\n",
       "      <td>1</td>\n",
       "      <td>39</td>\n",
       "      <td>1</td>\n",
       "      <td>2</td>\n",
       "      <td>6448.271112</td>\n",
       "    </tr>\n",
       "    <tr>\n",
       "      <th>2</th>\n",
       "      <td>2</td>\n",
       "      <td>39</td>\n",
       "      <td>1</td>\n",
       "      <td>1</td>\n",
       "      <td>12999.542264</td>\n",
       "    </tr>\n",
       "    <tr>\n",
       "      <th>3</th>\n",
       "      <td>2</td>\n",
       "      <td>39</td>\n",
       "      <td>1</td>\n",
       "      <td>2</td>\n",
       "      <td>12999.542264</td>\n",
       "    </tr>\n",
       "    <tr>\n",
       "      <th>4</th>\n",
       "      <td>2</td>\n",
       "      <td>39</td>\n",
       "      <td>1</td>\n",
       "      <td>3</td>\n",
       "      <td>12999.542264</td>\n",
       "    </tr>\n",
       "  </tbody>\n",
       "</table>\n",
       "</div>"
      ],
      "text/plain": [
       "   caseId  prgLength  outcome  birthOrd      finalWgt\n",
       "0       1         39        1         1   6448.271112\n",
       "1       1         39        1         2   6448.271112\n",
       "2       2         39        1         1  12999.542264\n",
       "3       2         39        1         2  12999.542264\n",
       "4       2         39        1         3  12999.542264"
      ]
     },
     "execution_count": 9,
     "metadata": {},
     "output_type": "execute_result"
    }
   ],
   "source": [
    "#%matplotlib inline\n",
    "import matplotlib.pyplot as plt\n",
    "import pandas as pd\n",
    "df = pd.DataFrame(preg) #  Two-dimensional size-mutable, potentially heterogeneous tabular data structure with labeled axes \n",
    "# http://pandas.pydata.org/pandas-docs/dev/dsintro.html#dataframe\n",
    "\n",
    "df.columns = ['caseId', 'prgLength', 'outcome', 'birthOrd', 'finalWgt']\n",
    "df.head()"
   ]
  },
  {
   "cell_type": "code",
   "execution_count": 10,
   "metadata": {
    "colab": {
     "base_uri": "https://localhost:8080/",
     "height": 203
    },
    "executionInfo": {
     "elapsed": 24,
     "status": "ok",
     "timestamp": 1633957130915,
     "user": {
      "displayName": "Valero Laparra",
      "photoUrl": "https://lh3.googleusercontent.com/a/default-user=s64",
      "userId": "00355299981903664579"
     },
     "user_tz": -120
    },
    "id": "GjrW7zTybKNr",
    "outputId": "3bf1692b-3999-4364-eb57-1ed7cf4a2683"
   },
   "outputs": [
    {
     "data": {
      "text/html": [
       "<div>\n",
       "<style scoped>\n",
       "    .dataframe tbody tr th:only-of-type {\n",
       "        vertical-align: middle;\n",
       "    }\n",
       "\n",
       "    .dataframe tbody tr th {\n",
       "        vertical-align: top;\n",
       "    }\n",
       "\n",
       "    .dataframe thead th {\n",
       "        text-align: right;\n",
       "    }\n",
       "</style>\n",
       "<table border=\"1\" class=\"dataframe\">\n",
       "  <thead>\n",
       "    <tr style=\"text-align: right;\">\n",
       "      <th></th>\n",
       "      <th>caseId</th>\n",
       "      <th>prgLength</th>\n",
       "      <th>outcome</th>\n",
       "      <th>birthOrd</th>\n",
       "      <th>finalWgt</th>\n",
       "    </tr>\n",
       "  </thead>\n",
       "  <tbody>\n",
       "    <tr>\n",
       "      <th>13588</th>\n",
       "      <td>12571</td>\n",
       "      <td>39</td>\n",
       "      <td>1</td>\n",
       "      <td>1</td>\n",
       "      <td>6269.200989</td>\n",
       "    </tr>\n",
       "    <tr>\n",
       "      <th>13589</th>\n",
       "      <td>12571</td>\n",
       "      <td>6</td>\n",
       "      <td>2</td>\n",
       "      <td>0</td>\n",
       "      <td>6269.200989</td>\n",
       "    </tr>\n",
       "    <tr>\n",
       "      <th>13590</th>\n",
       "      <td>12571</td>\n",
       "      <td>5</td>\n",
       "      <td>2</td>\n",
       "      <td>0</td>\n",
       "      <td>6269.200989</td>\n",
       "    </tr>\n",
       "    <tr>\n",
       "      <th>13591</th>\n",
       "      <td>12571</td>\n",
       "      <td>39</td>\n",
       "      <td>1</td>\n",
       "      <td>2</td>\n",
       "      <td>6269.200989</td>\n",
       "    </tr>\n",
       "    <tr>\n",
       "      <th>13592</th>\n",
       "      <td>12571</td>\n",
       "      <td>39</td>\n",
       "      <td>1</td>\n",
       "      <td>3</td>\n",
       "      <td>6269.200989</td>\n",
       "    </tr>\n",
       "  </tbody>\n",
       "</table>\n",
       "</div>"
      ],
      "text/plain": [
       "       caseId  prgLength  outcome  birthOrd     finalWgt\n",
       "13588   12571         39        1         1  6269.200989\n",
       "13589   12571          6        2         0  6269.200989\n",
       "13590   12571          5        2         0  6269.200989\n",
       "13591   12571         39        1         2  6269.200989\n",
       "13592   12571         39        1         3  6269.200989"
      ]
     },
     "execution_count": 10,
     "metadata": {},
     "output_type": "execute_result"
    }
   ],
   "source": [
    "df.tail()"
   ]
  },
  {
   "cell_type": "code",
   "execution_count": 11,
   "metadata": {},
   "outputs": [
    {
     "data": {
      "text/html": [
       "<div>\n",
       "<style scoped>\n",
       "    .dataframe tbody tr th:only-of-type {\n",
       "        vertical-align: middle;\n",
       "    }\n",
       "\n",
       "    .dataframe tbody tr th {\n",
       "        vertical-align: top;\n",
       "    }\n",
       "\n",
       "    .dataframe thead th {\n",
       "        text-align: right;\n",
       "    }\n",
       "</style>\n",
       "<table border=\"1\" class=\"dataframe\">\n",
       "  <thead>\n",
       "    <tr style=\"text-align: right;\">\n",
       "      <th></th>\n",
       "      <th>caseId</th>\n",
       "      <th>prgLength</th>\n",
       "      <th>outcome</th>\n",
       "      <th>birthOrd</th>\n",
       "      <th>finalWgt</th>\n",
       "    </tr>\n",
       "  </thead>\n",
       "  <tbody>\n",
       "    <tr>\n",
       "      <th>0</th>\n",
       "      <td>1</td>\n",
       "      <td>39</td>\n",
       "      <td>1</td>\n",
       "      <td>1</td>\n",
       "      <td>6448.271112</td>\n",
       "    </tr>\n",
       "    <tr>\n",
       "      <th>1</th>\n",
       "      <td>1</td>\n",
       "      <td>39</td>\n",
       "      <td>1</td>\n",
       "      <td>2</td>\n",
       "      <td>6448.271112</td>\n",
       "    </tr>\n",
       "    <tr>\n",
       "      <th>2</th>\n",
       "      <td>2</td>\n",
       "      <td>39</td>\n",
       "      <td>1</td>\n",
       "      <td>1</td>\n",
       "      <td>12999.542264</td>\n",
       "    </tr>\n",
       "    <tr>\n",
       "      <th>3</th>\n",
       "      <td>2</td>\n",
       "      <td>39</td>\n",
       "      <td>1</td>\n",
       "      <td>2</td>\n",
       "      <td>12999.542264</td>\n",
       "    </tr>\n",
       "    <tr>\n",
       "      <th>4</th>\n",
       "      <td>2</td>\n",
       "      <td>39</td>\n",
       "      <td>1</td>\n",
       "      <td>3</td>\n",
       "      <td>12999.542264</td>\n",
       "    </tr>\n",
       "    <tr>\n",
       "      <th>...</th>\n",
       "      <td>...</td>\n",
       "      <td>...</td>\n",
       "      <td>...</td>\n",
       "      <td>...</td>\n",
       "      <td>...</td>\n",
       "    </tr>\n",
       "    <tr>\n",
       "      <th>13588</th>\n",
       "      <td>12571</td>\n",
       "      <td>39</td>\n",
       "      <td>1</td>\n",
       "      <td>1</td>\n",
       "      <td>6269.200989</td>\n",
       "    </tr>\n",
       "    <tr>\n",
       "      <th>13589</th>\n",
       "      <td>12571</td>\n",
       "      <td>6</td>\n",
       "      <td>2</td>\n",
       "      <td>0</td>\n",
       "      <td>6269.200989</td>\n",
       "    </tr>\n",
       "    <tr>\n",
       "      <th>13590</th>\n",
       "      <td>12571</td>\n",
       "      <td>5</td>\n",
       "      <td>2</td>\n",
       "      <td>0</td>\n",
       "      <td>6269.200989</td>\n",
       "    </tr>\n",
       "    <tr>\n",
       "      <th>13591</th>\n",
       "      <td>12571</td>\n",
       "      <td>39</td>\n",
       "      <td>1</td>\n",
       "      <td>2</td>\n",
       "      <td>6269.200989</td>\n",
       "    </tr>\n",
       "    <tr>\n",
       "      <th>13592</th>\n",
       "      <td>12571</td>\n",
       "      <td>39</td>\n",
       "      <td>1</td>\n",
       "      <td>3</td>\n",
       "      <td>6269.200989</td>\n",
       "    </tr>\n",
       "  </tbody>\n",
       "</table>\n",
       "<p>13593 rows × 5 columns</p>\n",
       "</div>"
      ],
      "text/plain": [
       "       caseId  prgLength  outcome  birthOrd      finalWgt\n",
       "0           1         39        1         1   6448.271112\n",
       "1           1         39        1         2   6448.271112\n",
       "2           2         39        1         1  12999.542264\n",
       "3           2         39        1         2  12999.542264\n",
       "4           2         39        1         3  12999.542264\n",
       "...       ...        ...      ...       ...           ...\n",
       "13588   12571         39        1         1   6269.200989\n",
       "13589   12571          6        2         0   6269.200989\n",
       "13590   12571          5        2         0   6269.200989\n",
       "13591   12571         39        1         2   6269.200989\n",
       "13592   12571         39        1         3   6269.200989\n",
       "\n",
       "[13593 rows x 5 columns]"
      ]
     },
     "execution_count": 11,
     "metadata": {},
     "output_type": "execute_result"
    }
   ],
   "source": [
    "df"
   ]
  },
  {
   "cell_type": "code",
   "execution_count": 12,
   "metadata": {
    "colab": {
     "base_uri": "https://localhost:8080/"
    },
    "executionInfo": {
     "elapsed": 9,
     "status": "ok",
     "timestamp": 1633957132073,
     "user": {
      "displayName": "Valero Laparra",
      "photoUrl": "https://lh3.googleusercontent.com/a/default-user=s64",
      "userId": "00355299981903664579"
     },
     "user_tz": -120
    },
    "id": "r7A1b5uVbKNr",
    "outputId": "289d3873-9345-4099-8982-348fffd53df9"
   },
   "outputs": [
    {
     "data": {
      "text/plain": [
       "(13593, 5)"
      ]
     },
     "execution_count": 12,
     "metadata": {},
     "output_type": "execute_result"
    }
   ],
   "source": [
    "df.shape"
   ]
  },
  {
   "cell_type": "markdown",
   "metadata": {
    "id": "30ePqEQLbKNr"
   },
   "source": [
    "Let's count the number of  births according to the order:"
   ]
  },
  {
   "cell_type": "code",
   "execution_count": 13,
   "metadata": {
    "colab": {
     "base_uri": "https://localhost:8080/"
    },
    "executionInfo": {
     "elapsed": 245,
     "status": "ok",
     "timestamp": 1633957133639,
     "user": {
      "displayName": "Valero Laparra",
      "photoUrl": "https://lh3.googleusercontent.com/a/default-user=s64",
      "userId": "00355299981903664579"
     },
     "user_tz": -120
    },
    "id": "sYGmdzRdbKNs",
    "outputId": "39ef19e0-babe-47b2-c693-1158bc2df8f9"
   },
   "outputs": [
    {
     "name": "stdout",
     "output_type": "stream",
     "text": [
      "birthOrd\n",
      "0     4445\n",
      "1     4413\n",
      "2     2874\n",
      "3     1234\n",
      "4      421\n",
      "5      126\n",
      "6       50\n",
      "7       20\n",
      "8        7\n",
      "9        2\n",
      "10       1\n",
      "dtype: int64\n",
      "4413\n"
     ]
    }
   ],
   "source": [
    "counts = df.groupby('birthOrd').size()\n",
    "print(counts)\n",
    "print(counts[1])\n",
    "\n",
    "\n",
    "# also: df.outcome.value_counts()"
   ]
  },
  {
   "cell_type": "markdown",
   "metadata": {
    "id": "X4G-KAnxbKNs"
   },
   "source": [
    "Let's build a partition of *live births* into two groups: first babies and others."
   ]
  },
  {
   "cell_type": "code",
   "execution_count": 14,
   "metadata": {
    "colab": {
     "base_uri": "https://localhost:8080/"
    },
    "executionInfo": {
     "elapsed": 10,
     "status": "ok",
     "timestamp": 1633957135451,
     "user": {
      "displayName": "Valero Laparra",
      "photoUrl": "https://lh3.googleusercontent.com/a/default-user=s64",
      "userId": "00355299981903664579"
     },
     "user_tz": -120
    },
    "id": "QL4xcNe0bKNs",
    "outputId": "616a94c6-8372-4036-ae13-2a2f5b39ad7c"
   },
   "outputs": [
    {
     "data": {
      "text/plain": [
       "(4413, 5)"
      ]
     },
     "execution_count": 14,
     "metadata": {},
     "output_type": "execute_result"
    }
   ],
   "source": [
    "# Divide records into two lists: first babies and others.\n",
    "\n",
    "firstbirth = df[ (df.outcome == 1) & (df.birthOrd == 1)]\n",
    "firstbirth.shape"
   ]
  },
  {
   "cell_type": "code",
   "execution_count": 15,
   "metadata": {
    "colab": {
     "base_uri": "https://localhost:8080/"
    },
    "executionInfo": {
     "elapsed": 235,
     "status": "ok",
     "timestamp": 1633957139827,
     "user": {
      "displayName": "Valero Laparra",
      "photoUrl": "https://lh3.googleusercontent.com/a/default-user=s64",
      "userId": "00355299981903664579"
     },
     "user_tz": -120
    },
    "id": "L6up8b5QbKNs",
    "outputId": "5f35354e-9d6c-4376-a01b-dfefecaf62d3"
   },
   "outputs": [
    {
     "data": {
      "text/plain": [
       "(4735, 5)"
      ]
     },
     "execution_count": 15,
     "metadata": {},
     "output_type": "execute_result"
    }
   ],
   "source": [
    "othersbirth = df[(df.outcome == 1) & (df.birthOrd >= 2)]\n",
    "othersbirth.shape"
   ]
  },
  {
   "cell_type": "markdown",
   "metadata": {
    "id": "_joP2GZzbKNt"
   },
   "source": [
    "### 1.3 Data Cleaning\n",
    "\n",
    "The most common steps are:\n",
    "\n",
    "+ **Sample the data**. If the amount of raw data is huge, processing all of them may require an extensive amount of processing power which may not be practical.  In this case, it is quite common to sample the input data to reduce the size of data that need to be processed.\n",
    "\n",
    "+ **Impute missing data**. It is quite common that some of the input records are incomplete in the sense that certain fields are missing or have input error.  In a typical tabular data format, we need to validate each record contains the same number of fields and each field contains the data type we expect. In case the record has some fields missing, we have the following choices: \n",
    "    +    Discard the whole record if it is incomplete; \n",
    "    +    Infer the missing value based on the data from other records.  A common approach is to fill the missing data with the average, or the median."
   ]
  },
  {
   "cell_type": "markdown",
   "metadata": {
    "id": "Gc54VtvkbKNt"
   },
   "source": [
    "+ **Normalize numeric value**. Normalize data is about transforming numeric data into a uniform range."
   ]
  },
  {
   "cell_type": "markdown",
   "metadata": {
    "id": "Uq1Z4HPcbKNt"
   },
   "source": [
    "+ **Reduce dimensionality**. High dimensionality can be a problem for some machine learning methods.  There are two ways to reduce the number of input features.  One is about $removing$ $irrelevant$ input variables, another one is about $removing$ $redundant$ input variables.\n",
    "+ **Add derived features**. In some cases, we may need to compute additional attributes from existing attributes (f.e. converting a geo-location to a zip code, or converting the age to an age group).\n",
    "+ **Discretize numeric value into categories**. Discretize data is about cutting a continuous value into ranges and assigning the numeric with the corresponding bucket of the range it falls on.  For numeric attribute, a common way to generalize it is to discretize it into ranges, which can be either constant width (variable height/frequency) or variable width (constant height).\n",
    "+ **Binarize categorical attributes**. Certain machine learning models only take binary input (or numeric input).  In this case, we need to convert categorical attribute into multiple binary attributes, while each binary attribute corresponds to a particular value of the category. "
   ]
  },
  {
   "cell_type": "markdown",
   "metadata": {
    "id": "GwzvFg_FbKNt"
   },
   "source": [
    "+ **Select, combine, aggregate data**. Designing the form of training data is the most important part of the whole predictive modeling exercise because the accuracy largely depends on whether the input features are structured in an appropriate form that provide strong signals to the learning algorithm. Rather than using the raw data as it is, it is quite common that multiple pieces of raw data need to be combined together, or aggregating multiple raw data records along some dimensions."
   ]
  },
  {
   "cell_type": "markdown",
   "metadata": {
    "id": "ffjJ8_RMbKNu"
   },
   "source": [
    "\n",
    "## 2 Exploratory Data Analysis.\n"
   ]
  },
  {
   "cell_type": "markdown",
   "metadata": {
    "id": "ps09YX0RbKNu"
   },
   "source": [
    "### 2.1 Summarizing the data: mean, variance, median, quantiles & percentiles\n",
    "#### 2.1.1 Mean \n",
    "\n",
    "If you have a sample of $n$ values, $x_i$, its **mean** is the sum of the values divided by the number of values:\n",
    "\n",
    "$$ \\mu = \\frac{1}{n} \\sum_i x_i$$\n",
    "\n",
    "The **mean** is the most basic and important summary statistic. It describes the central tendency of a sample. "
   ]
  },
  {
   "cell_type": "markdown",
   "metadata": {
    "id": "By0Cv5OPbKNu"
   },
   "source": [
    "Let's see if there is a difference between the pregnancy duration in firstbirth and othersbirth:"
   ]
  },
  {
   "cell_type": "code",
   "execution_count": 28,
   "metadata": {
    "colab": {
     "base_uri": "https://localhost:8080/"
    },
    "executionInfo": {
     "elapsed": 328,
     "status": "ok",
     "timestamp": 1633957147545,
     "user": {
      "displayName": "Valero Laparra",
      "photoUrl": "https://lh3.googleusercontent.com/a/default-user=s64",
      "userId": "00355299981903664579"
     },
     "user_tz": -120
    },
    "id": "z4M6rR-BbKNu",
    "outputId": "eb82c84f-4cd7-4d7a-94f4-3f03dbd32ef3"
   },
   "outputs": [
    {
     "name": "stdout",
     "output_type": "stream",
     "text": [
      "38.60095173351461\n",
      "38.52291446673706\n"
     ]
    }
   ],
   "source": [
    "import numpy as np\n",
    "# EXERCISE: compute the mean for \"firstbirth\" and \"othersbirth\"\n",
    "print(np.mean(firstbirth['prgLength']))\n",
    "print(np.mean(othersbirth['prgLength']))"
   ]
  },
  {
   "cell_type": "code",
   "execution_count": 11,
   "metadata": {
    "colab": {
     "base_uri": "https://localhost:8080/"
    },
    "executionInfo": {
     "elapsed": 24,
     "status": "ok",
     "timestamp": 1633957149108,
     "user": {
      "displayName": "Valero Laparra",
      "photoUrl": "https://lh3.googleusercontent.com/a/default-user=s64",
      "userId": "00355299981903664579"
     },
     "user_tz": -120
    },
    "id": "Gg7rCB9RbKNu",
    "outputId": "1655e239-0fe0-4e15-c16d-a271b5fcde25"
   },
   "outputs": [
    {
     "name": "stdout",
     "output_type": "stream",
     "text": [
      "0.07803726677755259 weeks\n",
      "0.5462608674428681 days\n",
      "13.110260818628834 hours\n"
     ]
    }
   ],
   "source": [
    "# EXERCISE: compute the difference between the mean for \"firstbirth\" and \"othersbirth\" in weeks, days and hours\n",
    "print(str(np.mean(firstbirth['prgLength']-np.mean(othersbirth['prgLength']))) + \" weeks\")\n",
    "print(str(np.mean(firstbirth['prgLength']-np.mean(othersbirth['prgLength']))*7) + \" days\")\n",
    "print(str(np.mean(firstbirth['prgLength']-np.mean(othersbirth['prgLength']))*7*24) + \" hours\")\n"
   ]
  },
  {
   "cell_type": "markdown",
   "metadata": {
    "id": "47-DvYOdbKNv"
   },
   "source": [
    "This difference in sample means can be considered a first evidence of our hypothesis!"
   ]
  },
  {
   "cell_type": "markdown",
   "metadata": {
    "id": "7xSfCUERbKNv"
   },
   "source": [
    "#### 2.1.2 Variance\n",
    "\n",
    "Usually, mean is not a sufficient descriptor of the data, we can do a little better with two numbers: mean and **variance**:\n",
    "\n",
    "$$ \\sigma^2 = \\frac{1}{n} \\sum_i (x_i - \\mu)^2 $$\n",
    "\n",
    "**Variance** $\\sigma^2$ describes the *spread* of data. The term $(x_i - \\mu)$ is called the *deviation from the mean*, so variance is the mean squared deviation.\n",
    "\n",
    "The square root of variance, $\\sigma$, is called the **standard deviation**. We define standard deviation because variance is hard to interpret (in the case the units are grams, the variance is in grams squared).\n"
   ]
  },
  {
   "cell_type": "code",
   "execution_count": 29,
   "metadata": {
    "colab": {
     "base_uri": "https://localhost:8080/"
    },
    "executionInfo": {
     "elapsed": 297,
     "status": "ok",
     "timestamp": 1633957400133,
     "user": {
      "displayName": "Valero Laparra",
      "photoUrl": "https://lh3.googleusercontent.com/a/default-user=s64",
      "userId": "00355299981903664579"
     },
     "user_tz": -120
    },
    "id": "dtLB_saibKNv",
    "outputId": "8ed24129-1d5c-4789-8b7e-706f3688d1e3"
   },
   "outputs": [
    {
     "name": "stdout",
     "output_type": "stream",
     "text": [
      "mu1: 38.60095173351461 var1: 7.794713509229059 std1: 2.7919014146686947\n",
      "mu2: 38.52291446673706 var2: 6.842683519298573 std2: 2.615852350439255\n"
     ]
    }
   ],
   "source": [
    "mu1 = firstbirth['prgLength'].mean()\n",
    "mu2 = othersbirth['prgLength'].mean()\n",
    "var1 = firstbirth['prgLength'].var()\n",
    "var2 = othersbirth['prgLength'].var()\n",
    "std1 = firstbirth['prgLength'].std()\n",
    "std2 = othersbirth['prgLength'].std()\n",
    "print('mu1:', mu1, 'var1:', var1, 'std1:', std1)\n",
    "print('mu2:', mu2, 'var2:', var2, 'std2:', std2)"
   ]
  },
  {
   "cell_type": "markdown",
   "metadata": {
    "id": "zeK_BupRbKNw"
   },
   "source": [
    "#### 2.1.3 Sample Median\n",
    "\n",
    "The statistical median is an order statistic that gives the *middle* value of a sample. It is a value more robust to ouliers."
   ]
  },
  {
   "cell_type": "code",
   "execution_count": 13,
   "metadata": {
    "colab": {
     "base_uri": "https://localhost:8080/"
    },
    "executionInfo": {
     "elapsed": 19,
     "status": "ok",
     "timestamp": 1633957400516,
     "user": {
      "displayName": "Valero Laparra",
      "photoUrl": "https://lh3.googleusercontent.com/a/default-user=s64",
      "userId": "00355299981903664579"
     },
     "user_tz": -120
    },
    "id": "55l51uCkbKNw",
    "outputId": "9f9d75c8-c700-435d-b0e8-2d2d7a2fb8c1"
   },
   "outputs": [
    {
     "name": "stdout",
     "output_type": "stream",
     "text": [
      "39.0 39.0\n"
     ]
    }
   ],
   "source": [
    "# EXERCISE: Compute the median for \"firstbirth\" and \"othersbirth\"\n",
    "median1= firstbirth['prgLength'].median()\n",
    "median2= othersbirth['prgLength'].median()\n",
    "print(median1, median2)"
   ]
  },
  {
   "cell_type": "markdown",
   "metadata": {
    "id": "PdTd3x3wbKNw"
   },
   "source": [
    "#### 2.1.4 Quantiles & Percentiles\n",
    "\n",
    "Order the sample $\\{ x_i \\}$, then find $x_p$ so that it divides the data into two parts where:\n",
    "\n",
    "+ a fraction $p$ of the data values are less than or equal to $x_p$ and\n",
    "+ the remaining fraction $(1 − p)$ are greater than $x_p$.\n",
    "\n",
    "That value $x_p$ is the pth-quantile, or 100×pth percentile.\n",
    "\n",
    "**5-number summary**: $x_{min}, Q_1, Q_2, Q_3, x_{max}$, where $Q_1$ is the 25×pth percentile,\n",
    "$Q_2$ is the 50×pth percentile and $Q_3$ is the 75×pth percentile."
   ]
  },
  {
   "cell_type": "code",
   "execution_count": 14,
   "metadata": {
    "colab": {
     "base_uri": "https://localhost:8080/",
     "height": 334
    },
    "executionInfo": {
     "elapsed": 37,
     "status": "ok",
     "timestamp": 1633957403460,
     "user": {
      "displayName": "Valero Laparra",
      "photoUrl": "https://lh3.googleusercontent.com/a/default-user=s64",
      "userId": "00355299981903664579"
     },
     "user_tz": -120
    },
    "id": "Q4mPVXY7bKNw",
    "outputId": "e41a5a1a-e8aa-433b-c14a-4da594d531cb"
   },
   "outputs": [
    {
     "data": {
      "image/png": "[encoded data removed]",
      "text/plain": [
       "<Figure size 432x288 with 1 Axes>"
      ]
     },
     "metadata": {
      "needs_background": "light"
     },
     "output_type": "display_data"
    }
   ],
   "source": [
    "# Let's illustrate the percentiles with a boxplot\n",
    "data = [firstbirth['prgLength'], othersbirth['prgLength']]\n",
    "labels = ['first', 'others']\n",
    "fig, ax = plt.subplots()\n",
    "ax.set_title('Comparing pregnancy lenghts')\n",
    "ax.boxplot(data,labels=labels)\n",
    "ax.set_ylim(30,50)\n",
    "ax.yaxis.grid(True)\n",
    "plt.show()"
   ]
  },
  {
   "cell_type": "markdown",
   "metadata": {
    "id": "sEpdtEuTbKNx"
   },
   "source": [
    "We can numerically calculate Q1,Q2 and Q3 easily: "
   ]
  },
  {
   "cell_type": "code",
   "execution_count": null,
   "metadata": {
    "colab": {
     "base_uri": "https://localhost:8080/"
    },
    "executionInfo": {
     "elapsed": 510,
     "status": "ok",
     "timestamp": 1633957403951,
     "user": {
      "displayName": "Valero Laparra",
      "photoUrl": "https://lh3.googleusercontent.com/a/default-user=s64",
      "userId": "00355299981903664579"
     },
     "user_tz": -120
    },
    "id": "3a2_84KlbKNx",
    "outputId": "488aa923-9920-4f79-86cd-95d75df9469d"
   },
   "outputs": [
    {
     "data": {
      "text/plain": [
       "39.0"
      ]
     },
     "execution_count": 18,
     "metadata": {},
     "output_type": "execute_result"
    }
   ],
   "source": [
    "othersbirth['prgLength'].quantile(0.25)"
   ]
  },
  {
   "cell_type": "markdown",
   "metadata": {
    "id": "54744anZbKNx"
   },
   "source": [
    "### 2.2 Histogram"
   ]
  },
  {
   "cell_type": "markdown",
   "metadata": {
    "id": "OhQKS7LubKNx"
   },
   "source": [
    "The most common representation of a distribution is a **histogram**, which is a graph that shows the frequency of each value."
   ]
  },
  {
   "cell_type": "code",
   "execution_count": 34,
   "metadata": {
    "colab": {
     "base_uri": "https://localhost:8080/",
     "height": 282
    },
    "executionInfo": {
     "elapsed": 642,
     "status": "ok",
     "timestamp": 1633957409029,
     "user": {
      "displayName": "Valero Laparra",
      "photoUrl": "https://lh3.googleusercontent.com/a/default-user=s64",
      "userId": "00355299981903664579"
     },
     "user_tz": -120
    },
    "id": "pSNCgxXFbKNy",
    "outputId": "dcec45a3-092c-475e-f71a-2176d205ea1c"
   },
   "outputs": [
    {
     "data": {
      "text/plain": [
       "<AxesSubplot:>"
      ]
     },
     "execution_count": 34,
     "metadata": {},
     "output_type": "execute_result"
    },
    {
     "data": {
      "image/png": "[encoded data removed]",
      "text/plain": [
       "<Figure size 432x288 with 1 Axes>"
      ]
     },
     "metadata": {
      "needs_background": "light"
     },
     "output_type": "display_data"
    }
   ],
   "source": [
    "fb=firstbirth['prgLength']\n",
    "\n",
    "fb.hist(density=0, histtype='stepfilled', bins=30) #no normalized, just counts"
   ]
  },
  {
   "cell_type": "code",
   "execution_count": 35,
   "metadata": {
    "colab": {
     "base_uri": "https://localhost:8080/",
     "height": 282
    },
    "executionInfo": {
     "elapsed": 34,
     "status": "ok",
     "timestamp": 1633957409442,
     "user": {
      "displayName": "Valero Laparra",
      "photoUrl": "https://lh3.googleusercontent.com/a/default-user=s64",
      "userId": "00355299981903664579"
     },
     "user_tz": -120
    },
    "id": "SQ46pNkcbKNy",
    "outputId": "36696d0b-f4b7-417f-e632-d14ed70c1321"
   },
   "outputs": [
    {
     "data": {
      "text/plain": [
       "<AxesSubplot:>"
      ]
     },
     "execution_count": 35,
     "metadata": {},
     "output_type": "execute_result"
    },
    {
     "data": {
      "image/png": "[encoded data removed]",
      "text/plain": [
       "<Figure size 432x288 with 1 Axes>"
      ]
     },
     "metadata": {
      "needs_background": "light"
     },
     "output_type": "display_data"
    }
   ],
   "source": [
    "        \n",
    "ob=othersbirth['prgLength']\n",
    "ob.hist(density=0, histtype='stepfilled', bins=30)"
   ]
  },
  {
   "cell_type": "markdown",
   "metadata": {
    "id": "DUWWvS-2bKNy"
   },
   "source": [
    "By setting the density parameter of the histogram to 1, we end up with a normalized histogram where the height of the bins does not reflect counts, but instead reflects probability density:"
   ]
  },
  {
   "cell_type": "code",
   "execution_count": 36,
   "metadata": {
    "colab": {
     "base_uri": "https://localhost:8080/",
     "height": 282
    },
    "executionInfo": {
     "elapsed": 1522,
     "status": "ok",
     "timestamp": 1633957417941,
     "user": {
      "displayName": "Valero Laparra",
      "photoUrl": "https://lh3.googleusercontent.com/a/default-user=s64",
      "userId": "00355299981903664579"
     },
     "user_tz": -120
    },
    "id": "LLuWcB41bKNy",
    "outputId": "51450c6b-21d7-4a86-9f0b-f184ea3b6f3d"
   },
   "outputs": [
    {
     "data": {
      "text/plain": [
       "<matplotlib.legend.Legend at 0x20386e3cb20>"
      ]
     },
     "execution_count": 36,
     "metadata": {},
     "output_type": "execute_result"
    },
    {
     "data": {
      "image/png": "[encoded data removed]",
      "text/plain": [
       "<Figure size 432x288 with 1 Axes>"
      ]
     },
     "metadata": {
      "needs_background": "light"
     },
     "output_type": "display_data"
    }
   ],
   "source": [
    "import seaborn as sns \n",
    "#high-level interface for drawing attractive and informative statistical graphics.\n",
    "\n",
    "fig, ax = plt.subplots()\n",
    "fb.hist(bins =31, density=1, histtype='stepfilled', alpha=.5)   # normalized histogram, use default number of bins = 10\n",
    "ob.hist(bins =31, density=1, histtype='stepfilled', alpha=.5, color=sns.desaturate(\"indianred\", .75))\n",
    "ax.legend(['first','others'],loc='upper left')\n"
   ]
  },
  {
   "cell_type": "code",
   "execution_count": 37,
   "metadata": {},
   "outputs": [],
   "source": [
    "#empezamos a ver diferencias, al subir el numero de bins, vemos mejor\n",
    "#sin embargo como está por semanas no podemos afinar mucho más\n",
    "#a ojo la distribución vemos que no es simétrica"
   ]
  },
  {
   "cell_type": "markdown",
   "metadata": {
    "id": "RnBEVd3wbKNz"
   },
   "source": [
    "**Skewness** is usually described as a measure of a dataset’s symmetry – or lack of symmetry.   A perfectly symmetrical data set will have a skewness of 0.   The normal distribution has a skewness of 0. As a rule of thumb:\n",
    "\n",
    "* If  -0.5 < skewness < 0.5 , the data are fairly symmetrical\n",
    "* If  -1 < skewness < – 0.5 or 0.5 < skewness < 1, the data are moderately skewed\n",
    "* If skewness < -1 or skewness > 1, the data are highly skewed\n"
   ]
  },
  {
   "cell_type": "code",
   "execution_count": 41,
   "metadata": {
    "colab": {
     "base_uri": "https://localhost:8080/"
    },
    "executionInfo": {
     "elapsed": 508,
     "status": "ok",
     "timestamp": 1633957423414,
     "user": {
      "displayName": "Valero Laparra",
      "photoUrl": "https://lh3.googleusercontent.com/a/default-user=s64",
      "userId": "00355299981903664579"
     },
     "user_tz": -120
    },
    "id": "vkqUFenWbKNz",
    "outputId": "07346819-603d-4f2b-c54b-97bbba90f53b"
   },
   "outputs": [
    {
     "name": "stdout",
     "output_type": "stream",
     "text": [
      "0.0\n",
      "2.171759931392171\n"
     ]
    }
   ],
   "source": [
    "from scipy.stats import skew\n",
    "print(skew([1, 2, 3, 4, 5]))\n",
    "print(skew([2, 8, 0, 4, 1, 9, 69, 0]))"
   ]
  },
  {
   "cell_type": "markdown",
   "metadata": {
    "id": "O_ysPw7LbKN0"
   },
   "source": [
    "**Kurtosis** defines how heavily the tails of a distribution differ from the tails of a normal distribution. In other words, kurtosis identifies whether the tails of a given distribution contain extreme values. The normal distribution has a Kurtosis of 3 and a Kurtosis (Fisher or \"excess kurtosis\") of 0. \n",
    "\n",
    "Example: In finance, kurtosis is used as a measure of financial risk. A large kurtosis is associated with a high level of risk for an investment because it indicates that there are high probabilities of extremely large and extremely small returns. On the other hand, a small kurtosis signals a moderate level of risk because the probabilities of extreme returns are relatively low."
   ]
  },
  {
   "cell_type": "code",
   "execution_count": 18,
   "metadata": {
    "colab": {
     "base_uri": "https://localhost:8080/",
     "height": 265
    },
    "executionInfo": {
     "elapsed": 371,
     "status": "ok",
     "timestamp": 1633957437091,
     "user": {
      "displayName": "Valero Laparra",
      "photoUrl": "https://lh3.googleusercontent.com/a/default-user=s64",
      "userId": "00355299981903664579"
     },
     "user_tz": -120
    },
    "id": "nh4bAkNqbKN0",
    "outputId": "e3159651-de41-40b3-90cc-c345f2e04907"
   },
   "outputs": [
    {
     "data": {
      "image/png": "[encoded data removed]",
      "text/plain": [
       "<Figure size 432x288 with 1 Axes>"
      ]
     },
     "metadata": {
      "needs_background": "light"
     },
     "output_type": "display_data"
    }
   ],
   "source": [
    "from scipy.stats import kurtosis\n",
    "import numpy as np\n",
    "\n",
    "x=np.linspace(-5,5,100)\n",
    "ax = plt.subplot()\n",
    "distnames = ['laplace','norm','uniform']\n",
    "\n",
    "for distname in distnames:\n",
    "    if distname == 'uniform':\n",
    "        dist = getattr(stats,distname)(loc=-1,scale=2)#uniform distribution on [loc, loc + scale].\n",
    "    else:\n",
    "        dist = getattr(stats,distname)\n",
    "    data = dist.rvs(size=1000)\n",
    "    kur = kurtosis(data, fisher=True)\n",
    "    y = dist.pdf(x)\n",
    "    ax.plot(x,y,label=\"{}, {}\".format(distname,round(kur,3)))\n",
    "    ax.legend()"
   ]
  },
  {
   "cell_type": "code",
   "execution_count": 19,
   "metadata": {
    "colab": {
     "base_uri": "https://localhost:8080/"
    },
    "executionInfo": {
     "elapsed": 26,
     "status": "ok",
     "timestamp": 1633957418277,
     "user": {
      "displayName": "Valero Laparra",
      "photoUrl": "https://lh3.googleusercontent.com/a/default-user=s64",
      "userId": "00355299981903664579"
     },
     "user_tz": -120
    },
    "id": "-No39vBwbKNy",
    "outputId": "64af8cd0-ccdb-41d5-998a-83766416b395"
   },
   "outputs": [
    {
     "data": {
      "text/plain": [
       "DescribeResult(nobs=4735, minmax=(4, 50), mean=38.52291446673706, variance=6.842683519298484, skewness=-3.1536063733026825, kurtosis=20.77720107598575)"
      ]
     },
     "execution_count": 19,
     "metadata": {},
     "output_type": "execute_result"
    }
   ],
   "source": [
    "import scipy.stats as stats\n",
    "\n",
    "# Computes several descriptive statistics:\n",
    "# size of the data \n",
    "# minimum and maximum value of data array\n",
    "# arithmetic mean \n",
    "# unbiased variance \n",
    "# biased skewness \n",
    "# kurtosis (Fisher)\n",
    "\n",
    "stats.describe(othersbirth['prgLength'].values)"
   ]
  },
  {
   "cell_type": "code",
   "execution_count": 35,
   "metadata": {
    "colab": {
     "base_uri": "https://localhost:8080/"
    },
    "executionInfo": {
     "elapsed": 23,
     "status": "ok",
     "timestamp": 1633957419762,
     "user": {
      "displayName": "Valero Laparra",
      "photoUrl": "https://lh3.googleusercontent.com/a/default-user=s64",
      "userId": "00355299981903664579"
     },
     "user_tz": -120
    },
    "id": "sYhz6TNcbKNz",
    "outputId": "76494b03-8381-43a6-e198-5fe073af1475"
   },
   "outputs": [
    {
     "data": {
      "text/plain": [
       "DescribeResult(nobs=4413, minmax=(0, 48), mean=38.60095173351461, variance=7.794713509229203, skewness=-2.5904758400585424, kurtosis=15.132902638550163)"
      ]
     },
     "execution_count": 35,
     "metadata": {},
     "output_type": "execute_result"
    }
   ],
   "source": [
    "stats.describe(firstbirth['prgLength'].values)"
   ]
  },
  {
   "cell_type": "code",
   "execution_count": 44,
   "metadata": {},
   "outputs": [
    {
     "data": {
      "text/plain": [
       "DescribeResult(nobs=4735, minmax=(4, 50), mean=38.52291446673706, variance=6.842683519298484, skewness=-3.1536063733026825, kurtosis=20.77720107598575)"
      ]
     },
     "execution_count": 44,
     "metadata": {},
     "output_type": "execute_result"
    }
   ],
   "source": [
    "stats.describe(othersbirth['prgLength'].values)"
   ]
  },
  {
   "cell_type": "code",
   "execution_count": 20,
   "metadata": {},
   "outputs": [
    {
     "data": {
      "text/plain": [
       "count    4735.000000\n",
       "mean       38.522914\n",
       "std         2.615852\n",
       "min         4.000000\n",
       "25%        39.000000\n",
       "50%        39.000000\n",
       "75%        39.000000\n",
       "max        50.000000\n",
       "Name: prgLength, dtype: float64"
      ]
     },
     "execution_count": 20,
     "metadata": {},
     "output_type": "execute_result"
    }
   ],
   "source": [
    "othersbirth['prgLength'].describe()"
   ]
  },
  {
   "cell_type": "code",
   "execution_count": 45,
   "metadata": {},
   "outputs": [],
   "source": [
    "#que el mínimo sea 4 no tiene sentido\n",
    "#seria un outlier"
   ]
  },
  {
   "cell_type": "code",
   "execution_count": null,
   "metadata": {
    "id": "xW-mnAD_DAmQ"
   },
   "outputs": [],
   "source": [
    "# EXERCISE: What can we say from our data given these values?"
   ]
  },
  {
   "cell_type": "markdown",
   "metadata": {
    "id": "h1ahkBnEbKN0"
   },
   "source": [
    "## 2.3 Data Distributions\n",
    "\n",
    "Summarizing can be dangerous: very different data can be described by the same statistics. It must be validated by inspecting the data.\n",
    "\n",
    "We can look at the **data distribution**, which describes how often (frequency) each value appears.\n",
    "\n",
    "\n",
    "We can normalize the frequencies of the histogram by dividing/normalizing by $n$, the number of samples. The normalized histogram is called **Probability Mass Function (PMF)**.\n",
    "\n",
    "The PMF is the probability distribution function (PDF) of a discrete random variable."
   ]
  },
  {
   "cell_type": "code",
   "execution_count": 48,
   "metadata": {
    "colab": {
     "base_uri": "https://localhost:8080/",
     "height": 282
    },
    "executionInfo": {
     "elapsed": 664,
     "status": "ok",
     "timestamp": 1633957439723,
     "user": {
      "displayName": "Valero Laparra",
      "photoUrl": "https://lh3.googleusercontent.com/a/default-user=s64",
      "userId": "00355299981903664579"
     },
     "user_tz": -120
    },
    "id": "cXgp1c3GbKN1",
    "outputId": "2e1ed09a-0ac4-4575-a4cc-6a5cbea6ed03"
   },
   "outputs": [
    {
     "data": {
      "text/plain": [
       "<AxesSubplot:>"
      ]
     },
     "execution_count": 48,
     "metadata": {},
     "output_type": "execute_result"
    },
    {
     "data": {
      "image/png": "[encoded data removed]",
      "text/plain": [
       "<Figure size 432x288 with 1 Axes>"
      ]
     },
     "metadata": {
      "needs_background": "light"
     },
     "output_type": "display_data"
    }
   ],
   "source": [
    "# if needed, execute the command 'pip install seaborn'\n",
    "\n",
    "import seaborn as sns\n",
    "\n",
    "fb.hist(density=1, histtype='stepfilled') # density = 1 for normalized histogram\n",
    "#steofillet, de escalon relleno\n"
   ]
  },
  {
   "cell_type": "code",
   "execution_count": 49,
   "metadata": {
    "colab": {
     "base_uri": "https://localhost:8080/",
     "height": 282
    },
    "executionInfo": {
     "elapsed": 419,
     "status": "ok",
     "timestamp": 1633957445640,
     "user": {
      "displayName": "Valero Laparra",
      "photoUrl": "https://lh3.googleusercontent.com/a/default-user=s64",
      "userId": "00355299981903664579"
     },
     "user_tz": -120
    },
    "id": "uRdwvbK5bKN1",
    "outputId": "774ebde7-5656-4188-8350-708f7d51e190"
   },
   "outputs": [
    {
     "data": {
      "text/plain": [
       "<AxesSubplot:>"
      ]
     },
     "execution_count": 49,
     "metadata": {},
     "output_type": "execute_result"
    },
    {
     "data": {
      "image/png": "[encoded data removed]",
      "text/plain": [
       "<Figure size 432x288 with 1 Axes>"
      ]
     },
     "metadata": {
      "needs_background": "light"
     },
     "output_type": "display_data"
    }
   ],
   "source": [
    "ob.hist(density=1, histtype='stepfilled')"
   ]
  },
  {
   "cell_type": "markdown",
   "metadata": {
    "id": "xZaM9336bKN1"
   },
   "source": [
    "The **cumulative distribution function (CDF)**, or $F_X(x)$, is defined as the probability that a real-valued random variable $X$ with a given probability distribution will be found to have a value less than or equal to $x$: \n",
    "\n",
    "$$F_X(x)=P(X≤x)$$"
   ]
  },
  {
   "cell_type": "markdown",
   "metadata": {
    "id": "V4s4jDNsbKN2"
   },
   "source": [
    "Now, let's have a look at the CDF of our two groups of data (firstborn & othersborn):"
   ]
  },
  {
   "cell_type": "code",
   "execution_count": 50,
   "metadata": {
    "colab": {
     "base_uri": "https://localhost:8080/",
     "height": 282
    },
    "executionInfo": {
     "elapsed": 345,
     "status": "ok",
     "timestamp": 1633957458287,
     "user": {
      "displayName": "Valero Laparra",
      "photoUrl": "https://lh3.googleusercontent.com/a/default-user=s64",
      "userId": "00355299981903664579"
     },
     "user_tz": -120
    },
    "id": "P9T9bqWWbKN2",
    "outputId": "daab7c2e-c7b7-4098-cc6b-0595f06651d8"
   },
   "outputs": [
    {
     "data": {
      "text/plain": [
       "<AxesSubplot:>"
      ]
     },
     "execution_count": 50,
     "metadata": {},
     "output_type": "execute_result"
    },
    {
     "data": {
      "image/png": "[encoded data removed]",
      "text/plain": [
       "<Figure size 432x288 with 1 Axes>"
      ]
     },
     "metadata": {
      "needs_background": "light"
     },
     "output_type": "display_data"
    }
   ],
   "source": [
    "fb.hist(density=1, histtype='step', cumulative=True, linewidth=3.5)\n",
    "#step= de escalon sin relleno\n",
    "#cumulative, es la \"integral\", cantidad de probabiliadad, \n",
    "#al final llega a 1"
   ]
  },
  {
   "cell_type": "code",
   "execution_count": 39,
   "metadata": {
    "colab": {
     "base_uri": "https://localhost:8080/",
     "height": 282
    },
    "executionInfo": {
     "elapsed": 259,
     "status": "ok",
     "timestamp": 1633957460227,
     "user": {
      "displayName": "Valero Laparra",
      "photoUrl": "https://lh3.googleusercontent.com/a/default-user=s64",
      "userId": "00355299981903664579"
     },
     "user_tz": -120
    },
    "id": "ZopK9Ez2bKN2",
    "outputId": "e42c626c-13e8-43c4-cb34-35cdbdac0610"
   },
   "outputs": [
    {
     "data": {
      "text/plain": [
       "<matplotlib.axes._subplots.AxesSubplot at 0x7f4db36e3e50>"
      ]
     },
     "execution_count": 39,
     "metadata": {},
     "output_type": "execute_result"
    },
    {
     "data": {
      "image/png": "[encoded data removed]",
      "text/plain": [
       "<Figure size 432x288 with 1 Axes>"
      ]
     },
     "metadata": {
      "needs_background": "light"
     },
     "output_type": "display_data"
    }
   ],
   "source": [
    "ob.hist(density=1, histtype='step', cumulative=True, linewidth=3.5)"
   ]
  },
  {
   "cell_type": "code",
   "execution_count": 40,
   "metadata": {
    "colab": {
     "base_uri": "https://localhost:8080/",
     "height": 282
    },
    "executionInfo": {
     "elapsed": 270,
     "status": "ok",
     "timestamp": 1633957462180,
     "user": {
      "displayName": "Valero Laparra",
      "photoUrl": "https://lh3.googleusercontent.com/a/default-user=s64",
      "userId": "00355299981903664579"
     },
     "user_tz": -120
    },
    "id": "u1eE2l82bKN2",
    "outputId": "ba09798d-2440-406f-8d00-97d47b970460"
   },
   "outputs": [
    {
     "data": {
      "text/plain": [
       "<matplotlib.legend.Legend at 0x7f4db36c3250>"
      ]
     },
     "execution_count": 40,
     "metadata": {},
     "output_type": "execute_result"
    },
    {
     "data": {
      "image/png": "[encoded data removed]",
      "text/plain": [
       "<Figure size 432x288 with 1 Axes>"
      ]
     },
     "metadata": {
      "needs_background": "light"
     },
     "output_type": "display_data"
    }
   ],
   "source": [
    "fig, ax = plt.subplots()\n",
    "fb.hist(bins=10, density=1, histtype='stepfilled', alpha=.5) #default number of bins is 10  \n",
    "ob.hist(bins=10, density=1, histtype='stepfilled', alpha=.5, color=sns.desaturate(\"indianred\", .75))\n",
    "ax.legend(['first','others'],loc='upper left')\n",
    "\n",
    "# Check with 20, 30, 60 bins."
   ]
  },
  {
   "cell_type": "code",
   "execution_count": 41,
   "metadata": {
    "colab": {
     "base_uri": "https://localhost:8080/",
     "height": 282
    },
    "executionInfo": {
     "elapsed": 641,
     "status": "ok",
     "timestamp": 1633957485146,
     "user": {
      "displayName": "Valero Laparra",
      "photoUrl": "https://lh3.googleusercontent.com/a/default-user=s64",
      "userId": "00355299981903664579"
     },
     "user_tz": -120
    },
    "id": "5gijeSscbKN3",
    "outputId": "8346b482-54d2-447b-dec5-def69a0d28e2"
   },
   "outputs": [
    {
     "data": {
      "text/plain": [
       "<matplotlib.legend.Legend at 0x7f4db35fb5d0>"
      ]
     },
     "execution_count": 41,
     "metadata": {},
     "output_type": "execute_result"
    },
    {
     "data": {
      "image/png": "[encoded data removed]",
      "text/plain": [
       "<Figure size 432x288 with 1 Axes>"
      ]
     },
     "metadata": {
      "needs_background": "light"
     },
     "output_type": "display_data"
    }
   ],
   "source": [
    "fig, ax = plt.subplots()\n",
    "fb.hist(density=1, histtype='step', cumulative=True,  linewidth=3.5, bins=30)\n",
    "ob.hist(density=1, histtype='step', cumulative=True,  linewidth=3.5, bins=30, color=sns.desaturate(\"indianred\", .75))\n",
    "ax.legend(['first','others'],loc='upper left')\n",
    "\n",
    "# Check with 10, 60 bins."
   ]
  },
  {
   "cell_type": "code",
   "execution_count": null,
   "metadata": {},
   "outputs": [],
   "source": [
    "#la de otros sube antes que la de primeros, \n",
    "#seguimos dudando"
   ]
  },
  {
   "cell_type": "code",
   "execution_count": 42,
   "metadata": {
    "colab": {
     "base_uri": "https://localhost:8080/"
    },
    "executionInfo": {
     "elapsed": 390,
     "status": "ok",
     "timestamp": 1633957487110,
     "user": {
      "displayName": "Valero Laparra",
      "photoUrl": "https://lh3.googleusercontent.com/a/default-user=s64",
      "userId": "00355299981903664579"
     },
     "user_tz": -120
    },
    "id": "xchI2in0bKN3",
    "outputId": "e561d8ae-89a8-4942-ebbb-7643d6834592"
   },
   "outputs": [
    {
     "name": "stdout",
     "output_type": "stream",
     "text": [
      "The mean sample difference is  0.07803726677754952 weeks.\n"
     ]
    }
   ],
   "source": [
    "print(\"The mean sample difference is \", fb.mean() - ob.mean(), \"weeks.\")"
   ]
  },
  {
   "cell_type": "markdown",
   "metadata": {
    "id": "e0qpGD6KbKN3"
   },
   "source": [
    "## 2.4 Outliers\n",
    "\n",
    "**Ouliers** are data samples with a value that is far from the central tendency.\n",
    "\n",
    "We can find outliers by:\n",
    "\n",
    "+ Computing samples that are *far* from the median.\n",
    "+ Computing samples whose value *exceeds the mean* by 2 or 3 standard deviations.\n",
    "\n",
    "This expression will return a series of boolean values that you can then index the series by:"
   ]
  },
  {
   "cell_type": "code",
   "execution_count": null,
   "metadata": {
    "colab": {
     "base_uri": "https://localhost:8080/"
    },
    "executionInfo": {
     "elapsed": 439,
     "status": "ok",
     "timestamp": 1633957494603,
     "user": {
      "displayName": "Valero Laparra",
      "photoUrl": "https://lh3.googleusercontent.com/a/default-user=s64",
      "userId": "00355299981903664579"
     },
     "user_tz": -120
    },
    "id": "NaNZXRhJbKN3",
    "outputId": "f0187b4a-88bb-4335-e1a9-2821f38ee9ee"
   },
   "outputs": [
    {
     "data": {
      "text/plain": [
       "0        False\n",
       "1        False\n",
       "2        False\n",
       "3        False\n",
       "4        False\n",
       "         ...  \n",
       "13588    False\n",
       "13589    False\n",
       "13590    False\n",
       "13591    False\n",
       "13592    False\n",
       "Length: 13593, dtype: bool"
      ]
     },
     "execution_count": 35,
     "metadata": {},
     "output_type": "execute_result"
    }
   ],
   "source": [
    "# EXERCISE: Find the data that is 10 weeks smaller than the median\n",
    "datos_prematuros = "
   ]
  },
  {
   "cell_type": "code",
   "execution_count": null,
   "metadata": {
    "colab": {
     "base_uri": "https://localhost:8080/"
    },
    "executionInfo": {
     "elapsed": 25,
     "status": "ok",
     "timestamp": 1633957497828,
     "user": {
      "displayName": "Valero Laparra",
      "photoUrl": "https://lh3.googleusercontent.com/a/default-user=s64",
      "userId": "00355299981903664579"
     },
     "user_tz": -120
    },
    "id": "FCKL8cmAbKN4",
    "outputId": "8a97b2b2-14d0-4a7f-9bb0-7c317befa750"
   },
   "outputs": [
    {
     "data": {
      "text/plain": [
       "39.0"
      ]
     },
     "execution_count": 36,
     "metadata": {},
     "output_type": "execute_result"
    }
   ],
   "source": [
    "df['prgLength'].median()"
   ]
  },
  {
   "cell_type": "code",
   "execution_count": 19,
   "metadata": {},
   "outputs": [],
   "source": [
    "df2 = df[(df.outcome == 1)]"
   ]
  },
  {
   "cell_type": "code",
   "execution_count": 57,
   "metadata": {},
   "outputs": [
    {
     "data": {
      "text/plain": [
       "30.0"
      ]
     },
     "execution_count": 57,
     "metadata": {},
     "output_type": "execute_result"
    }
   ],
   "source": [
    "df2['prgLength'].quantile(0.025)"
   ]
  },
  {
   "cell_type": "code",
   "execution_count": 73,
   "metadata": {},
   "outputs": [
    {
     "data": {
      "text/plain": [
       "42.0"
      ]
     },
     "execution_count": 73,
     "metadata": {},
     "output_type": "execute_result"
    }
   ],
   "source": [
    "df2['prgLength'].quantile(0.975)"
   ]
  },
  {
   "cell_type": "code",
   "execution_count": 59,
   "metadata": {},
   "outputs": [
    {
     "data": {
      "text/plain": [
       "2.702343810070587"
      ]
     },
     "execution_count": 59,
     "metadata": {},
     "output_type": "execute_result"
    }
   ],
   "source": [
    "df2['prgLength'].std()"
   ]
  },
  {
   "cell_type": "code",
   "execution_count": 51,
   "metadata": {},
   "outputs": [],
   "source": [
    "df3 = df[df['prgLength'] < df['prgLength'].median() - 10]"
   ]
  },
  {
   "cell_type": "code",
   "execution_count": 54,
   "metadata": {},
   "outputs": [
    {
     "data": {
      "text/html": [
       "<div>\n",
       "<style scoped>\n",
       "    .dataframe tbody tr th:only-of-type {\n",
       "        vertical-align: middle;\n",
       "    }\n",
       "\n",
       "    .dataframe tbody tr th {\n",
       "        vertical-align: top;\n",
       "    }\n",
       "\n",
       "    .dataframe thead th {\n",
       "        text-align: right;\n",
       "    }\n",
       "</style>\n",
       "<table border=\"1\" class=\"dataframe\">\n",
       "  <thead>\n",
       "    <tr style=\"text-align: right;\">\n",
       "      <th></th>\n",
       "      <th>caseId</th>\n",
       "      <th>prgLength</th>\n",
       "      <th>outcome</th>\n",
       "      <th>birthOrd</th>\n",
       "      <th>finalWgt</th>\n",
       "    </tr>\n",
       "  </thead>\n",
       "  <tbody>\n",
       "    <tr>\n",
       "      <th>138</th>\n",
       "      <td>150</td>\n",
       "      <td>9</td>\n",
       "      <td>1</td>\n",
       "      <td>6</td>\n",
       "      <td>6416.070865</td>\n",
       "    </tr>\n",
       "    <tr>\n",
       "      <th>157</th>\n",
       "      <td>172</td>\n",
       "      <td>24</td>\n",
       "      <td>1</td>\n",
       "      <td>1</td>\n",
       "      <td>2791.696869</td>\n",
       "    </tr>\n",
       "    <tr>\n",
       "      <th>237</th>\n",
       "      <td>253</td>\n",
       "      <td>28</td>\n",
       "      <td>1</td>\n",
       "      <td>1</td>\n",
       "      <td>15882.012823</td>\n",
       "    </tr>\n",
       "    <tr>\n",
       "      <th>541</th>\n",
       "      <td>515</td>\n",
       "      <td>18</td>\n",
       "      <td>1</td>\n",
       "      <td>2</td>\n",
       "      <td>2759.633732</td>\n",
       "    </tr>\n",
       "    <tr>\n",
       "      <th>628</th>\n",
       "      <td>587</td>\n",
       "      <td>24</td>\n",
       "      <td>1</td>\n",
       "      <td>1</td>\n",
       "      <td>8176.922132</td>\n",
       "    </tr>\n",
       "    <tr>\n",
       "      <th>...</th>\n",
       "      <td>...</td>\n",
       "      <td>...</td>\n",
       "      <td>...</td>\n",
       "      <td>...</td>\n",
       "      <td>...</td>\n",
       "    </tr>\n",
       "    <tr>\n",
       "      <th>12717</th>\n",
       "      <td>11737</td>\n",
       "      <td>28</td>\n",
       "      <td>1</td>\n",
       "      <td>1</td>\n",
       "      <td>10700.990760</td>\n",
       "    </tr>\n",
       "    <tr>\n",
       "      <th>12938</th>\n",
       "      <td>11935</td>\n",
       "      <td>28</td>\n",
       "      <td>1</td>\n",
       "      <td>1</td>\n",
       "      <td>5567.512780</td>\n",
       "    </tr>\n",
       "    <tr>\n",
       "      <th>13093</th>\n",
       "      <td>12078</td>\n",
       "      <td>26</td>\n",
       "      <td>1</td>\n",
       "      <td>3</td>\n",
       "      <td>10118.197375</td>\n",
       "    </tr>\n",
       "    <tr>\n",
       "      <th>13173</th>\n",
       "      <td>12145</td>\n",
       "      <td>22</td>\n",
       "      <td>1</td>\n",
       "      <td>1</td>\n",
       "      <td>9581.965243</td>\n",
       "    </tr>\n",
       "    <tr>\n",
       "      <th>13309</th>\n",
       "      <td>12271</td>\n",
       "      <td>21</td>\n",
       "      <td>1</td>\n",
       "      <td>3</td>\n",
       "      <td>4758.734858</td>\n",
       "    </tr>\n",
       "  </tbody>\n",
       "</table>\n",
       "<p>105 rows × 5 columns</p>\n",
       "</div>"
      ],
      "text/plain": [
       "       caseId  prgLength  outcome  birthOrd      finalWgt\n",
       "138       150          9        1         6   6416.070865\n",
       "157       172         24        1         1   2791.696869\n",
       "237       253         28        1         1  15882.012823\n",
       "541       515         18        1         2   2759.633732\n",
       "628       587         24        1         1   8176.922132\n",
       "...       ...        ...      ...       ...           ...\n",
       "12717   11737         28        1         1  10700.990760\n",
       "12938   11935         28        1         1   5567.512780\n",
       "13093   12078         26        1         3  10118.197375\n",
       "13173   12145         22        1         1   9581.965243\n",
       "13309   12271         21        1         3   4758.734858\n",
       "\n",
       "[105 rows x 5 columns]"
      ]
     },
     "execution_count": 54,
     "metadata": {},
     "output_type": "execute_result"
    }
   ],
   "source": [
    "df[(df.outcome == 1) & (df['prgLength'] < (df['prgLength'].median() - 10))]"
   ]
  },
  {
   "cell_type": "code",
   "execution_count": 57,
   "metadata": {},
   "outputs": [
    {
     "data": {
      "text/html": [
       "<div>\n",
       "<style scoped>\n",
       "    .dataframe tbody tr th:only-of-type {\n",
       "        vertical-align: middle;\n",
       "    }\n",
       "\n",
       "    .dataframe tbody tr th {\n",
       "        vertical-align: top;\n",
       "    }\n",
       "\n",
       "    .dataframe thead th {\n",
       "        text-align: right;\n",
       "    }\n",
       "</style>\n",
       "<table border=\"1\" class=\"dataframe\">\n",
       "  <thead>\n",
       "    <tr style=\"text-align: right;\">\n",
       "      <th></th>\n",
       "      <th>caseId</th>\n",
       "      <th>prgLength</th>\n",
       "      <th>outcome</th>\n",
       "      <th>birthOrd</th>\n",
       "      <th>finalWgt</th>\n",
       "    </tr>\n",
       "  </thead>\n",
       "  <tbody>\n",
       "    <tr>\n",
       "      <th>138</th>\n",
       "      <td>150</td>\n",
       "      <td>9</td>\n",
       "      <td>1</td>\n",
       "      <td>6</td>\n",
       "      <td>6416.070865</td>\n",
       "    </tr>\n",
       "    <tr>\n",
       "      <th>157</th>\n",
       "      <td>172</td>\n",
       "      <td>24</td>\n",
       "      <td>1</td>\n",
       "      <td>1</td>\n",
       "      <td>2791.696869</td>\n",
       "    </tr>\n",
       "    <tr>\n",
       "      <th>541</th>\n",
       "      <td>515</td>\n",
       "      <td>18</td>\n",
       "      <td>1</td>\n",
       "      <td>2</td>\n",
       "      <td>2759.633732</td>\n",
       "    </tr>\n",
       "    <tr>\n",
       "      <th>628</th>\n",
       "      <td>587</td>\n",
       "      <td>24</td>\n",
       "      <td>1</td>\n",
       "      <td>1</td>\n",
       "      <td>8176.922132</td>\n",
       "    </tr>\n",
       "    <tr>\n",
       "      <th>1041</th>\n",
       "      <td>928</td>\n",
       "      <td>20</td>\n",
       "      <td>1</td>\n",
       "      <td>1</td>\n",
       "      <td>16021.332407</td>\n",
       "    </tr>\n",
       "    <tr>\n",
       "      <th>1529</th>\n",
       "      <td>1359</td>\n",
       "      <td>24</td>\n",
       "      <td>1</td>\n",
       "      <td>3</td>\n",
       "      <td>6259.187169</td>\n",
       "    </tr>\n",
       "    <tr>\n",
       "      <th>1540</th>\n",
       "      <td>1366</td>\n",
       "      <td>25</td>\n",
       "      <td>1</td>\n",
       "      <td>3</td>\n",
       "      <td>2082.045235</td>\n",
       "    </tr>\n",
       "    <tr>\n",
       "      <th>2440</th>\n",
       "      <td>2162</td>\n",
       "      <td>24</td>\n",
       "      <td>1</td>\n",
       "      <td>1</td>\n",
       "      <td>3141.557607</td>\n",
       "    </tr>\n",
       "    <tr>\n",
       "      <th>3165</th>\n",
       "      <td>2806</td>\n",
       "      <td>24</td>\n",
       "      <td>1</td>\n",
       "      <td>1</td>\n",
       "      <td>6491.271742</td>\n",
       "    </tr>\n",
       "    <tr>\n",
       "      <th>4108</th>\n",
       "      <td>3664</td>\n",
       "      <td>4</td>\n",
       "      <td>1</td>\n",
       "      <td>2</td>\n",
       "      <td>7039.049913</td>\n",
       "    </tr>\n",
       "    <tr>\n",
       "      <th>4798</th>\n",
       "      <td>4291</td>\n",
       "      <td>24</td>\n",
       "      <td>1</td>\n",
       "      <td>2</td>\n",
       "      <td>7359.727522</td>\n",
       "    </tr>\n",
       "    <tr>\n",
       "      <th>5411</th>\n",
       "      <td>4919</td>\n",
       "      <td>22</td>\n",
       "      <td>1</td>\n",
       "      <td>2</td>\n",
       "      <td>9324.226007</td>\n",
       "    </tr>\n",
       "    <tr>\n",
       "      <th>5769</th>\n",
       "      <td>5272</td>\n",
       "      <td>22</td>\n",
       "      <td>1</td>\n",
       "      <td>4</td>\n",
       "      <td>6709.227606</td>\n",
       "    </tr>\n",
       "    <tr>\n",
       "      <th>6172</th>\n",
       "      <td>5616</td>\n",
       "      <td>24</td>\n",
       "      <td>1</td>\n",
       "      <td>1</td>\n",
       "      <td>5018.291956</td>\n",
       "    </tr>\n",
       "    <tr>\n",
       "      <th>6396</th>\n",
       "      <td>5807</td>\n",
       "      <td>24</td>\n",
       "      <td>1</td>\n",
       "      <td>1</td>\n",
       "      <td>1711.414891</td>\n",
       "    </tr>\n",
       "    <tr>\n",
       "      <th>6437</th>\n",
       "      <td>5834</td>\n",
       "      <td>24</td>\n",
       "      <td>1</td>\n",
       "      <td>1</td>\n",
       "      <td>2581.642850</td>\n",
       "    </tr>\n",
       "    <tr>\n",
       "      <th>6441</th>\n",
       "      <td>5834</td>\n",
       "      <td>24</td>\n",
       "      <td>1</td>\n",
       "      <td>4</td>\n",
       "      <td>2581.642850</td>\n",
       "    </tr>\n",
       "    <tr>\n",
       "      <th>6458</th>\n",
       "      <td>5849</td>\n",
       "      <td>0</td>\n",
       "      <td>1</td>\n",
       "      <td>1</td>\n",
       "      <td>3557.187175</td>\n",
       "    </tr>\n",
       "    <tr>\n",
       "      <th>7762</th>\n",
       "      <td>7111</td>\n",
       "      <td>19</td>\n",
       "      <td>1</td>\n",
       "      <td>2</td>\n",
       "      <td>1717.913610</td>\n",
       "    </tr>\n",
       "    <tr>\n",
       "      <th>7779</th>\n",
       "      <td>7118</td>\n",
       "      <td>24</td>\n",
       "      <td>1</td>\n",
       "      <td>4</td>\n",
       "      <td>7711.848444</td>\n",
       "    </tr>\n",
       "    <tr>\n",
       "      <th>7800</th>\n",
       "      <td>7140</td>\n",
       "      <td>21</td>\n",
       "      <td>1</td>\n",
       "      <td>1</td>\n",
       "      <td>10762.115933</td>\n",
       "    </tr>\n",
       "    <tr>\n",
       "      <th>8870</th>\n",
       "      <td>8126</td>\n",
       "      <td>22</td>\n",
       "      <td>1</td>\n",
       "      <td>2</td>\n",
       "      <td>3806.462731</td>\n",
       "    </tr>\n",
       "    <tr>\n",
       "      <th>8919</th>\n",
       "      <td>8171</td>\n",
       "      <td>17</td>\n",
       "      <td>1</td>\n",
       "      <td>1</td>\n",
       "      <td>2835.189121</td>\n",
       "    </tr>\n",
       "    <tr>\n",
       "      <th>9850</th>\n",
       "      <td>9099</td>\n",
       "      <td>25</td>\n",
       "      <td>1</td>\n",
       "      <td>1</td>\n",
       "      <td>3297.372860</td>\n",
       "    </tr>\n",
       "    <tr>\n",
       "      <th>10003</th>\n",
       "      <td>9237</td>\n",
       "      <td>22</td>\n",
       "      <td>1</td>\n",
       "      <td>1</td>\n",
       "      <td>5092.398736</td>\n",
       "    </tr>\n",
       "    <tr>\n",
       "      <th>10492</th>\n",
       "      <td>9680</td>\n",
       "      <td>17</td>\n",
       "      <td>1</td>\n",
       "      <td>4</td>\n",
       "      <td>6168.296084</td>\n",
       "    </tr>\n",
       "    <tr>\n",
       "      <th>10539</th>\n",
       "      <td>9722</td>\n",
       "      <td>22</td>\n",
       "      <td>1</td>\n",
       "      <td>1</td>\n",
       "      <td>21797.391806</td>\n",
       "    </tr>\n",
       "    <tr>\n",
       "      <th>10652</th>\n",
       "      <td>9804</td>\n",
       "      <td>22</td>\n",
       "      <td>1</td>\n",
       "      <td>2</td>\n",
       "      <td>12411.047428</td>\n",
       "    </tr>\n",
       "    <tr>\n",
       "      <th>10664</th>\n",
       "      <td>9815</td>\n",
       "      <td>24</td>\n",
       "      <td>1</td>\n",
       "      <td>2</td>\n",
       "      <td>6574.839002</td>\n",
       "    </tr>\n",
       "    <tr>\n",
       "      <th>10702</th>\n",
       "      <td>9847</td>\n",
       "      <td>25</td>\n",
       "      <td>1</td>\n",
       "      <td>2</td>\n",
       "      <td>2613.143475</td>\n",
       "    </tr>\n",
       "    <tr>\n",
       "      <th>11623</th>\n",
       "      <td>10704</td>\n",
       "      <td>24</td>\n",
       "      <td>1</td>\n",
       "      <td>2</td>\n",
       "      <td>3947.558554</td>\n",
       "    </tr>\n",
       "    <tr>\n",
       "      <th>11887</th>\n",
       "      <td>10951</td>\n",
       "      <td>13</td>\n",
       "      <td>1</td>\n",
       "      <td>3</td>\n",
       "      <td>3124.279814</td>\n",
       "    </tr>\n",
       "    <tr>\n",
       "      <th>11947</th>\n",
       "      <td>11034</td>\n",
       "      <td>23</td>\n",
       "      <td>1</td>\n",
       "      <td>1</td>\n",
       "      <td>2281.788725</td>\n",
       "    </tr>\n",
       "    <tr>\n",
       "      <th>13173</th>\n",
       "      <td>12145</td>\n",
       "      <td>22</td>\n",
       "      <td>1</td>\n",
       "      <td>1</td>\n",
       "      <td>9581.965243</td>\n",
       "    </tr>\n",
       "    <tr>\n",
       "      <th>13309</th>\n",
       "      <td>12271</td>\n",
       "      <td>21</td>\n",
       "      <td>1</td>\n",
       "      <td>3</td>\n",
       "      <td>4758.734858</td>\n",
       "    </tr>\n",
       "  </tbody>\n",
       "</table>\n",
       "</div>"
      ],
      "text/plain": [
       "       caseId  prgLength  outcome  birthOrd      finalWgt\n",
       "138       150          9        1         6   6416.070865\n",
       "157       172         24        1         1   2791.696869\n",
       "541       515         18        1         2   2759.633732\n",
       "628       587         24        1         1   8176.922132\n",
       "1041      928         20        1         1  16021.332407\n",
       "1529     1359         24        1         3   6259.187169\n",
       "1540     1366         25        1         3   2082.045235\n",
       "2440     2162         24        1         1   3141.557607\n",
       "3165     2806         24        1         1   6491.271742\n",
       "4108     3664          4        1         2   7039.049913\n",
       "4798     4291         24        1         2   7359.727522\n",
       "5411     4919         22        1         2   9324.226007\n",
       "5769     5272         22        1         4   6709.227606\n",
       "6172     5616         24        1         1   5018.291956\n",
       "6396     5807         24        1         1   1711.414891\n",
       "6437     5834         24        1         1   2581.642850\n",
       "6441     5834         24        1         4   2581.642850\n",
       "6458     5849          0        1         1   3557.187175\n",
       "7762     7111         19        1         2   1717.913610\n",
       "7779     7118         24        1         4   7711.848444\n",
       "7800     7140         21        1         1  10762.115933\n",
       "8870     8126         22        1         2   3806.462731\n",
       "8919     8171         17        1         1   2835.189121\n",
       "9850     9099         25        1         1   3297.372860\n",
       "10003    9237         22        1         1   5092.398736\n",
       "10492    9680         17        1         4   6168.296084\n",
       "10539    9722         22        1         1  21797.391806\n",
       "10652    9804         22        1         2  12411.047428\n",
       "10664    9815         24        1         2   6574.839002\n",
       "10702    9847         25        1         2   2613.143475\n",
       "11623   10704         24        1         2   3947.558554\n",
       "11887   10951         13        1         3   3124.279814\n",
       "11947   11034         23        1         1   2281.788725\n",
       "13173   12145         22        1         1   9581.965243\n",
       "13309   12271         21        1         3   4758.734858"
      ]
     },
     "execution_count": 57,
     "metadata": {},
     "output_type": "execute_result"
    }
   ],
   "source": [
    "df[(df.outcome == 1) & (df['prgLength'] < (df['prgLength'].median() - df['prgLength'].std()))]\n",
    "#problema desv estandar, tambien es sensible a outliers, hay datos muy grandes"
   ]
  },
  {
   "cell_type": "code",
   "execution_count": 62,
   "metadata": {},
   "outputs": [],
   "source": [
    "df2 = df[(df.outcome == 1)]"
   ]
  },
  {
   "cell_type": "code",
   "execution_count": 64,
   "metadata": {},
   "outputs": [
    {
     "data": {
      "text/plain": [
       "30.0"
      ]
     },
     "execution_count": 64,
     "metadata": {},
     "output_type": "execute_result"
    }
   ],
   "source": [
    "df2['prgLength'].quantile(0.025) "
   ]
  },
  {
   "cell_type": "code",
   "execution_count": 65,
   "metadata": {},
   "outputs": [],
   "source": [
    "#ahora voy a ver quitando el 5 % entre abajo y arriba"
   ]
  },
  {
   "cell_type": "code",
   "execution_count": 64,
   "metadata": {
    "colab": {
     "base_uri": "https://localhost:8080/",
     "height": 417
    },
    "executionInfo": {
     "elapsed": 42,
     "status": "ok",
     "timestamp": 1633957498455,
     "user": {
      "displayName": "Valero Laparra",
      "photoUrl": "https://lh3.googleusercontent.com/a/default-user=s64",
      "userId": "00355299981903664579"
     },
     "user_tz": -120
    },
    "id": "7U3g2XeObKN4",
    "outputId": "62e72ab0-92c7-4061-8be9-b04a632006ad"
   },
   "outputs": [],
   "source": [
    "df3 = df[(df.outcome == 1) & (df['prgLength'] > df2['prgLength'].quantile(0.025)) & (df['prgLength'] < df2['prgLength'].quantile(0.975))]"
   ]
  },
  {
   "cell_type": "code",
   "execution_count": 66,
   "metadata": {},
   "outputs": [],
   "source": [
    "df3 = df[(df.outcome == 1) & (df['prgLength'] < 43) & (df['prgLength'] > 26)]"
   ]
  },
  {
   "cell_type": "code",
   "execution_count": 67,
   "metadata": {
    "colab": {
     "base_uri": "https://localhost:8080/",
     "height": 388
    },
    "executionInfo": {
     "elapsed": 35,
     "status": "ok",
     "timestamp": 1633957498459,
     "user": {
      "displayName": "Valero Laparra",
      "photoUrl": "https://lh3.googleusercontent.com/a/default-user=s64",
      "userId": "00355299981903664579"
     },
     "user_tz": -120
    },
    "id": "zSVzQzM5bKN4",
    "outputId": "25c0072b-70f4-4b7e-bf32-16c71764684b"
   },
   "outputs": [
    {
     "data": {
      "text/html": [
       "<div>\n",
       "<style scoped>\n",
       "    .dataframe tbody tr th:only-of-type {\n",
       "        vertical-align: middle;\n",
       "    }\n",
       "\n",
       "    .dataframe tbody tr th {\n",
       "        vertical-align: top;\n",
       "    }\n",
       "\n",
       "    .dataframe thead th {\n",
       "        text-align: right;\n",
       "    }\n",
       "</style>\n",
       "<table border=\"1\" class=\"dataframe\">\n",
       "  <thead>\n",
       "    <tr style=\"text-align: right;\">\n",
       "      <th></th>\n",
       "      <th>caseId</th>\n",
       "      <th>prgLength</th>\n",
       "      <th>outcome</th>\n",
       "      <th>birthOrd</th>\n",
       "      <th>finalWgt</th>\n",
       "    </tr>\n",
       "  </thead>\n",
       "  <tbody>\n",
       "    <tr>\n",
       "      <th>0</th>\n",
       "      <td>1</td>\n",
       "      <td>39</td>\n",
       "      <td>1</td>\n",
       "      <td>1</td>\n",
       "      <td>6448.271112</td>\n",
       "    </tr>\n",
       "    <tr>\n",
       "      <th>1</th>\n",
       "      <td>1</td>\n",
       "      <td>39</td>\n",
       "      <td>1</td>\n",
       "      <td>2</td>\n",
       "      <td>6448.271112</td>\n",
       "    </tr>\n",
       "    <tr>\n",
       "      <th>2</th>\n",
       "      <td>2</td>\n",
       "      <td>39</td>\n",
       "      <td>1</td>\n",
       "      <td>1</td>\n",
       "      <td>12999.542264</td>\n",
       "    </tr>\n",
       "    <tr>\n",
       "      <th>3</th>\n",
       "      <td>2</td>\n",
       "      <td>39</td>\n",
       "      <td>1</td>\n",
       "      <td>2</td>\n",
       "      <td>12999.542264</td>\n",
       "    </tr>\n",
       "    <tr>\n",
       "      <th>4</th>\n",
       "      <td>2</td>\n",
       "      <td>39</td>\n",
       "      <td>1</td>\n",
       "      <td>3</td>\n",
       "      <td>12999.542264</td>\n",
       "    </tr>\n",
       "    <tr>\n",
       "      <th>...</th>\n",
       "      <td>...</td>\n",
       "      <td>...</td>\n",
       "      <td>...</td>\n",
       "      <td>...</td>\n",
       "      <td>...</td>\n",
       "    </tr>\n",
       "    <tr>\n",
       "      <th>13581</th>\n",
       "      <td>12568</td>\n",
       "      <td>39</td>\n",
       "      <td>1</td>\n",
       "      <td>1</td>\n",
       "      <td>7772.212858</td>\n",
       "    </tr>\n",
       "    <tr>\n",
       "      <th>13584</th>\n",
       "      <td>12569</td>\n",
       "      <td>34</td>\n",
       "      <td>1</td>\n",
       "      <td>1</td>\n",
       "      <td>5075.164946</td>\n",
       "    </tr>\n",
       "    <tr>\n",
       "      <th>13588</th>\n",
       "      <td>12571</td>\n",
       "      <td>39</td>\n",
       "      <td>1</td>\n",
       "      <td>1</td>\n",
       "      <td>6269.200989</td>\n",
       "    </tr>\n",
       "    <tr>\n",
       "      <th>13591</th>\n",
       "      <td>12571</td>\n",
       "      <td>39</td>\n",
       "      <td>1</td>\n",
       "      <td>2</td>\n",
       "      <td>6269.200989</td>\n",
       "    </tr>\n",
       "    <tr>\n",
       "      <th>13592</th>\n",
       "      <td>12571</td>\n",
       "      <td>39</td>\n",
       "      <td>1</td>\n",
       "      <td>3</td>\n",
       "      <td>6269.200989</td>\n",
       "    </tr>\n",
       "  </tbody>\n",
       "</table>\n",
       "<p>8863 rows × 5 columns</p>\n",
       "</div>"
      ],
      "text/plain": [
       "       caseId  prgLength  outcome  birthOrd      finalWgt\n",
       "0           1         39        1         1   6448.271112\n",
       "1           1         39        1         2   6448.271112\n",
       "2           2         39        1         1  12999.542264\n",
       "3           2         39        1         2  12999.542264\n",
       "4           2         39        1         3  12999.542264\n",
       "...       ...        ...      ...       ...           ...\n",
       "13581   12568         39        1         1   7772.212858\n",
       "13584   12569         34        1         1   5075.164946\n",
       "13588   12571         39        1         1   6269.200989\n",
       "13591   12571         39        1         2   6269.200989\n",
       "13592   12571         39        1         3   6269.200989\n",
       "\n",
       "[8863 rows x 5 columns]"
      ]
     },
     "execution_count": 67,
     "metadata": {},
     "output_type": "execute_result"
    }
   ],
   "source": [
    "# EXERCISE: Find the data that is 10 weeks bigger than the median\n",
    "df3"
   ]
  },
  {
   "cell_type": "code",
   "execution_count": 68,
   "metadata": {},
   "outputs": [
    {
     "data": {
      "text/plain": [
       "0.9688456493222563"
      ]
     },
     "execution_count": 68,
     "metadata": {},
     "output_type": "execute_result"
    }
   ],
   "source": [
    "df3.shape[0]/df2.shape[0]"
   ]
  },
  {
   "cell_type": "markdown",
   "metadata": {
    "id": "c9ikDu6PbKN4"
   },
   "source": [
    "If we think that outliers correspond to errors, an option is to trim the data by discarting the highest and lowest values."
   ]
  },
  {
   "cell_type": "code",
   "execution_count": 69,
   "metadata": {
    "colab": {
     "base_uri": "https://localhost:8080/",
     "height": 49
    },
    "executionInfo": {
     "elapsed": 40,
     "status": "ok",
     "timestamp": 1633957501743,
     "user": {
      "displayName": "Valero Laparra",
      "photoUrl": "https://lh3.googleusercontent.com/a/default-user=s64",
      "userId": "00355299981903664579"
     },
     "user_tz": -120
    },
    "id": "jW-pHWDsbKN4",
    "outputId": "8fef5ccf-e7d8-44a8-bf83-39d5f3cce43d"
   },
   "outputs": [],
   "source": [
    "# create a dataframe df3 that do not contain outliers and compute its statistics for each birthOrd\n",
    "firstbirth3 = df3[df3['birthOrd']==1]\n",
    "othersbirth3 = df3[df3['birthOrd']>1]"
   ]
  },
  {
   "cell_type": "code",
   "execution_count": 70,
   "metadata": {
    "colab": {
     "base_uri": "https://localhost:8080/"
    },
    "executionInfo": {
     "elapsed": 50,
     "status": "ok",
     "timestamp": 1633957511898,
     "user": {
      "displayName": "Valero Laparra",
      "photoUrl": "https://lh3.googleusercontent.com/a/default-user=s64",
      "userId": "00355299981903664579"
     },
     "user_tz": -120
    },
    "id": "2UMB6A2obKN5",
    "outputId": "5406b2fc-abed-4d17-c7f5-d465eab4c3f1"
   },
   "outputs": [
    {
     "name": "stdout",
     "output_type": "stream",
     "text": [
      "The mean sample difference is: \n",
      "0.030255324400599193 weeks.\n"
     ]
    }
   ],
   "source": [
    "print(\"The mean sample difference is: \",)\n",
    "print(firstbirth3['prgLength'].mean() - othersbirth3['prgLength'].mean(), \"weeks.\")"
   ]
  },
  {
   "cell_type": "code",
   "execution_count": 74,
   "metadata": {},
   "outputs": [],
   "source": [
    "#ahora sin outliers la diferencia de medias es menor"
   ]
  },
  {
   "cell_type": "code",
   "execution_count": 76,
   "metadata": {},
   "outputs": [
    {
     "data": {
      "text/plain": [
       "(array([  10.,   12.,   77.,   60.,   52.,  152.,  396.,  335., 3159.,\n",
       "         350.]),\n",
       " array([27. , 28.5, 30. , 31.5, 33. , 34.5, 36. , 37.5, 39. , 40.5, 42. ]),\n",
       " <BarContainer object of 10 artists>)"
      ]
     },
     "execution_count": 76,
     "metadata": {},
     "output_type": "execute_result"
    },
    {
     "data": {
      "image/png": "[encoded data removed]",
      "text/plain": [
       "<Figure size 432x288 with 1 Axes>"
      ]
     },
     "metadata": {
      "needs_background": "light"
     },
     "output_type": "display_data"
    }
   ],
   "source": [
    "plt.hist(firstbirth3['prgLength']) #azul\n",
    "plt.hist(othersbirth3['prgLength'])"
   ]
  },
  {
   "cell_type": "markdown",
   "metadata": {
    "id": "vnscGFDMbKN6"
   },
   "source": [
    "Let's check the number of outliers we discarded and how it affects the data distribution:"
   ]
  },
  {
   "cell_type": "code",
   "execution_count": 72,
   "metadata": {
    "colab": {
     "base_uri": "https://localhost:8080/"
    },
    "executionInfo": {
     "elapsed": 34,
     "status": "ok",
     "timestamp": 1633957511903,
     "user": {
      "displayName": "Valero Laparra",
      "photoUrl": "https://lh3.googleusercontent.com/a/default-user=s64",
      "userId": "00355299981903664579"
     },
     "user_tz": -120
    },
    "id": "R9r6Y-ZjbKN6",
    "outputId": "1e3d987d-2afe-45d9-cb91-ca5bbccb0c0c"
   },
   "outputs": [
    {
     "name": "stdout",
     "output_type": "stream",
     "text": [
      "285\n"
     ]
    }
   ],
   "source": [
    "print(len(df.prgLength[(df.outcome == 1)]) - len(df3.prgLength[(df3.outcome == 1)]))"
   ]
  },
  {
   "cell_type": "code",
   "execution_count": 73,
   "metadata": {
    "colab": {
     "base_uri": "https://localhost:8080/",
     "height": 282
    },
    "executionInfo": {
     "elapsed": 69,
     "status": "ok",
     "timestamp": 1633957515093,
     "user": {
      "displayName": "Valero Laparra",
      "photoUrl": "https://lh3.googleusercontent.com/a/default-user=s64",
      "userId": "00355299981903664579"
     },
     "user_tz": -120
    },
    "id": "nMr6T_wxbKN6",
    "outputId": "604c26d3-cc46-4700-9d1e-ed103223e3ed"
   },
   "outputs": [
    {
     "data": {
      "text/plain": [
       "<matplotlib.legend.Legend at 0x20386f05040>"
      ]
     },
     "execution_count": 73,
     "metadata": {},
     "output_type": "execute_result"
    },
    {
     "data": {
      "image/png": "[encoded data removed]",
      "text/plain": [
       "<Figure size 432x288 with 1 Axes>"
      ]
     },
     "metadata": {
      "needs_background": "light"
     },
     "output_type": "display_data"
    }
   ],
   "source": [
    "fig, ax = plt.subplots()\n",
    "df3.prgLength[(df3.outcome == 1)].plot(alpha=.5, color='blue')\n",
    "df.prgLength[(df.outcome == 1)].plot(alpha=.5, color=sns.desaturate(\"indianred\", .95))\n",
    "ax.legend(['filtered','original'])"
   ]
  },
  {
   "cell_type": "markdown",
   "metadata": {},
   "source": []
  },
  {
   "cell_type": "markdown",
   "metadata": {
    "id": "pGWEMaxRbKN6"
   },
   "source": [
    "Let's see what is happening near the mode:"
   ]
  },
  {
   "cell_type": "code",
   "execution_count": 82,
   "metadata": {
    "colab": {
     "base_uri": "https://localhost:8080/",
     "height": 282
    },
    "executionInfo": {
     "elapsed": 1407,
     "status": "ok",
     "timestamp": 1633957516458,
     "user": {
      "displayName": "Valero Laparra",
      "photoUrl": "https://lh3.googleusercontent.com/a/default-user=s64",
      "userId": "00355299981903664579"
     },
     "user_tz": -120
    },
    "id": "zr139TlXbKN6",
    "outputId": "32ce8746-7987-4001-8c6e-228152fc6f8b"
   },
   "outputs": [
    {
     "data": {
      "text/plain": [
       "<matplotlib.legend.Legend at 0x7f4db32c3750>"
      ]
     },
     "execution_count": 82,
     "metadata": {},
     "output_type": "execute_result"
    },
    {
     "data": {
      "image/png": "[encoded data removed]",
      "text/plain": [
       "<Figure size 432x288 with 1 Axes>"
      ]
     },
     "metadata": {
      "needs_background": "light"
     },
     "output_type": "display_data"
    }
   ],
   "source": [
    "x = firstbirth3['prgLength']\n",
    "y = othersbirth3['prgLength']\n",
    "\n",
    "fig, ax = plt.subplots()\n",
    "x.hist(density=1,alpha=.5)\n",
    "y.hist(density=1,alpha=.5, color=sns.desaturate(\"indianred\", .75))\n",
    "ax.legend(['first','others'])"
   ]
  },
  {
   "cell_type": "code",
   "execution_count": null,
   "metadata": {},
   "outputs": [],
   "source": [
    "#los del primer nacimiento nácen mas por la derecha, más tarde, aunque sigue siendo una \n",
    "#diferencia pequeñita, será una diferencia de horas"
   ]
  },
  {
   "cell_type": "markdown",
   "metadata": {
    "id": "DQIG4Tt9bKN7"
   },
   "source": [
    "There is still some evidence for our hypothesis!"
   ]
  },
  {
   "cell_type": "code",
   "execution_count": 85,
   "metadata": {
    "colab": {
     "base_uri": "https://localhost:8080/"
    },
    "executionInfo": {
     "elapsed": 434,
     "status": "ok",
     "timestamp": 1633957517755,
     "user": {
      "displayName": "Valero Laparra",
      "photoUrl": "https://lh3.googleusercontent.com/a/default-user=s64",
      "userId": "00355299981903664579"
     },
     "user_tz": -120
    },
    "id": "1F7WBt0CbKN7",
    "outputId": "d45f8cab-d639-44ad-f108-199747aacc27"
   },
   "outputs": [
    {
     "name": "stdout",
     "output_type": "stream",
     "text": [
      "38.575117370892016 38.54486204649142\n"
     ]
    }
   ],
   "source": [
    "print(x.mean(), y.mean())"
   ]
  },
  {
   "cell_type": "markdown",
   "metadata": {
    "id": "sJLyYWUhbKN7"
   },
   "source": [
    "**Exercise**:\n",
    "\n",
    "+ Read the file ``run10.txt`` from the ``files`` directory. It represents 16.924 runners who finished the 2012 Cherry Blossom 10 mile run in USA. The file is a ``tab``separated file. It can be read with the pandas ``read_table`` function.\n",
    "+ Compute the mean time.\n",
    "+ Compute the difference in mean between men and women.\n",
    "+ Visualize both distributions (normalized histogram)."
   ]
  },
  {
   "cell_type": "code",
   "execution_count": 77,
   "metadata": {
    "id": "z78wLMd_bKN8"
   },
   "outputs": [],
   "source": [
    "## Your solution here\n",
    "import matplotlib.pyplot as plt\n",
    "import numpy as np\n",
    "import pandas as pd"
   ]
  },
  {
   "cell_type": "code",
   "execution_count": 78,
   "metadata": {
    "colab": {
     "base_uri": "https://localhost:8080/",
     "height": 203
    },
    "executionInfo": {
     "elapsed": 301,
     "status": "ok",
     "timestamp": 1633957547225,
     "user": {
      "displayName": "Valero Laparra",
      "photoUrl": "https://lh3.googleusercontent.com/a/default-user=s64",
      "userId": "00355299981903664579"
     },
     "user_tz": -120
    },
    "id": "cvOzaZkpbKN8",
    "outputId": "33270a7b-d893-4479-f925-15af53d40d9a"
   },
   "outputs": [
    {
     "data": {
      "text/html": [
       "<div>\n",
       "<style scoped>\n",
       "    .dataframe tbody tr th:only-of-type {\n",
       "        vertical-align: middle;\n",
       "    }\n",
       "\n",
       "    .dataframe tbody tr th {\n",
       "        vertical-align: top;\n",
       "    }\n",
       "\n",
       "    .dataframe thead th {\n",
       "        text-align: right;\n",
       "    }\n",
       "</style>\n",
       "<table border=\"1\" class=\"dataframe\">\n",
       "  <thead>\n",
       "    <tr style=\"text-align: right;\">\n",
       "      <th></th>\n",
       "      <th>place</th>\n",
       "      <th>time</th>\n",
       "      <th>pace</th>\n",
       "      <th>age</th>\n",
       "      <th>gender</th>\n",
       "      <th>location</th>\n",
       "      <th>state</th>\n",
       "      <th>divPlace</th>\n",
       "      <th>divTot</th>\n",
       "    </tr>\n",
       "  </thead>\n",
       "  <tbody>\n",
       "    <tr>\n",
       "      <th>0</th>\n",
       "      <td>4494</td>\n",
       "      <td>92.25</td>\n",
       "      <td>9.225</td>\n",
       "      <td>38.0</td>\n",
       "      <td>M</td>\n",
       "      <td>Chesapeake Beach MD</td>\n",
       "      <td>MD</td>\n",
       "      <td>690.0</td>\n",
       "      <td>1093.0</td>\n",
       "    </tr>\n",
       "    <tr>\n",
       "      <th>1</th>\n",
       "      <td>6298</td>\n",
       "      <td>106.35</td>\n",
       "      <td>10.635</td>\n",
       "      <td>33.0</td>\n",
       "      <td>M</td>\n",
       "      <td>Washington DC</td>\n",
       "      <td>DC</td>\n",
       "      <td>1322.0</td>\n",
       "      <td>1490.0</td>\n",
       "    </tr>\n",
       "    <tr>\n",
       "      <th>2</th>\n",
       "      <td>2502</td>\n",
       "      <td>89.33</td>\n",
       "      <td>8.933</td>\n",
       "      <td>55.0</td>\n",
       "      <td>F</td>\n",
       "      <td>McLean VA</td>\n",
       "      <td>VA</td>\n",
       "      <td>37.0</td>\n",
       "      <td>236.0</td>\n",
       "    </tr>\n",
       "    <tr>\n",
       "      <th>3</th>\n",
       "      <td>8176</td>\n",
       "      <td>113.50</td>\n",
       "      <td>11.350</td>\n",
       "      <td>24.0</td>\n",
       "      <td>F</td>\n",
       "      <td>Alexandria VA</td>\n",
       "      <td>VA</td>\n",
       "      <td>878.0</td>\n",
       "      <td>974.0</td>\n",
       "    </tr>\n",
       "    <tr>\n",
       "      <th>4</th>\n",
       "      <td>3413</td>\n",
       "      <td>86.52</td>\n",
       "      <td>8.652</td>\n",
       "      <td>54.0</td>\n",
       "      <td>M</td>\n",
       "      <td>San Francisco CA</td>\n",
       "      <td>CA</td>\n",
       "      <td>213.0</td>\n",
       "      <td>483.0</td>\n",
       "    </tr>\n",
       "  </tbody>\n",
       "</table>\n",
       "</div>"
      ],
      "text/plain": [
       "   place    time    pace   age gender             location state  divPlace  \\\n",
       "0   4494   92.25   9.225  38.0      M  Chesapeake Beach MD    MD     690.0   \n",
       "1   6298  106.35  10.635  33.0      M        Washington DC    DC    1322.0   \n",
       "2   2502   89.33   8.933  55.0      F            McLean VA    VA      37.0   \n",
       "3   8176  113.50  11.350  24.0      F        Alexandria VA    VA     878.0   \n",
       "4   3413   86.52   8.652  54.0      M     San Francisco CA    CA     213.0   \n",
       "\n",
       "   divTot  \n",
       "0  1093.0  \n",
       "1  1490.0  \n",
       "2   236.0  \n",
       "3   974.0  \n",
       "4   483.0  "
      ]
     },
     "execution_count": 78,
     "metadata": {},
     "output_type": "execute_result"
    }
   ],
   "source": [
    "## My solution here\n",
    "drun = pd.read_table('run10.txt')  \n",
    "drun.head()"
   ]
  },
  {
   "cell_type": "code",
   "execution_count": 79,
   "metadata": {},
   "outputs": [
    {
     "name": "stdout",
     "output_type": "stream",
     "text": [
      "<class 'pandas.core.frame.DataFrame'>\n",
      "RangeIndex: 16924 entries, 0 to 16923\n",
      "Data columns (total 9 columns):\n",
      " #   Column    Non-Null Count  Dtype  \n",
      "---  ------    --------------  -----  \n",
      " 0   place     16924 non-null  int64  \n",
      " 1   time      16924 non-null  float64\n",
      " 2   pace      16924 non-null  float64\n",
      " 3   age       16923 non-null  float64\n",
      " 4   gender    16924 non-null  object \n",
      " 5   location  16924 non-null  object \n",
      " 6   state     16909 non-null  object \n",
      " 7   divPlace  16923 non-null  float64\n",
      " 8   divTot    16923 non-null  float64\n",
      "dtypes: float64(5), int64(1), object(3)\n",
      "memory usage: 1.2+ MB\n"
     ]
    }
   ],
   "source": [
    "## Your solution here\n",
    "datos=pd.read_table('run10.txt')\n",
    "datos.info()"
   ]
  },
  {
   "cell_type": "code",
   "execution_count": 7,
   "metadata": {},
   "outputs": [
    {
     "name": "stdout",
     "output_type": "stream",
     "text": [
      "94.51919227133078 88.43480951056723 99.01558364159473\n"
     ]
    }
   ],
   "source": [
    "media = datos['time'].mean\n",
    "mediahombre = datos[datos['gender']== 'M']['time'].mean()\n",
    "mediamujer = datos[datos['gender']== 'F']['time'].mean()\n",
    "print(media(), mediahombre, mediamujer)"
   ]
  },
  {
   "cell_type": "code",
   "execution_count": 91,
   "metadata": {},
   "outputs": [
    {
     "data": {
      "text/plain": [
       "94.51919227133065"
      ]
     },
     "execution_count": 91,
     "metadata": {},
     "output_type": "execute_result"
    }
   ],
   "source": []
  },
  {
   "cell_type": "code",
   "execution_count": 8,
   "metadata": {
    "colab": {
     "base_uri": "https://localhost:8080/",
     "height": 348
    },
    "executionInfo": {
     "elapsed": 295,
     "status": "ok",
     "timestamp": 1633957548736,
     "user": {
      "displayName": "Valero Laparra",
      "photoUrl": "https://lh3.googleusercontent.com/a/default-user=s64",
      "userId": "00355299981903664579"
     },
     "user_tz": -120
    },
    "id": "v0VV89yIbKN8",
    "outputId": "2c667108-e215-497c-8c47-26fd54de2baf"
   },
   "outputs": [
    {
     "data": {
      "text/plain": [
       "<matplotlib.legend.Legend at 0x1c24fb8fbe0>"
      ]
     },
     "execution_count": 8,
     "metadata": {},
     "output_type": "execute_result"
    },
    {
     "data": {
      "image/png": "[encoded data removed]",
      "text/plain": [
       "<Figure size 432x288 with 1 Axes>"
      ]
     },
     "metadata": {
      "needs_background": "light"
     },
     "output_type": "display_data"
    }
   ],
   "source": [
    "x = datos[datos['gender']== 'M']['time']\n",
    "y = datos[datos['gender']== 'F']['time']\n",
    "\n",
    "fig, ax = plt.subplots()\n",
    "x.hist(density=1,alpha=.5)\n",
    "y.hist(density=1,alpha=.5, color=sns.desaturate(\"indianred\", .75))\n",
    "ax.legend(['M','F'])"
   ]
  },
  {
   "cell_type": "markdown",
   "metadata": {
    "id": "5aS7GavgbKN8"
   },
   "source": [
    "### 2.5 Measuring asymmetry.\n",
    "\n",
    "**Skewness** is a statistic that measures the asymmetry of set of $n$ data samples $x_i$ but it can be affected by outliers!!! \n",
    "\n",
    "A more robust alternative is to look at the relationship between mean ($\\mu$) median ($M_d$) and mode ($M_o$):\n",
    "\n",
    "* If the mean is greater than the mode or median, the distribution is positively skewed.\n",
    "* If the mean is less than the mode or median, the distribution is negatively skewed.\n",
    "\n"
   ]
  },
  {
   "cell_type": "markdown",
   "metadata": {
    "id": "O6cYiezKbKN9"
   },
   "source": [
    "This is the intuition behind Pearson's mode ($Sk1$) and median ($Sk2$) skewness coefficients, which can be computed as:\n",
    "\n",
    "$$ Sk1 = \\frac{(\\mu - M_o)}{\\sigma}; \\hspace{2cm}        Sk2 = \\frac{3(\\mu - M_d)}{\\sigma} $$, \n",
    "\n",
    "where $sigma$ is the standard deviation of the distribution. \n"
   ]
  },
  {
   "cell_type": "markdown",
   "metadata": {
    "id": "DAYsiAe3bKN9"
   },
   "source": [
    "**Exercise**: Compute skewness, $Sk1$ and $Sk2$ of the pregnancy length. Check impact of outliers in the metrics. "
   ]
  },
  {
   "cell_type": "code",
   "execution_count": 22,
   "metadata": {
    "id": "R6ewhlF1bKN9"
   },
   "outputs": [
    {
     "name": "stdout",
     "output_type": "stream",
     "text": [
      "-1.9867170712736706 [-0.18091222] -0.18091222459094786\n",
      "-2.24899461749161 [-0.22001796] -0.22001796312005673\n"
     ]
    }
   ],
   "source": [
    "## Your solution here\n",
    "import scipy\n",
    "\n",
    "x = firstbirth3['prgLength']\n",
    "y = othersbirth3['prgLength']\n",
    "\n",
    "sk_x = scipy.stats.skew(x)\n",
    "\n",
    "sk1_x = (np.mean(x)-scipy.stats.mode(x)[0])/np.std(x)\n",
    "sk2_x = (np.mean(x)-np.median(x))/np.std(x)\n",
    "\n",
    "\n",
    "sk_y = scipy.stats.skew(y)\n",
    "sk1_y = (np.mean(y)-scipy.stats.mode(y)[0])/np.std(y)\n",
    "sk2_y = (np.mean(y)-np.median(y))/np.std(y)\n",
    "\n",
    "\n",
    "print(sk_x,sk1_x,sk2_x)\n",
    "print(sk_y,sk1_y,sk2_y)"
   ]
  },
  {
   "cell_type": "code",
   "execution_count": 24,
   "metadata": {},
   "outputs": [
    {
     "name": "stdout",
     "output_type": "stream",
     "text": [
      "-2.5904758400585424 [-0.14294684] -0.14294684077476227\n",
      "-3.1536063733026825 [-0.1824017] -0.18240170160373742\n"
     ]
    }
   ],
   "source": [
    "x = firstbirth['prgLength']\n",
    "y = othersbirth['prgLength']\n",
    "\n",
    "sk_x = scipy.stats.skew(x)\n",
    "\n",
    "sk1_x = (np.mean(x)-scipy.stats.mode(x)[0])/np.std(x)\n",
    "sk2_x = (np.mean(x)-np.median(x))/np.std(x)\n",
    "\n",
    "\n",
    "sk_y = scipy.stats.skew(y)\n",
    "sk1_y = (np.mean(y)-scipy.stats.mode(y)[0])/np.std(y)\n",
    "sk2_y = (np.mean(y)-np.median(y))/np.std(y)\n",
    "\n",
    "\n",
    "print(sk_x,sk1_x,sk2_x)\n",
    "print(sk_y,sk1_y,sk2_y)"
   ]
  },
  {
   "cell_type": "markdown",
   "metadata": {
    "id": "fNBxDXHhbKN9"
   },
   "source": [
    "## 2.6 Relative Risk\n",
    "\n",
    "Let's say that a baby is \"early\" if it is born during week 37 or earlier, \"on time\" if it is born during week 38, 39 or 40, and \"late\" if it is born during week 41 or later. "
   ]
  },
  {
   "cell_type": "code",
   "execution_count": 25,
   "metadata": {
    "colab": {
     "base_uri": "https://localhost:8080/",
     "height": 203
    },
    "executionInfo": {
     "elapsed": 13,
     "status": "ok",
     "timestamp": 1633957557685,
     "user": {
      "displayName": "Valero Laparra",
      "photoUrl": "https://lh3.googleusercontent.com/a/default-user=s64",
      "userId": "00355299981903664579"
     },
     "user_tz": -120
    },
    "id": "7CktVBi6bKN9",
    "outputId": "cc26b215-be21-4973-cb05-6461e275fa4f"
   },
   "outputs": [
    {
     "data": {
      "text/html": [
       "<div>\n",
       "<style scoped>\n",
       "    .dataframe tbody tr th:only-of-type {\n",
       "        vertical-align: middle;\n",
       "    }\n",
       "\n",
       "    .dataframe tbody tr th {\n",
       "        vertical-align: top;\n",
       "    }\n",
       "\n",
       "    .dataframe thead th {\n",
       "        text-align: right;\n",
       "    }\n",
       "</style>\n",
       "<table border=\"1\" class=\"dataframe\">\n",
       "  <thead>\n",
       "    <tr style=\"text-align: right;\">\n",
       "      <th></th>\n",
       "      <th>caseId</th>\n",
       "      <th>prgLength</th>\n",
       "      <th>outcome</th>\n",
       "      <th>birthOrd</th>\n",
       "      <th>finalWgt</th>\n",
       "    </tr>\n",
       "  </thead>\n",
       "  <tbody>\n",
       "    <tr>\n",
       "      <th>0</th>\n",
       "      <td>1</td>\n",
       "      <td>39</td>\n",
       "      <td>1</td>\n",
       "      <td>1</td>\n",
       "      <td>6448.271112</td>\n",
       "    </tr>\n",
       "    <tr>\n",
       "      <th>2</th>\n",
       "      <td>2</td>\n",
       "      <td>39</td>\n",
       "      <td>1</td>\n",
       "      <td>1</td>\n",
       "      <td>12999.542264</td>\n",
       "    </tr>\n",
       "    <tr>\n",
       "      <th>5</th>\n",
       "      <td>6</td>\n",
       "      <td>38</td>\n",
       "      <td>1</td>\n",
       "      <td>1</td>\n",
       "      <td>8874.440799</td>\n",
       "    </tr>\n",
       "    <tr>\n",
       "      <th>8</th>\n",
       "      <td>7</td>\n",
       "      <td>39</td>\n",
       "      <td>1</td>\n",
       "      <td>1</td>\n",
       "      <td>6911.879921</td>\n",
       "    </tr>\n",
       "    <tr>\n",
       "      <th>10</th>\n",
       "      <td>12</td>\n",
       "      <td>39</td>\n",
       "      <td>1</td>\n",
       "      <td>1</td>\n",
       "      <td>6909.331618</td>\n",
       "    </tr>\n",
       "  </tbody>\n",
       "</table>\n",
       "</div>"
      ],
      "text/plain": [
       "    caseId  prgLength  outcome  birthOrd      finalWgt\n",
       "0        1         39        1         1   6448.271112\n",
       "2        2         39        1         1  12999.542264\n",
       "5        6         38        1         1   8874.440799\n",
       "8        7         39        1         1   6911.879921\n",
       "10      12         39        1         1   6909.331618"
      ]
     },
     "execution_count": 25,
     "metadata": {},
     "output_type": "execute_result"
    }
   ],
   "source": [
    "firstbirth3 = df3[(df3.outcome == 1) & (df3.birthOrd == 1)]\n",
    "firstbirth3.head()"
   ]
  },
  {
   "cell_type": "markdown",
   "metadata": {
    "id": "rog50nl4bKN-"
   },
   "source": [
    "Let's compute the probability of being *early*, *on time* and *late* for first babies and the others."
   ]
  },
  {
   "cell_type": "code",
   "execution_count": 26,
   "metadata": {
    "colab": {
     "base_uri": "https://localhost:8080/"
    },
    "executionInfo": {
     "elapsed": 670,
     "status": "ok",
     "timestamp": 1633957560468,
     "user": {
      "displayName": "Valero Laparra",
      "photoUrl": "https://lh3.googleusercontent.com/a/default-user=s64",
      "userId": "00355299981903664579"
     },
     "user_tz": -120
    },
    "id": "m7sbjPn7bKN-",
    "outputId": "5f354297-0236-48b4-8bd0-74216df09d7b"
   },
   "outputs": [
    {
     "name": "stdout",
     "output_type": "stream",
     "text": [
      "Firsts babies: \n",
      "Early 0.18145539906103286\n",
      "Late 0.13262910798122066\n",
      "On time 0.6859154929577465\n"
     ]
    }
   ],
   "source": [
    "print(\"Firsts babies: \")\n",
    "Nf = len(firstbirth3.index)\n",
    "print(\"Early\",len(firstbirth3[firstbirth3['prgLength'] <38])/Nf)\n",
    "print(\"Late\", len(firstbirth3[firstbirth3['prgLength'] >40])/Nf)\n",
    "print(\"On time\", len(firstbirth3[(firstbirth3['prgLength'] >37) & (firstbirth3['prgLength'] < 41)])/Nf)"
   ]
  },
  {
   "cell_type": "code",
   "execution_count": 27,
   "metadata": {
    "colab": {
     "base_uri": "https://localhost:8080/"
    },
    "executionInfo": {
     "elapsed": 22,
     "status": "ok",
     "timestamp": 1633957560848,
     "user": {
      "displayName": "Valero Laparra",
      "photoUrl": "https://lh3.googleusercontent.com/a/default-user=s64",
      "userId": "00355299981903664579"
     },
     "user_tz": -120
    },
    "id": "PCBN9YElbKN-",
    "outputId": "f2114a71-c943-444e-ce09-a2d6ae555f58"
   },
   "outputs": [
    {
     "name": "stdout",
     "output_type": "stream",
     "text": [
      "Other babies:\n",
      "Early 0.16489246143819247\n",
      "Late 0.07603736693460786\n",
      "On time 0.7590701716271997\n"
     ]
    }
   ],
   "source": [
    "print(\"Other babies:\")\n",
    "No = len(othersbirth3.index)\n",
    "print(\"Early\", len(othersbirth3[othersbirth3['prgLength'] <38])/No)\n",
    "print(\"Late\", len(othersbirth3[othersbirth3['prgLength'] >40])/No)\n",
    "print(\"On time\", len(othersbirth3[(othersbirth3['prgLength'] >37) & (othersbirth3['prgLength']<41)])/No)"
   ]
  },
  {
   "cell_type": "markdown",
   "metadata": {
    "id": "xMffrPXjbKN-"
   },
   "source": [
    "The **relative risk** is the ratio of two probabilities. In our case, the probability that a first baby is born early is 17% (ahora distinto). For other babies is 16% (ahora distinto), so the relative risk is:"
   ]
  },
  {
   "cell_type": "code",
   "execution_count": 28,
   "metadata": {
    "colab": {
     "base_uri": "https://localhost:8080/"
    },
    "executionInfo": {
     "elapsed": 261,
     "status": "ok",
     "timestamp": 1633957562987,
     "user": {
      "displayName": "Valero Laparra",
      "photoUrl": "https://lh3.googleusercontent.com/a/default-user=s64",
      "userId": "00355299981903664579"
     },
     "user_tz": -120
    },
    "id": "34f01jDObKN-",
    "outputId": "1a29f053-9bf5-4cfc-b1e0-adbb283ea9d8"
   },
   "outputs": [
    {
     "name": "stdout",
     "output_type": "stream",
     "text": [
      "1.1004469062950386\n"
     ]
    }
   ],
   "source": [
    "a = len(firstbirth3[firstbirth3['prgLength'] <38])/Nf\n",
    "b = len(othersbirth3[othersbirth3['prgLength'] <38])/No\n",
    "print(a/b)"
   ]
  },
  {
   "cell_type": "markdown",
   "metadata": {
    "id": "zpTAuYAZbKN_"
   },
   "source": [
    "That means that first babies are about 7% more likely to be early. For the case of late births:"
   ]
  },
  {
   "cell_type": "code",
   "execution_count": 29,
   "metadata": {
    "colab": {
     "base_uri": "https://localhost:8080/"
    },
    "executionInfo": {
     "elapsed": 26,
     "status": "ok",
     "timestamp": 1633957565274,
     "user": {
      "displayName": "Valero Laparra",
      "photoUrl": "https://lh3.googleusercontent.com/a/default-user=s64",
      "userId": "00355299981903664579"
     },
     "user_tz": -120
    },
    "id": "QpZlnHpIbKN_",
    "outputId": "f50e8955-75af-4dec-f540-6e6805c31b6c"
   },
   "outputs": [
    {
     "name": "stdout",
     "output_type": "stream",
     "text": [
      "1.7442622401073107\n"
     ]
    }
   ],
   "source": [
    "a = len(firstbirth3[firstbirth3['prgLength'] >40])/Nf\n",
    "b = len(othersbirth3[othersbirth3['prgLength'] >40])/No\n",
    "print(a/b)"
   ]
  },
  {
   "cell_type": "markdown",
   "metadata": {
    "id": "qfYUZcW4bKN_"
   },
   "source": [
    "That means that first babies are about 67% more likely to be late. "
   ]
  },
  {
   "cell_type": "markdown",
   "metadata": {
    "id": "iHTrOpkvbKN_"
   },
   "source": [
    "### Discussions.\n",
    "\n",
    "After exploring the data, we have seen some **apparent effects** that seem to support our first hypothesis:\n",
    "\n",
    "+ **Data description**: The mean pregnant lenght for first babies is of 38.76 weeks and for other babies is 38.65 weeks.\n",
    "\n",
    "+ **Relative risk**: First babies are about 67% more likely to be late.\n"
   ]
  }
 ],
 "metadata": {
  "colab": {
   "collapsed_sections": [],
   "name": "Computational Statistics (part II).ipynb",
   "provenance": []
  },
  "kernelspec": {
   "display_name": "Python 3",
   "language": "python",
   "name": "python3"
  },
  "language_info": {
   "codemirror_mode": {
    "name": "ipython",
    "version": 3
   },
   "file_extension": ".py",
   "mimetype": "text/x-python",
   "name": "python",
   "nbconvert_exporter": "python",
   "pygments_lexer": "ipython3",
   "version": "3.8.8"
  }
 },
 "nbformat": 4,
 "nbformat_minor": 1
}
